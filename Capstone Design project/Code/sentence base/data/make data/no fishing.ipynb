{
 "cells": [
  {
   "cell_type": "code",
   "execution_count": 3,
   "metadata": {},
   "outputs": [],
   "source": [
    "import pandas as pd \n",
    "\n",
    "data1=pd.read_csv(\"/Users/withmocha/Desktop/DATA/Capston Design(2024)/data(sentence)/0410/No fishing/일반 민원.csv\")\n",
    "\n",
    "\n",
    "data1.drop(columns=['Unnamed: 0'],inplace=True)\n"
   ]
  },
  {
   "cell_type": "code",
   "execution_count": 4,
   "metadata": {},
   "outputs": [
    {
     "data": {
      "text/html": [
       "<div>\n",
       "<style scoped>\n",
       "    .dataframe tbody tr th:only-of-type {\n",
       "        vertical-align: middle;\n",
       "    }\n",
       "\n",
       "    .dataframe tbody tr th {\n",
       "        vertical-align: top;\n",
       "    }\n",
       "\n",
       "    .dataframe thead th {\n",
       "        text-align: right;\n",
       "    }\n",
       "</style>\n",
       "<table border=\"1\" class=\"dataframe\">\n",
       "  <thead>\n",
       "    <tr style=\"text-align: right;\">\n",
       "      <th></th>\n",
       "      <th>sentence</th>\n",
       "      <th>predict</th>\n",
       "    </tr>\n",
       "  </thead>\n",
       "  <tbody>\n",
       "    <tr>\n",
       "      <th>0</th>\n",
       "      <td>이용하시는 은행의 사이트에서 지방세 납부가 가능합니다.</td>\n",
       "      <td>0</td>\n",
       "    </tr>\n",
       "    <tr>\n",
       "      <th>1</th>\n",
       "      <td>그럼 스마트폰에서 기업은행 어플을 설치하시면 납부가 가능합니다.</td>\n",
       "      <td>0</td>\n",
       "    </tr>\n",
       "    <tr>\n",
       "      <th>2</th>\n",
       "      <td>방문납부도 가능합니다.</td>\n",
       "      <td>0</td>\n",
       "    </tr>\n",
       "    <tr>\n",
       "      <th>3</th>\n",
       "      <td>도보로 10분위치에 서울역지점이 있습니다.</td>\n",
       "      <td>0</td>\n",
       "    </tr>\n",
       "    <tr>\n",
       "      <th>4</th>\n",
       "      <td>도보로 가시는게 빠를 것 같습니다.</td>\n",
       "      <td>0</td>\n",
       "    </tr>\n",
       "    <tr>\n",
       "      <th>...</th>\n",
       "      <td>...</td>\n",
       "      <td>...</td>\n",
       "    </tr>\n",
       "    <tr>\n",
       "      <th>24562</th>\n",
       "      <td>추가적으로 필요하신거 있으신가요?</td>\n",
       "      <td>0</td>\n",
       "    </tr>\n",
       "    <tr>\n",
       "      <th>24563</th>\n",
       "      <td>서울시에서 진행하는 건가요?</td>\n",
       "      <td>0</td>\n",
       "    </tr>\n",
       "    <tr>\n",
       "      <th>24564</th>\n",
       "      <td>어떠점이 궁금하십니까?</td>\n",
       "      <td>0</td>\n",
       "    </tr>\n",
       "    <tr>\n",
       "      <th>24565</th>\n",
       "      <td>공연, 체험, 전시, 기타 등이 있는데 어느걸로 안내해드릴까요?</td>\n",
       "      <td>0</td>\n",
       "    </tr>\n",
       "    <tr>\n",
       "      <th>24566</th>\n",
       "      <td>네. 혼인신고의 어떤 내용을 알고싶으신가요?</td>\n",
       "      <td>0</td>\n",
       "    </tr>\n",
       "  </tbody>\n",
       "</table>\n",
       "<p>24567 rows × 2 columns</p>\n",
       "</div>"
      ],
      "text/plain": [
       "                                  sentence  predict\n",
       "0           이용하시는 은행의 사이트에서 지방세 납부가 가능합니다.        0\n",
       "1      그럼 스마트폰에서 기업은행 어플을 설치하시면 납부가 가능합니다.        0\n",
       "2                             방문납부도 가능합니다.        0\n",
       "3                  도보로 10분위치에 서울역지점이 있습니다.        0\n",
       "4                      도보로 가시는게 빠를 것 같습니다.        0\n",
       "...                                    ...      ...\n",
       "24562                   추가적으로 필요하신거 있으신가요?        0\n",
       "24563                      서울시에서 진행하는 건가요?        0\n",
       "24564                         어떠점이 궁금하십니까?        0\n",
       "24565  공연, 체험, 전시, 기타 등이 있는데 어느걸로 안내해드릴까요?        0\n",
       "24566             네. 혼인신고의 어떤 내용을 알고싶으신가요?        0\n",
       "\n",
       "[24567 rows x 2 columns]"
      ]
     },
     "execution_count": 4,
     "metadata": {},
     "output_type": "execute_result"
    }
   ],
   "source": [
    "data1"
   ]
  },
  {
   "cell_type": "code",
   "execution_count": 5,
   "metadata": {},
   "outputs": [],
   "source": [
    "data=data1.sample(frac=1)"
   ]
  },
  {
   "cell_type": "code",
   "execution_count": 6,
   "metadata": {},
   "outputs": [],
   "source": [
    "test_data=pd.DataFrame(data.iloc[:300])\n",
    "train_data=pd.DataFrame(data.iloc[300:])"
   ]
  },
  {
   "cell_type": "code",
   "execution_count": 7,
   "metadata": {},
   "outputs": [],
   "source": [
    "train_data.to_csv(\"No fishing_train.csv\")\n",
    "test_data.to_csv(\"No fishing_test.csv\")"
   ]
  },
  {
   "cell_type": "code",
   "execution_count": null,
   "metadata": {},
   "outputs": [],
   "source": []
  }
 ],
 "metadata": {
  "kernelspec": {
   "display_name": "base",
   "language": "python",
   "name": "python3"
  },
  "language_info": {
   "codemirror_mode": {
    "name": "ipython",
    "version": 3
   },
   "file_extension": ".py",
   "mimetype": "text/x-python",
   "name": "python",
   "nbconvert_exporter": "python",
   "pygments_lexer": "ipython3",
   "version": "3.11.5"
  }
 },
 "nbformat": 4,
 "nbformat_minor": 2
}
