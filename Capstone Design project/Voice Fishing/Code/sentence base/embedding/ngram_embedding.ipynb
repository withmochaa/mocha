{
 "cells": [
  {
   "cell_type": "code",
   "execution_count": 5,
   "metadata": {},
   "outputs": [],
   "source": [
    "import pandas as pd\n",
    "import os\n",
    "import torch\n",
    "import numpy as np\n",
    "import pandas as pd\n",
    "import re\n",
    "import ast\n",
    "from tqdm.notebook import tqdm\n",
    "from kss import split_sentences\n",
    "from sentence_transformers import SentenceTransformer, util\n",
    "data_original=pd.read_csv(\"/Users/withmocha/Desktop/DATA/Capston Design(2024)/data(sentence)/transformed/model train & test data(0408)/train_data_before_vector(0408).csv\")\n",
    "data_normal=pd.read_csv(\"/Users/withmocha/Desktop/DATA/Capston Design(2024)/data(sentence)/normal/일반 민원.csv\")\n",
    "data_abnormal=pd.read_csv(\"/Users/withmocha/Desktop/DATA/Capston Design(2024)/data(sentence)/abnormal/보이스 피싱.csv\")"
   ]
  },
  {
   "cell_type": "code",
   "execution_count": 6,
   "metadata": {},
   "outputs": [],
   "source": [
    "datanames = ['original','normal','abnormal']"
   ]
  },
  {
   "cell_type": "code",
   "execution_count": 7,
   "metadata": {},
   "outputs": [],
   "source": [
    "# 입력 content를 ngram 리스트로 변환\n",
    "def content2ngram(content, n):\n",
    "    \"\"\"\n",
    "        content: 사건 내용 리스트 \n",
    "        n: ngram으로 자를 단위\n",
    "    \"\"\"\n",
    "    ngram_list = []     # 전체 텍스트 ngram\n",
    "    for case in content:\n",
    "        cut_count = len(case)-n     # ngram으로 자를 횟수\n",
    "        ngram_case = []             # 사건당 ngram\n",
    "        \n",
    "        for i in range(cut_count):\n",
    "            ngram_group = ''     # 합쳐질 ngram\n",
    "            for j in range(n):\n",
    "                if j != 0: ngram_group += ' '\n",
    "                ngram_group += case[i+j]     # 문장 합쳐서 붙임\n",
    "            ngram_case.append(ngram_group)\n",
    "        ngram_list.append(ngram_case)\n",
    "    return ngram_list"
   ]
  },
  {
   "cell_type": "code",
   "execution_count": 8,
   "metadata": {},
   "outputs": [],
   "source": [
    "# 데이터 ngram 변환\n",
    "for dataname in datanames:\n",
    "    rawdata = globals()[f'data_{dataname}']\n",
    "    for n in [2, 3, 4]:     # 2gram, 3gram, 4gram 데이터 생성\n",
    "        globals()[f'data_{dataname}_{n}gram'] = content2ngram(rawdata, n)"
   ]
  },
  {
   "cell_type": "code",
   "execution_count": 9,
   "metadata": {},
   "outputs": [],
   "source": [
    "class SentenceTagger:\n",
    "    def __init__(self):\n",
    "        #self.device = torch.device('cuda')\n",
    "        self.device=torch.device('cpu')\n",
    "        self.embedding_model = None\n",
    "\n",
    "        \n",
    "    # SentenceTransformer 모델 로드\n",
    "    def set_model(self):\n",
    "        self.embedding_model = SentenceTransformer('sentence-transformers/all-MiniLM-L6-v2')\n",
    "        \n",
    "    # 전체에서 사건별 임베딩\n",
    "    def sentence_embedding(self, content):\n",
    "        content_embedding = []     # 전체 임베딩\n",
    "        for case in tqdm(content):\n",
    "            case_embedding = []     # 사건별 임베딩\n",
    "            for sent in case:\n",
    "                sent_embedding = self.embedding_model.encode(sent, device=self.device)     # 문장별 임베딩\n",
    "                case_embedding.append(np.array(sent_embedding, dtype=object))\n",
    "            content_embedding.append(np.array(case_embedding, dtype=object))\n",
    "        return np.array(content_embedding, dtype=object)"
   ]
  },
  {
   "cell_type": "code",
   "execution_count": 10,
   "metadata": {},
   "outputs": [],
   "source": [
    "# 문장 임베딩 객체 생성\n",
    "sent_tagger = SentenceTagger()\n",
    "sent_tagger.set_model()"
   ]
  },
  {
   "cell_type": "code",
   "execution_count": 11,
   "metadata": {},
   "outputs": [
    {
     "data": {
      "application/vnd.jupyter.widget-view+json": {
       "model_id": "6a34b1303c264b5e8361d9ad4e812c7e",
       "version_major": 2,
       "version_minor": 0
      },
      "text/plain": [
       "  0%|          | 0/3 [00:00<?, ?it/s]"
      ]
     },
     "metadata": {},
     "output_type": "display_data"
    },
    {
     "name": "stdout",
     "output_type": "stream",
     "text": [
      " original 2gram embedding finished\n"
     ]
    },
    {
     "data": {
      "application/vnd.jupyter.widget-view+json": {
       "model_id": "6b36cefb226c41109ecc87f02086d399",
       "version_major": 2,
       "version_minor": 0
      },
      "text/plain": [
       "  0%|          | 0/3 [00:00<?, ?it/s]"
      ]
     },
     "metadata": {},
     "output_type": "display_data"
    },
    {
     "name": "stdout",
     "output_type": "stream",
     "text": [
      " original 3gram embedding finished\n"
     ]
    },
    {
     "data": {
      "application/vnd.jupyter.widget-view+json": {
       "model_id": "82a303fb6dad47ceab3da21d7fd4fae6",
       "version_major": 2,
       "version_minor": 0
      },
      "text/plain": [
       "  0%|          | 0/3 [00:00<?, ?it/s]"
      ]
     },
     "metadata": {},
     "output_type": "display_data"
    },
    {
     "name": "stdout",
     "output_type": "stream",
     "text": [
      " original 4gram embedding finished\n"
     ]
    },
    {
     "data": {
      "application/vnd.jupyter.widget-view+json": {
       "model_id": "45d5eb56e793430f9ae3ffaf8bae5096",
       "version_major": 2,
       "version_minor": 0
      },
      "text/plain": [
       "  0%|          | 0/3 [00:00<?, ?it/s]"
      ]
     },
     "metadata": {},
     "output_type": "display_data"
    },
    {
     "name": "stdout",
     "output_type": "stream",
     "text": [
      " normal 2gram embedding finished\n"
     ]
    },
    {
     "data": {
      "application/vnd.jupyter.widget-view+json": {
       "model_id": "e8172959d6c64b84bcc8aba0f6eea3db",
       "version_major": 2,
       "version_minor": 0
      },
      "text/plain": [
       "  0%|          | 0/3 [00:00<?, ?it/s]"
      ]
     },
     "metadata": {},
     "output_type": "display_data"
    },
    {
     "name": "stdout",
     "output_type": "stream",
     "text": [
      " normal 3gram embedding finished\n"
     ]
    },
    {
     "data": {
      "application/vnd.jupyter.widget-view+json": {
       "model_id": "b5480bad10c14fe4a285eb312f66b63f",
       "version_major": 2,
       "version_minor": 0
      },
      "text/plain": [
       "  0%|          | 0/3 [00:00<?, ?it/s]"
      ]
     },
     "metadata": {},
     "output_type": "display_data"
    },
    {
     "name": "stdout",
     "output_type": "stream",
     "text": [
      " normal 4gram embedding finished\n"
     ]
    },
    {
     "data": {
      "application/vnd.jupyter.widget-view+json": {
       "model_id": "88069c5650d746d0a8a367d2d82b6fcb",
       "version_major": 2,
       "version_minor": 0
      },
      "text/plain": [
       "  0%|          | 0/3 [00:00<?, ?it/s]"
      ]
     },
     "metadata": {},
     "output_type": "display_data"
    },
    {
     "name": "stdout",
     "output_type": "stream",
     "text": [
      " abnormal 2gram embedding finished\n"
     ]
    },
    {
     "data": {
      "application/vnd.jupyter.widget-view+json": {
       "model_id": "2b03e67d584b4560a9c366f703610383",
       "version_major": 2,
       "version_minor": 0
      },
      "text/plain": [
       "  0%|          | 0/3 [00:00<?, ?it/s]"
      ]
     },
     "metadata": {},
     "output_type": "display_data"
    },
    {
     "name": "stdout",
     "output_type": "stream",
     "text": [
      " abnormal 3gram embedding finished\n"
     ]
    },
    {
     "data": {
      "application/vnd.jupyter.widget-view+json": {
       "model_id": "754a61330d8541ec82f97b394866b1da",
       "version_major": 2,
       "version_minor": 0
      },
      "text/plain": [
       "  0%|          | 0/3 [00:00<?, ?it/s]"
      ]
     },
     "metadata": {},
     "output_type": "display_data"
    },
    {
     "name": "stdout",
     "output_type": "stream",
     "text": [
      " abnormal 4gram embedding finished\n"
     ]
    }
   ],
   "source": [
    "# 데이터 ngram별 임베딩\n",
    "for dataname in datanames:\n",
    "    for n in [2, 3, 4]:\n",
    "        cur_content_ngram = globals()[f'data_{dataname}_{n}gram']\n",
    "        globals()[f'{dataname}_{n}gram_embedding'] = sent_tagger.sentence_embedding(cur_content_ngram)\n",
    "        print(f' {dataname} {n}gram embedding finished')"
   ]
  },
  {
   "cell_type": "code",
   "execution_count": 12,
   "metadata": {},
   "outputs": [
    {
     "name": "stdout",
     "output_type": "stream",
     "text": [
      " original 2gram embedding saved\n",
      " original 3gram embedding saved\n",
      " original 4gram embedding saved\n",
      " normal 2gram embedding saved\n",
      " normal 3gram embedding saved\n",
      " normal 4gram embedding saved\n",
      " abnormal 2gram embedding saved\n",
      " abnormal 3gram embedding saved\n",
      " abnormal 4gram embedding saved\n"
     ]
    }
   ],
   "source": [
    "# 데이터 ngram별 임베딩 저장\n",
    "for dataname in datanames:\n",
    "    for n in [2, 3, 4]:\n",
    "        cur_ngram_embedding = globals()[f'{dataname}_{n}gram_embedding']\n",
    "        np.save(f'{dataname}_{n}gram_embedding.npy', np.array(cur_ngram_embedding, dtype=object))\n",
    "        print(f' {dataname} {n}gram embedding saved')"
   ]
  },
  {
   "cell_type": "code",
   "execution_count": null,
   "metadata": {},
   "outputs": [],
   "source": []
  },
  {
   "cell_type": "code",
   "execution_count": null,
   "metadata": {},
   "outputs": [],
   "source": []
  },
  {
   "cell_type": "code",
   "execution_count": null,
   "metadata": {},
   "outputs": [],
   "source": []
  },
  {
   "cell_type": "code",
   "execution_count": null,
   "metadata": {},
   "outputs": [],
   "source": []
  },
  {
   "cell_type": "code",
   "execution_count": null,
   "metadata": {},
   "outputs": [],
   "source": []
  },
  {
   "cell_type": "code",
   "execution_count": null,
   "metadata": {},
   "outputs": [],
   "source": []
  },
  {
   "cell_type": "code",
   "execution_count": null,
   "metadata": {},
   "outputs": [],
   "source": []
  },
  {
   "cell_type": "code",
   "execution_count": null,
   "metadata": {},
   "outputs": [],
   "source": []
  },
  {
   "cell_type": "code",
   "execution_count": null,
   "metadata": {},
   "outputs": [],
   "source": []
  },
  {
   "cell_type": "code",
   "execution_count": null,
   "metadata": {},
   "outputs": [],
   "source": []
  },
  {
   "cell_type": "code",
   "execution_count": null,
   "metadata": {},
   "outputs": [],
   "source": []
  }
 ],
 "metadata": {
  "kernelspec": {
   "display_name": "base",
   "language": "python",
   "name": "python3"
  },
  "language_info": {
   "codemirror_mode": {
    "name": "ipython",
    "version": 3
   },
   "file_extension": ".py",
   "mimetype": "text/x-python",
   "name": "python",
   "nbconvert_exporter": "python",
   "pygments_lexer": "ipython3",
   "version": "3.11.5"
  }
 },
 "nbformat": 4,
 "nbformat_minor": 2
}
