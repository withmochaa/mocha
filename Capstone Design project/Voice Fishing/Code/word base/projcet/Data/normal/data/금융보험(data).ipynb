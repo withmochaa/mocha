{
 "cells": [
  {
   "cell_type": "code",
   "execution_count": 70,
   "metadata": {},
   "outputs": [
    {
     "name": "stdout",
     "output_type": "stream",
     "text": [
      "금융 보험 json file['.DS_Store', 'callcenter_이체출금대출.json', 'callcenter_가입해지.json', 'callcenter_사고보상.json', 'callcenter_잔고거래.json']\n"
     ]
    }
   ],
   "source": [
    "import pandas as pd\n",
    "import os\n",
    "import json\n",
    "path_insurance=\"/Users/withmocha/Desktop/DATA/Capston Design(2024)/normal/callcenter_complatin/data/Training/data_240312_sum/labeling_sum_240321/json_data/data(use)/data/insurance\"\n",
    "\n",
    "file_list=os.listdir(path_insurance)\n",
    "\n",
    "print(\"금융 보험 json file{}\".format(file_list))"
   ]
  },
  {
   "cell_type": "code",
   "execution_count": 71,
   "metadata": {},
   "outputs": [],
   "source": [
    "path_1=\"/Users/withmocha/Desktop/DATA/Capston Design(2024)/normal/callcenter_complatin/data/Training/data_240312_sum/labeling_sum_240321/json_data/data(use)/data/insurance/callcenter_가입해지.json\"\n",
    "path_2=\"/Users/withmocha/Desktop/DATA/Capston Design(2024)/normal/callcenter_complatin/data/Training/data_240312_sum/labeling_sum_240321/json_data/data(use)/data/insurance/callcenter_사고보상.json\"\n",
    "path_3=\"/Users/withmocha/Desktop/DATA/Capston Design(2024)/normal/callcenter_complatin/data/Training/data_240312_sum/labeling_sum_240321/json_data/data(use)/data/insurance/callcenter_이체출금대출.json\"\n",
    "path_4=\"/Users/withmocha/Desktop/DATA/Capston Design(2024)/normal/callcenter_complatin/data/Training/data_240312_sum/labeling_sum_240321/json_data/data(use)/data/insurance/callcenter_잔고거래.json\""
   ]
  },
  {
   "cell_type": "code",
   "execution_count": 72,
   "metadata": {},
   "outputs": [
    {
     "name": "stdout",
     "output_type": "stream",
     "text": [
      "{'도메인': '금융/보험', '카테고리': '잔고 및 거래내역', '대화셋일련번호': 'A4091', '화자': '고객', '문장번호': '1', '고객의도': '인증서', '상담사의도': '', 'QA': 'Q', '고객질문(요청)': '집과 직장에서 인터넷 뱅킹을 이용가능하나요?', '상담사질문(요청)': '', '고객답변': '', '상담사답변': '', '개체명 ': '가정, 직장, 인터넷 뱅킹', '용어사전': '인터넷뱅킹/금융서비스', '지식베이스': '직장,금융서비스'}\n",
      "{'도메인': '금융/보험', '카테고리': '잔고 및 거래내역', '대화셋일련번호': 'A4091', '화자': '상담사', '문장번호': '2', '고객의도': '', '상담사의도': '인증서', 'QA': 'Q', '고객질문(요청)': '', '상담사질문(요청)': '공인인증서가 있습니까?', '고객답변': '', '상담사답변': '', '개체명 ': '공인인증서', '용어사전': '공인인증서/공인인증', '지식베이스': '공인인증서,공인인증'}\n",
      "{'도메인': '금융/보험', '카테고리': '잔고 및 거래내역', '대화셋일련번호': 'A4091', '화자': '고객', '문장번호': '3', '고객의도': '인증서', '상담사의도': '', 'QA': 'A', '고객질문(요청)': '', '상담사질문(요청)': '', '고객답변': '네', '상담사답변': '', '개체명 ': '', '용어사전': '', '지식베이스': ''}\n",
      "{'도메인': '금융/보험', '카테고리': '잔고 및 거래내역', '대화셋일련번호': 'A4091', '화자': '상담사', '문장번호': '4', '고객의도': '', '상담사의도': '인증서', 'QA': 'A', '고객질문(요청)': '', '상담사질문(요청)': '', '고객답변': '', '상담사답변': '가능합니다. 공인인증서를 복사해서 사용할 수 있습니다.', '개체명 ': '공인인증서, 복사', '용어사전': '공인인증서/공인인증', '지식베이스': '복사,공인인증'}\n",
      "{'도메인': '금융/보험', '카테고리': '잔고 및 거래내역', '대화셋일련번호': 'A4091', '화자': '고객', '문장번호': '5', '고객의도': '인증서', '상담사의도': '', 'QA': 'Q', '고객질문(요청)': '인증서 복사는 어떻게 하죠?', '상담사질문(요청)': '', '고객답변': '', '상담사답변': '', '개체명 ': '복사, 방법', '용어사전': '', '지식베이스': '방법'}\n"
     ]
    }
   ],
   "source": [
    "\n",
    "with open(path_4,'r') as f:\n",
    "    json_data=json.load(f)\n",
    "    \n",
    "j=0       \n",
    "for i in json_data:\n",
    "    print(i)\n",
    "    j=j+1\n",
    "    if j==5:\n",
    "        break"
   ]
  },
  {
   "cell_type": "code",
   "execution_count": 73,
   "metadata": {},
   "outputs": [],
   "source": [
    "data=pd.DataFrame(json_data,columns=['상담사질문(요청)','상담사답변'])"
   ]
  },
  {
   "cell_type": "code",
   "execution_count": 74,
   "metadata": {},
   "outputs": [
    {
     "data": {
      "text/html": [
       "<div>\n",
       "<style scoped>\n",
       "    .dataframe tbody tr th:only-of-type {\n",
       "        vertical-align: middle;\n",
       "    }\n",
       "\n",
       "    .dataframe tbody tr th {\n",
       "        vertical-align: top;\n",
       "    }\n",
       "\n",
       "    .dataframe thead th {\n",
       "        text-align: right;\n",
       "    }\n",
       "</style>\n",
       "<table border=\"1\" class=\"dataframe\">\n",
       "  <thead>\n",
       "    <tr style=\"text-align: right;\">\n",
       "      <th></th>\n",
       "      <th>상담사질문(요청)</th>\n",
       "      <th>상담사답변</th>\n",
       "    </tr>\n",
       "  </thead>\n",
       "  <tbody>\n",
       "    <tr>\n",
       "      <th>0</th>\n",
       "      <td></td>\n",
       "      <td></td>\n",
       "    </tr>\n",
       "    <tr>\n",
       "      <th>1</th>\n",
       "      <td>공인인증서가 있습니까?</td>\n",
       "      <td></td>\n",
       "    </tr>\n",
       "    <tr>\n",
       "      <th>2</th>\n",
       "      <td></td>\n",
       "      <td></td>\n",
       "    </tr>\n",
       "    <tr>\n",
       "      <th>3</th>\n",
       "      <td></td>\n",
       "      <td>가능합니다. 공인인증서를 복사해서 사용할 수 있습니다.</td>\n",
       "    </tr>\n",
       "    <tr>\n",
       "      <th>4</th>\n",
       "      <td></td>\n",
       "      <td></td>\n",
       "    </tr>\n",
       "    <tr>\n",
       "      <th>...</th>\n",
       "      <td>...</td>\n",
       "      <td>...</td>\n",
       "    </tr>\n",
       "    <tr>\n",
       "      <th>74353</th>\n",
       "      <td></td>\n",
       "      <td></td>\n",
       "    </tr>\n",
       "    <tr>\n",
       "      <th>74354</th>\n",
       "      <td></td>\n",
       "      <td>350만원 이십니다.</td>\n",
       "    </tr>\n",
       "    <tr>\n",
       "      <th>74355</th>\n",
       "      <td></td>\n",
       "      <td></td>\n",
       "    </tr>\n",
       "    <tr>\n",
       "      <th>74356</th>\n",
       "      <td>더 필요하신 내용 있으신가요?</td>\n",
       "      <td></td>\n",
       "    </tr>\n",
       "    <tr>\n",
       "      <th>74357</th>\n",
       "      <td></td>\n",
       "      <td></td>\n",
       "    </tr>\n",
       "  </tbody>\n",
       "</table>\n",
       "<p>74358 rows × 2 columns</p>\n",
       "</div>"
      ],
      "text/plain": [
       "              상담사질문(요청)                           상담사답변\n",
       "0                                                      \n",
       "1          공인인증서가 있습니까?                                \n",
       "2                                                      \n",
       "3                        가능합니다. 공인인증서를 복사해서 사용할 수 있습니다.\n",
       "4                                                      \n",
       "...                 ...                             ...\n",
       "74353                                                  \n",
       "74354                                       350만원 이십니다.\n",
       "74355                                                  \n",
       "74356  더 필요하신 내용 있으신가요?                                \n",
       "74357                                                  \n",
       "\n",
       "[74358 rows x 2 columns]"
      ]
     },
     "execution_count": 74,
     "metadata": {},
     "output_type": "execute_result"
    }
   ],
   "source": [
    "data"
   ]
  },
  {
   "cell_type": "code",
   "execution_count": 75,
   "metadata": {},
   "outputs": [],
   "source": [
    "data.to_csv(\"금융보험_잔고거래.csv\",mode='w')"
   ]
  },
  {
   "cell_type": "code",
   "execution_count": null,
   "metadata": {},
   "outputs": [],
   "source": []
  },
  {
   "cell_type": "code",
   "execution_count": null,
   "metadata": {},
   "outputs": [],
   "source": []
  },
  {
   "cell_type": "code",
   "execution_count": null,
   "metadata": {},
   "outputs": [],
   "source": []
  }
 ],
 "metadata": {
  "kernelspec": {
   "display_name": "base",
   "language": "python",
   "name": "python3"
  },
  "language_info": {
   "codemirror_mode": {
    "name": "ipython",
    "version": 3
   },
   "file_extension": ".py",
   "mimetype": "text/x-python",
   "name": "python",
   "nbconvert_exporter": "python",
   "pygments_lexer": "ipython3",
   "version": "3.11.5"
  }
 },
 "nbformat": 4,
 "nbformat_minor": 2
}
