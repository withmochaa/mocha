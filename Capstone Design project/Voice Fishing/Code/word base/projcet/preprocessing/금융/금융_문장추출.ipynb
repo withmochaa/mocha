{
 "cells": [
  {
   "cell_type": "code",
   "execution_count": 19,
   "metadata": {},
   "outputs": [
    {
     "data": {
      "text/html": [
       "<div>\n",
       "<style scoped>\n",
       "    .dataframe tbody tr th:only-of-type {\n",
       "        vertical-align: middle;\n",
       "    }\n",
       "\n",
       "    .dataframe tbody tr th {\n",
       "        vertical-align: top;\n",
       "    }\n",
       "\n",
       "    .dataframe thead th {\n",
       "        text-align: right;\n",
       "    }\n",
       "</style>\n",
       "<table border=\"1\" class=\"dataframe\">\n",
       "  <thead>\n",
       "    <tr style=\"text-align: right;\">\n",
       "      <th></th>\n",
       "      <th>Unnamed: 0</th>\n",
       "      <th>상담사질문(요청)</th>\n",
       "      <th>상담사답변</th>\n",
       "    </tr>\n",
       "  </thead>\n",
       "  <tbody>\n",
       "    <tr>\n",
       "      <th>0</th>\n",
       "      <td>0</td>\n",
       "      <td>NaN</td>\n",
       "      <td>NaN</td>\n",
       "    </tr>\n",
       "    <tr>\n",
       "      <th>1</th>\n",
       "      <td>1</td>\n",
       "      <td>공인인증서가 있습니까?</td>\n",
       "      <td>NaN</td>\n",
       "    </tr>\n",
       "    <tr>\n",
       "      <th>2</th>\n",
       "      <td>2</td>\n",
       "      <td>NaN</td>\n",
       "      <td>NaN</td>\n",
       "    </tr>\n",
       "    <tr>\n",
       "      <th>3</th>\n",
       "      <td>3</td>\n",
       "      <td>NaN</td>\n",
       "      <td>가능합니다. 공인인증서를 복사해서 사용할 수 있습니다.</td>\n",
       "    </tr>\n",
       "    <tr>\n",
       "      <th>4</th>\n",
       "      <td>4</td>\n",
       "      <td>NaN</td>\n",
       "      <td>NaN</td>\n",
       "    </tr>\n",
       "    <tr>\n",
       "      <th>...</th>\n",
       "      <td>...</td>\n",
       "      <td>...</td>\n",
       "      <td>...</td>\n",
       "    </tr>\n",
       "    <tr>\n",
       "      <th>74353</th>\n",
       "      <td>74353</td>\n",
       "      <td>NaN</td>\n",
       "      <td>NaN</td>\n",
       "    </tr>\n",
       "    <tr>\n",
       "      <th>74354</th>\n",
       "      <td>74354</td>\n",
       "      <td>NaN</td>\n",
       "      <td>350만원 이십니다.</td>\n",
       "    </tr>\n",
       "    <tr>\n",
       "      <th>74355</th>\n",
       "      <td>74355</td>\n",
       "      <td>NaN</td>\n",
       "      <td>NaN</td>\n",
       "    </tr>\n",
       "    <tr>\n",
       "      <th>74356</th>\n",
       "      <td>74356</td>\n",
       "      <td>더 필요하신 내용 있으신가요?</td>\n",
       "      <td>NaN</td>\n",
       "    </tr>\n",
       "    <tr>\n",
       "      <th>74357</th>\n",
       "      <td>74357</td>\n",
       "      <td>NaN</td>\n",
       "      <td>NaN</td>\n",
       "    </tr>\n",
       "  </tbody>\n",
       "</table>\n",
       "<p>74358 rows × 3 columns</p>\n",
       "</div>"
      ],
      "text/plain": [
       "       Unnamed: 0         상담사질문(요청)                           상담사답변\n",
       "0               0               NaN                             NaN\n",
       "1               1      공인인증서가 있습니까?                             NaN\n",
       "2               2               NaN                             NaN\n",
       "3               3               NaN  가능합니다. 공인인증서를 복사해서 사용할 수 있습니다.\n",
       "4               4               NaN                             NaN\n",
       "...           ...               ...                             ...\n",
       "74353       74353               NaN                             NaN\n",
       "74354       74354               NaN                     350만원 이십니다.\n",
       "74355       74355               NaN                             NaN\n",
       "74356       74356  더 필요하신 내용 있으신가요?                             NaN\n",
       "74357       74357               NaN                             NaN\n",
       "\n",
       "[74358 rows x 3 columns]"
      ]
     },
     "execution_count": 19,
     "metadata": {},
     "output_type": "execute_result"
    }
   ],
   "source": [
    "import numpy as np\n",
    "import pandas as pd \n",
    "data=pd.read_csv('/Users/withmocha/Desktop/DATA/Capston Design(2024)/Data(24.03.12)/csv_file_data(24.03.21)/normal/금융/금융보험_잔고거래.csv')\n",
    "\n",
    "data"
   ]
  },
  {
   "cell_type": "code",
   "execution_count": 20,
   "metadata": {},
   "outputs": [],
   "source": [
    "data.drop(columns=['Unnamed: 0'],inplace=True)"
   ]
  },
  {
   "cell_type": "code",
   "execution_count": 21,
   "metadata": {},
   "outputs": [
    {
     "data": {
      "text/plain": [
       "상담사질문(요청)    object\n",
       "상담사답변        object\n",
       "dtype: object"
      ]
     },
     "execution_count": 21,
     "metadata": {},
     "output_type": "execute_result"
    }
   ],
   "source": [
    "data.dtypes"
   ]
  },
  {
   "cell_type": "code",
   "execution_count": 22,
   "metadata": {},
   "outputs": [
    {
     "data": {
      "text/plain": [
       "(74358, 2)"
      ]
     },
     "execution_count": 22,
     "metadata": {},
     "output_type": "execute_result"
    }
   ],
   "source": [
    "data.shape"
   ]
  },
  {
   "cell_type": "code",
   "execution_count": 23,
   "metadata": {},
   "outputs": [
    {
     "data": {
      "text/plain": [
       "0         True\n",
       "1        False\n",
       "2         True\n",
       "3         True\n",
       "4         True\n",
       "         ...  \n",
       "74353     True\n",
       "74354     True\n",
       "74355     True\n",
       "74356    False\n",
       "74357     True\n",
       "Name: 상담사질문(요청), Length: 74358, dtype: bool"
      ]
     },
     "execution_count": 23,
     "metadata": {},
     "output_type": "execute_result"
    }
   ],
   "source": [
    "data['상담사질문(요청)'].isnull()"
   ]
  },
  {
   "cell_type": "code",
   "execution_count": 24,
   "metadata": {},
   "outputs": [
    {
     "name": "stderr",
     "output_type": "stream",
     "text": [
      "/var/folders/gb/hslcbzfs0bvcnj3zxtfrxt_r0000gn/T/ipykernel_24943/3933870051.py:1: FutureWarning: Series.__getitem__ treating keys as positions is deprecated. In a future version, integer keys will always be treated as labels (consistent with DataFrame behavior). To access a value by position, use `ser.iloc[pos]`\n",
      "  data1=pd.DataFrame(index=range(0,data.shape[0]-data.isnull().sum()[0]),columns=['상담사질문(요청)'])\n",
      "/var/folders/gb/hslcbzfs0bvcnj3zxtfrxt_r0000gn/T/ipykernel_24943/3933870051.py:2: FutureWarning: Series.__getitem__ treating keys as positions is deprecated. In a future version, integer keys will always be treated as labels (consistent with DataFrame behavior). To access a value by position, use `ser.iloc[pos]`\n",
      "  data2=pd.DataFrame(index=range(0,data.shape[0]-data.isnull().sum()[1]),columns=['상담사답변'])\n"
     ]
    }
   ],
   "source": [
    "data1=pd.DataFrame(index=range(0,data.shape[0]-data.isnull().sum()[0]),columns=['상담사질문(요청)'])\n",
    "data2=pd.DataFrame(index=range(0,data.shape[0]-data.isnull().sum()[1]),columns=['상담사답변'])"
   ]
  },
  {
   "cell_type": "code",
   "execution_count": 25,
   "metadata": {},
   "outputs": [
    {
     "name": "stdout",
     "output_type": "stream",
     "text": [
      "(8973, 1)\n",
      "(28156, 1)\n",
      "(74358, 2)\n"
     ]
    }
   ],
   "source": [
    "print(data1.shape)\n",
    "print(data2.shape)\n",
    "print(data.shape)"
   ]
  },
  {
   "cell_type": "code",
   "execution_count": 26,
   "metadata": {},
   "outputs": [
    {
     "name": "stdout",
     "output_type": "stream",
     "text": [
      "<class 'float'>\n",
      "<class 'float'>\n"
     ]
    }
   ],
   "source": [
    "print(type(data1.iloc[0,0]))\n",
    "print(type(data.iloc[1,1]))"
   ]
  },
  {
   "cell_type": "code",
   "execution_count": 27,
   "metadata": {},
   "outputs": [],
   "source": [
    "index=[]\n",
    "for i in range(data.shape[0]):\n",
    "    if type(data.iloc[i,0])==str:\n",
    "        index.append(i)\n",
    "    else:\n",
    "        continue\n",
    "        \n",
    "data1_index=np.array(index)"
   ]
  },
  {
   "cell_type": "code",
   "execution_count": 28,
   "metadata": {},
   "outputs": [],
   "source": [
    "index=[]\n",
    "for i in range(data.shape[0]):\n",
    "    if type(data.iloc[i,1])==str:\n",
    "        index.append(i)\n",
    "    else:\n",
    "        continue\n",
    "        \n",
    "data2_index=np.array(index)"
   ]
  },
  {
   "cell_type": "code",
   "execution_count": 29,
   "metadata": {},
   "outputs": [
    {
     "name": "stdout",
     "output_type": "stream",
     "text": [
      "[    3     5     9 ... 74349 74352 74354]\n"
     ]
    }
   ],
   "source": [
    "print(data2_index)"
   ]
  },
  {
   "cell_type": "code",
   "execution_count": 30,
   "metadata": {},
   "outputs": [],
   "source": [
    "for i in range(len(data1_index)):\n",
    "    data1.iloc[i,0]=data.iloc[data1_index[i],0]\n",
    "        "
   ]
  },
  {
   "cell_type": "code",
   "execution_count": 31,
   "metadata": {},
   "outputs": [],
   "source": [
    "for i in range(len(data2_index)):\n",
    "    data2.iloc[i,0]=data.iloc[data2_index[i],1]\n",
    "    "
   ]
  },
  {
   "cell_type": "code",
   "execution_count": 32,
   "metadata": {},
   "outputs": [
    {
     "data": {
      "text/html": [
       "<div>\n",
       "<style scoped>\n",
       "    .dataframe tbody tr th:only-of-type {\n",
       "        vertical-align: middle;\n",
       "    }\n",
       "\n",
       "    .dataframe tbody tr th {\n",
       "        vertical-align: top;\n",
       "    }\n",
       "\n",
       "    .dataframe thead th {\n",
       "        text-align: right;\n",
       "    }\n",
       "</style>\n",
       "<table border=\"1\" class=\"dataframe\">\n",
       "  <thead>\n",
       "    <tr style=\"text-align: right;\">\n",
       "      <th></th>\n",
       "      <th>상담사질문(요청)</th>\n",
       "    </tr>\n",
       "  </thead>\n",
       "  <tbody>\n",
       "    <tr>\n",
       "      <th>0</th>\n",
       "      <td>공인인증서가 있습니까?</td>\n",
       "    </tr>\n",
       "    <tr>\n",
       "      <th>1</th>\n",
       "      <td>기기간에 복사할 수 있는 방법이 있는데 안내해 드릴까요?</td>\n",
       "    </tr>\n",
       "    <tr>\n",
       "      <th>2</th>\n",
       "      <td>네~스마트 뱅킹을 사용하시는 은행이 어떻게 되십니까?</td>\n",
       "    </tr>\n",
       "    <tr>\n",
       "      <th>3</th>\n",
       "      <td>혹시 다른 문의사항 있으십니까?</td>\n",
       "    </tr>\n",
       "    <tr>\n",
       "      <th>4</th>\n",
       "      <td>동일한 은행과 인터넷뱅킹을 하시나요? 다른 은행과 인터넷뱅킹을 하시나요?</td>\n",
       "    </tr>\n",
       "    <tr>\n",
       "      <th>...</th>\n",
       "      <td>...</td>\n",
       "    </tr>\n",
       "    <tr>\n",
       "      <th>8968</th>\n",
       "      <td>생년월일 말씀해 주시겠어요?</td>\n",
       "    </tr>\n",
       "    <tr>\n",
       "      <th>8969</th>\n",
       "      <td>ARS연결되면 비밀번호 4자리 입력해 주시겠어요?</td>\n",
       "    </tr>\n",
       "    <tr>\n",
       "      <th>8970</th>\n",
       "      <td>어떤 거래내역을 알고 싶으신가요?</td>\n",
       "    </tr>\n",
       "    <tr>\n",
       "      <th>8971</th>\n",
       "      <td>당일 총 12건 확인되시는데 어떤건이 궁금하신가요?</td>\n",
       "    </tr>\n",
       "    <tr>\n",
       "      <th>8972</th>\n",
       "      <td>더 필요하신 내용 있으신가요?</td>\n",
       "    </tr>\n",
       "  </tbody>\n",
       "</table>\n",
       "<p>8973 rows × 1 columns</p>\n",
       "</div>"
      ],
      "text/plain": [
       "                                     상담사질문(요청)\n",
       "0                                 공인인증서가 있습니까?\n",
       "1              기기간에 복사할 수 있는 방법이 있는데 안내해 드릴까요?\n",
       "2                네~스마트 뱅킹을 사용하시는 은행이 어떻게 되십니까?\n",
       "3                            혹시 다른 문의사항 있으십니까?\n",
       "4     동일한 은행과 인터넷뱅킹을 하시나요? 다른 은행과 인터넷뱅킹을 하시나요?\n",
       "...                                        ...\n",
       "8968                           생년월일 말씀해 주시겠어요?\n",
       "8969               ARS연결되면 비밀번호 4자리 입력해 주시겠어요?\n",
       "8970                        어떤 거래내역을 알고 싶으신가요?\n",
       "8971              당일 총 12건 확인되시는데 어떤건이 궁금하신가요?\n",
       "8972                          더 필요하신 내용 있으신가요?\n",
       "\n",
       "[8973 rows x 1 columns]"
      ]
     },
     "execution_count": 32,
     "metadata": {},
     "output_type": "execute_result"
    }
   ],
   "source": [
    "data1"
   ]
  },
  {
   "cell_type": "code",
   "execution_count": 33,
   "metadata": {},
   "outputs": [
    {
     "data": {
      "text/html": [
       "<div>\n",
       "<style scoped>\n",
       "    .dataframe tbody tr th:only-of-type {\n",
       "        vertical-align: middle;\n",
       "    }\n",
       "\n",
       "    .dataframe tbody tr th {\n",
       "        vertical-align: top;\n",
       "    }\n",
       "\n",
       "    .dataframe thead th {\n",
       "        text-align: right;\n",
       "    }\n",
       "</style>\n",
       "<table border=\"1\" class=\"dataframe\">\n",
       "  <thead>\n",
       "    <tr style=\"text-align: right;\">\n",
       "      <th></th>\n",
       "      <th>상담사답변</th>\n",
       "    </tr>\n",
       "  </thead>\n",
       "  <tbody>\n",
       "    <tr>\n",
       "      <th>0</th>\n",
       "      <td>가능합니다. 공인인증서를 복사해서 사용할 수 있습니다.</td>\n",
       "    </tr>\n",
       "    <tr>\n",
       "      <th>1</th>\n",
       "      <td>하드디스크에서 이동식USB로 복사하는 방법이 있습니다.</td>\n",
       "    </tr>\n",
       "    <tr>\n",
       "      <th>2</th>\n",
       "      <td>인증서 내보내기 후 암호를 입력하고 8자리 인증번호를 확인해 주세요,</td>\n",
       "    </tr>\n",
       "    <tr>\n",
       "      <th>3</th>\n",
       "      <td>인증서 가저오기를 누르시고 8자리 인증번호입력후 저장위치를 선택한후 암호를 입력하시...</td>\n",
       "    </tr>\n",
       "    <tr>\n",
       "      <th>4</th>\n",
       "      <td>가능합니다.</td>\n",
       "    </tr>\n",
       "    <tr>\n",
       "      <th>...</th>\n",
       "      <td>...</td>\n",
       "    </tr>\n",
       "    <tr>\n",
       "      <th>28151</th>\n",
       "      <td>더 문의사항 없으시면 상담을 종료합니다.</td>\n",
       "    </tr>\n",
       "    <tr>\n",
       "      <th>28152</th>\n",
       "      <td>본인확인후 안내드리겠습니다.</td>\n",
       "    </tr>\n",
       "    <tr>\n",
       "      <th>28153</th>\n",
       "      <td>잠시만 기다려주세요</td>\n",
       "    </tr>\n",
       "    <tr>\n",
       "      <th>28154</th>\n",
       "      <td>네 000님 이름으로 30만원 입금확인 됩니다.</td>\n",
       "    </tr>\n",
       "    <tr>\n",
       "      <th>28155</th>\n",
       "      <td>350만원 이십니다.</td>\n",
       "    </tr>\n",
       "  </tbody>\n",
       "</table>\n",
       "<p>28156 rows × 1 columns</p>\n",
       "</div>"
      ],
      "text/plain": [
       "                                                   상담사답변\n",
       "0                         가능합니다. 공인인증서를 복사해서 사용할 수 있습니다.\n",
       "1                         하드디스크에서 이동식USB로 복사하는 방법이 있습니다.\n",
       "2                인증서 내보내기 후 암호를 입력하고 8자리 인증번호를 확인해 주세요, \n",
       "3      인증서 가저오기를 누르시고 8자리 인증번호입력후 저장위치를 선택한후 암호를 입력하시...\n",
       "4                                                 가능합니다.\n",
       "...                                                  ...\n",
       "28151                             더 문의사항 없으시면 상담을 종료합니다.\n",
       "28152                                    본인확인후 안내드리겠습니다.\n",
       "28153                                         잠시만 기다려주세요\n",
       "28154                         네 000님 이름으로 30만원 입금확인 됩니다.\n",
       "28155                                        350만원 이십니다.\n",
       "\n",
       "[28156 rows x 1 columns]"
      ]
     },
     "execution_count": 33,
     "metadata": {},
     "output_type": "execute_result"
    }
   ],
   "source": [
    "data2"
   ]
  },
  {
   "cell_type": "code",
   "execution_count": 34,
   "metadata": {},
   "outputs": [],
   "source": [
    "data1.to_csv(\"금융보험_잔고거래_상담사질문.csv\")"
   ]
  },
  {
   "cell_type": "code",
   "execution_count": 35,
   "metadata": {},
   "outputs": [],
   "source": [
    "data2.to_csv(\"금융보험_잔고거래_상담사답변.csv\")"
   ]
  },
  {
   "cell_type": "code",
   "execution_count": null,
   "metadata": {},
   "outputs": [],
   "source": []
  },
  {
   "cell_type": "code",
   "execution_count": null,
   "metadata": {},
   "outputs": [],
   "source": []
  }
 ],
 "metadata": {
  "kernelspec": {
   "display_name": "base",
   "language": "python",
   "name": "python3"
  },
  "language_info": {
   "codemirror_mode": {
    "name": "ipython",
    "version": 3
   },
   "file_extension": ".py",
   "mimetype": "text/x-python",
   "name": "python",
   "nbconvert_exporter": "python",
   "pygments_lexer": "ipython3",
   "version": "3.11.5"
  }
 },
 "nbformat": 4,
 "nbformat_minor": 2
}
