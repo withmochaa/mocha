{
 "cells": [
  {
   "cell_type": "code",
   "execution_count": 50,
   "metadata": {},
   "outputs": [
    {
     "name": "stdout",
     "output_type": "stream",
     "text": [
      "질병 센터 json file['민원(콜센터) 질의응답_질병관리본부_증상징후_Training.json', '민원(콜센터) 질의응답_질병관리본부_요양기관 현황_Training.json', '민원(콜센터) 질의응답_질병관리본부_진료비정보_Training.json', '민원(콜센터) 질의응답_질병관리본부_약품식품_Training.json', '민원(콜센터) 질의응답_질병관리본부_기타문의_Training.json']\n"
     ]
    }
   ],
   "source": [
    "import pandas as pd\n",
    "import os\n",
    "import json\n",
    "path_insurance=\"/Users/withmocha/Desktop/DATA/Capston Design(2024)/normal/callcenter_complatin/data/Training/data_240312_sum/labeling_sum_240321/json_data/data(use)/data/disease\"\n",
    "\n",
    "file_list=os.listdir(path_insurance)\n",
    "\n",
    "print(\"질병 센터 json file{}\".format(file_list))"
   ]
  },
  {
   "cell_type": "code",
   "execution_count": 51,
   "metadata": {},
   "outputs": [],
   "source": [
    "path_1=\"/Users/withmocha/Desktop/DATA/Capston Design(2024)/normal/callcenter_complatin/data/Training/data_240312_sum/labeling_sum_240321/json_data/data(use)/data/disease/민원(콜센터) 질의응답_질병관리본부_기타문의_Training.json\"\n",
    "path_2=\"/Users/withmocha/Desktop/DATA/Capston Design(2024)/normal/callcenter_complatin/data/Training/data_240312_sum/labeling_sum_240321/json_data/data(use)/data/disease/민원(콜센터) 질의응답_질병관리본부_약품식품_Training.json\"\n",
    "path_3=\"/Users/withmocha/Desktop/DATA/Capston Design(2024)/normal/callcenter_complatin/data/Training/data_240312_sum/labeling_sum_240321/json_data/data(use)/data/disease/민원(콜센터) 질의응답_질병관리본부_요양기관 현황_Training.json\"\n",
    "path_4=\"/Users/withmocha/Desktop/DATA/Capston Design(2024)/normal/callcenter_complatin/data/Training/data_240312_sum/labeling_sum_240321/json_data/data(use)/data/disease/민원(콜센터) 질의응답_질병관리본부_증상징후_Training.json\"\n",
    "path_5=\"/Users/withmocha/Desktop/DATA/Capston Design(2024)/normal/callcenter_complatin/data/Training/data_240312_sum/labeling_sum_240321/json_data/data(use)/data/disease/민원(콜센터) 질의응답_질병관리본부_진료비정보_Training.json\""
   ]
  },
  {
   "cell_type": "code",
   "execution_count": 52,
   "metadata": {},
   "outputs": [
    {
     "name": "stdout",
     "output_type": "stream",
     "text": [
      "{'도메인': '질병관리본부', '카테고리': '진료비정보', '대화셋일련번호': 'C33', '화자': '고객', '문장번호': '1', '고객의도': '코로나 치료비', '상담사의도': '', 'QA': 'Q', '고객질문(요청)': '코로나 검사비용에 대해 알고싶습니다.', '상담사질문(요청)': '', '고객답변': '', '상담사답변': '', '개체명 ': '검사비용', '용어사전': '치료비/의료비', '지식베이스': '검사비용,의료비'}\n",
      "{'도메인': '질병관리본부', '카테고리': '진료비정보', '대화셋일련번호': 'C33', '화자': '상담사', '문장번호': '2', '고객의도': '', '상담사의도': '코로나 치료비', 'QA': 'A', '고객질문(요청)': '', '상담사질문(요청)': '', '고객답변': '', '상담사답변': '검사조건에 따라 다릅니다.', '개체명 ': '검사조건', '용어사전': '', '지식베이스': '검사조건'}\n",
      "{'도메인': '질병관리본부', '카테고리': '진료비정보', '대화셋일련번호': 'C33', '화자': '고객', '문장번호': '3', '고객의도': '코로나 치료비', '상담사의도': '', 'QA': 'Q', '고객질문(요청)': '어떻게 다른가요?', '상담사질문(요청)': '', '고객답변': '', '상담사답변': '', '개체명 ': '', '용어사전': '', '지식베이스': ''}\n",
      "{'도메인': '질병관리본부', '카테고리': '진료비정보', '대화셋일련번호': 'C33', '화자': '상담사', '문장번호': '4', '고객의도': '', '상담사의도': '코로나 치료비', 'QA': 'A', '고객질문(요청)': '', '상담사질문(요청)': '', '고객답변': '', '상담사답변': '개인적인 판단에 의한 검사는 무료이며 질본에 의한 권고 검사는 무료입니다.', '개체명 ': '질본', '용어사전': '질병관리본부/국가기관', '지식베이스': '질본,국가기관'}\n",
      "{'도메인': '질병관리본부', '카테고리': '진료비정보', '대화셋일련번호': 'C33', '화자': '고객', '문장번호': '5', '고객의도': '코로나 치료비', '상담사의도': '', 'QA': 'Q', '고객질문(요청)': '개인이 검사후 확진 판정시도 유료인가요?', '상담사질문(요청)': '', '고객답변': '', '상담사답변': '', '개체명 ': '개인, 유료', '용어사전': '자신/ 유상', '지식베이스': '유료,유상'}\n"
     ]
    }
   ],
   "source": [
    "\n",
    "with open(path_5,'r') as f:\n",
    "    json_data=json.load(f)\n",
    "    \n",
    "j=0       \n",
    "for i in json_data:\n",
    "    print(i)\n",
    "    j=j+1\n",
    "    if j==5:\n",
    "        break"
   ]
  },
  {
   "cell_type": "code",
   "execution_count": 53,
   "metadata": {},
   "outputs": [],
   "source": [
    "data=pd.DataFrame(json_data,columns=['상담사질문(요청)','상담사답변'])"
   ]
  },
  {
   "cell_type": "code",
   "execution_count": 54,
   "metadata": {},
   "outputs": [
    {
     "data": {
      "text/html": [
       "<div>\n",
       "<style scoped>\n",
       "    .dataframe tbody tr th:only-of-type {\n",
       "        vertical-align: middle;\n",
       "    }\n",
       "\n",
       "    .dataframe tbody tr th {\n",
       "        vertical-align: top;\n",
       "    }\n",
       "\n",
       "    .dataframe thead th {\n",
       "        text-align: right;\n",
       "    }\n",
       "</style>\n",
       "<table border=\"1\" class=\"dataframe\">\n",
       "  <thead>\n",
       "    <tr style=\"text-align: right;\">\n",
       "      <th></th>\n",
       "      <th>상담사질문(요청)</th>\n",
       "      <th>상담사답변</th>\n",
       "    </tr>\n",
       "  </thead>\n",
       "  <tbody>\n",
       "    <tr>\n",
       "      <th>0</th>\n",
       "      <td></td>\n",
       "      <td></td>\n",
       "    </tr>\n",
       "    <tr>\n",
       "      <th>1</th>\n",
       "      <td></td>\n",
       "      <td>검사조건에 따라 다릅니다.</td>\n",
       "    </tr>\n",
       "    <tr>\n",
       "      <th>2</th>\n",
       "      <td></td>\n",
       "      <td></td>\n",
       "    </tr>\n",
       "    <tr>\n",
       "      <th>3</th>\n",
       "      <td></td>\n",
       "      <td>개인적인 판단에 의한 검사는 무료이며 질본에 의한 권고 검사는 무료입니다.</td>\n",
       "    </tr>\n",
       "    <tr>\n",
       "      <th>4</th>\n",
       "      <td></td>\n",
       "      <td></td>\n",
       "    </tr>\n",
       "    <tr>\n",
       "      <th>...</th>\n",
       "      <td>...</td>\n",
       "      <td>...</td>\n",
       "    </tr>\n",
       "    <tr>\n",
       "      <th>6361</th>\n",
       "      <td></td>\n",
       "      <td>네, 많은 확진자가 발생했습니다.</td>\n",
       "    </tr>\n",
       "    <tr>\n",
       "      <th>6362</th>\n",
       "      <td></td>\n",
       "      <td></td>\n",
       "    </tr>\n",
       "    <tr>\n",
       "      <th>6363</th>\n",
       "      <td></td>\n",
       "      <td></td>\n",
       "    </tr>\n",
       "    <tr>\n",
       "      <th>6364</th>\n",
       "      <td>그렇다면, 국내 여행 가도 됩니까?</td>\n",
       "      <td></td>\n",
       "    </tr>\n",
       "    <tr>\n",
       "      <th>6365</th>\n",
       "      <td></td>\n",
       "      <td>아직은 여행을 금지하지 않고 있어요.</td>\n",
       "    </tr>\n",
       "  </tbody>\n",
       "</table>\n",
       "<p>6366 rows × 2 columns</p>\n",
       "</div>"
      ],
      "text/plain": [
       "                상담사질문(요청)                                      상담사답변\n",
       "0                                                                   \n",
       "1                                                     검사조건에 따라 다릅니다.\n",
       "2                                                                   \n",
       "3                          개인적인 판단에 의한 검사는 무료이며 질본에 의한 권고 검사는 무료입니다.\n",
       "4                                                                   \n",
       "...                   ...                                        ...\n",
       "6361                                              네, 많은 확진자가 발생했습니다.\n",
       "6362                                                                \n",
       "6363                                                                \n",
       "6364  그렇다면, 국내 여행 가도 됩니까?                                           \n",
       "6365                                            아직은 여행을 금지하지 않고 있어요.\n",
       "\n",
       "[6366 rows x 2 columns]"
      ]
     },
     "execution_count": 54,
     "metadata": {},
     "output_type": "execute_result"
    }
   ],
   "source": [
    "data"
   ]
  },
  {
   "cell_type": "code",
   "execution_count": 55,
   "metadata": {},
   "outputs": [],
   "source": [
    "data.to_csv(\"질병센터 민원_진료비 정보.csv\",mode='w')"
   ]
  },
  {
   "cell_type": "code",
   "execution_count": null,
   "metadata": {},
   "outputs": [],
   "source": []
  },
  {
   "cell_type": "code",
   "execution_count": null,
   "metadata": {},
   "outputs": [],
   "source": []
  },
  {
   "cell_type": "code",
   "execution_count": null,
   "metadata": {},
   "outputs": [],
   "source": []
  }
 ],
 "metadata": {
  "kernelspec": {
   "display_name": "base",
   "language": "python",
   "name": "python3"
  },
  "language_info": {
   "codemirror_mode": {
    "name": "ipython",
    "version": 3
   },
   "file_extension": ".py",
   "mimetype": "text/x-python",
   "name": "python",
   "nbconvert_exporter": "python",
   "pygments_lexer": "ipython3",
   "version": "3.11.5"
  }
 },
 "nbformat": 4,
 "nbformat_minor": 2
}
