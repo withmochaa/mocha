{
 "cells": [
  {
   "cell_type": "code",
   "execution_count": null,
   "metadata": {},
   "outputs": [],
   "source": [
    "import pandas as pd\n",
    "\n",
    "normal_data=pd.read_csv(\"/Users/withmocha/Desktop/DATA/Capston Design(2024)/Data(24.03.12)/csv_file_data(24.03.21)/normal/금융/이체출금대출/금융보험_이체출금대출_상담사질문.csv\")\n",
    "\n",
    "abnormal_data="
   ]
  }
 ],
 "metadata": {
  "kernelspec": {
   "display_name": "base",
   "language": "python",
   "name": "python3"
  },
  "language_info": {
   "name": "python",
   "version": "3.11.5"
  }
 },
 "nbformat": 4,
 "nbformat_minor": 2
}
