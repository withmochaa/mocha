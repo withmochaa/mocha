{
 "cells": [
  {
   "cell_type": "code",
   "execution_count": 38,
   "metadata": {},
   "outputs": [
    {
     "name": "stdout",
     "output_type": "stream",
     "text": [
      "쇼핑 민원 json file['민원(콜센터) 질의응답_K쇼핑_업무처리_Training.json', '민원(콜센터) 질의응답_K쇼핑_주문_Training.json', '민원(콜센터) 질의응답_K쇼핑_교환_Training.json', '민원(콜센터) 질의응답_K쇼핑_반품_Training.json', '민원(콜센터) 질의응답_K쇼핑_AS_Training.json', '민원(콜센터) 질의응답_K쇼핑_배송_Training.json', '민원(콜센터) 질의응답_K쇼핑_결제_Training.json']\n"
     ]
    }
   ],
   "source": [
    "import pandas as pd\n",
    "import os\n",
    "import json\n",
    "path_insurance=\"/Users/withmocha/Desktop/DATA/Capston Design(2024)/normal/callcenter_complatin/data/Training/data_240312_sum/labeling_sum_240321/json_data/data(use)/data/shopping\"\n",
    "\n",
    "file_list=os.listdir(path_insurance)\n",
    "\n",
    "print(\"쇼핑 민원 json file{}\".format(file_list))"
   ]
  },
  {
   "cell_type": "code",
   "execution_count": 39,
   "metadata": {},
   "outputs": [],
   "source": [
    "path_1=\"/Users/withmocha/Desktop/DATA/Capston Design(2024)/normal/callcenter_complatin/data/Training/data_240312_sum/labeling_sum_240321/json_data/data(use)/data/shopping/민원(콜센터) 질의응답_K쇼핑_AS_Training.json\"\n",
    "path_2=\"/Users/withmocha/Desktop/DATA/Capston Design(2024)/normal/callcenter_complatin/data/Training/data_240312_sum/labeling_sum_240321/json_data/data(use)/data/shopping/민원(콜센터) 질의응답_K쇼핑_결제_Training.json\"\n",
    "path_3=\"/Users/withmocha/Desktop/DATA/Capston Design(2024)/normal/callcenter_complatin/data/Training/data_240312_sum/labeling_sum_240321/json_data/data(use)/data/shopping/민원(콜센터) 질의응답_K쇼핑_교환_Training.json\"\n",
    "path_4=\"/Users/withmocha/Desktop/DATA/Capston Design(2024)/normal/callcenter_complatin/data/Training/data_240312_sum/labeling_sum_240321/json_data/data(use)/data/shopping/민원(콜센터) 질의응답_K쇼핑_반품_Training.json\"\n",
    "path_5=\"/Users/withmocha/Desktop/DATA/Capston Design(2024)/normal/callcenter_complatin/data/Training/data_240312_sum/labeling_sum_240321/json_data/data(use)/data/shopping/민원(콜센터) 질의응답_K쇼핑_배송_Training.json\"\n",
    "path_6=\"/Users/withmocha/Desktop/DATA/Capston Design(2024)/normal/callcenter_complatin/data/Training/data_240312_sum/labeling_sum_240321/json_data/data(use)/data/shopping/민원(콜센터) 질의응답_K쇼핑_업무처리_Training.json\"\n",
    "path_7=\"/Users/withmocha/Desktop/DATA/Capston Design(2024)/normal/callcenter_complatin/data/Training/data_240312_sum/labeling_sum_240321/json_data/data(use)/data/shopping/민원(콜센터) 질의응답_K쇼핑_주문_Training.json\""
   ]
  },
  {
   "cell_type": "code",
   "execution_count": 40,
   "metadata": {},
   "outputs": [
    {
     "name": "stdout",
     "output_type": "stream",
     "text": [
      "{'도메인': 'K쇼핑', '카테고리': '주문', '대화셋일련번호': 'S23241', '화자': '상담사', '문장번호': '1', '고객의도': '', '상담사의도': '', 'QA': 'A', '고객질문(요청)': '', '상담사질문(요청)': '', '고객답변': '', '상담사답변': '행복을 전하는 ㅇㅇ쇼핑 ㅇㅇㅇ입니다. ', '개체명 ': '행복, ㅇㅇ쇼핑, ㅇㅇㅇ', '용어사전': '', '지식베이스': 'ㅇㅇ쇼핑/쇼핑몰명, ㅇㅇㅇ/상담사명'}\n",
      "{'도메인': 'K쇼핑', '카테고리': '주문', '대화셋일련번호': 'S23241', '화자': '고객', '문장번호': '2', '고객의도': '', '상담사의도': '', 'QA': 'A', '고객질문(요청)': '', '상담사질문(요청)': '', '고객답변': '여보세요.', '상담사답변': '', '개체명 ': '', '용어사전': '', '지식베이스': ''}\n",
      "{'도메인': 'K쇼핑', '카테고리': '주문', '대화셋일련번호': 'S23241', '화자': '상담사', '문장번호': '3', '고객의도': '', '상담사의도': '', 'QA': 'A', '고객질문(요청)': '', '상담사질문(요청)': '', '고객답변': '', '상담사답변': '네 고객님.', '개체명 ': '고객님', '용어사전': '', '지식베이스': ''}\n",
      "{'도메인': 'K쇼핑', '카테고리': '주문', '대화셋일련번호': 'S23241', '화자': '고객', '문장번호': '4', '고객의도': '입금문의', '상담사의도': '', 'QA': 'Q', '고객질문(요청)': '아 저기 뭐야 그 신발을 주문했는데 다른건 다 카톡으로 와서 받았는데 문자가 와가지고 보니까 어제가 입금 날짜 더라고요.', '상담사질문(요청)': '', '고객답변': '', '상담사답변': '', '개체명 ': '신발, 주문, 카톡, 문자, 어제, 입금, 날짜', '용어사전': '카톡/카카오톡, 문자/메시지', '지식베이스': '신발/상품, 어제/날짜, 입금/결제방법'}\n",
      "{'도메인': 'K쇼핑', '카테고리': '주문', '대화셋일련번호': 'S23241', '화자': '상담사', '문장번호': '5', '고객의도': '', '상담사의도': '', 'QA': 'A', '고객질문(요청)': '', '상담사질문(요청)': '', '고객답변': '', '상담사답변': '아 그러십니까.', '개체명 ': '', '용어사전': '', '지식베이스': ''}\n"
     ]
    }
   ],
   "source": [
    "\n",
    "with open(path_7,'r') as f:\n",
    "    json_data=json.load(f)\n",
    "    \n",
    "j=0       \n",
    "for i in json_data:\n",
    "    print(i)\n",
    "    j=j+1\n",
    "    if j==5:\n",
    "        break"
   ]
  },
  {
   "cell_type": "code",
   "execution_count": 41,
   "metadata": {},
   "outputs": [],
   "source": [
    "data=pd.DataFrame(json_data,columns=['상담사질문(요청)','상담사답변'])"
   ]
  },
  {
   "cell_type": "code",
   "execution_count": 42,
   "metadata": {},
   "outputs": [
    {
     "data": {
      "text/html": [
       "<div>\n",
       "<style scoped>\n",
       "    .dataframe tbody tr th:only-of-type {\n",
       "        vertical-align: middle;\n",
       "    }\n",
       "\n",
       "    .dataframe tbody tr th {\n",
       "        vertical-align: top;\n",
       "    }\n",
       "\n",
       "    .dataframe thead th {\n",
       "        text-align: right;\n",
       "    }\n",
       "</style>\n",
       "<table border=\"1\" class=\"dataframe\">\n",
       "  <thead>\n",
       "    <tr style=\"text-align: right;\">\n",
       "      <th></th>\n",
       "      <th>상담사질문(요청)</th>\n",
       "      <th>상담사답변</th>\n",
       "    </tr>\n",
       "  </thead>\n",
       "  <tbody>\n",
       "    <tr>\n",
       "      <th>0</th>\n",
       "      <td></td>\n",
       "      <td>행복을 전하는 ㅇㅇ쇼핑 ㅇㅇㅇ입니다.</td>\n",
       "    </tr>\n",
       "    <tr>\n",
       "      <th>1</th>\n",
       "      <td></td>\n",
       "      <td></td>\n",
       "    </tr>\n",
       "    <tr>\n",
       "      <th>2</th>\n",
       "      <td></td>\n",
       "      <td>네 고객님.</td>\n",
       "    </tr>\n",
       "    <tr>\n",
       "      <th>3</th>\n",
       "      <td></td>\n",
       "      <td></td>\n",
       "    </tr>\n",
       "    <tr>\n",
       "      <th>4</th>\n",
       "      <td></td>\n",
       "      <td>아 그러십니까.</td>\n",
       "    </tr>\n",
       "    <tr>\n",
       "      <th>...</th>\n",
       "      <td>...</td>\n",
       "      <td>...</td>\n",
       "    </tr>\n",
       "    <tr>\n",
       "      <th>181076</th>\n",
       "      <td>교환과 반품은 배송 완료일 제외하고 칠일 이내 연락 주셔야 하며 제품의 경우 제품 ...</td>\n",
       "      <td></td>\n",
       "    </tr>\n",
       "    <tr>\n",
       "      <th>181077</th>\n",
       "      <td></td>\n",
       "      <td></td>\n",
       "    </tr>\n",
       "    <tr>\n",
       "      <th>181078</th>\n",
       "      <td></td>\n",
       "      <td>네 주문되었습니다.\\r\\n</td>\n",
       "    </tr>\n",
       "    <tr>\n",
       "      <th>181079</th>\n",
       "      <td></td>\n",
       "      <td></td>\n",
       "    </tr>\n",
       "    <tr>\n",
       "      <th>181080</th>\n",
       "      <td></td>\n",
       "      <td>네  ㅇㅇ쇼핑  ㅇㅇㅇ였습니다.\\r\\n감사합니다.\\r\\n</td>\n",
       "    </tr>\n",
       "  </tbody>\n",
       "</table>\n",
       "<p>181081 rows × 2 columns</p>\n",
       "</div>"
      ],
      "text/plain": [
       "                                                상담사질문(요청)  \\\n",
       "0                                                           \n",
       "1                                                           \n",
       "2                                                           \n",
       "3                                                           \n",
       "4                                                           \n",
       "...                                                   ...   \n",
       "181076  교환과 반품은 배송 완료일 제외하고 칠일 이내 연락 주셔야 하며 제품의 경우 제품 ...   \n",
       "181077                                                      \n",
       "181078                                                      \n",
       "181079                                                      \n",
       "181080                                                      \n",
       "\n",
       "                                  상담사답변  \n",
       "0                 행복을 전하는 ㅇㅇ쇼핑 ㅇㅇㅇ입니다.   \n",
       "1                                        \n",
       "2                                네 고객님.  \n",
       "3                                        \n",
       "4                              아 그러십니까.  \n",
       "...                                 ...  \n",
       "181076                                   \n",
       "181077                                   \n",
       "181078                   네 주문되었습니다.\\r\\n  \n",
       "181079                                   \n",
       "181080  네  ㅇㅇ쇼핑  ㅇㅇㅇ였습니다.\\r\\n감사합니다.\\r\\n  \n",
       "\n",
       "[181081 rows x 2 columns]"
      ]
     },
     "execution_count": 42,
     "metadata": {},
     "output_type": "execute_result"
    }
   ],
   "source": [
    "data"
   ]
  },
  {
   "cell_type": "code",
   "execution_count": 43,
   "metadata": {},
   "outputs": [],
   "source": [
    "data.to_csv(\"쇼핑 민원_주문.csv\",mode='w')"
   ]
  },
  {
   "cell_type": "code",
   "execution_count": null,
   "metadata": {},
   "outputs": [],
   "source": []
  },
  {
   "cell_type": "code",
   "execution_count": null,
   "metadata": {},
   "outputs": [],
   "source": []
  },
  {
   "cell_type": "code",
   "execution_count": null,
   "metadata": {},
   "outputs": [],
   "source": []
  },
  {
   "cell_type": "code",
   "execution_count": null,
   "metadata": {},
   "outputs": [],
   "source": []
  }
 ],
 "metadata": {
  "kernelspec": {
   "display_name": "base",
   "language": "python",
   "name": "python3"
  },
  "language_info": {
   "codemirror_mode": {
    "name": "ipython",
    "version": 3
   },
   "file_extension": ".py",
   "mimetype": "text/x-python",
   "name": "python",
   "nbconvert_exporter": "python",
   "pygments_lexer": "ipython3",
   "version": "3.11.5"
  }
 },
 "nbformat": 4,
 "nbformat_minor": 2
}
