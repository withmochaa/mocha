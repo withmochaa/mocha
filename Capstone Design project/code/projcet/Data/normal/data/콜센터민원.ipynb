{
 "cells": [
  {
   "cell_type": "code",
   "execution_count": 1,
   "metadata": {},
   "outputs": [
    {
     "name": "stdout",
     "output_type": "stream",
     "text": [
      "콜센터 민원 json file['민원(콜센터) 질의응답_다산콜센터_코로나19 관련 상담_Training.json', '민원(콜센터) 질의응답_다산콜센터_대중교통 안내_Training.json', '민원(콜센터) 질의응답_다산콜센터_생활하수도 관련 문의_Training.json', '민원(콜센터) 질의응답_다산콜센터_일반행정 문의_Training.json']\n"
     ]
    }
   ],
   "source": [
    "import pandas as pd\n",
    "import os\n",
    "import json\n",
    "path_insurance=\"/Users/withmocha/Desktop/DATA/Capston Design(2024)/Data(24.03.12)/normal/callcenter_complatin/data/Training/data_240312_sum/labeling_sum_240321/json_data/data(use)/data/callcenter\"\n",
    "\n",
    "file_list=os.listdir(path_insurance)\n",
    "\n",
    "print(\"콜센터 민원 json file{}\".format(file_list))"
   ]
  },
  {
   "cell_type": "code",
   "execution_count": 2,
   "metadata": {},
   "outputs": [],
   "source": [
    "path_1=\"/Users/withmocha/Desktop/DATA/Capston Design(2024)/Data(24.03.12)/normal/callcenter_complatin/data/Training/data_240312_sum/labeling_sum_240321/json_data/data(use)/data/callcenter/민원(콜센터) 질의응답_다산콜센터_대중교통 안내_Training.json\"\n",
    "path_2=\"/Users/withmocha/Desktop/DATA/Capston Design(2024)/Data(24.03.12)/normal/callcenter_complatin/data/Training/data_240312_sum/labeling_sum_240321/json_data/data(use)/data/callcenter/민원(콜센터) 질의응답_다산콜센터_생활하수도 관련 문의_Training.json\"\n",
    "path_3=\"/Users/withmocha/Desktop/DATA/Capston Design(2024)/Data(24.03.12)/normal/callcenter_complatin/data/Training/data_240312_sum/labeling_sum_240321/json_data/data(use)/data/callcenter/민원(콜센터) 질의응답_다산콜센터_일반행정 문의_Training.json\"\n",
    "path_4=\"/Users/withmocha/Desktop/DATA/Capston Design(2024)/Data(24.03.12)/normal/callcenter_complatin/data/Training/data_240312_sum/labeling_sum_240321/json_data/data(use)/data/callcenter/민원(콜센터) 질의응답_다산콜센터_코로나19 관련 상담_Training.json\""
   ]
  },
  {
   "cell_type": "code",
   "execution_count": 3,
   "metadata": {},
   "outputs": [
    {
     "name": "stdout",
     "output_type": "stream",
     "text": [
      "{'도메인': '다산콜센터', '카테고리': '코로나19 관련 상담', '대화셋일련번호': 'B2425', '화자': '고객', '문장번호': '1', '고객의도': '정부지원', '상담사의도': '', 'QA': 'Q', '고객질문(요청)': '자가격리시 정부의 지원에 대해 알고싶습니다.', '상담사질문(요청)': '', '고객답변': '', '상담사답변': '', '개체명 ': '자가격리', '용어사전': '본인주택격리/질병관리체계', '지식베이스': '자가격리,질병관리체계'}\n",
      "{'도메인': '다산콜센터', '카테고리': '코로나19 관련 상담', '대화셋일련번호': 'B2425', '화자': '상담사', '문장번호': '2', '고객의도': '', '상담사의도': '정부지원', 'QA': 'A', '고객질문(요청)': '', '상담사질문(요청)': '', '고객답변': '', '상담사답변': '네 무엇이 궁금하신지요?', '개체명 ': '', '용어사전': '', '지식베이스': ''}\n",
      "{'도메인': '다산콜센터', '카테고리': '코로나19 관련 상담', '대화셋일련번호': 'B2425', '화자': '고객', '문장번호': '3', '고객의도': '정부지원', '상담사의도': '', 'QA': 'Q', '고객질문(요청)': '자가격리시 일을 못하는데 어떻게 하나요?', '상담사질문(요청)': '', '고객답변': '', '상담사답변': '', '개체명 ': '자가격리', '용어사전': '', '지식베이스': '자가격리'}\n",
      "{'도메인': '다산콜센터', '카테고리': '코로나19 관련 상담', '대화셋일련번호': 'B2425', '화자': '상담사', '문장번호': '4', '고객의도': '', '상담사의도': '정부지원', 'QA': 'A', '고객질문(요청)': '', '상담사질문(요청)': '', '고객답변': '', '상담사답변': '정부에서 별도 지원금을 지급하고 있습니다.', '개체명 ': '지원금', '용어사전': '보조금/돈', '지식베이스': '지원금,돈'}\n",
      "{'도메인': '다산콜센터', '카테고리': '코로나19 관련 상담', '대화셋일련번호': 'B2425', '화자': '고객', '문장번호': '5', '고객의도': '정부지원', '상담사의도': '', 'QA': 'Q', '고객질문(요청)': '모든 사람이 받을 수 있나요?', '상담사질문(요청)': '', '고객답변': '', '상담사답변': '', '개체명 ': '사람', '용어사전': '사람/인간', '지식베이스': '사람,인간'}\n"
     ]
    }
   ],
   "source": [
    "\n",
    "with open(path_4,'r') as f:\n",
    "    json_data=json.load(f)\n",
    "    \n",
    "j=0       \n",
    "for i in json_data:\n",
    "    print(i)\n",
    "    j=j+1\n",
    "    if j==5:\n",
    "        break"
   ]
  },
  {
   "cell_type": "code",
   "execution_count": 4,
   "metadata": {},
   "outputs": [],
   "source": [
    "data=pd.DataFrame(json_data,columns=['상담사질문(요청)','상담사답변'])"
   ]
  },
  {
   "cell_type": "code",
   "execution_count": 5,
   "metadata": {},
   "outputs": [
    {
     "data": {
      "text/html": [
       "<div>\n",
       "<style scoped>\n",
       "    .dataframe tbody tr th:only-of-type {\n",
       "        vertical-align: middle;\n",
       "    }\n",
       "\n",
       "    .dataframe tbody tr th {\n",
       "        vertical-align: top;\n",
       "    }\n",
       "\n",
       "    .dataframe thead th {\n",
       "        text-align: right;\n",
       "    }\n",
       "</style>\n",
       "<table border=\"1\" class=\"dataframe\">\n",
       "  <thead>\n",
       "    <tr style=\"text-align: right;\">\n",
       "      <th></th>\n",
       "      <th>상담사질문(요청)</th>\n",
       "      <th>상담사답변</th>\n",
       "    </tr>\n",
       "  </thead>\n",
       "  <tbody>\n",
       "    <tr>\n",
       "      <th>0</th>\n",
       "      <td></td>\n",
       "      <td></td>\n",
       "    </tr>\n",
       "    <tr>\n",
       "      <th>1</th>\n",
       "      <td></td>\n",
       "      <td>네 무엇이 궁금하신지요?</td>\n",
       "    </tr>\n",
       "    <tr>\n",
       "      <th>2</th>\n",
       "      <td></td>\n",
       "      <td></td>\n",
       "    </tr>\n",
       "    <tr>\n",
       "      <th>3</th>\n",
       "      <td></td>\n",
       "      <td>정부에서 별도 지원금을 지급하고 있습니다.</td>\n",
       "    </tr>\n",
       "    <tr>\n",
       "      <th>4</th>\n",
       "      <td></td>\n",
       "      <td></td>\n",
       "    </tr>\n",
       "    <tr>\n",
       "      <th>...</th>\n",
       "      <td>...</td>\n",
       "      <td>...</td>\n",
       "    </tr>\n",
       "    <tr>\n",
       "      <th>32470</th>\n",
       "      <td></td>\n",
       "      <td></td>\n",
       "    </tr>\n",
       "    <tr>\n",
       "      <th>32471</th>\n",
       "      <td></td>\n",
       "      <td>네, 방역수칙 준수하며 하고 있습니다.</td>\n",
       "    </tr>\n",
       "    <tr>\n",
       "      <th>32472</th>\n",
       "      <td></td>\n",
       "      <td></td>\n",
       "    </tr>\n",
       "    <tr>\n",
       "      <th>32473</th>\n",
       "      <td></td>\n",
       "      <td>네, 아직 전면등교는 아닙니다.</td>\n",
       "    </tr>\n",
       "    <tr>\n",
       "      <th>32474</th>\n",
       "      <td></td>\n",
       "      <td></td>\n",
       "    </tr>\n",
       "  </tbody>\n",
       "</table>\n",
       "<p>32475 rows × 2 columns</p>\n",
       "</div>"
      ],
      "text/plain": [
       "      상담사질문(요청)                    상담사답변\n",
       "0                                       \n",
       "1                          네 무엇이 궁금하신지요?\n",
       "2                                       \n",
       "3                정부에서 별도 지원금을 지급하고 있습니다.\n",
       "4                                       \n",
       "...         ...                      ...\n",
       "32470                                   \n",
       "32471              네, 방역수칙 준수하며 하고 있습니다.\n",
       "32472                                   \n",
       "32473                  네, 아직 전면등교는 아닙니다.\n",
       "32474                                   \n",
       "\n",
       "[32475 rows x 2 columns]"
      ]
     },
     "execution_count": 5,
     "metadata": {},
     "output_type": "execute_result"
    }
   ],
   "source": [
    "data"
   ]
  },
  {
   "cell_type": "code",
   "execution_count": 75,
   "metadata": {},
   "outputs": [],
   "source": [
    "data.to_csv(\"콜센터 민원_코로나19.csv\",mode='w')"
   ]
  },
  {
   "cell_type": "code",
   "execution_count": null,
   "metadata": {},
   "outputs": [],
   "source": []
  },
  {
   "cell_type": "code",
   "execution_count": null,
   "metadata": {},
   "outputs": [],
   "source": []
  },
  {
   "cell_type": "code",
   "execution_count": null,
   "metadata": {},
   "outputs": [],
   "source": []
  }
 ],
 "metadata": {
  "kernelspec": {
   "display_name": "base",
   "language": "python",
   "name": "python3"
  },
  "language_info": {
   "codemirror_mode": {
    "name": "ipython",
    "version": 3
   },
   "file_extension": ".py",
   "mimetype": "text/x-python",
   "name": "python",
   "nbconvert_exporter": "python",
   "pygments_lexer": "ipython3",
   "version": "3.11.5"
  }
 },
 "nbformat": 4,
 "nbformat_minor": 2
}
