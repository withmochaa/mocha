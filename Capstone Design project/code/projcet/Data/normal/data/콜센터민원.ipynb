{
 "cells": [
  {
   "cell_type": "code",
   "execution_count": 1,
   "metadata": {},
   "outputs": [
    {
     "name": "stdout",
     "output_type": "stream",
     "text": [
      "콜센터 민원 json file['민원(콜센터) 질의응답_다산콜센터_코로나19 관련 상담_Training.json', '민원(콜센터) 질의응답_다산콜센터_대중교통 안내_Training.json', '민원(콜센터) 질의응답_다산콜센터_생활하수도 관련 문의_Training.json', '민원(콜센터) 질의응답_다산콜센터_일반행정 문의_Training.json']\n"
     ]
    }
   ],
   "source": [
    "import pandas as pd\n",
    "import os\n",
    "import json\n",
    "path_insurance=\"/Users/withmocha/Desktop/DATA/Capston Design(2024)/Data(24.03.12)/normal/callcenter_complatin/data/Training/data_240312_sum/labeling_sum_240321/json_data/data(use)/data/callcenter\"\n",
    "\n",
    "file_list=os.listdir(path_insurance)\n",
    "\n",
    "print(\"콜센터 민원 json file{}\".format(file_list))"
   ]
  },
  {
   "cell_type": "code",
   "execution_count": 2,
   "metadata": {},
   "outputs": [],
   "source": [
    "path_1=\"/Users/withmocha/Desktop/DATA/Capston Design(2024)/Data(24.03.12)/normal/callcenter_complatin/data/Training/data_240312_sum/labeling_sum_240321/json_data/data(use)/data/callcenter/민원(콜센터) 질의응답_다산콜센터_대중교통 안내_Training.json\"\n",
    "path_2=\"/Users/withmocha/Desktop/DATA/Capston Design(2024)/Data(24.03.12)/normal/callcenter_complatin/data/Training/data_240312_sum/labeling_sum_240321/json_data/data(use)/data/callcenter/민원(콜센터) 질의응답_다산콜센터_생활하수도 관련 문의_Training.json\"\n",
    "path_3=\"/Users/withmocha/Desktop/DATA/Capston Design(2024)/Data(24.03.12)/normal/callcenter_complatin/data/Training/data_240312_sum/labeling_sum_240321/json_data/data(use)/data/callcenter/민원(콜센터) 질의응답_다산콜센터_일반행정 문의_Training.json\"\n",
    "path_4=\"/Users/withmocha/Desktop/DATA/Capston Design(2024)/Data(24.03.12)/normal/callcenter_complatin/data/Training/data_240312_sum/labeling_sum_240321/json_data/data(use)/data/callcenter/민원(콜센터) 질의응답_다산콜센터_코로나19 관련 상담_Training.json\""
   ]
  },
  {
   "cell_type": "code",
   "execution_count": 3,
   "metadata": {},
   "outputs": [
    {
     "name": "stdout",
     "output_type": "stream",
     "text": [
      "{'도메인': '다산콜센터', '카테고리': '일반행정 문의', '대화셋일련번호': 'B2240', '화자': '고객', '문장번호': '1', '고객의도': '지방세납부', '상담사의도': '', 'QA': 'Q', '고객질문(요청)': '지방세를 내려면 어떻게 해야됩니까?', '상담사질문(요청)': '', '고객답변': '', '상담사답변': '', '개체명 ': '지방세', '용어사전': '지방세/세금', '지식베이스': '지방세,세금'}\n",
      "{'도메인': '다산콜센터', '카테고리': '일반행정 문의', '대화셋일련번호': 'B2240', '화자': '상담사', '문장번호': '2', '고객의도': '', '상담사의도': '지방세납부', 'QA': 'A', '고객질문(요청)': '', '상담사질문(요청)': '', '고객답변': '', '상담사답변': '이용하시는 은행의 사이트에서 지방세 납부가 가능합니다.', '개체명 ': '은행, 사이트, 지방세, 납부', '용어사전': '은행/공공기관/ 지방세/세금', '지식베이스': '사이트,세금'}\n",
      "{'도메인': '다산콜센터', '카테고리': '일반행정 문의', '대화셋일련번호': 'B2240', '화자': '고객', '문장번호': '3', '고객의도': '지방세납부', '상담사의도': '', 'QA': 'Q', '고객질문(요청)': '은행 어플에서도 됩니까?', '상담사질문(요청)': '', '고객답변': '', '상담사답변': '', '개체명 ': '은행, 어플', '용어사전': '은행/공공기관', '지식베이스': '어플,공공기관'}\n",
      "{'도메인': '다산콜센터', '카테고리': '일반행정 문의', '대화셋일련번호': 'B2240', '화자': '상담사', '문장번호': '4', '고객의도': '', '상담사의도': '지방세납부', 'QA': 'Q', '고객질문(요청)': '', '상담사질문(요청)': '어떤 은행을 이용하고 계십니까?', '고객답변': '', '상담사답변': '', '개체명 ': '은행', '용어사전': '은행/공공기관', '지식베이스': '은행,공공기관'}\n",
      "{'도메인': '다산콜센터', '카테고리': '일반행정 문의', '대화셋일련번호': 'B2240', '화자': '고객', '문장번호': '5', '고객의도': '지방세납부', '상담사의도': '', 'QA': 'A', '고객질문(요청)': '', '상담사질문(요청)': '', '고객답변': '기업은행을 이용하고 있습니다.', '상담사답변': '', '개체명 ': '기업은행', '용어사전': '기업은행/상호', '지식베이스': '기업은행,상호'}\n"
     ]
    }
   ],
   "source": [
    "\n",
    "with open(path_3,'r') as f:\n",
    "    json_data=json.load(f)\n",
    "    \n",
    "j=0       \n",
    "for i in json_data:\n",
    "    print(i)\n",
    "    j=j+1\n",
    "    if j==5:\n",
    "        break"
   ]
  },
  {
   "cell_type": "code",
   "execution_count": 4,
   "metadata": {},
   "outputs": [],
   "source": [
    "data=pd.DataFrame(json_data,columns=['상담사질문(요청)','상담사답변'])"
   ]
  },
  {
   "cell_type": "code",
   "execution_count": 5,
   "metadata": {},
   "outputs": [
    {
     "data": {
      "text/html": [
       "<div>\n",
       "<style scoped>\n",
       "    .dataframe tbody tr th:only-of-type {\n",
       "        vertical-align: middle;\n",
       "    }\n",
       "\n",
       "    .dataframe tbody tr th {\n",
       "        vertical-align: top;\n",
       "    }\n",
       "\n",
       "    .dataframe thead th {\n",
       "        text-align: right;\n",
       "    }\n",
       "</style>\n",
       "<table border=\"1\" class=\"dataframe\">\n",
       "  <thead>\n",
       "    <tr style=\"text-align: right;\">\n",
       "      <th></th>\n",
       "      <th>상담사질문(요청)</th>\n",
       "      <th>상담사답변</th>\n",
       "    </tr>\n",
       "  </thead>\n",
       "  <tbody>\n",
       "    <tr>\n",
       "      <th>0</th>\n",
       "      <td></td>\n",
       "      <td></td>\n",
       "    </tr>\n",
       "    <tr>\n",
       "      <th>1</th>\n",
       "      <td></td>\n",
       "      <td>이용하시는 은행의 사이트에서 지방세 납부가 가능합니다.</td>\n",
       "    </tr>\n",
       "    <tr>\n",
       "      <th>2</th>\n",
       "      <td></td>\n",
       "      <td></td>\n",
       "    </tr>\n",
       "    <tr>\n",
       "      <th>3</th>\n",
       "      <td>어떤 은행을 이용하고 계십니까?</td>\n",
       "      <td></td>\n",
       "    </tr>\n",
       "    <tr>\n",
       "      <th>4</th>\n",
       "      <td></td>\n",
       "      <td></td>\n",
       "    </tr>\n",
       "    <tr>\n",
       "      <th>...</th>\n",
       "      <td>...</td>\n",
       "      <td>...</td>\n",
       "    </tr>\n",
       "    <tr>\n",
       "      <th>50331</th>\n",
       "      <td></td>\n",
       "      <td>입주신청서와 추천서, 급여내역서 외 기타 서류를 갖고 홈페이지에서 신청하면 됩니다.</td>\n",
       "    </tr>\n",
       "    <tr>\n",
       "      <th>50332</th>\n",
       "      <td></td>\n",
       "      <td></td>\n",
       "    </tr>\n",
       "    <tr>\n",
       "      <th>50333</th>\n",
       "      <td></td>\n",
       "      <td>1~3순위가 있습니다.</td>\n",
       "    </tr>\n",
       "    <tr>\n",
       "      <th>50334</th>\n",
       "      <td></td>\n",
       "      <td></td>\n",
       "    </tr>\n",
       "    <tr>\n",
       "      <th>50335</th>\n",
       "      <td></td>\n",
       "      <td>국가유공자 자녀 및 국민기초생활수급권자를 1순위로 두고있습니다.</td>\n",
       "    </tr>\n",
       "  </tbody>\n",
       "</table>\n",
       "<p>50336 rows × 2 columns</p>\n",
       "</div>"
      ],
      "text/plain": [
       "               상담사질문(요청)                                           상담사답변\n",
       "0                                                                       \n",
       "1                                         이용하시는 은행의 사이트에서 지방세 납부가 가능합니다.\n",
       "2                                                                       \n",
       "3      어떤 은행을 이용하고 계십니까?                                                \n",
       "4                                                                       \n",
       "...                  ...                                             ...\n",
       "50331                     입주신청서와 추천서, 급여내역서 외 기타 서류를 갖고 홈페이지에서 신청하면 됩니다.\n",
       "50332                                                                   \n",
       "50333                                                       1~3순위가 있습니다.\n",
       "50334                                                                   \n",
       "50335                                국가유공자 자녀 및 국민기초생활수급권자를 1순위로 두고있습니다.\n",
       "\n",
       "[50336 rows x 2 columns]"
      ]
     },
     "execution_count": 5,
     "metadata": {},
     "output_type": "execute_result"
    }
   ],
   "source": [
    "data"
   ]
  },
  {
   "cell_type": "code",
   "execution_count": 6,
   "metadata": {},
   "outputs": [],
   "source": [
    "data.to_csv(\"콜센터 민원_일반 행정 문의.csv\",mode='w')"
   ]
  },
  {
   "cell_type": "code",
   "execution_count": null,
   "metadata": {},
   "outputs": [],
   "source": []
  },
  {
   "cell_type": "code",
   "execution_count": null,
   "metadata": {},
   "outputs": [],
   "source": []
  },
  {
   "cell_type": "code",
   "execution_count": null,
   "metadata": {},
   "outputs": [],
   "source": []
  }
 ],
 "metadata": {
  "kernelspec": {
   "display_name": "base",
   "language": "python",
   "name": "python3"
  },
  "language_info": {
   "codemirror_mode": {
    "name": "ipython",
    "version": 3
   },
   "file_extension": ".py",
   "mimetype": "text/x-python",
   "name": "python",
   "nbconvert_exporter": "python",
   "pygments_lexer": "ipython3",
   "version": "3.11.5"
  }
 },
 "nbformat": 4,
 "nbformat_minor": 2
}
