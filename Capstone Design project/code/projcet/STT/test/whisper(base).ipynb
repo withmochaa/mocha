{
 "cells": [
  {
   "cell_type": "code",
   "execution_count": 1,
   "metadata": {},
   "outputs": [],
   "source": [
    "import whisper\n",
    "\n"
   ]
  },
  {
   "cell_type": "code",
   "execution_count": 2,
   "metadata": {},
   "outputs": [],
   "source": [
    "m4a_file = '/Users/withmocha/Downloads/23.11.17 파이썸기반딥러닝2.m4a' #"
   ]
  },
  {
   "cell_type": "code",
   "execution_count": 3,
   "metadata": {},
   "outputs": [],
   "source": [
    "model = whisper.load_model(\"base\")\n"
   ]
  },
  {
   "cell_type": "code",
   "execution_count": 4,
   "metadata": {},
   "outputs": [
    {
     "name": "stderr",
     "output_type": "stream",
     "text": [
      "/Users/withmocha/anaconda3/lib/python3.11/site-packages/whisper/transcribe.py:126: UserWarning: FP16 is not supported on CPU; using FP32 instead\n",
      "  warnings.warn(\"FP16 is not supported on CPU; using FP32 instead\")\n"
     ]
    },
    {
     "name": "stdout",
     "output_type": "stream",
     "text": [
      " 지난 3よく 검은가 말하는 그 다음에 또 막 말해내서 또 막습니다. 사용하실 때는 여기 보호실 안에서 바이밍션을 갖다가 스무르 넣어주는 양방향으로 다택받는 겁니다. 양방향으로 바택받고 아까 보찬다고 했잖아 힌트에 말고 위에다가 또 하나의 침이 더 올라왔잖아요. 그렇기 때문에 이제 히든 사인트를 막이 이루는 것입니다. 그 다음에 딱 해내면 이거 두 분만 위에 있으면은 아래 냉니다. 지하율이 더 잘 될 수 있어요. 그래서 여러분들이 앞에서 이렇게 졌었던 지하율이나 아래 냉 모델에다가도 이국수를 줘가지고 돌려버려가지고 그러다가 어떻게 웃게 되지? 이국수 보시면 되게 좋을 것 같고요. 그래서 뭐 별로인적으로 이렇게 더욱 생각할 때 2개 넘었던 이유는 안 나기 때문에 끝하는 겁니다. 그래서 별거를 보면은 로스트는 안 가고 다 지하율이 오기를 못하는 조금 늘려면 것 같아요. 진짜 사고 왔어요. 그래서 이걸 찬트를 부를 때는 네. 찬트를 부를 때는 제가 이 찬트만 보고 오는 아픈 것 같아요. 그래서 지금까지 바이든 3가지 방식 중인은 가장 더 요마가 브렛을 타게 나오면 좋겠어요. 취위가 뭐 10장으로 부를 잘 만들어보자는 이 신세를 다 시점을 한 것 같습니다. 그래서 언니랑은 따지지하면 이걸 양방향으로 하고 쓰면 되게 목표에 시설에 남은 게 좀 진짜로 보이고요. 그래서 사실은 요구하는 날 나왔을 것 같은데 여기 테스트가 있잖아요. 여기는 양방향으로 확색이 안 되기 때문에 확색한 데는 걸 테스트 했기 때문에 여기는 정반대로 문신입니다. 그래서 여러분들이 환호하는 날에 이렇게 요구하고 왔을 때는 이 양방향으로 그 아래에니 형이 좋아하지만 사실 이 부관으로 따지었을 때는 진짜 엉망진창이 거잖아요. 그래서 본 저자는 이 양방향 안에 성능이 제일 좋다고 문신이 있지만 이런 식으로 평가를 하면은 위험한다고 할까? T.S. 예산에 보시는 것처럼 코드가 굉장히 싫더라고요. 기본 코드가 가진 곳에 있으면은 여러분들 대부분 비슷합니다. 근데 이걸 맞다가 앞에서 대단첨을 확색하고 있는 여자들 가볍고 안쓰고 뭘 구입고 오느냐 외국을 해야 한 것 같겠지. 또 나왔냐? 그다음에 노이즈 박들이 이제 여러분이 시간을 철을 해서 어떻게 뽑아느냐? 들은 중의 저의 제 성능에 찰다가 하는 거지? 사실 이 모델만 마시고 이렇게 성능을 특힛발리로 어려운 그런 것인지. 무식해야 될 때 같이 많은 사람들을 제가 하실 때 정보분들을 유일하셔서 여기 코드를 한번 보인 사람을 가까워주는 거 가면 좋겠냐? 여러분 이렇게 반드시 구입을 하고 싶으신 분들도 많고 여러분이 잘 넘쳐를 타고 하신 적도 있는 모르겠는데 배우 부분은 그 보통 동체나 보통 내리게이션의 침앤나 현대차에 들어간 내리게이션 뭐였고 거기에서 목적지를 인정하면 대략 3시간이 나오고 3시간이 나오고 그러면 대부분 다 시연을 구입고 대략을 구입고 구입고 구입고 구입고 구입고 구입고 구입고 구입고 구입고 구입고 구입고 구입고 구입고 구입고 구입고 구입고 구입고 구입고 구입고 구입고 구입고 구입고 구입고 구입고 구입고 구입고 구입고 구입고 구입고 구입고 구입고 구입고 Jiangny,格mee템 베타�합니다 남자, 그런데 나 WWII Old figuresstoniad Shepherd\n"
     ]
    }
   ],
   "source": [
    "result = model.transcribe(m4a_file)\n",
    "print(result[\"text\"])"
   ]
  },
  {
   "cell_type": "code",
   "execution_count": null,
   "metadata": {},
   "outputs": [],
   "source": []
  },
  {
   "cell_type": "code",
   "execution_count": null,
   "metadata": {},
   "outputs": [],
   "source": []
  }
 ],
 "metadata": {
  "kernelspec": {
   "display_name": "base",
   "language": "python",
   "name": "python3"
  },
  "language_info": {
   "codemirror_mode": {
    "name": "ipython",
    "version": 3
   },
   "file_extension": ".py",
   "mimetype": "text/x-python",
   "name": "python",
   "nbconvert_exporter": "python",
   "pygments_lexer": "ipython3",
   "version": "3.11.5"
  }
 },
 "nbformat": 4,
 "nbformat_minor": 2
}
