{
 "cells": [
  {
   "cell_type": "code",
   "execution_count": 2,
   "metadata": {},
   "outputs": [],
   "source": [
    "import whisper\n",
    "\n"
   ]
  },
  {
   "cell_type": "code",
   "execution_count": 3,
   "metadata": {},
   "outputs": [],
   "source": [
    "m4a_file = '/Users/withmocha/Downloads/23.11.17 파이썸기반딥러닝2.m4a' #"
   ]
  },
  {
   "cell_type": "code",
   "execution_count": 4,
   "metadata": {},
   "outputs": [
    {
     "name": "stderr",
     "output_type": "stream",
     "text": [
      "100%|███████████████████████████████████████| 461M/461M [02:44<00:00, 2.94MiB/s]\n"
     ]
    }
   ],
   "source": [
    "model = whisper.load_model(\"small\")\n"
   ]
  },
  {
   "cell_type": "code",
   "execution_count": 5,
   "metadata": {},
   "outputs": [
    {
     "name": "stderr",
     "output_type": "stream",
     "text": [
      "/Users/withmocha/anaconda3/lib/python3.11/site-packages/whisper/transcribe.py:126: UserWarning: FP16 is not supported on CPU; using FP32 instead\n",
      "  warnings.warn(\"FP16 is not supported on CPU; using FP32 instead\")\n"
     ]
    },
    {
     "name": "stdout",
     "output_type": "stream",
     "text": [
      " 이렇게 하시는데 이거 이렇게 하실 것 같은데 그래서 양광이랑 아래는 저는 아래는 뿐만 아니라 이제 쓰지 않아요 그다음에 지하인드 똑같이 쓸 수 있는데 사실 사양법이 굉장히 간단합니다 사양법을 한번 보도록 할게요 코드를 다 이런 데 여기 엔딩 앰코드 지하인드도 똑같고 아래는 하선도 똑같습니다 사용하실 때는 여기 옥션 안에다가 바이드레이션 안에 갖다가 스릅을 넣으면 양광향으로 받겠다는 겁니다 양광향으로 받게 되고 아까 보셨던 것처럼 힐 스피드 말고 위에다가 또 하나의 침이 더 올라오잖아요 그렇기 때문에 이제 힐 스프드 사이즈를 자기 이름 해주는 겁니다 두 개 딱 됐는데 이 두 부분만 위에 있으면 아래는 지하인드가 닿을 수 있어요 여러분들이 아까 보셨던 지하인드나 아래는 모델에다가도 이 옥션을 줘가지고 한번 돌려보세요 결과가 어떻게 느껴지지 이렇게 보시면 되게 좋을 것 같으면 그래서 뭐 결론적으로 여기 전체인 것 같다 두 개가 없던 이유는 반방향 한 번 봐 옆방향 한 번 두 가지가 없다 딱 안 나기 때문에 끝하는 겁니다 네 그래서 그 결과를 보면 롯드는 아까보다 지하인드 모델 보다는 조금 늘려가보네요 되게 숫자 상관과 다가가서 그래서 이걸 차트를 부렸을 때는 네 차트를 부렸을 때는 제가 이 차트 한 번 보고 나왔던 것 같을 때는 지금까지 봤던 세 가지 방식 중에는 가장 결과가 불현듯하게 나온 것 같아요 취기가 뭐 숫자와 불현듯하게 많이 맞은 것 같다는 이 취재를 잘 수정한 것 같으니까 그래서 엉미라이게 따지자면 이걸 양방향으로 합수될 때 목표의 롱론을 썼고 숫자로 보이고요 네 그래서 사실은 요 부분 잘 나온 것 같은데 여기 테스트가 있잖아요 여기는 양방향으로 확실이 안 되기 때문에 확실 안 된 걸 테스트했기 때문에 여기는 전 반대로 움직입니다 그래서 여러분들이 편안하셔야 할 때 여기 한 바퀴는 이 양방향 그 아래를 이 섬의 극소한 데 하지만 사실 이 부분으로 따졌을 때는 진짜 엉망진창인 거잖아요 그래서 본 저자는 이 양방향 아래를 섬의 극소하고 움직이고 있지만 이런 식으로 평가를 하면 위험한가? 그러니까 시계가 되기 때문에 보시는 것처럼 코드가 굉장히 실크래요 기본 코드 몇 개 가지고 있으시면 여러분들 대부분 비슷합니다 근데 이걸 갖다가 앞에서 데이터 천천히 파티하고 정사를 가동하고 무슨 뭘 보고 오냐 배구리라고 어떻게 짚고 나왔냐 그다음에 노이집밥도 이제 여러 가지 시그널체를 해서 어떻게 뽑아내냐 등등에서 이제 성분의 차이가 나는 거지 사실 이 모델만 가지고 성분을 스텝 버리기 어려운 부분으로 들어가는 시도가 되었습니다 시계가 되기 때문에 같이 많으신 분들은 잘 아시려면 여러분들 유의가 채워가지고 네 여기 코드들은 한번 도움이 되시려고 바깥으로 다가오시면 여러분께 반드시 구움이 되셨고요 그리고 주겨되기 때문에 여기서 이제 끝나는데 시계는 에스템이나 것을 해주시면 좋을 것 같아요 여러분들이 자동차를 타고 하신 적들이 보이겠는데 대부분의 그 부품 정체나 그 부품에서 내리게이션에 뭐 치면이나 현대차에 들어가는 내리기 전부였고 거기에서 목적지를 인정을 하면 대략 예상시간이 나오고 대부분 다 CLS레스틱을 드려야겠다고 보시면 될 것 같아요 그래서 요즘에는 시업을 또 국정위생계부터 웬만큼 챙겨 챙겨서 많이 안 보긴 한데 저희 학생들 같은 경우도 CLS레스틱만 침해드리들이 다 현대차도 시업을 했었기 때문에 그런 것들도 어떻게 보면 어떤 비전적인 활용하니까 그니까 그니까 그니까 그니까 그런 것들도 많이 다쳐가지고 하는데 어쨌든 많은 회사 되게 관심 같고 꾸준히 고문을 드냐고 보시면 좋을 것 같아서 CLS레스틱하고 침, 침, 모델 전부는 여러분 여러분들 많이 도와주고 해보셔야 시업 하나 때는 모 모하고 봤을 때 반드시 나오는 그 메뉴일까 보시면 좋을 것 같고 공원 수업을 쓰니 관심 바뀌기 어느낌 바뀌기 하는데 아까 말씀드렸는데 텐션 모델 아주 트랜스포머 모델 둘 다 있잖아요 시계를 예측해서 트랜스포머 모델 들이 텐션이 안 들어갔기 때문에 그런 부분을 조금 더 많이 파주시기를 부탁드립니다 제가 몸이 안 좋아서 몸 감을 여기까지\n"
     ]
    }
   ],
   "source": [
    "result = model.transcribe(m4a_file)\n",
    "print(result[\"text\"])"
   ]
  },
  {
   "cell_type": "code",
   "execution_count": null,
   "metadata": {},
   "outputs": [],
   "source": []
  },
  {
   "cell_type": "code",
   "execution_count": null,
   "metadata": {},
   "outputs": [],
   "source": []
  }
 ],
 "metadata": {
  "kernelspec": {
   "display_name": "base",
   "language": "python",
   "name": "python3"
  },
  "language_info": {
   "codemirror_mode": {
    "name": "ipython",
    "version": 3
   },
   "file_extension": ".py",
   "mimetype": "text/x-python",
   "name": "python",
   "nbconvert_exporter": "python",
   "pygments_lexer": "ipython3",
   "version": "3.11.5"
  }
 },
 "nbformat": 4,
 "nbformat_minor": 2
}
