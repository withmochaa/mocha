{
 "cells": [
  {
   "cell_type": "code",
   "execution_count": 11,
   "metadata": {},
   "outputs": [],
   "source": [
    "import whisper\n",
    "\n"
   ]
  },
  {
   "cell_type": "code",
   "execution_count": 12,
   "metadata": {},
   "outputs": [],
   "source": [
    "m4a_file = '/Users/withmocha/Downloads/23.11.17 파이썸기반딥러닝2.m4a' #"
   ]
  },
  {
   "cell_type": "code",
   "execution_count": 13,
   "metadata": {},
   "outputs": [],
   "source": [
    "model = whisper.load_model(\"tiny\")\n"
   ]
  },
  {
   "cell_type": "code",
   "execution_count": 14,
   "metadata": {},
   "outputs": [
    {
     "name": "stderr",
     "output_type": "stream",
     "text": [
      "/Users/withmocha/anaconda3/lib/python3.11/site-packages/whisper/transcribe.py:126: UserWarning: FP16 is not supported on CPU; using FP32 instead\n",
      "  warnings.warn(\"FP16 is not supported on CPU; using FP32 instead\")\n"
     ]
    },
    {
     "name": "stdout",
     "output_type": "stream",
     "text": [
      "ço우 Duke du 없네요 Germ sinks 승리 pale 넣어첄ales 라면을 다 갖다 고묵을 다가 bins 귀여움 desarroll lament 당신은 야왕 저혼자만 관ters 왔어요olde 타고ейств ΔightmakeSToires client를 Option 중 방 데 faites 그래서 어떻게 알۔ 그래서 그런Detllo 부� Row 그Star 정말 생각이 Trusteeны 생각보다 네 만 봈보다 정신이 modulesories가últ을 꾹 establishing 멋진 색깔의 어쨌든에 이런 whoever will finish it off a guess, 어쩔 수 있는 방식심은 아직 다리가 있다. estratég adessofern 안 되면 적그� самое Entonces 신생이 있던 가 delivery 위�plays Spider- tenidoyasjin하게 찪으면 영�� timer에 그러면 라는 영상으로 첫 번째 색깔 Poweraz는 보이시죠, 본 하지만 제가 커플한 빛은 바구와 보ritt한 좀 몰라서 왜 Bloogie지 کر 스� подоб sons vaan에 헬멧스 배송부터 시작으로!]ь 제노 Bron belyeon과ーペタ cardio stressful podr поблаг진짜 nada 우리 목족ziel이들과 함께, 여러분이 데려다가 하는 게 하나씩 아니다. 다른 두 동작도 Bethzers도 Х쳐서 여러분들의 Ziel<|az|> Ç혁을라는 것입니다. 저희가 최고에서 제작도 없 wrote. 여러분주부터 소위에서 Kenneth 하나를 헜도하는gies 제작은 스튜레스트인 드� attacker 호흡피�ів트 초 Fear의 ub00 네, 그딨�ότε kinda Да요 :) 이제서 촬영하ña award 저희 만� awake을목에게 왜 Wakitted게 많은 기술을 하겠습니다 사egi sighs satisfied\n"
     ]
    }
   ],
   "source": [
    "result = model.transcribe(m4a_file)\n",
    "print(result[\"text\"])"
   ]
  },
  {
   "cell_type": "code",
   "execution_count": null,
   "metadata": {},
   "outputs": [],
   "source": []
  },
  {
   "cell_type": "code",
   "execution_count": null,
   "metadata": {},
   "outputs": [],
   "source": []
  }
 ],
 "metadata": {
  "kernelspec": {
   "display_name": "base",
   "language": "python",
   "name": "python3"
  },
  "language_info": {
   "codemirror_mode": {
    "name": "ipython",
    "version": 3
   },
   "file_extension": ".py",
   "mimetype": "text/x-python",
   "name": "python",
   "nbconvert_exporter": "python",
   "pygments_lexer": "ipython3",
   "version": "3.11.5"
  }
 },
 "nbformat": 4,
 "nbformat_minor": 2
}
