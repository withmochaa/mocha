{
 "cells": [
  {
   "cell_type": "code",
   "execution_count": 4,
   "metadata": {},
   "outputs": [],
   "source": [
    "import whisper\n",
    "\n"
   ]
  },
  {
   "cell_type": "code",
   "execution_count": 5,
   "metadata": {},
   "outputs": [],
   "source": [
    "m4a_file = '/Users/withmocha/Downloads/23.11.17 파이썸기반딥러닝2.m4a' #"
   ]
  },
  {
   "cell_type": "code",
   "execution_count": 6,
   "metadata": {},
   "outputs": [
    {
     "name": "stderr",
     "output_type": "stream",
     "text": [
      "/Users/withmocha/anaconda3/lib/python3.11/site-packages/whisper/__init__.py:65: UserWarning: /Users/withmocha/.cache/whisper/large-v3.pt exists, but the SHA256 checksum does not match; re-downloading the file\n",
      "  warnings.warn(\n",
      "100%|█████████████████████████████████████| 2.88G/2.88G [16:59<00:00, 3.03MiB/s]\n"
     ]
    }
   ],
   "source": [
    "model = whisper.load_model(\"large\")\n"
   ]
  },
  {
   "cell_type": "code",
   "execution_count": 7,
   "metadata": {},
   "outputs": [
    {
     "name": "stderr",
     "output_type": "stream",
     "text": [
      "/Users/withmocha/anaconda3/lib/python3.11/site-packages/whisper/transcribe.py:126: UserWarning: FP16 is not supported on CPU; using FP32 instead\n",
      "  warnings.warn(\"FP16 is not supported on CPU; using FP32 instead\")\n",
      "python(22595) MallocStackLogging: can't turn off malloc stack logging because it was not enabled.\n"
     ]
    },
    {
     "name": "stdout",
     "output_type": "stream",
     "text": [
      " 그래서 양방이랑 RL을 비교는 RL 뿐만 아니라 LSTM, GRL도 똑같이 쓸 수 있는데 사실 사용법이 굉장히 간단합니다. 사용 방법을 한번 보도록 할게요. 코드를 다 동일한데, 여기 LSTM 코드, GRL도 똑같고 RL도 똑같습니다. 사용하실 때 옵션 안에 바이디렉션을 넣으면 양방향으로 바뀌게 됩니다. 아까 보셨던 것처럼 히든 스트리트 말고 위에 하나의 층이 더 올라오잖아요. 그렇기 때문에 히든 사이즈를 곱하기 2를 해준 겁니다. 이 두 부분만 위에 있으면 아래는 지하주차입니다. 지하주차? 네, 이렇게 보시면 되겠습니다. 여러분들이 앞에서 보셨던 GRL이나 RL 모델에다가도 이 옵션을 줘서 한번 돌려보세요. 결과가 어떻게 바뀌는지 이렇게 보시면 되게 좋을 것 같고요. 그래서 결론적으로 두 개 넣었던 이유는 전방향 하트와 옆방향 하트 두 가지가 다 가능하기 때문에 그렇다는 겁니다. 그래서 스펙 결과를 보면 RL은 GRL 모델보다는 조금 느린 것 같아요. 숫자상으로만 바뀌었어요. 그래서 이걸 차트를 그렸을 때는 차트를 그렸을 때는 제가 이 차트만 보고 봤을 때는 지금까지 봤던 세 가지 방식 중에는 가장 결과가 그럴듯하게 나온 것 같아요. 추위가, 뭐 숫자가 잘 맞는지 모르는 이 추세를 잘 측정한 것 같습니다. 그래서 엄밀하게 따지지 않게, 이걸 양방향으로 설정했기 때문에 목표 요소에 양방향이 조금 있다고 보이고요. 그래서 사실은 이 구간은 잘 나온 것 같은데 여기 테스트 구간이잖아요. 여기는 양방향으로 학습이 안 되기 때문에 학습이 안 된 걸 테스트했기 때문에 여기는 정 반대로 움직입니다. 그래서 여러분들이 판단하셔야 될 게 여기가 봤을 때는 이 양방향 RL이 성의 조건이지만 사실 이 구간으로 따지면은, 이 데이터가 진짜 엉망진창인 거잖아요. 그래서 본 저자는 이 양방향 RL이 성능이 제일 좋다고 보기고 있지만 이런 식으로 평가를 하면은 위험합니다. 그래서 시계 데이터는 보시는 것처럼 코드가 굉장히 심플해요. 기본 코드 몇 개 가지고 있으시면은 여러분들 대부분 비슷합니다. 근데 이걸 갖다가 앞에서 데이터 전체를 어떻게 하고 데이터를 가동하고 변수를 뭘 끌고 오냐, 왜 끌고 오냐, 어떻게 분할하냐. 그다음에 노이즈 값을 이제 여러 가지 시그널 처리해서 어떻게 뽑아내냐. 등 중에서 이제 성능에 차이가 나는 거지 사실 이 모델만 가지고 성능을 어떻게 버리기가 어려운 부분이라고 보시면 되겠습니다. 시계 데이터에 관심이 많으신 분들은 잘 아실 대로 이런 부분들 유의하셔가지고 네, 여기 코드들 한번 동일한 스타일으로 바꿔보시면 여러 가지 반드시 도움이 될 것 같고요. 그리고 시계 데이터는 여기서 이제 끝나는데, CNN, SNS 캠 이런 것들을 해주시면 좋을 것 같아요. 여러분들이 자동차를 타고 하신 적도 계시는데 대부분의 교통 정체나 교통선, 내비게이션에 TNN이나 현대차에 들어가는 내비게이션이 있고 거기에서 목적지를 입력을 하면은 대략 예상 시간이 나오는 예상 시간 나오는 모델들은 대부분 다 CNN, SNS 캠으로 구현이 되어있다고 보시면 될 것 같아요. 요즘에는 이제 취업을 또 그쪽에서 이제 다 웬만큼 챙겨서 많이 안 뽑기는 한데 저희 학생들 같은 경우도 이제 CNN, SNS 캠 한 친구들이 다 현대차하고 이제 취업이 됐었기 때문에 그런 쪽들도 어떻게 보면 비주얼 쪽이 화려하니까 평소 그쪽에서 쓰디게, 스텝 남는 프리머, 연계하는 것들도 많이 관심 가지는데 어쨌든 많은 회사들이 관심 갖고 꾸준히 뽑는 분야라고 보시면 좋을 것 같아서 CNN, SNS 캠하고 TNN 모델 정보는 한번 여러분들은 알고 계셔가지고 해보셔야 시계가 깔았을 때는 모음 모아서 봤을 때 반드시 나오는 분야이니까 그거 보시면 좋을 것 같고 본 수업에서는 관심 갖기, 여유 갖기긴 한데 학생들의 어텐션 모델, 그리고 요즘 하여튼 트랜스포머 모델들이 나뉘잖아요. 그래서 시계가 여지께도 트랜스포머 모델들이 어텐션이라는 게 들어왔기 때문에 우리 그런 부분을 조금 더 많이 봐주시기를 바랍니다. 부탁드립니다. 제가 오늘 몸이 안 좋아서 오늘 가면 여기까지 하겠습니다.\n"
     ]
    }
   ],
   "source": [
    "result = model.transcribe(m4a_file)\n",
    "print(result[\"text\"])"
   ]
  },
  {
   "cell_type": "code",
   "execution_count": null,
   "metadata": {},
   "outputs": [],
   "source": []
  },
  {
   "cell_type": "code",
   "execution_count": null,
   "metadata": {},
   "outputs": [],
   "source": []
  }
 ],
 "metadata": {
  "kernelspec": {
   "display_name": "base",
   "language": "python",
   "name": "python3"
  },
  "language_info": {
   "codemirror_mode": {
    "name": "ipython",
    "version": 3
   },
   "file_extension": ".py",
   "mimetype": "text/x-python",
   "name": "python",
   "nbconvert_exporter": "python",
   "pygments_lexer": "ipython3",
   "version": "3.11.5"
  }
 },
 "nbformat": 4,
 "nbformat_minor": 2
}
