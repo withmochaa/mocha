{
 "cells": [
  {
   "cell_type": "code",
   "execution_count": 35,
   "metadata": {},
   "outputs": [
    {
     "data": {
      "text/html": [
       "<div>\n",
       "<style scoped>\n",
       "    .dataframe tbody tr th:only-of-type {\n",
       "        vertical-align: middle;\n",
       "    }\n",
       "\n",
       "    .dataframe tbody tr th {\n",
       "        vertical-align: top;\n",
       "    }\n",
       "\n",
       "    .dataframe thead th {\n",
       "        text-align: right;\n",
       "    }\n",
       "</style>\n",
       "<table border=\"1\" class=\"dataframe\">\n",
       "  <thead>\n",
       "    <tr style=\"text-align: right;\">\n",
       "      <th></th>\n",
       "      <th>Unnamed: 0</th>\n",
       "      <th>상담사질문(요청)</th>\n",
       "      <th>상담사답변</th>\n",
       "    </tr>\n",
       "  </thead>\n",
       "  <tbody>\n",
       "    <tr>\n",
       "      <th>0</th>\n",
       "      <td>0</td>\n",
       "      <td>NaN</td>\n",
       "      <td>NaN</td>\n",
       "    </tr>\n",
       "    <tr>\n",
       "      <th>1</th>\n",
       "      <td>1</td>\n",
       "      <td>NaN</td>\n",
       "      <td>네 무엇이 궁금하신지요?</td>\n",
       "    </tr>\n",
       "    <tr>\n",
       "      <th>2</th>\n",
       "      <td>2</td>\n",
       "      <td>NaN</td>\n",
       "      <td>NaN</td>\n",
       "    </tr>\n",
       "    <tr>\n",
       "      <th>3</th>\n",
       "      <td>3</td>\n",
       "      <td>NaN</td>\n",
       "      <td>정부에서 별도 지원금을 지급하고 있습니다.</td>\n",
       "    </tr>\n",
       "    <tr>\n",
       "      <th>4</th>\n",
       "      <td>4</td>\n",
       "      <td>NaN</td>\n",
       "      <td>NaN</td>\n",
       "    </tr>\n",
       "    <tr>\n",
       "      <th>...</th>\n",
       "      <td>...</td>\n",
       "      <td>...</td>\n",
       "      <td>...</td>\n",
       "    </tr>\n",
       "    <tr>\n",
       "      <th>32470</th>\n",
       "      <td>32470</td>\n",
       "      <td>NaN</td>\n",
       "      <td>NaN</td>\n",
       "    </tr>\n",
       "    <tr>\n",
       "      <th>32471</th>\n",
       "      <td>32471</td>\n",
       "      <td>NaN</td>\n",
       "      <td>네, 방역수칙 준수하며 하고 있습니다.</td>\n",
       "    </tr>\n",
       "    <tr>\n",
       "      <th>32472</th>\n",
       "      <td>32472</td>\n",
       "      <td>NaN</td>\n",
       "      <td>NaN</td>\n",
       "    </tr>\n",
       "    <tr>\n",
       "      <th>32473</th>\n",
       "      <td>32473</td>\n",
       "      <td>NaN</td>\n",
       "      <td>네, 아직 전면등교는 아닙니다.</td>\n",
       "    </tr>\n",
       "    <tr>\n",
       "      <th>32474</th>\n",
       "      <td>32474</td>\n",
       "      <td>NaN</td>\n",
       "      <td>NaN</td>\n",
       "    </tr>\n",
       "  </tbody>\n",
       "</table>\n",
       "<p>32475 rows × 3 columns</p>\n",
       "</div>"
      ],
      "text/plain": [
       "       Unnamed: 0 상담사질문(요청)                    상담사답변\n",
       "0               0       NaN                      NaN\n",
       "1               1       NaN            네 무엇이 궁금하신지요?\n",
       "2               2       NaN                      NaN\n",
       "3               3       NaN  정부에서 별도 지원금을 지급하고 있습니다.\n",
       "4               4       NaN                      NaN\n",
       "...           ...       ...                      ...\n",
       "32470       32470       NaN                      NaN\n",
       "32471       32471       NaN    네, 방역수칙 준수하며 하고 있습니다.\n",
       "32472       32472       NaN                      NaN\n",
       "32473       32473       NaN        네, 아직 전면등교는 아닙니다.\n",
       "32474       32474       NaN                      NaN\n",
       "\n",
       "[32475 rows x 3 columns]"
      ]
     },
     "execution_count": 35,
     "metadata": {},
     "output_type": "execute_result"
    }
   ],
   "source": [
    "import numpy as np\n",
    "import pandas as pd \n",
    "data=pd.read_csv('/Users/withmocha/Desktop/DATA/Capston Design(2024)/Data(24.03.12)/csv_file_data(24.03.21)/normal/콜센터(민원)/콜센터 민원_코로나19.csv')\n",
    "\n",
    "data"
   ]
  },
  {
   "cell_type": "code",
   "execution_count": 36,
   "metadata": {},
   "outputs": [],
   "source": [
    "data.drop(columns=['Unnamed: 0'],inplace=True)"
   ]
  },
  {
   "cell_type": "code",
   "execution_count": 37,
   "metadata": {},
   "outputs": [
    {
     "data": {
      "text/plain": [
       "상담사질문(요청)    object\n",
       "상담사답변        object\n",
       "dtype: object"
      ]
     },
     "execution_count": 37,
     "metadata": {},
     "output_type": "execute_result"
    }
   ],
   "source": [
    "data.dtypes"
   ]
  },
  {
   "cell_type": "code",
   "execution_count": 38,
   "metadata": {},
   "outputs": [
    {
     "data": {
      "text/plain": [
       "(32475, 2)"
      ]
     },
     "execution_count": 38,
     "metadata": {},
     "output_type": "execute_result"
    }
   ],
   "source": [
    "data.shape"
   ]
  },
  {
   "cell_type": "code",
   "execution_count": 39,
   "metadata": {},
   "outputs": [
    {
     "data": {
      "text/plain": [
       "0        True\n",
       "1        True\n",
       "2        True\n",
       "3        True\n",
       "4        True\n",
       "         ... \n",
       "32470    True\n",
       "32471    True\n",
       "32472    True\n",
       "32473    True\n",
       "32474    True\n",
       "Name: 상담사질문(요청), Length: 32475, dtype: bool"
      ]
     },
     "execution_count": 39,
     "metadata": {},
     "output_type": "execute_result"
    }
   ],
   "source": [
    "data['상담사질문(요청)'].isnull()"
   ]
  },
  {
   "cell_type": "code",
   "execution_count": 40,
   "metadata": {},
   "outputs": [
    {
     "name": "stderr",
     "output_type": "stream",
     "text": [
      "/var/folders/gb/hslcbzfs0bvcnj3zxtfrxt_r0000gn/T/ipykernel_25983/3933870051.py:1: FutureWarning: Series.__getitem__ treating keys as positions is deprecated. In a future version, integer keys will always be treated as labels (consistent with DataFrame behavior). To access a value by position, use `ser.iloc[pos]`\n",
      "  data1=pd.DataFrame(index=range(0,data.shape[0]-data.isnull().sum()[0]),columns=['상담사질문(요청)'])\n",
      "/var/folders/gb/hslcbzfs0bvcnj3zxtfrxt_r0000gn/T/ipykernel_25983/3933870051.py:2: FutureWarning: Series.__getitem__ treating keys as positions is deprecated. In a future version, integer keys will always be treated as labels (consistent with DataFrame behavior). To access a value by position, use `ser.iloc[pos]`\n",
      "  data2=pd.DataFrame(index=range(0,data.shape[0]-data.isnull().sum()[1]),columns=['상담사답변'])\n"
     ]
    }
   ],
   "source": [
    "data1=pd.DataFrame(index=range(0,data.shape[0]-data.isnull().sum()[0]),columns=['상담사질문(요청)'])\n",
    "data2=pd.DataFrame(index=range(0,data.shape[0]-data.isnull().sum()[1]),columns=['상담사답변'])"
   ]
  },
  {
   "cell_type": "code",
   "execution_count": 41,
   "metadata": {},
   "outputs": [
    {
     "name": "stdout",
     "output_type": "stream",
     "text": [
      "(3221, 1)\n",
      "(12671, 1)\n",
      "(32475, 2)\n"
     ]
    }
   ],
   "source": [
    "print(data1.shape)\n",
    "print(data2.shape)\n",
    "print(data.shape)"
   ]
  },
  {
   "cell_type": "code",
   "execution_count": 42,
   "metadata": {},
   "outputs": [
    {
     "name": "stdout",
     "output_type": "stream",
     "text": [
      "<class 'float'>\n",
      "<class 'str'>\n"
     ]
    }
   ],
   "source": [
    "print(type(data1.iloc[0,0]))\n",
    "print(type(data.iloc[1,1]))"
   ]
  },
  {
   "cell_type": "code",
   "execution_count": 43,
   "metadata": {},
   "outputs": [],
   "source": [
    "index=[]\n",
    "for i in range(data.shape[0]):\n",
    "    if type(data.iloc[i,0])==str:\n",
    "        index.append(i)\n",
    "    else:\n",
    "        continue\n",
    "        \n",
    "data1_index=np.array(index)"
   ]
  },
  {
   "cell_type": "code",
   "execution_count": 44,
   "metadata": {},
   "outputs": [],
   "source": [
    "index=[]\n",
    "for i in range(data.shape[0]):\n",
    "    if type(data.iloc[i,1])==str:\n",
    "        index.append(i)\n",
    "    else:\n",
    "        continue\n",
    "        \n",
    "data2_index=np.array(index)"
   ]
  },
  {
   "cell_type": "code",
   "execution_count": 45,
   "metadata": {},
   "outputs": [
    {
     "name": "stdout",
     "output_type": "stream",
     "text": [
      "[    1     3     5 ... 32469 32471 32473]\n"
     ]
    }
   ],
   "source": [
    "print(data2_index)"
   ]
  },
  {
   "cell_type": "code",
   "execution_count": 46,
   "metadata": {},
   "outputs": [],
   "source": [
    "for i in range(len(data1_index)):\n",
    "    data1.iloc[i,0]=data.iloc[data1_index[i],0]\n",
    "        "
   ]
  },
  {
   "cell_type": "code",
   "execution_count": 47,
   "metadata": {},
   "outputs": [],
   "source": [
    "for i in range(len(data2_index)):\n",
    "    data2.iloc[i,0]=data.iloc[data2_index[i],1]\n",
    "    "
   ]
  },
  {
   "cell_type": "code",
   "execution_count": 48,
   "metadata": {},
   "outputs": [
    {
     "data": {
      "text/html": [
       "<div>\n",
       "<style scoped>\n",
       "    .dataframe tbody tr th:only-of-type {\n",
       "        vertical-align: middle;\n",
       "    }\n",
       "\n",
       "    .dataframe tbody tr th {\n",
       "        vertical-align: top;\n",
       "    }\n",
       "\n",
       "    .dataframe thead th {\n",
       "        text-align: right;\n",
       "    }\n",
       "</style>\n",
       "<table border=\"1\" class=\"dataframe\">\n",
       "  <thead>\n",
       "    <tr style=\"text-align: right;\">\n",
       "      <th></th>\n",
       "      <th>상담사질문(요청)</th>\n",
       "    </tr>\n",
       "  </thead>\n",
       "  <tbody>\n",
       "    <tr>\n",
       "      <th>0</th>\n",
       "      <td>지금 미취업 중이신가요?</td>\n",
       "    </tr>\n",
       "    <tr>\n",
       "      <th>1</th>\n",
       "      <td>근로자수가 몇명이십니까?</td>\n",
       "    </tr>\n",
       "    <tr>\n",
       "      <th>2</th>\n",
       "      <td>어떤 업종에 종사하고 계신가요?</td>\n",
       "    </tr>\n",
       "    <tr>\n",
       "      <th>3</th>\n",
       "      <td>코로나19 지원금 종류가 다양합니다. 어떤지원금으로 안내해드릴까요?</td>\n",
       "    </tr>\n",
       "    <tr>\n",
       "      <th>4</th>\n",
       "      <td>소상공인이실까요 중소기업이실까요?</td>\n",
       "    </tr>\n",
       "    <tr>\n",
       "      <th>...</th>\n",
       "      <td>...</td>\n",
       "    </tr>\n",
       "    <tr>\n",
       "      <th>3216</th>\n",
       "      <td>지원금 수령방법이 궁금하신가요?</td>\n",
       "    </tr>\n",
       "    <tr>\n",
       "      <th>3217</th>\n",
       "      <td>공장을 운영중이신가요?</td>\n",
       "    </tr>\n",
       "    <tr>\n",
       "      <th>3218</th>\n",
       "      <td>연매출액이 얼마나 되나요?</td>\n",
       "    </tr>\n",
       "    <tr>\n",
       "      <th>3219</th>\n",
       "      <td>4억원 이상인가요?</td>\n",
       "    </tr>\n",
       "    <tr>\n",
       "      <th>3220</th>\n",
       "      <td>전년대비 소득이 감소 했나요?</td>\n",
       "    </tr>\n",
       "  </tbody>\n",
       "</table>\n",
       "<p>3221 rows × 1 columns</p>\n",
       "</div>"
      ],
      "text/plain": [
       "                                  상담사질문(요청)\n",
       "0                             지금 미취업 중이신가요?\n",
       "1                             근로자수가 몇명이십니까?\n",
       "2                         어떤 업종에 종사하고 계신가요?\n",
       "3     코로나19 지원금 종류가 다양합니다. 어떤지원금으로 안내해드릴까요?\n",
       "4                        소상공인이실까요 중소기업이실까요?\n",
       "...                                     ...\n",
       "3216                      지원금 수령방법이 궁금하신가요?\n",
       "3217                           공장을 운영중이신가요?\n",
       "3218                         연매출액이 얼마나 되나요?\n",
       "3219                             4억원 이상인가요?\n",
       "3220                       전년대비 소득이 감소 했나요?\n",
       "\n",
       "[3221 rows x 1 columns]"
      ]
     },
     "execution_count": 48,
     "metadata": {},
     "output_type": "execute_result"
    }
   ],
   "source": [
    "data1"
   ]
  },
  {
   "cell_type": "code",
   "execution_count": 49,
   "metadata": {},
   "outputs": [
    {
     "data": {
      "text/html": [
       "<div>\n",
       "<style scoped>\n",
       "    .dataframe tbody tr th:only-of-type {\n",
       "        vertical-align: middle;\n",
       "    }\n",
       "\n",
       "    .dataframe tbody tr th {\n",
       "        vertical-align: top;\n",
       "    }\n",
       "\n",
       "    .dataframe thead th {\n",
       "        text-align: right;\n",
       "    }\n",
       "</style>\n",
       "<table border=\"1\" class=\"dataframe\">\n",
       "  <thead>\n",
       "    <tr style=\"text-align: right;\">\n",
       "      <th></th>\n",
       "      <th>상담사답변</th>\n",
       "    </tr>\n",
       "  </thead>\n",
       "  <tbody>\n",
       "    <tr>\n",
       "      <th>0</th>\n",
       "      <td>네 무엇이 궁금하신지요?</td>\n",
       "    </tr>\n",
       "    <tr>\n",
       "      <th>1</th>\n",
       "      <td>정부에서 별도 지원금을 지급하고 있습니다.</td>\n",
       "    </tr>\n",
       "    <tr>\n",
       "      <th>2</th>\n",
       "      <td>일용직 노동자 등 취약노동자들이 받을 수 있습니다.</td>\n",
       "    </tr>\n",
       "    <tr>\n",
       "      <th>3</th>\n",
       "      <td>주 40시간 미만 단시간 노동자, 일용직 노동자, 특수형태노동종사자, 요양보호사가 ...</td>\n",
       "    </tr>\n",
       "    <tr>\n",
       "      <th>4</th>\n",
       "      <td>1인당 23만원이 지급됩니다.</td>\n",
       "    </tr>\n",
       "    <tr>\n",
       "      <th>...</th>\n",
       "      <td>...</td>\n",
       "    </tr>\n",
       "    <tr>\n",
       "      <th>12666</th>\n",
       "      <td>급식실 가림막 설치하고 교차로 앉아 먹고 있습니다.</td>\n",
       "    </tr>\n",
       "    <tr>\n",
       "      <th>12667</th>\n",
       "      <td>학교 소독은 오전 오후에 걸쳐 하고 있습니다.</td>\n",
       "    </tr>\n",
       "    <tr>\n",
       "      <th>12668</th>\n",
       "      <td>학부모봉사자분께서 하고 계십니다.</td>\n",
       "    </tr>\n",
       "    <tr>\n",
       "      <th>12669</th>\n",
       "      <td>네, 방역수칙 준수하며 하고 있습니다.</td>\n",
       "    </tr>\n",
       "    <tr>\n",
       "      <th>12670</th>\n",
       "      <td>네, 아직 전면등교는 아닙니다.</td>\n",
       "    </tr>\n",
       "  </tbody>\n",
       "</table>\n",
       "<p>12671 rows × 1 columns</p>\n",
       "</div>"
      ],
      "text/plain": [
       "                                                   상담사답변\n",
       "0                                          네 무엇이 궁금하신지요?\n",
       "1                                정부에서 별도 지원금을 지급하고 있습니다.\n",
       "2                           일용직 노동자 등 취약노동자들이 받을 수 있습니다.\n",
       "3      주 40시간 미만 단시간 노동자, 일용직 노동자, 특수형태노동종사자, 요양보호사가 ...\n",
       "4                                       1인당 23만원이 지급됩니다.\n",
       "...                                                  ...\n",
       "12666                       급식실 가림막 설치하고 교차로 앉아 먹고 있습니다.\n",
       "12667                          학교 소독은 오전 오후에 걸쳐 하고 있습니다.\n",
       "12668                                 학부모봉사자분께서 하고 계십니다.\n",
       "12669                              네, 방역수칙 준수하며 하고 있습니다.\n",
       "12670                                  네, 아직 전면등교는 아닙니다.\n",
       "\n",
       "[12671 rows x 1 columns]"
      ]
     },
     "execution_count": 49,
     "metadata": {},
     "output_type": "execute_result"
    }
   ],
   "source": [
    "data2"
   ]
  },
  {
   "cell_type": "code",
   "execution_count": 50,
   "metadata": {},
   "outputs": [],
   "source": [
    "data1.to_csv(\"콜센터민원_코로나19_상담사질문.csv\")"
   ]
  },
  {
   "cell_type": "code",
   "execution_count": 51,
   "metadata": {},
   "outputs": [],
   "source": [
    "data2.to_csv(\"콜센터민원_코로나19_상담사답변.csv\")"
   ]
  },
  {
   "cell_type": "code",
   "execution_count": null,
   "metadata": {},
   "outputs": [],
   "source": []
  },
  {
   "cell_type": "code",
   "execution_count": null,
   "metadata": {},
   "outputs": [],
   "source": []
  },
  {
   "cell_type": "code",
   "execution_count": null,
   "metadata": {},
   "outputs": [],
   "source": []
  }
 ],
 "metadata": {
  "kernelspec": {
   "display_name": "base",
   "language": "python",
   "name": "python3"
  },
  "language_info": {
   "codemirror_mode": {
    "name": "ipython",
    "version": 3
   },
   "file_extension": ".py",
   "mimetype": "text/x-python",
   "name": "python",
   "nbconvert_exporter": "python",
   "pygments_lexer": "ipython3",
   "version": "3.11.5"
  }
 },
 "nbformat": 4,
 "nbformat_minor": 2
}
