{
 "cells": [
  {
   "cell_type": "code",
   "execution_count": 231,
   "metadata": {},
   "outputs": [
    {
     "data": {
      "text/html": [
       "<div>\n",
       "<style scoped>\n",
       "    .dataframe tbody tr th:only-of-type {\n",
       "        vertical-align: middle;\n",
       "    }\n",
       "\n",
       "    .dataframe tbody tr th {\n",
       "        vertical-align: top;\n",
       "    }\n",
       "\n",
       "    .dataframe thead th {\n",
       "        text-align: right;\n",
       "    }\n",
       "</style>\n",
       "<table border=\"1\" class=\"dataframe\">\n",
       "  <thead>\n",
       "    <tr style=\"text-align: right;\">\n",
       "      <th></th>\n",
       "      <th>Unnamed: 0</th>\n",
       "      <th>word</th>\n",
       "      <th>predict</th>\n",
       "    </tr>\n",
       "  </thead>\n",
       "  <tbody>\n",
       "    <tr>\n",
       "      <th>0</th>\n",
       "      <td>203848</td>\n",
       "      <td>걸</td>\n",
       "      <td>fishing</td>\n",
       "    </tr>\n",
       "    <tr>\n",
       "      <th>1</th>\n",
       "      <td>172011</td>\n",
       "      <td>벌</td>\n",
       "      <td>fishing</td>\n",
       "    </tr>\n",
       "    <tr>\n",
       "      <th>2</th>\n",
       "      <td>155125</td>\n",
       "      <td>때</td>\n",
       "      <td>fishing</td>\n",
       "    </tr>\n",
       "    <tr>\n",
       "      <th>3</th>\n",
       "      <td>200050</td>\n",
       "      <td>확인</td>\n",
       "      <td>fishing</td>\n",
       "    </tr>\n",
       "    <tr>\n",
       "      <th>4</th>\n",
       "      <td>112212</td>\n",
       "      <td>대도</td>\n",
       "      <td>fishing</td>\n",
       "    </tr>\n",
       "    <tr>\n",
       "      <th>...</th>\n",
       "      <td>...</td>\n",
       "      <td>...</td>\n",
       "      <td>...</td>\n",
       "    </tr>\n",
       "    <tr>\n",
       "      <th>209236</th>\n",
       "      <td>109034</td>\n",
       "      <td>연구</td>\n",
       "      <td>fishing</td>\n",
       "    </tr>\n",
       "    <tr>\n",
       "      <th>209237</th>\n",
       "      <td>179352</td>\n",
       "      <td>예</td>\n",
       "      <td>fishing</td>\n",
       "    </tr>\n",
       "    <tr>\n",
       "      <th>209238</th>\n",
       "      <td>105159</td>\n",
       "      <td>전시</td>\n",
       "      <td>No fishing</td>\n",
       "    </tr>\n",
       "    <tr>\n",
       "      <th>209239</th>\n",
       "      <td>21263</td>\n",
       "      <td>부합</td>\n",
       "      <td>No fishing</td>\n",
       "    </tr>\n",
       "    <tr>\n",
       "      <th>209240</th>\n",
       "      <td>98878</td>\n",
       "      <td>금액</td>\n",
       "      <td>No fishing</td>\n",
       "    </tr>\n",
       "  </tbody>\n",
       "</table>\n",
       "<p>209241 rows × 3 columns</p>\n",
       "</div>"
      ],
      "text/plain": [
       "        Unnamed: 0 word     predict\n",
       "0           203848    걸     fishing\n",
       "1           172011    벌     fishing\n",
       "2           155125    때     fishing\n",
       "3           200050   확인     fishing\n",
       "4           112212   대도     fishing\n",
       "...            ...  ...         ...\n",
       "209236      109034   연구     fishing\n",
       "209237      179352    예     fishing\n",
       "209238      105159   전시  No fishing\n",
       "209239       21263   부합  No fishing\n",
       "209240       98878   금액  No fishing\n",
       "\n",
       "[209241 rows x 3 columns]"
      ]
     },
     "execution_count": 231,
     "metadata": {},
     "output_type": "execute_result"
    }
   ],
   "source": [
    "import pandas as pd\n",
    "\n",
    "data_row=pd.read_csv(\"/Users/withmocha/Desktop/DATA/Capston Design(2024)/Data(24.03.12)/data(use)/data(0401)/train_data.csv\")\n",
    "\n",
    "data_row"
   ]
  },
  {
   "cell_type": "code",
   "execution_count": null,
   "metadata": {},
   "outputs": [],
   "source": []
  },
  {
   "cell_type": "code",
   "execution_count": 232,
   "metadata": {},
   "outputs": [
    {
     "data": {
      "text/plain": [
       "Unnamed: 0    0\n",
       "word          0\n",
       "predict       0\n",
       "dtype: int64"
      ]
     },
     "execution_count": 232,
     "metadata": {},
     "output_type": "execute_result"
    }
   ],
   "source": [
    "data_row.isnull().sum()"
   ]
  },
  {
   "cell_type": "code",
   "execution_count": 233,
   "metadata": {},
   "outputs": [],
   "source": [
    "data_row.drop(columns=[\"Unnamed: 0\"],inplace=True)"
   ]
  },
  {
   "cell_type": "code",
   "execution_count": 234,
   "metadata": {},
   "outputs": [
    {
     "data": {
      "text/html": [
       "<div>\n",
       "<style scoped>\n",
       "    .dataframe tbody tr th:only-of-type {\n",
       "        vertical-align: middle;\n",
       "    }\n",
       "\n",
       "    .dataframe tbody tr th {\n",
       "        vertical-align: top;\n",
       "    }\n",
       "\n",
       "    .dataframe thead th {\n",
       "        text-align: right;\n",
       "    }\n",
       "</style>\n",
       "<table border=\"1\" class=\"dataframe\">\n",
       "  <thead>\n",
       "    <tr style=\"text-align: right;\">\n",
       "      <th></th>\n",
       "      <th>word</th>\n",
       "      <th>predict</th>\n",
       "    </tr>\n",
       "  </thead>\n",
       "  <tbody>\n",
       "    <tr>\n",
       "      <th>0</th>\n",
       "      <td>걸</td>\n",
       "      <td>fishing</td>\n",
       "    </tr>\n",
       "    <tr>\n",
       "      <th>1</th>\n",
       "      <td>벌</td>\n",
       "      <td>fishing</td>\n",
       "    </tr>\n",
       "    <tr>\n",
       "      <th>2</th>\n",
       "      <td>때</td>\n",
       "      <td>fishing</td>\n",
       "    </tr>\n",
       "    <tr>\n",
       "      <th>3</th>\n",
       "      <td>확인</td>\n",
       "      <td>fishing</td>\n",
       "    </tr>\n",
       "    <tr>\n",
       "      <th>4</th>\n",
       "      <td>대도</td>\n",
       "      <td>fishing</td>\n",
       "    </tr>\n",
       "    <tr>\n",
       "      <th>...</th>\n",
       "      <td>...</td>\n",
       "      <td>...</td>\n",
       "    </tr>\n",
       "    <tr>\n",
       "      <th>209236</th>\n",
       "      <td>연구</td>\n",
       "      <td>fishing</td>\n",
       "    </tr>\n",
       "    <tr>\n",
       "      <th>209237</th>\n",
       "      <td>예</td>\n",
       "      <td>fishing</td>\n",
       "    </tr>\n",
       "    <tr>\n",
       "      <th>209238</th>\n",
       "      <td>전시</td>\n",
       "      <td>No fishing</td>\n",
       "    </tr>\n",
       "    <tr>\n",
       "      <th>209239</th>\n",
       "      <td>부합</td>\n",
       "      <td>No fishing</td>\n",
       "    </tr>\n",
       "    <tr>\n",
       "      <th>209240</th>\n",
       "      <td>금액</td>\n",
       "      <td>No fishing</td>\n",
       "    </tr>\n",
       "  </tbody>\n",
       "</table>\n",
       "<p>209241 rows × 2 columns</p>\n",
       "</div>"
      ],
      "text/plain": [
       "       word     predict\n",
       "0         걸     fishing\n",
       "1         벌     fishing\n",
       "2         때     fishing\n",
       "3        확인     fishing\n",
       "4        대도     fishing\n",
       "...     ...         ...\n",
       "209236   연구     fishing\n",
       "209237    예     fishing\n",
       "209238   전시  No fishing\n",
       "209239   부합  No fishing\n",
       "209240   금액  No fishing\n",
       "\n",
       "[209241 rows x 2 columns]"
      ]
     },
     "execution_count": 234,
     "metadata": {},
     "output_type": "execute_result"
    }
   ],
   "source": [
    "data_row"
   ]
  },
  {
   "cell_type": "code",
   "execution_count": 235,
   "metadata": {},
   "outputs": [],
   "source": [
    "from sklearn.preprocessing import LabelEncoder\n",
    "le = LabelEncoder()"
   ]
  },
  {
   "cell_type": "code",
   "execution_count": 236,
   "metadata": {},
   "outputs": [
    {
     "name": "stdout",
     "output_type": "stream",
     "text": [
      "False\n"
     ]
    }
   ],
   "source": [
    "print(data_row.iloc[1,0]==data_row.iloc[2,0])"
   ]
  },
  {
   "cell_type": "code",
   "execution_count": 237,
   "metadata": {},
   "outputs": [],
   "source": [
    "A=le.fit_transform(data_row['word'])"
   ]
  },
  {
   "cell_type": "code",
   "execution_count": 238,
   "metadata": {},
   "outputs": [
    {
     "data": {
      "text/plain": [
       "dtype('int64')"
      ]
     },
     "execution_count": 238,
     "metadata": {},
     "output_type": "execute_result"
    }
   ],
   "source": [
    "A.dtype"
   ]
  },
  {
   "cell_type": "code",
   "execution_count": 239,
   "metadata": {},
   "outputs": [],
   "source": [
    "for i in range(data_row.shape[0]):\n",
    "    data_row.iloc[i,0]=A[i]"
   ]
  },
  {
   "cell_type": "code",
   "execution_count": 240,
   "metadata": {},
   "outputs": [],
   "source": [
    "data=data_row"
   ]
  },
  {
   "cell_type": "code",
   "execution_count": 241,
   "metadata": {},
   "outputs": [],
   "source": [
    "A=le.fit_transform(data['predict'])"
   ]
  },
  {
   "cell_type": "code",
   "execution_count": 242,
   "metadata": {},
   "outputs": [
    {
     "data": {
      "text/html": [
       "<div>\n",
       "<style scoped>\n",
       "    .dataframe tbody tr th:only-of-type {\n",
       "        vertical-align: middle;\n",
       "    }\n",
       "\n",
       "    .dataframe tbody tr th {\n",
       "        vertical-align: top;\n",
       "    }\n",
       "\n",
       "    .dataframe thead th {\n",
       "        text-align: right;\n",
       "    }\n",
       "</style>\n",
       "<table border=\"1\" class=\"dataframe\">\n",
       "  <thead>\n",
       "    <tr style=\"text-align: right;\">\n",
       "      <th></th>\n",
       "      <th>word</th>\n",
       "      <th>predict</th>\n",
       "    </tr>\n",
       "  </thead>\n",
       "  <tbody>\n",
       "    <tr>\n",
       "      <th>0</th>\n",
       "      <td>255</td>\n",
       "      <td>fishing</td>\n",
       "    </tr>\n",
       "    <tr>\n",
       "      <th>1</th>\n",
       "      <td>2351</td>\n",
       "      <td>fishing</td>\n",
       "    </tr>\n",
       "    <tr>\n",
       "      <th>2</th>\n",
       "      <td>1687</td>\n",
       "      <td>fishing</td>\n",
       "    </tr>\n",
       "    <tr>\n",
       "      <th>3</th>\n",
       "      <td>6845</td>\n",
       "      <td>fishing</td>\n",
       "    </tr>\n",
       "    <tr>\n",
       "      <th>4</th>\n",
       "      <td>1403</td>\n",
       "      <td>fishing</td>\n",
       "    </tr>\n",
       "    <tr>\n",
       "      <th>...</th>\n",
       "      <td>...</td>\n",
       "      <td>...</td>\n",
       "    </tr>\n",
       "    <tr>\n",
       "      <th>209236</th>\n",
       "      <td>3948</td>\n",
       "      <td>fishing</td>\n",
       "    </tr>\n",
       "    <tr>\n",
       "      <th>209237</th>\n",
       "      <td>4053</td>\n",
       "      <td>fishing</td>\n",
       "    </tr>\n",
       "    <tr>\n",
       "      <th>209238</th>\n",
       "      <td>5088</td>\n",
       "      <td>No fishing</td>\n",
       "    </tr>\n",
       "    <tr>\n",
       "      <th>209239</th>\n",
       "      <td>2598</td>\n",
       "      <td>No fishing</td>\n",
       "    </tr>\n",
       "    <tr>\n",
       "      <th>209240</th>\n",
       "      <td>861</td>\n",
       "      <td>No fishing</td>\n",
       "    </tr>\n",
       "  </tbody>\n",
       "</table>\n",
       "<p>209241 rows × 2 columns</p>\n",
       "</div>"
      ],
      "text/plain": [
       "        word     predict\n",
       "0        255     fishing\n",
       "1       2351     fishing\n",
       "2       1687     fishing\n",
       "3       6845     fishing\n",
       "4       1403     fishing\n",
       "...      ...         ...\n",
       "209236  3948     fishing\n",
       "209237  4053     fishing\n",
       "209238  5088  No fishing\n",
       "209239  2598  No fishing\n",
       "209240   861  No fishing\n",
       "\n",
       "[209241 rows x 2 columns]"
      ]
     },
     "execution_count": 242,
     "metadata": {},
     "output_type": "execute_result"
    }
   ],
   "source": [
    "data"
   ]
  },
  {
   "cell_type": "code",
   "execution_count": 243,
   "metadata": {},
   "outputs": [
    {
     "data": {
      "text/plain": [
       "array([1, 1, 1, ..., 0, 0, 0])"
      ]
     },
     "execution_count": 243,
     "metadata": {},
     "output_type": "execute_result"
    }
   ],
   "source": [
    "A"
   ]
  },
  {
   "cell_type": "code",
   "execution_count": 244,
   "metadata": {},
   "outputs": [],
   "source": [
    "for i in range(data.shape[0]):\n",
    "    data.iloc[i,1]=A[i]"
   ]
  },
  {
   "cell_type": "code",
   "execution_count": 245,
   "metadata": {},
   "outputs": [
    {
     "data": {
      "text/html": [
       "<div>\n",
       "<style scoped>\n",
       "    .dataframe tbody tr th:only-of-type {\n",
       "        vertical-align: middle;\n",
       "    }\n",
       "\n",
       "    .dataframe tbody tr th {\n",
       "        vertical-align: top;\n",
       "    }\n",
       "\n",
       "    .dataframe thead th {\n",
       "        text-align: right;\n",
       "    }\n",
       "</style>\n",
       "<table border=\"1\" class=\"dataframe\">\n",
       "  <thead>\n",
       "    <tr style=\"text-align: right;\">\n",
       "      <th></th>\n",
       "      <th>word</th>\n",
       "      <th>predict</th>\n",
       "    </tr>\n",
       "  </thead>\n",
       "  <tbody>\n",
       "    <tr>\n",
       "      <th>0</th>\n",
       "      <td>255</td>\n",
       "      <td>1</td>\n",
       "    </tr>\n",
       "    <tr>\n",
       "      <th>1</th>\n",
       "      <td>2351</td>\n",
       "      <td>1</td>\n",
       "    </tr>\n",
       "    <tr>\n",
       "      <th>2</th>\n",
       "      <td>1687</td>\n",
       "      <td>1</td>\n",
       "    </tr>\n",
       "    <tr>\n",
       "      <th>3</th>\n",
       "      <td>6845</td>\n",
       "      <td>1</td>\n",
       "    </tr>\n",
       "    <tr>\n",
       "      <th>4</th>\n",
       "      <td>1403</td>\n",
       "      <td>1</td>\n",
       "    </tr>\n",
       "    <tr>\n",
       "      <th>...</th>\n",
       "      <td>...</td>\n",
       "      <td>...</td>\n",
       "    </tr>\n",
       "    <tr>\n",
       "      <th>209236</th>\n",
       "      <td>3948</td>\n",
       "      <td>1</td>\n",
       "    </tr>\n",
       "    <tr>\n",
       "      <th>209237</th>\n",
       "      <td>4053</td>\n",
       "      <td>1</td>\n",
       "    </tr>\n",
       "    <tr>\n",
       "      <th>209238</th>\n",
       "      <td>5088</td>\n",
       "      <td>0</td>\n",
       "    </tr>\n",
       "    <tr>\n",
       "      <th>209239</th>\n",
       "      <td>2598</td>\n",
       "      <td>0</td>\n",
       "    </tr>\n",
       "    <tr>\n",
       "      <th>209240</th>\n",
       "      <td>861</td>\n",
       "      <td>0</td>\n",
       "    </tr>\n",
       "  </tbody>\n",
       "</table>\n",
       "<p>209241 rows × 2 columns</p>\n",
       "</div>"
      ],
      "text/plain": [
       "        word predict\n",
       "0        255       1\n",
       "1       2351       1\n",
       "2       1687       1\n",
       "3       6845       1\n",
       "4       1403       1\n",
       "...      ...     ...\n",
       "209236  3948       1\n",
       "209237  4053       1\n",
       "209238  5088       0\n",
       "209239  2598       0\n",
       "209240   861       0\n",
       "\n",
       "[209241 rows x 2 columns]"
      ]
     },
     "execution_count": 245,
     "metadata": {},
     "output_type": "execute_result"
    }
   ],
   "source": [
    "data"
   ]
  },
  {
   "cell_type": "code",
   "execution_count": 246,
   "metadata": {},
   "outputs": [],
   "source": [
    "import matplotlib.pyplot as plt\n",
    "import numpy as np"
   ]
  },
  {
   "cell_type": "code",
   "execution_count": 247,
   "metadata": {},
   "outputs": [
    {
     "data": {
      "text/plain": [
       "[<matplotlib.lines.Line2D at 0x3028caa90>]"
      ]
     },
     "execution_count": 247,
     "metadata": {},
     "output_type": "execute_result"
    },
    {
     "data": {
      "image/png": "[encoded data removed]",
      "text/plain": [
       "<Figure size 640x480 with 1 Axes>"
      ]
     },
     "metadata": {},
     "output_type": "display_data"
    }
   ],
   "source": [
    "plt.plot(data['word'][:500])"
   ]
  },
  {
   "cell_type": "code",
   "execution_count": 248,
   "metadata": {},
   "outputs": [
    {
     "data": {
      "text/html": [
       "<div>\n",
       "<style scoped>\n",
       "    .dataframe tbody tr th:only-of-type {\n",
       "        vertical-align: middle;\n",
       "    }\n",
       "\n",
       "    .dataframe tbody tr th {\n",
       "        vertical-align: top;\n",
       "    }\n",
       "\n",
       "    .dataframe thead th {\n",
       "        text-align: right;\n",
       "    }\n",
       "</style>\n",
       "<table border=\"1\" class=\"dataframe\">\n",
       "  <thead>\n",
       "    <tr style=\"text-align: right;\">\n",
       "      <th></th>\n",
       "      <th>word</th>\n",
       "      <th>predict</th>\n",
       "    </tr>\n",
       "  </thead>\n",
       "  <tbody>\n",
       "    <tr>\n",
       "      <th>0</th>\n",
       "      <td>255</td>\n",
       "      <td>1</td>\n",
       "    </tr>\n",
       "    <tr>\n",
       "      <th>1</th>\n",
       "      <td>2351</td>\n",
       "      <td>1</td>\n",
       "    </tr>\n",
       "    <tr>\n",
       "      <th>2</th>\n",
       "      <td>1687</td>\n",
       "      <td>1</td>\n",
       "    </tr>\n",
       "    <tr>\n",
       "      <th>3</th>\n",
       "      <td>6845</td>\n",
       "      <td>1</td>\n",
       "    </tr>\n",
       "    <tr>\n",
       "      <th>4</th>\n",
       "      <td>1403</td>\n",
       "      <td>1</td>\n",
       "    </tr>\n",
       "    <tr>\n",
       "      <th>...</th>\n",
       "      <td>...</td>\n",
       "      <td>...</td>\n",
       "    </tr>\n",
       "    <tr>\n",
       "      <th>209236</th>\n",
       "      <td>3948</td>\n",
       "      <td>1</td>\n",
       "    </tr>\n",
       "    <tr>\n",
       "      <th>209237</th>\n",
       "      <td>4053</td>\n",
       "      <td>1</td>\n",
       "    </tr>\n",
       "    <tr>\n",
       "      <th>209238</th>\n",
       "      <td>5088</td>\n",
       "      <td>0</td>\n",
       "    </tr>\n",
       "    <tr>\n",
       "      <th>209239</th>\n",
       "      <td>2598</td>\n",
       "      <td>0</td>\n",
       "    </tr>\n",
       "    <tr>\n",
       "      <th>209240</th>\n",
       "      <td>861</td>\n",
       "      <td>0</td>\n",
       "    </tr>\n",
       "  </tbody>\n",
       "</table>\n",
       "<p>209241 rows × 2 columns</p>\n",
       "</div>"
      ],
      "text/plain": [
       "        word predict\n",
       "0        255       1\n",
       "1       2351       1\n",
       "2       1687       1\n",
       "3       6845       1\n",
       "4       1403       1\n",
       "...      ...     ...\n",
       "209236  3948       1\n",
       "209237  4053       1\n",
       "209238  5088       0\n",
       "209239  2598       0\n",
       "209240   861       0\n",
       "\n",
       "[209241 rows x 2 columns]"
      ]
     },
     "execution_count": 248,
     "metadata": {},
     "output_type": "execute_result"
    }
   ],
   "source": [
    "data"
   ]
  },
  {
   "cell_type": "code",
   "execution_count": 249,
   "metadata": {},
   "outputs": [],
   "source": [
    "data2=data"
   ]
  },
  {
   "cell_type": "code",
   "execution_count": 250,
   "metadata": {},
   "outputs": [
    {
     "data": {
      "text/html": [
       "<div>\n",
       "<style scoped>\n",
       "    .dataframe tbody tr th:only-of-type {\n",
       "        vertical-align: middle;\n",
       "    }\n",
       "\n",
       "    .dataframe tbody tr th {\n",
       "        vertical-align: top;\n",
       "    }\n",
       "\n",
       "    .dataframe thead th {\n",
       "        text-align: right;\n",
       "    }\n",
       "</style>\n",
       "<table border=\"1\" class=\"dataframe\">\n",
       "  <thead>\n",
       "    <tr style=\"text-align: right;\">\n",
       "      <th></th>\n",
       "      <th>word</th>\n",
       "      <th>predict</th>\n",
       "    </tr>\n",
       "  </thead>\n",
       "  <tbody>\n",
       "    <tr>\n",
       "      <th>0</th>\n",
       "      <td>255</td>\n",
       "      <td>1</td>\n",
       "    </tr>\n",
       "    <tr>\n",
       "      <th>1</th>\n",
       "      <td>2351</td>\n",
       "      <td>1</td>\n",
       "    </tr>\n",
       "    <tr>\n",
       "      <th>2</th>\n",
       "      <td>1687</td>\n",
       "      <td>1</td>\n",
       "    </tr>\n",
       "    <tr>\n",
       "      <th>3</th>\n",
       "      <td>6845</td>\n",
       "      <td>1</td>\n",
       "    </tr>\n",
       "    <tr>\n",
       "      <th>4</th>\n",
       "      <td>1403</td>\n",
       "      <td>1</td>\n",
       "    </tr>\n",
       "    <tr>\n",
       "      <th>...</th>\n",
       "      <td>...</td>\n",
       "      <td>...</td>\n",
       "    </tr>\n",
       "    <tr>\n",
       "      <th>209236</th>\n",
       "      <td>3948</td>\n",
       "      <td>1</td>\n",
       "    </tr>\n",
       "    <tr>\n",
       "      <th>209237</th>\n",
       "      <td>4053</td>\n",
       "      <td>1</td>\n",
       "    </tr>\n",
       "    <tr>\n",
       "      <th>209238</th>\n",
       "      <td>5088</td>\n",
       "      <td>0</td>\n",
       "    </tr>\n",
       "    <tr>\n",
       "      <th>209239</th>\n",
       "      <td>2598</td>\n",
       "      <td>0</td>\n",
       "    </tr>\n",
       "    <tr>\n",
       "      <th>209240</th>\n",
       "      <td>861</td>\n",
       "      <td>0</td>\n",
       "    </tr>\n",
       "  </tbody>\n",
       "</table>\n",
       "<p>209241 rows × 2 columns</p>\n",
       "</div>"
      ],
      "text/plain": [
       "        word predict\n",
       "0        255       1\n",
       "1       2351       1\n",
       "2       1687       1\n",
       "3       6845       1\n",
       "4       1403       1\n",
       "...      ...     ...\n",
       "209236  3948       1\n",
       "209237  4053       1\n",
       "209238  5088       0\n",
       "209239  2598       0\n",
       "209240   861       0\n",
       "\n",
       "[209241 rows x 2 columns]"
      ]
     },
     "execution_count": 250,
     "metadata": {},
     "output_type": "execute_result"
    }
   ],
   "source": [
    "data2"
   ]
  },
  {
   "cell_type": "code",
   "execution_count": 251,
   "metadata": {},
   "outputs": [],
   "source": [
    "data_2=pd.DataFrame(index=range(0,15000),columns=['word','predict'])"
   ]
  },
  {
   "cell_type": "code",
   "execution_count": 252,
   "metadata": {},
   "outputs": [],
   "source": [
    "#from sklearn.preprocessing import StandardScaler\n",
    "\n",
    "#scaler=StandardScaler()\n",
    "#data_2=pd.DataFrame(scaler.fit_transform(data2),columns=['word','predict'])"
   ]
  },
  {
   "cell_type": "code",
   "execution_count": 253,
   "metadata": {},
   "outputs": [],
   "source": [
    "#data_2"
   ]
  },
  {
   "cell_type": "code",
   "execution_count": 254,
   "metadata": {},
   "outputs": [],
   "source": [
    "for i in range(data_2.shape[0]):\n",
    "    data_2.iloc[i,0]=data.iloc[i,0]\n",
    "    data_2.iloc[i,1]=data.iloc[i,1]"
   ]
  },
  {
   "cell_type": "code",
   "execution_count": 255,
   "metadata": {},
   "outputs": [],
   "source": [
    "#data_2"
   ]
  },
  {
   "cell_type": "code",
   "execution_count": 256,
   "metadata": {},
   "outputs": [],
   "source": [
    "data=data_2"
   ]
  },
  {
   "cell_type": "code",
   "execution_count": 257,
   "metadata": {},
   "outputs": [
    {
     "data": {
      "text/plain": [
       "word       int32\n",
       "predict    int32\n",
       "dtype: object"
      ]
     },
     "execution_count": 257,
     "metadata": {},
     "output_type": "execute_result"
    }
   ],
   "source": [
    "data.astype('int32').dtypes"
   ]
  },
  {
   "cell_type": "code",
   "execution_count": null,
   "metadata": {},
   "outputs": [],
   "source": []
  },
  {
   "cell_type": "code",
   "execution_count": 258,
   "metadata": {},
   "outputs": [],
   "source": [
    "x_train=pd.DataFrame(data=data['word'],columns=['word'])"
   ]
  },
  {
   "cell_type": "code",
   "execution_count": 259,
   "metadata": {},
   "outputs": [
    {
     "data": {
      "text/html": [
       "<div>\n",
       "<style scoped>\n",
       "    .dataframe tbody tr th:only-of-type {\n",
       "        vertical-align: middle;\n",
       "    }\n",
       "\n",
       "    .dataframe tbody tr th {\n",
       "        vertical-align: top;\n",
       "    }\n",
       "\n",
       "    .dataframe thead th {\n",
       "        text-align: right;\n",
       "    }\n",
       "</style>\n",
       "<table border=\"1\" class=\"dataframe\">\n",
       "  <thead>\n",
       "    <tr style=\"text-align: right;\">\n",
       "      <th></th>\n",
       "      <th>word</th>\n",
       "    </tr>\n",
       "  </thead>\n",
       "  <tbody>\n",
       "    <tr>\n",
       "      <th>0</th>\n",
       "      <td>255</td>\n",
       "    </tr>\n",
       "    <tr>\n",
       "      <th>1</th>\n",
       "      <td>2351</td>\n",
       "    </tr>\n",
       "    <tr>\n",
       "      <th>2</th>\n",
       "      <td>1687</td>\n",
       "    </tr>\n",
       "    <tr>\n",
       "      <th>3</th>\n",
       "      <td>6845</td>\n",
       "    </tr>\n",
       "    <tr>\n",
       "      <th>4</th>\n",
       "      <td>1403</td>\n",
       "    </tr>\n",
       "    <tr>\n",
       "      <th>...</th>\n",
       "      <td>...</td>\n",
       "    </tr>\n",
       "    <tr>\n",
       "      <th>14995</th>\n",
       "      <td>2024</td>\n",
       "    </tr>\n",
       "    <tr>\n",
       "      <th>14996</th>\n",
       "      <td>5010</td>\n",
       "    </tr>\n",
       "    <tr>\n",
       "      <th>14997</th>\n",
       "      <td>5647</td>\n",
       "    </tr>\n",
       "    <tr>\n",
       "      <th>14998</th>\n",
       "      <td>3549</td>\n",
       "    </tr>\n",
       "    <tr>\n",
       "      <th>14999</th>\n",
       "      <td>5192</td>\n",
       "    </tr>\n",
       "  </tbody>\n",
       "</table>\n",
       "<p>15000 rows × 1 columns</p>\n",
       "</div>"
      ],
      "text/plain": [
       "       word\n",
       "0       255\n",
       "1      2351\n",
       "2      1687\n",
       "3      6845\n",
       "4      1403\n",
       "...     ...\n",
       "14995  2024\n",
       "14996  5010\n",
       "14997  5647\n",
       "14998  3549\n",
       "14999  5192\n",
       "\n",
       "[15000 rows x 1 columns]"
      ]
     },
     "execution_count": 259,
     "metadata": {},
     "output_type": "execute_result"
    }
   ],
   "source": [
    "x_train"
   ]
  },
  {
   "cell_type": "code",
   "execution_count": 260,
   "metadata": {},
   "outputs": [],
   "source": [
    "\n",
    "y_train=pd.DataFrame(data=data['predict'],columns=['predict'],copy=True)"
   ]
  },
  {
   "cell_type": "code",
   "execution_count": 261,
   "metadata": {},
   "outputs": [
    {
     "data": {
      "text/html": [
       "<div>\n",
       "<style scoped>\n",
       "    .dataframe tbody tr th:only-of-type {\n",
       "        vertical-align: middle;\n",
       "    }\n",
       "\n",
       "    .dataframe tbody tr th {\n",
       "        vertical-align: top;\n",
       "    }\n",
       "\n",
       "    .dataframe thead th {\n",
       "        text-align: right;\n",
       "    }\n",
       "</style>\n",
       "<table border=\"1\" class=\"dataframe\">\n",
       "  <thead>\n",
       "    <tr style=\"text-align: right;\">\n",
       "      <th></th>\n",
       "      <th>predict</th>\n",
       "    </tr>\n",
       "  </thead>\n",
       "  <tbody>\n",
       "    <tr>\n",
       "      <th>0</th>\n",
       "      <td>1</td>\n",
       "    </tr>\n",
       "    <tr>\n",
       "      <th>1</th>\n",
       "      <td>1</td>\n",
       "    </tr>\n",
       "    <tr>\n",
       "      <th>2</th>\n",
       "      <td>1</td>\n",
       "    </tr>\n",
       "    <tr>\n",
       "      <th>3</th>\n",
       "      <td>1</td>\n",
       "    </tr>\n",
       "    <tr>\n",
       "      <th>4</th>\n",
       "      <td>1</td>\n",
       "    </tr>\n",
       "    <tr>\n",
       "      <th>...</th>\n",
       "      <td>...</td>\n",
       "    </tr>\n",
       "    <tr>\n",
       "      <th>14995</th>\n",
       "      <td>0</td>\n",
       "    </tr>\n",
       "    <tr>\n",
       "      <th>14996</th>\n",
       "      <td>1</td>\n",
       "    </tr>\n",
       "    <tr>\n",
       "      <th>14997</th>\n",
       "      <td>1</td>\n",
       "    </tr>\n",
       "    <tr>\n",
       "      <th>14998</th>\n",
       "      <td>1</td>\n",
       "    </tr>\n",
       "    <tr>\n",
       "      <th>14999</th>\n",
       "      <td>0</td>\n",
       "    </tr>\n",
       "  </tbody>\n",
       "</table>\n",
       "<p>15000 rows × 1 columns</p>\n",
       "</div>"
      ],
      "text/plain": [
       "      predict\n",
       "0           1\n",
       "1           1\n",
       "2           1\n",
       "3           1\n",
       "4           1\n",
       "...       ...\n",
       "14995       0\n",
       "14996       1\n",
       "14997       1\n",
       "14998       1\n",
       "14999       0\n",
       "\n",
       "[15000 rows x 1 columns]"
      ]
     },
     "execution_count": 261,
     "metadata": {},
     "output_type": "execute_result"
    }
   ],
   "source": [
    "\n",
    "y_train"
   ]
  },
  {
   "cell_type": "code",
   "execution_count": 262,
   "metadata": {},
   "outputs": [
    {
     "data": {
      "text/plain": [
       "predict    int32\n",
       "dtype: object"
      ]
     },
     "execution_count": 262,
     "metadata": {},
     "output_type": "execute_result"
    }
   ],
   "source": [
    "\n",
    "x_train.astype('int32').dtypes\n",
    "y_train.astype('int32').dtypes\n"
   ]
  },
  {
   "cell_type": "code",
   "execution_count": null,
   "metadata": {},
   "outputs": [],
   "source": []
  },
  {
   "cell_type": "code",
   "execution_count": 263,
   "metadata": {},
   "outputs": [],
   "source": [
    "data=x_train"
   ]
  },
  {
   "cell_type": "code",
   "execution_count": 264,
   "metadata": {},
   "outputs": [],
   "source": [
    "target=y_train"
   ]
  },
  {
   "cell_type": "code",
   "execution_count": 265,
   "metadata": {},
   "outputs": [],
   "source": [
    "import numpy as np\n",
    "from sklearn.model_selection import train_test_split"
   ]
  },
  {
   "cell_type": "code",
   "execution_count": 266,
   "metadata": {},
   "outputs": [],
   "source": [
    "x_train['word']=x_train['word'].astype(float)\n",
    "y_train['predict']=y_train['predict'].astype(float)"
   ]
  },
  {
   "cell_type": "code",
   "execution_count": 267,
   "metadata": {},
   "outputs": [],
   "source": [
    "x_train,x_valid,y_train,y_valid=train_test_split(data,target,test_size=0.2,shuffle=True,stratify=target)"
   ]
  },
  {
   "cell_type": "code",
   "execution_count": 268,
   "metadata": {},
   "outputs": [
    {
     "name": "stdout",
     "output_type": "stream",
     "text": [
      "word    float64\n",
      "dtype: object\n",
      "predict    float64\n",
      "dtype: object\n",
      "word    float64\n",
      "dtype: object\n"
     ]
    }
   ],
   "source": [
    "print(x_train.dtypes)\n",
    "print(y_train.dtypes)\n",
    "print(x_valid.dtypes)"
   ]
  },
  {
   "cell_type": "code",
   "execution_count": null,
   "metadata": {},
   "outputs": [],
   "source": []
  },
  {
   "cell_type": "code",
   "execution_count": 269,
   "metadata": {},
   "outputs": [
    {
     "name": "stderr",
     "output_type": "stream",
     "text": [
      "[I 2024-04-01 13:28:36,715] A new study created in memory with name: no-name-ca258be1-dc45-47f4-ae7b-3f3e5903e95c\n",
      "[I 2024-04-01 13:28:36,799] Trial 0 finished with value: 51.83333333333333 and parameters: {'dense_par': 136, 'eta': 0.1727711546967413, 'gamma': 0, 'max_depth': 40, 'min_child_weight': 20, 'max_delta_step': 0, 'subsample': 0.26319095505313683, 'learning_rate': 0.05976829130977268, 'n_estimators': 168, 'alpha': 67}. Best is trial 0 with value: 51.83333333333333.\n",
      "[I 2024-04-01 13:28:36,851] Trial 1 finished with value: 51.83333333333333 and parameters: {'dense_par': 126, 'eta': 0.5806717019645781, 'gamma': 93, 'max_depth': 85, 'min_child_weight': 13, 'max_delta_step': 44, 'subsample': 0.5413356704580105, 'learning_rate': 0.9016140059647799, 'n_estimators': 174, 'alpha': 83}. Best is trial 0 with value: 51.83333333333333.\n",
      "[I 2024-04-01 13:28:36,871] Trial 2 finished with value: 51.83333333333333 and parameters: {'dense_par': 182, 'eta': 0.5748394041258281, 'gamma': 75, 'max_depth': 98, 'min_child_weight': 95, 'max_delta_step': 64, 'subsample': 0.6638683737507936, 'learning_rate': 0.8818477716440991, 'n_estimators': 34, 'alpha': 77}. Best is trial 0 with value: 51.83333333333333.\n",
      "[I 2024-04-01 13:28:36,903] Trial 3 finished with value: 54.0 and parameters: {'dense_par': 127, 'eta': 0.2035419251555215, 'gamma': 51, 'max_depth': 78, 'min_child_weight': 22, 'max_delta_step': 98, 'subsample': 0.8120190219043221, 'learning_rate': 0.36286280449171027, 'n_estimators': 83, 'alpha': 52}. Best is trial 0 with value: 51.83333333333333.\n",
      "[I 2024-04-01 13:28:36,933] Trial 4 finished with value: 51.83333333333333 and parameters: {'dense_par': 196, 'eta': 0.599549040785298, 'gamma': 98, 'max_depth': 86, 'min_child_weight': 55, 'max_delta_step': 18, 'subsample': 0.017987156584107655, 'learning_rate': 0.7773317558450706, 'n_estimators': 152, 'alpha': 2}. Best is trial 0 with value: 51.83333333333333.\n",
      "[I 2024-04-01 13:28:36,976] Trial 5 finished with value: 51.83333333333333 and parameters: {'dense_par': 137, 'eta': 0.02979982175134066, 'gamma': 8, 'max_depth': 23, 'min_child_weight': 65, 'max_delta_step': 16, 'subsample': 0.02751001620194815, 'learning_rate': 0.16609055083041446, 'n_estimators': 175, 'alpha': 81}. Best is trial 0 with value: 51.83333333333333.\n",
      "[I 2024-04-01 13:28:37,023] Trial 6 finished with value: 60.93333333333333 and parameters: {'dense_par': 137, 'eta': 0.9729772129431462, 'gamma': 29, 'max_depth': 32, 'min_child_weight': 9, 'max_delta_step': 29, 'subsample': 0.9817925865447064, 'learning_rate': 0.2844785963964439, 'n_estimators': 187, 'alpha': 41}. Best is trial 0 with value: 51.83333333333333.\n",
      "[I 2024-04-01 13:28:37,059] Trial 7 finished with value: 53.63333333333333 and parameters: {'dense_par': 177, 'eta': 0.6875430747193165, 'gamma': 34, 'max_depth': 84, 'min_child_weight': 41, 'max_delta_step': 51, 'subsample': 0.4374056954982566, 'learning_rate': 0.8724137002831334, 'n_estimators': 125, 'alpha': 20}. Best is trial 0 with value: 51.83333333333333.\n",
      "[I 2024-04-01 13:28:37,116] Trial 8 finished with value: 51.83333333333333 and parameters: {'dense_par': 161, 'eta': 0.6618410769597437, 'gamma': 22, 'max_depth': 2, 'min_child_weight': 24, 'max_delta_step': 54, 'subsample': 0.4659938202722884, 'learning_rate': 0.754787799257298, 'n_estimators': 160, 'alpha': 92}. Best is trial 0 with value: 51.83333333333333.\n",
      "[I 2024-04-01 13:28:37,150] Trial 9 finished with value: 62.133333333333326 and parameters: {'dense_par': 180, 'eta': 0.806473333987811, 'gamma': 25, 'max_depth': 22, 'min_child_weight': 77, 'max_delta_step': 99, 'subsample': 0.8687416986385443, 'learning_rate': 0.9453797736450238, 'n_estimators': 166, 'alpha': 0}. Best is trial 0 with value: 51.83333333333333.\n",
      "[I 2024-04-01 13:28:37,201] Trial 10 finished with value: 51.83333333333333 and parameters: {'dense_par': 111, 'eta': 0.33944248886132605, 'gamma': 3, 'max_depth': 51, 'min_child_weight': 39, 'max_delta_step': 3, 'subsample': 0.24882458892128367, 'learning_rate': 0.01427238546530514, 'n_estimators': 91, 'alpha': 59}. Best is trial 0 with value: 51.83333333333333.\n",
      "[I 2024-04-01 13:28:37,275] Trial 11 finished with value: 51.83333333333333 and parameters: {'dense_par': 107, 'eta': 0.3878947380388211, 'gamma': 66, 'max_depth': 58, 'min_child_weight': 0, 'max_delta_step': 74, 'subsample': 0.25210032475778266, 'learning_rate': 0.49601065870221955, 'n_estimators': 125, 'alpha': 71}. Best is trial 0 with value: 51.83333333333333.\n",
      "[I 2024-04-01 13:28:37,365] Trial 12 finished with value: 51.83333333333333 and parameters: {'dense_par': 123, 'eta': 0.007967463690248339, 'gamma': 100, 'max_depth': 67, 'min_child_weight': 20, 'max_delta_step': 33, 'subsample': 0.28229188803134764, 'learning_rate': 0.603251763564983, 'n_estimators': 199, 'alpha': 95}. Best is trial 0 with value: 51.83333333333333.\n",
      "[I 2024-04-01 13:28:37,423] Trial 13 finished with value: 51.83333333333333 and parameters: {'dense_par': 151, 'eta': 0.36408877134053513, 'gamma': 78, 'max_depth': 39, 'min_child_weight': 29, 'max_delta_step': 1, 'subsample': 0.5266379438491015, 'learning_rate': 0.006685496586541273, 'n_estimators': 131, 'alpha': 64}. Best is trial 0 with value: 51.83333333333333.\n",
      "[I 2024-04-01 13:28:37,458] Trial 14 finished with value: 54.0 and parameters: {'dense_par': 150, 'eta': 0.219750899631877, 'gamma': 49, 'max_depth': 64, 'min_child_weight': 8, 'max_delta_step': 38, 'subsample': 0.657832290144049, 'learning_rate': 0.593528749050851, 'n_estimators': 54, 'alpha': 38}. Best is trial 0 with value: 51.83333333333333.\n",
      "[I 2024-04-01 13:28:37,483] Trial 15 finished with value: 51.83333333333333 and parameters: {'dense_par': 100, 'eta': 0.4826497716248326, 'gamma': 48, 'max_depth': 40, 'min_child_weight': 39, 'max_delta_step': 81, 'subsample': 0.3373428581513356, 'learning_rate': 0.18834688340005135, 'n_estimators': 1, 'alpha': 85}. Best is trial 0 with value: 51.83333333333333.\n",
      "[I 2024-04-01 13:28:37,530] Trial 16 finished with value: 51.83333333333333 and parameters: {'dense_par': 120, 'eta': 0.18276635320402546, 'gamma': 82, 'max_depth': 100, 'min_child_weight': 12, 'max_delta_step': 43, 'subsample': 0.11543852971412516, 'learning_rate': 0.4511562590136951, 'n_estimators': 139, 'alpha': 70}. Best is trial 0 with value: 51.83333333333333.\n",
      "[I 2024-04-01 13:28:37,583] Trial 17 finished with value: 51.83333333333333 and parameters: {'dense_par': 143, 'eta': 0.8065933345923506, 'gamma': 64, 'max_depth': 10, 'min_child_weight': 56, 'max_delta_step': 15, 'subsample': 0.5835624715933699, 'learning_rate': 0.6558316789720084, 'n_estimators': 108, 'alpha': 98}. Best is trial 0 with value: 51.83333333333333.\n",
      "[I 2024-04-01 13:28:37,651] Trial 18 finished with value: 51.83333333333333 and parameters: {'dense_par': 162, 'eta': 0.4595706440014057, 'gamma': 89, 'max_depth': 71, 'min_child_weight': 0, 'max_delta_step': 24, 'subsample': 0.3929589679772294, 'learning_rate': 0.17961819357569966, 'n_estimators': 193, 'alpha': 42}. Best is trial 0 with value: 51.83333333333333.\n",
      "[I 2024-04-01 13:28:37,687] Trial 19 finished with value: 51.83333333333333 and parameters: {'dense_par': 130, 'eta': 0.11977592055314965, 'gamma': 14, 'max_depth': 48, 'min_child_weight': 32, 'max_delta_step': 62, 'subsample': 0.17708576753807959, 'learning_rate': 0.39286733753008396, 'n_estimators': 71, 'alpha': 57}. Best is trial 0 with value: 51.83333333333333.\n",
      "[I 2024-04-01 13:28:37,738] Trial 20 finished with value: 53.900000000000006 and parameters: {'dense_par': 119, 'eta': 0.2984644923657867, 'gamma': 40, 'max_depth': 53, 'min_child_weight': 15, 'max_delta_step': 86, 'subsample': 0.7306917044114427, 'learning_rate': 0.9711525832312715, 'n_estimators': 111, 'alpha': 88}. Best is trial 0 with value: 51.83333333333333.\n",
      "[I 2024-04-01 13:28:37,765] Trial 21 finished with value: 51.83333333333333 and parameters: {'dense_par': 196, 'eta': 0.5767781079087106, 'gamma': 67, 'max_depth': 97, 'min_child_weight': 89, 'max_delta_step': 62, 'subsample': 0.6171872449527096, 'learning_rate': 0.8039755807959094, 'n_estimators': 15, 'alpha': 77}. Best is trial 0 with value: 51.83333333333333.\n",
      "[I 2024-04-01 13:28:37,803] Trial 22 finished with value: 51.83333333333333 and parameters: {'dense_par': 179, 'eta': 0.5595948578554797, 'gamma': 78, 'max_depth': 92, 'min_child_weight': 99, 'max_delta_step': 67, 'subsample': 0.6986974012348692, 'learning_rate': 0.6937372038904754, 'n_estimators': 42, 'alpha': 77}. Best is trial 0 with value: 51.83333333333333.\n",
      "[I 2024-04-01 13:28:37,837] Trial 23 finished with value: 51.83333333333333 and parameters: {'dense_par': 169, 'eta': 0.7326183091995507, 'gamma': 90, 'max_depth': 76, 'min_child_weight': 78, 'max_delta_step': 46, 'subsample': 0.5614987686576536, 'learning_rate': 0.8650607714481853, 'n_estimators': 32, 'alpha': 68}. Best is trial 0 with value: 51.83333333333333.\n",
      "[I 2024-04-01 13:28:37,901] Trial 24 finished with value: 51.83333333333333 and parameters: {'dense_par': 144, 'eta': 0.458495757683219, 'gamma': 57, 'max_depth': 92, 'min_child_weight': 46, 'max_delta_step': 54, 'subsample': 0.7799172902473545, 'learning_rate': 0.9853148504656064, 'n_estimators': 147, 'alpha': 78}. Best is trial 0 with value: 51.83333333333333.\n",
      "[I 2024-04-01 13:28:37,970] Trial 25 finished with value: 51.83333333333333 and parameters: {'dense_par': 190, 'eta': 0.8741397061820901, 'gamma': 77, 'max_depth': 81, 'min_child_weight': 67, 'max_delta_step': 71, 'subsample': 0.3859656942451416, 'learning_rate': 0.9045085577677989, 'n_estimators': 174, 'alpha': 88}. Best is trial 0 with value: 51.83333333333333.\n",
      "[I 2024-04-01 13:28:38,006] Trial 26 finished with value: 51.83333333333333 and parameters: {'dense_par': 134, 'eta': 0.515179719988711, 'gamma': 92, 'max_depth': 62, 'min_child_weight': 32, 'max_delta_step': 81, 'subsample': 0.5007731096638905, 'learning_rate': 0.5915060338496463, 'n_estimators': 62, 'alpha': 100}. Best is trial 0 with value: 51.83333333333333.\n",
      "[I 2024-04-01 13:28:38,039] Trial 27 finished with value: 54.0 and parameters: {'dense_par': 159, 'eta': 0.6505743106594333, 'gamma': 71, 'max_depth': 88, 'min_child_weight': 93, 'max_delta_step': 6, 'subsample': 0.9402181596560996, 'learning_rate': 0.7146907767513253, 'n_estimators': 26, 'alpha': 49}. Best is trial 0 with value: 51.83333333333333.\n",
      "[I 2024-04-01 13:28:38,102] Trial 28 finished with value: 51.83333333333333 and parameters: {'dense_par': 113, 'eta': 0.2809191783354909, 'gamma': 59, 'max_depth': 43, 'min_child_weight': 77, 'max_delta_step': 90, 'subsample': 0.6373138704970822, 'learning_rate': 0.09289737444089971, 'n_estimators': 181, 'alpha': 62}. Best is trial 0 with value: 51.83333333333333.\n",
      "[I 2024-04-01 13:28:38,147] Trial 29 finished with value: 54.0 and parameters: {'dense_par': 128, 'eta': 0.43481366208454447, 'gamma': 85, 'max_depth': 75, 'min_child_weight': 20, 'max_delta_step': 61, 'subsample': 0.8394496873334818, 'learning_rate': 0.3159068378740289, 'n_estimators': 92, 'alpha': 50}. Best is trial 0 with value: 51.83333333333333.\n",
      "[I 2024-04-01 13:28:38,211] Trial 30 finished with value: 51.83333333333333 and parameters: {'dense_par': 155, 'eta': 0.10394547441793031, 'gamma': 44, 'max_depth': 30, 'min_child_weight': 65, 'max_delta_step': 38, 'subsample': 0.12326929307342469, 'learning_rate': 0.8474233953761783, 'n_estimators': 160, 'alpha': 73}. Best is trial 0 with value: 51.83333333333333.\n",
      "[I 2024-04-01 13:28:38,305] Trial 31 finished with value: 51.83333333333333 and parameters: {'dense_par': 188, 'eta': 0.6041238875689015, 'gamma': 94, 'max_depth': 86, 'min_child_weight': 58, 'max_delta_step': 12, 'subsample': 0.01610415473073812, 'learning_rate': 0.7883038474696511, 'n_estimators': 147, 'alpha': 0}. Best is trial 0 with value: 51.83333333333333.\n",
      "[I 2024-04-01 13:28:38,375] Trial 32 finished with value: 51.83333333333333 and parameters: {'dense_par': 193, 'eta': 0.5459526219407856, 'gamma': 99, 'max_depth': 96, 'min_child_weight': 84, 'max_delta_step': 21, 'subsample': 0.12599808764265763, 'learning_rate': 0.9149576625267745, 'n_estimators': 167, 'alpha': 24}. Best is trial 0 with value: 51.83333333333333.\n",
      "[I 2024-04-01 13:28:38,458] Trial 33 finished with value: 51.83333333333333 and parameters: {'dense_par': 170, 'eta': 0.7190703121415172, 'gamma': 95, 'max_depth': 78, 'min_child_weight': 50, 'max_delta_step': 7, 'subsample': 0.07077725844561654, 'learning_rate': 0.999527747713087, 'n_estimators': 152, 'alpha': 84}. Best is trial 0 with value: 51.83333333333333.\n",
      "[I 2024-04-01 13:28:38,508] Trial 34 finished with value: 51.83333333333333 and parameters: {'dense_par': 198, 'eta': 0.6233585017631802, 'gamma': 85, 'max_depth': 90, 'min_child_weight': 57, 'max_delta_step': 22, 'subsample': 0.18276643356352112, 'learning_rate': 0.8264022609847879, 'n_estimators': 76, 'alpha': 13}. Best is trial 0 with value: 51.83333333333333.\n",
      "[I 2024-04-01 13:28:38,584] Trial 35 finished with value: 58.53333333333334 and parameters: {'dense_par': 185, 'eta': 0.7807929356464112, 'gamma': 16, 'max_depth': 83, 'min_child_weight': 5, 'max_delta_step': 10, 'subsample': 0.4504171008147262, 'learning_rate': 0.7458046280170261, 'n_estimators': 180, 'alpha': 30}. Best is trial 0 with value: 51.83333333333333.\n",
      "[I 2024-04-01 13:28:38,654] Trial 36 finished with value: 60.0 and parameters: {'dense_par': 140, 'eta': 0.5247448394975156, 'gamma': 0, 'max_depth': 23, 'min_child_weight': 26, 'max_delta_step': 29, 'subsample': 0.355590553469296, 'learning_rate': 0.6633877704608181, 'n_estimators': 117, 'alpha': 54}. Best is trial 0 with value: 51.83333333333333.\n",
      "[I 2024-04-01 13:28:38,716] Trial 37 finished with value: 55.63333333333333 and parameters: {'dense_par': 200, 'eta': 0.6786478930894626, 'gamma': 35, 'max_depth': 100, 'min_child_weight': 72, 'max_delta_step': 56, 'subsample': 0.7601985369231448, 'learning_rate': 0.9208216665917767, 'n_estimators': 135, 'alpha': 9}. Best is trial 0 with value: 51.83333333333333.\n",
      "[I 2024-04-01 13:28:38,781] Trial 38 finished with value: 51.83333333333333 and parameters: {'dense_par': 134, 'eta': 0.9890912075525171, 'gamma': 73, 'max_depth': 33, 'min_child_weight': 15, 'max_delta_step': 47, 'subsample': 0.19229691048970865, 'learning_rate': 0.5364913324801486, 'n_estimators': 174, 'alpha': 65}. Best is trial 0 with value: 51.83333333333333.\n",
      "[I 2024-04-01 13:28:38,843] Trial 39 finished with value: 51.83333333333333 and parameters: {'dense_par': 172, 'eta': 0.4100122786065735, 'gamma': 100, 'max_depth': 57, 'min_child_weight': 44, 'max_delta_step': 16, 'subsample': 0.3096282006823476, 'learning_rate': 0.24017025299185385, 'n_estimators': 189, 'alpha': 93}. Best is trial 0 with value: 51.83333333333333.\n",
      "[I 2024-04-01 13:28:38,898] Trial 40 finished with value: 51.83333333333333 and parameters: {'dense_par': 183, 'eta': 0.873765971135051, 'gamma': 55, 'max_depth': 71, 'min_child_weight': 24, 'max_delta_step': 0, 'subsample': 0.5434936234512937, 'learning_rate': 0.7670249012738539, 'n_estimators': 159, 'alpha': 80}. Best is trial 0 with value: 51.83333333333333.\n",
      "[I 2024-04-01 13:28:38,963] Trial 41 finished with value: 51.83333333333333 and parameters: {'dense_par': 137, 'eta': 0.0002934773188373596, 'gamma': 8, 'max_depth': 12, 'min_child_weight': 64, 'max_delta_step': 32, 'subsample': 0.019325912010349163, 'learning_rate': 0.0715836544947779, 'n_estimators': 167, 'alpha': 73}. Best is trial 0 with value: 51.83333333333333.\n",
      "[I 2024-04-01 13:28:39,032] Trial 42 finished with value: 51.83333333333333 and parameters: {'dense_par': 123, 'eta': 0.0655106557502453, 'gamma': 6, 'max_depth': 22, 'min_child_weight': 37, 'max_delta_step': 17, 'subsample': 0.049994104936888106, 'learning_rate': 0.07873143713353559, 'n_estimators': 198, 'alpha': 83}. Best is trial 0 with value: 51.83333333333333.\n",
      "[I 2024-04-01 13:28:39,104] Trial 43 finished with value: 51.83333333333333 and parameters: {'dense_par': 145, 'eta': 0.18948656243017087, 'gamma': 25, 'max_depth': 16, 'min_child_weight': 49, 'max_delta_step': 26, 'subsample': 0.2433929608003964, 'learning_rate': 0.14242751651639668, 'n_estimators': 186, 'alpha': 88}. Best is trial 0 with value: 51.83333333333333.\n",
      "[I 2024-04-01 13:28:39,168] Trial 44 finished with value: 51.83333333333333 and parameters: {'dense_par': 130, 'eta': 0.0691196015001147, 'gamma': 12, 'max_depth': 32, 'min_child_weight': 100, 'max_delta_step': 6, 'subsample': 0.08249418322382174, 'learning_rate': 0.2502024875326633, 'n_estimators': 155, 'alpha': 61}. Best is trial 0 with value: 51.83333333333333.\n",
      "[I 2024-04-01 13:28:39,236] Trial 45 finished with value: 53.96666666666666 and parameters: {'dense_par': 147, 'eta': 0.1466632254181927, 'gamma': 21, 'max_depth': 2, 'min_child_weight': 54, 'max_delta_step': 40, 'subsample': 0.4210781726456118, 'learning_rate': 0.39254516873126916, 'n_estimators': 174, 'alpha': 69}. Best is trial 0 with value: 51.83333333333333.\n",
      "[I 2024-04-01 13:28:39,330] Trial 46 finished with value: 60.93333333333333 and parameters: {'dense_par': 117, 'eta': 0.32892276906641615, 'gamma': 0, 'max_depth': 38, 'min_child_weight': 62, 'max_delta_step': 19, 'subsample': 0.4898924718449195, 'learning_rate': 0.8718165823865167, 'n_estimators': 128, 'alpha': 46}. Best is trial 0 with value: 51.83333333333333.\n",
      "[I 2024-04-01 13:28:39,381] Trial 47 finished with value: 51.83333333333333 and parameters: {'dense_par': 138, 'eta': 0.6017575803326737, 'gamma': 84, 'max_depth': 27, 'min_child_weight': 72, 'max_delta_step': 11, 'subsample': 0.0018739306556055935, 'learning_rate': 0.02667837381465806, 'n_estimators': 96, 'alpha': 94}. Best is trial 0 with value: 51.83333333333333.\n",
      "[I 2024-04-01 13:28:39,459] Trial 48 finished with value: 54.733333333333334 and parameters: {'dense_par': 125, 'eta': 0.24908390802262725, 'gamma': 30, 'max_depth': 96, 'min_child_weight': 37, 'max_delta_step': 32, 'subsample': 0.5979871466640998, 'learning_rate': 0.1589329251969609, 'n_estimators': 200, 'alpha': 74}. Best is trial 0 with value: 51.83333333333333.\n",
      "[I 2024-04-01 13:28:39,568] Trial 49 finished with value: 56.06666666666666 and parameters: {'dense_par': 152, 'eta': 0.386452494351064, 'gamma': 7, 'max_depth': 45, 'min_child_weight': 8, 'max_delta_step': 2, 'subsample': 0.6710228967145452, 'learning_rate': 0.9540085827322635, 'n_estimators': 142, 'alpha': 81}. Best is trial 0 with value: 51.83333333333333.\n",
      "[I 2024-04-01 13:28:39,599] Trial 50 finished with value: 51.83333333333333 and parameters: {'dense_par': 165, 'eta': 0.04287241021222388, 'gamma': 96, 'max_depth': 7, 'min_child_weight': 19, 'max_delta_step': 51, 'subsample': 0.2548598323359956, 'learning_rate': 0.5459437867473531, 'n_estimators': 3, 'alpha': 56}. Best is trial 0 with value: 51.83333333333333.\n",
      "[I 2024-04-01 13:28:39,682] Trial 51 finished with value: 54.53333333333333 and parameters: {'dense_par': 174, 'eta': 0.6665125966593074, 'gamma': 18, 'max_depth': 16, 'min_child_weight': 15, 'max_delta_step': 65, 'subsample': 0.49094268396974405, 'learning_rate': 0.7451193876736006, 'n_estimators': 166, 'alpha': 92}. Best is trial 0 with value: 51.83333333333333.\n",
      "[I 2024-04-01 13:28:39,745] Trial 52 finished with value: 51.83333333333333 and parameters: {'dense_par': 133, 'eta': 0.505660021562037, 'gamma': 9, 'max_depth': 1, 'min_child_weight': 32, 'max_delta_step': 55, 'subsample': 0.14995257304958182, 'learning_rate': 0.8074452817511492, 'n_estimators': 122, 'alpha': 88}. Best is trial 0 with value: 51.83333333333333.\n",
      "[I 2024-04-01 13:28:39,827] Trial 53 finished with value: 51.83333333333333 and parameters: {'dense_par': 177, 'eta': 0.7190460134771517, 'gamma': 88, 'max_depth': 36, 'min_child_weight': 27, 'max_delta_step': 75, 'subsample': 0.22403803355530477, 'learning_rate': 0.4570328906949785, 'n_estimators': 106, 'alpha': 76}. Best is trial 0 with value: 51.83333333333333.\n",
      "[I 2024-04-01 13:28:39,934] Trial 54 finished with value: 58.5 and parameters: {'dense_par': 102, 'eta': 0.5802117642757533, 'gamma': 4, 'max_depth': 54, 'min_child_weight': 6, 'max_delta_step': 44, 'subsample': 0.6861995122106626, 'learning_rate': 0.12064491169017752, 'n_estimators': 184, 'alpha': 66}. Best is trial 0 with value: 51.83333333333333.\n",
      "[I 2024-04-01 13:28:40,004] Trial 55 finished with value: 55.733333333333334 and parameters: {'dense_par': 192, 'eta': 0.638250916170111, 'gamma': 11, 'max_depth': 6, 'min_child_weight': 2, 'max_delta_step': 57, 'subsample': 0.3031728685256796, 'learning_rate': 0.6482422586883905, 'n_estimators': 163, 'alpha': 36}. Best is trial 0 with value: 51.83333333333333.\n",
      "[I 2024-04-01 13:28:40,039] Trial 56 finished with value: 51.83333333333333 and parameters: {'dense_par': 141, 'eta': 0.7504110285239582, 'gamma': 23, 'max_depth': 68, 'min_child_weight': 94, 'max_delta_step': 50, 'subsample': 0.08515068571625553, 'learning_rate': 0.9057772620497695, 'n_estimators': 51, 'alpha': 91}. Best is trial 0 with value: 51.83333333333333.\n",
      "[I 2024-04-01 13:28:40,088] Trial 57 finished with value: 51.83333333333333 and parameters: {'dense_par': 161, 'eta': 0.5555091463187518, 'gamma': 81, 'max_depth': 19, 'min_child_weight': 11, 'max_delta_step': 68, 'subsample': 0.4375825782131469, 'learning_rate': 0.21052457336958902, 'n_estimators': 144, 'alpha': 96}. Best is trial 0 with value: 51.83333333333333.\n",
      "[I 2024-04-01 13:28:40,153] Trial 58 finished with value: 51.83333333333333 and parameters: {'dense_par': 149, 'eta': 0.4644173585144294, 'gamma': 62, 'max_depth': 62, 'min_child_weight': 82, 'max_delta_step': 36, 'subsample': 0.5671032542133373, 'learning_rate': 0.00033877607372689855, 'n_estimators': 175, 'alpha': 86}. Best is trial 0 with value: 51.83333333333333.\n",
      "[I 2024-04-01 13:28:40,230] Trial 59 finished with value: 51.83333333333333 and parameters: {'dense_par': 181, 'eta': 0.8256212919263182, 'gamma': 72, 'max_depth': 47, 'min_child_weight': 19, 'max_delta_step': 60, 'subsample': 0.6229050857534368, 'learning_rate': 0.8378730893189188, 'n_estimators': 152, 'alpha': 100}. Best is trial 0 with value: 51.83333333333333.\n",
      "[I 2024-04-01 13:28:40,316] Trial 60 finished with value: 58.5 and parameters: {'dense_par': 187, 'eta': 0.16004114029856828, 'gamma': 4, 'max_depth': 26, 'min_child_weight': 70, 'max_delta_step': 74, 'subsample': 0.9168141104708112, 'learning_rate': 0.33548736425164744, 'n_estimators': 193, 'alpha': 81}. Best is trial 0 with value: 51.83333333333333.\n",
      "[I 2024-04-01 13:28:40,365] Trial 61 finished with value: 54.1 and parameters: {'dense_par': 111, 'eta': 0.3556955721599762, 'gamma': 4, 'max_depth': 52, 'min_child_weight': 41, 'max_delta_step': 2, 'subsample': 0.35832283609557297, 'learning_rate': 0.04893194578054471, 'n_estimators': 60, 'alpha': 62}. Best is trial 0 with value: 51.83333333333333.\n",
      "[I 2024-04-01 13:28:40,409] Trial 62 finished with value: 54.733333333333334 and parameters: {'dense_par': 108, 'eta': 0.2357782671544073, 'gamma': 16, 'max_depth': 92, 'min_child_weight': 31, 'max_delta_step': 10, 'subsample': 0.5145684712842472, 'learning_rate': 0.13046311267653865, 'n_estimators': 38, 'alpha': 70}. Best is trial 0 with value: 51.83333333333333.\n",
      "[I 2024-04-01 13:28:40,451] Trial 63 finished with value: 51.83333333333333 and parameters: {'dense_par': 156, 'eta': 0.4888751969117285, 'gamma': 2, 'max_depth': 80, 'min_child_weight': 53, 'max_delta_step': 5, 'subsample': 0.15285475951779953, 'learning_rate': 0.035430232611424535, 'n_estimators': 82, 'alpha': 78}. Best is trial 0 with value: 51.83333333333333.\n",
      "[I 2024-04-01 13:28:40,499] Trial 64 finished with value: 56.766666666666666 and parameters: {'dense_par': 118, 'eta': 0.11354779823956074, 'gamma': 12, 'max_depth': 86, 'min_child_weight': 23, 'max_delta_step': 4, 'subsample': 0.7211079922837127, 'learning_rate': 0.9430552465826961, 'n_estimators': 136, 'alpha': 58}. Best is trial 0 with value: 51.83333333333333.\n",
      "[I 2024-04-01 13:28:40,529] Trial 65 finished with value: 51.83333333333333 and parameters: {'dense_par': 114, 'eta': 0.6917357920609024, 'gamma': 52, 'max_depth': 42, 'min_child_weight': 35, 'max_delta_step': 14, 'subsample': 0.04970048996610951, 'learning_rate': 0.8821106694779831, 'n_estimators': 23, 'alpha': 75}. Best is trial 0 with value: 51.83333333333333.\n",
      "[I 2024-04-01 13:28:40,581] Trial 66 finished with value: 51.83333333333333 and parameters: {'dense_par': 127, 'eta': 0.2925036954406487, 'gamma': 42, 'max_depth': 93, 'min_child_weight': 42, 'max_delta_step': 28, 'subsample': 0.28040529580776635, 'learning_rate': 0.7821424559555409, 'n_estimators': 170, 'alpha': 59}. Best is trial 0 with value: 51.83333333333333.\n",
      "[I 2024-04-01 13:28:40,634] Trial 67 finished with value: 51.83333333333333 and parameters: {'dense_par': 131, 'eta': 0.6034184129316585, 'gamma': 90, 'max_depth': 72, 'min_child_weight': 46, 'max_delta_step': 24, 'subsample': 0.38386011733831066, 'learning_rate': 0.10723697542588836, 'n_estimators': 179, 'alpha': 68}. Best is trial 0 with value: 51.83333333333333.\n",
      "[I 2024-04-01 13:28:40,693] Trial 68 finished with value: 56.766666666666666 and parameters: {'dense_par': 195, 'eta': 0.42233332035209614, 'gamma': 34, 'max_depth': 84, 'min_child_weight': 28, 'max_delta_step': 9, 'subsample': 0.4583954191122239, 'learning_rate': 0.7343878341320709, 'n_estimators': 154, 'alpha': 46}. Best is trial 0 with value: 51.83333333333333.\n",
      "[I 2024-04-01 13:28:40,749] Trial 69 finished with value: 51.83333333333333 and parameters: {'dense_par': 166, 'eta': 0.5193990931046594, 'gamma': 97, 'max_depth': 99, 'min_child_weight': 13, 'max_delta_step': 0, 'subsample': 0.20721358827322633, 'learning_rate': 0.6889878896422424, 'n_estimators': 160, 'alpha': 84}. Best is trial 0 with value: 51.83333333333333.\n",
      "[I 2024-04-01 13:28:40,803] Trial 70 finished with value: 51.83333333333333 and parameters: {'dense_par': 123, 'eta': 0.7017044499896545, 'gamma': 20, 'max_depth': 65, 'min_child_weight': 61, 'max_delta_step': 14, 'subsample': 0.10264729759592404, 'learning_rate': 0.051560218015609505, 'n_estimators': 91, 'alpha': 4}. Best is trial 0 with value: 51.83333333333333.\n",
      "[I 2024-04-01 13:28:40,874] Trial 71 finished with value: 51.83333333333333 and parameters: {'dense_par': 106, 'eta': 0.5411587838963213, 'gamma': 75, 'max_depth': 50, 'min_child_weight': 19, 'max_delta_step': 82, 'subsample': 0.3220189579628702, 'learning_rate': 0.45871801557153125, 'n_estimators': 115, 'alpha': 71}. Best is trial 0 with value: 51.83333333333333.\n",
      "[I 2024-04-01 13:28:40,931] Trial 72 finished with value: 51.83333333333333 and parameters: {'dense_par': 103, 'eta': 0.31756868522492876, 'gamma': 67, 'max_depth': 56, 'min_child_weight': 1, 'max_delta_step': 77, 'subsample': 0.15230694893369212, 'learning_rate': 0.18977242038220377, 'n_estimators': 132, 'alpha': 20}. Best is trial 0 with value: 51.83333333333333.\n",
      "[I 2024-04-01 13:28:40,981] Trial 73 finished with value: 51.83333333333333 and parameters: {'dense_par': 110, 'eta': 0.5769966938873285, 'gamma': 81, 'max_depth': 89, 'min_child_weight': 4, 'max_delta_step': 66, 'subsample': 0.27502166234630054, 'learning_rate': 0.6103208604331122, 'n_estimators': 103, 'alpha': 53}. Best is trial 0 with value: 51.83333333333333.\n",
      "[I 2024-04-01 13:28:41,030] Trial 74 finished with value: 51.83333333333333 and parameters: {'dense_par': 115, 'eta': 0.3740534824470321, 'gamma': 93, 'max_depth': 36, 'min_child_weight': 10, 'max_delta_step': 70, 'subsample': 0.6525836449865519, 'learning_rate': 0.816427677169591, 'n_estimators': 123, 'alpha': 64}. Best is trial 0 with value: 51.83333333333333.\n",
      "[I 2024-04-01 13:28:41,081] Trial 75 finished with value: 51.83333333333333 and parameters: {'dense_par': 135, 'eta': 0.20967047686589393, 'gamma': 61, 'max_depth': 60, 'min_child_weight': 50, 'max_delta_step': 96, 'subsample': 0.05368368796901424, 'learning_rate': 0.8878664582684814, 'n_estimators': 146, 'alpha': 72}. Best is trial 0 with value: 51.83333333333333.\n",
      "[I 2024-04-01 13:28:41,142] Trial 76 finished with value: 51.83333333333333 and parameters: {'dense_par': 120, 'eta': 0.271489646754173, 'gamma': 69, 'max_depth': 75, 'min_child_weight': 90, 'max_delta_step': 63, 'subsample': 0.7843072778364948, 'learning_rate': 0.8589100500941466, 'n_estimators': 150, 'alpha': 81}. Best is trial 0 with value: 51.83333333333333.\n",
      "[I 2024-04-01 13:28:41,207] Trial 77 finished with value: 51.83333333333333 and parameters: {'dense_par': 140, 'eta': 0.6373781818695492, 'gamma': 48, 'max_depth': 58, 'min_child_weight': 14, 'max_delta_step': 58, 'subsample': 0.22506109791637255, 'learning_rate': 0.2964935283961292, 'n_estimators': 139, 'alpha': 90}. Best is trial 0 with value: 51.83333333333333.\n",
      "[I 2024-04-01 13:28:41,265] Trial 78 finished with value: 51.83333333333333 and parameters: {'dense_par': 100, 'eta': 0.03468175974029351, 'gamma': 28, 'max_depth': 12, 'min_child_weight': 22, 'max_delta_step': 48, 'subsample': 0.031388618155616894, 'learning_rate': 0.9338493540434859, 'n_estimators': 157, 'alpha': 67}. Best is trial 0 with value: 51.83333333333333.\n",
      "[I 2024-04-01 13:28:41,314] Trial 79 finished with value: 51.83333333333333 and parameters: {'dense_par': 144, 'eta': 0.4388022839304713, 'gamma': 37, 'max_depth': 48, 'min_child_weight': 17, 'max_delta_step': 7, 'subsample': 0.5875641842432026, 'learning_rate': 0.981578205368296, 'n_estimators': 72, 'alpha': 86}. Best is trial 0 with value: 51.83333333333333.\n",
      "[I 2024-04-01 13:28:41,381] Trial 80 finished with value: 56.266666666666666 and parameters: {'dense_par': 107, 'eta': 0.147518871497797, 'gamma': 1, 'max_depth': 41, 'min_child_weight': 7, 'max_delta_step': 19, 'subsample': 0.4136982112364186, 'learning_rate': 0.5028707096313607, 'n_estimators': 192, 'alpha': 78}. Best is trial 0 with value: 51.83333333333333.\n",
      "[I 2024-04-01 13:28:41,452] Trial 81 finished with value: 51.83333333333333 and parameters: {'dense_par': 122, 'eta': 0.060937077297167505, 'gamma': 100, 'max_depth': 51, 'min_child_weight': 35, 'max_delta_step': 41, 'subsample': 0.3501367933607444, 'learning_rate': 0.5898189887808177, 'n_estimators': 170, 'alpha': 96}. Best is trial 0 with value: 51.83333333333333.\n",
      "[I 2024-04-01 13:28:41,530] Trial 82 finished with value: 51.83333333333333 and parameters: {'dense_par': 129, 'eta': 0.016924739842549778, 'gamma': 97, 'max_depth': 69, 'min_child_weight': 24, 'max_delta_step': 51, 'subsample': 0.2635971092636117, 'learning_rate': 0.6917123156883791, 'n_estimators': 182, 'alpha': 95}. Best is trial 0 with value: 51.83333333333333.\n",
      "[I 2024-04-01 13:28:41,620] Trial 83 finished with value: 51.83333333333333 and parameters: {'dense_par': 125, 'eta': 0.09807343596958196, 'gamma': 88, 'max_depth': 77, 'min_child_weight': 26, 'max_delta_step': 32, 'subsample': 0.30317733733871394, 'learning_rate': 0.4064015355835571, 'n_estimators': 187, 'alpha': 98}. Best is trial 0 with value: 51.83333333333333.\n",
      "[I 2024-04-01 13:28:41,691] Trial 84 finished with value: 51.83333333333333 and parameters: {'dense_par': 116, 'eta': 0.004808374120311102, 'gamma': 92, 'max_depth': 94, 'min_child_weight': 58, 'max_delta_step': 54, 'subsample': 0.5440564429463729, 'learning_rate': 0.7685824807451922, 'n_estimators': 164, 'alpha': 83}. Best is trial 0 with value: 51.83333333333333.\n",
      "[I 2024-04-01 13:28:41,758] Trial 85 finished with value: 51.83333333333333 and parameters: {'dense_par': 200, 'eta': 0.07911876291254274, 'gamma': 77, 'max_depth': 64, 'min_child_weight': 16, 'max_delta_step': 21, 'subsample': 0.18737641930505036, 'learning_rate': 0.07832990782992466, 'n_estimators': 179, 'alpha': 88}. Best is trial 0 with value: 51.83333333333333.\n",
      "[I 2024-04-01 13:28:41,832] Trial 86 finished with value: 51.83333333333333 and parameters: {'dense_par': 105, 'eta': 0.6643978178327731, 'gamma': 87, 'max_depth': 81, 'min_child_weight': 30, 'max_delta_step': 36, 'subsample': 0.4764216961475556, 'learning_rate': 0.7276858850223364, 'n_estimators': 195, 'alpha': 90}. Best is trial 0 with value: 51.83333333333333.\n",
      "[I 2024-04-01 13:28:41,895] Trial 87 finished with value: 51.83333333333333 and parameters: {'dense_par': 190, 'eta': 0.6206513261791293, 'gamma': 10, 'max_depth': 45, 'min_child_weight': 47, 'max_delta_step': 3, 'subsample': 0.11687198755316436, 'learning_rate': 0.01991268376910158, 'n_estimators': 176, 'alpha': 75}. Best is trial 0 with value: 51.83333333333333.\n",
      "[I 2024-04-01 13:28:41,961] Trial 88 finished with value: 56.266666666666666 and parameters: {'dense_par': 112, 'eta': 0.1723148211939212, 'gamma': 6, 'max_depth': 56, 'min_child_weight': 11, 'max_delta_step': 44, 'subsample': 0.3785290823946198, 'learning_rate': 0.6407951123459907, 'n_estimators': 170, 'alpha': 64}. Best is trial 0 with value: 51.83333333333333.\n",
      "[I 2024-04-01 13:28:42,005] Trial 89 finished with value: 51.83333333333333 and parameters: {'dense_par': 137, 'eta': 0.39465073141385953, 'gamma': 91, 'max_depth': 88, 'min_child_weight': 53, 'max_delta_step': 8, 'subsample': 0.33146899394743423, 'learning_rate': 0.5478884170504782, 'n_estimators': 12, 'alpha': 72}. Best is trial 0 with value: 51.83333333333333.\n",
      "[I 2024-04-01 13:28:42,066] Trial 90 finished with value: 54.1 and parameters: {'dense_par': 133, 'eta': 0.5782605834789795, 'gamma': 14, 'max_depth': 28, 'min_child_weight': 21, 'max_delta_step': 17, 'subsample': 0.20782705914094596, 'learning_rate': 0.8384543906880175, 'n_estimators': 128, 'alpha': 28}. Best is trial 0 with value: 51.83333333333333.\n",
      "[I 2024-04-01 13:28:42,124] Trial 91 finished with value: 51.83333333333333 and parameters: {'dense_par': 150, 'eta': 0.3344551873802428, 'gamma': 78, 'max_depth': 34, 'min_child_weight': 29, 'max_delta_step': 13, 'subsample': 0.5174506546353598, 'learning_rate': 0.005171054550060145, 'n_estimators': 114, 'alpha': 62}. Best is trial 0 with value: 51.83333333333333.\n",
      "[I 2024-04-01 13:28:42,187] Trial 92 finished with value: 51.83333333333333 and parameters: {'dense_par': 157, 'eta': 0.46263231748181677, 'gamma': 64, 'max_depth': 39, 'min_child_weight': 34, 'max_delta_step': 2, 'subsample': 0.2368945574114759, 'learning_rate': 0.06903263179605101, 'n_estimators': 141, 'alpha': 79}. Best is trial 0 with value: 51.83333333333333.\n",
      "[I 2024-04-01 13:28:42,243] Trial 93 finished with value: 51.83333333333333 and parameters: {'dense_par': 127, 'eta': 0.267880373462384, 'gamma': 83, 'max_depth': 53, 'min_child_weight': 38, 'max_delta_step': 5, 'subsample': 0.5464273468884726, 'learning_rate': 0.15494559405430883, 'n_estimators': 148, 'alpha': 60}. Best is trial 0 with value: 51.83333333333333.\n",
      "[I 2024-04-01 13:28:42,292] Trial 94 finished with value: 51.83333333333333 and parameters: {'dense_par': 147, 'eta': 0.5401811044290846, 'gamma': 95, 'max_depth': 23, 'min_child_weight': 17, 'max_delta_step': 59, 'subsample': 0.6199718916203598, 'learning_rate': 0.9606442668107266, 'n_estimators': 120, 'alpha': 57}. Best is trial 0 with value: 51.83333333333333.\n",
      "[I 2024-04-01 13:28:42,336] Trial 95 finished with value: 51.83333333333333 and parameters: {'dense_par': 154, 'eta': 0.037505273136463846, 'gamma': 79, 'max_depth': 44, 'min_child_weight': 79, 'max_delta_step': 0, 'subsample': 0.17149572003635005, 'learning_rate': 0.25397952572016413, 'n_estimators': 109, 'alpha': 51}. Best is trial 0 with value: 51.83333333333333.\n",
      "[I 2024-04-01 13:28:42,384] Trial 96 finished with value: 51.83333333333333 and parameters: {'dense_par': 142, 'eta': 0.48561740766716965, 'gamma': 86, 'max_depth': 60, 'min_child_weight': 26, 'max_delta_step': 34, 'subsample': 0.29361453380822256, 'learning_rate': 0.11164623386457147, 'n_estimators': 134, 'alpha': 55}. Best is trial 0 with value: 51.83333333333333.\n",
      "[I 2024-04-01 13:28:42,443] Trial 97 finished with value: 51.83333333333333 and parameters: {'dense_par': 173, 'eta': 0.35999683353869644, 'gamma': 98, 'max_depth': 98, 'min_child_weight': 24, 'max_delta_step': 63, 'subsample': 0.7131678483460369, 'learning_rate': 0.022844022832366383, 'n_estimators': 159, 'alpha': 68}. Best is trial 0 with value: 51.83333333333333.\n",
      "[I 2024-04-01 13:28:42,587] Trial 98 finished with value: 51.83333333333333 and parameters: {'dense_par': 163, 'eta': 0.1315833870511948, 'gamma': 74, 'max_depth': 30, 'min_child_weight': 69, 'max_delta_step': 26, 'subsample': 0.40370011171572073, 'learning_rate': 0.05593286541531269, 'n_estimators': 45, 'alpha': 93}. Best is trial 0 with value: 51.83333333333333.\n",
      "[I 2024-04-01 13:28:42,675] Trial 99 finished with value: 51.83333333333333 and parameters: {'dense_par': 176, 'eta': 0.7507941670429547, 'gamma': 71, 'max_depth': 73, 'min_child_weight': 4, 'max_delta_step': 88, 'subsample': 0.8306980421182915, 'learning_rate': 0.6713850856126239, 'n_estimators': 190, 'alpha': 76}. Best is trial 0 with value: 51.83333333333333.\n"
     ]
    },
    {
     "name": "stdout",
     "output_type": "stream",
     "text": [
      "{'dense_par': 136, 'eta': 0.1727711546967413, 'gamma': 0, 'max_depth': 40, 'min_child_weight': 20, 'max_delta_step': 0, 'subsample': 0.26319095505313683, 'learning_rate': 0.05976829130977268, 'n_estimators': 168, 'alpha': 67}\n"
     ]
    },
    {
     "data": {
      "text/plain": [
       "51.83333333333333"
      ]
     },
     "execution_count": 269,
     "metadata": {},
     "output_type": "execute_result"
    }
   ],
   "source": [
    "import optuna\n",
    "from xgboost import XGBClassifier\n",
    "from sklearn.metrics import accuracy_score\n",
    "from xgboost import XGBClassifier\n",
    "\n",
    "\n",
    "def objective(trial):\n",
    "    \n",
    "    dense_par=trial.suggest_int(\"dense_par\",100,200)\n",
    "    eta=trial.suggest_float(\"eta\",0,1)\n",
    "    gamma=trial.suggest_int(\"gamma\",0,100)\n",
    "    max_depth=trial.suggest_int(\"max_depth\",0,100)\n",
    "    min_child_weight=trial.suggest_int(\"min_child_weight\",0,100)\n",
    "    max_delta_step=trial.suggest_int(\"max_delta_step\",0,100)\n",
    "    subsample=trial.suggest_float(\"subsample\",0,1)\n",
    "    learning_rate=trial.suggest_float(\"learning_rate\",0,1)\n",
    "    n_estimators=trial.suggest_int(\"n_estimators\",0,200)\n",
    "    alpha=trial.suggest_int(\"alpha\",0,100)\n",
    "    \n",
    "    model = XGBClassifier(\n",
    "        eta=eta,gamma=gamma,max_depth=max_depth,min_child_weight=min_child_weight,max_delta_step=max_delta_step,subsample=subsample,alpha=alpha,\n",
    "        learning_rate=learning_rate,n_estimators=n_estimators\n",
    "    )\n",
    "    \n",
    "    #model.summary()\n",
    "    \n",
    "    \n",
    "    model.fit(x_train,y_train)\n",
    "    y_pred = pd.DataFrame(model.predict(x_valid),columns=['predict'])\n",
    "    \n",
    "    return accuracy_score(y_valid,y_pred)*100\n",
    "\n",
    "study = optuna.create_study()\n",
    "study.optimize(objective, n_trials=100)\n",
    "\n",
    "best_params=study.best_params\n",
    "print(best_params)\n",
    "study.best_value"
   ]
  },
  {
   "cell_type": "code",
   "execution_count": null,
   "metadata": {},
   "outputs": [],
   "source": []
  },
  {
   "cell_type": "code",
   "execution_count": null,
   "metadata": {},
   "outputs": [],
   "source": []
  },
  {
   "cell_type": "code",
   "execution_count": null,
   "metadata": {},
   "outputs": [],
   "source": []
  },
  {
   "cell_type": "code",
   "execution_count": null,
   "metadata": {},
   "outputs": [],
   "source": []
  },
  {
   "cell_type": "code",
   "execution_count": null,
   "metadata": {},
   "outputs": [],
   "source": []
  },
  {
   "cell_type": "code",
   "execution_count": null,
   "metadata": {},
   "outputs": [],
   "source": []
  },
  {
   "cell_type": "code",
   "execution_count": null,
   "metadata": {},
   "outputs": [],
   "source": []
  },
  {
   "cell_type": "code",
   "execution_count": null,
   "metadata": {},
   "outputs": [],
   "source": []
  },
  {
   "cell_type": "code",
   "execution_count": null,
   "metadata": {},
   "outputs": [],
   "source": []
  },
  {
   "cell_type": "code",
   "execution_count": null,
   "metadata": {},
   "outputs": [],
   "source": []
  },
  {
   "cell_type": "code",
   "execution_count": null,
   "metadata": {},
   "outputs": [],
   "source": []
  },
  {
   "cell_type": "code",
   "execution_count": null,
   "metadata": {},
   "outputs": [],
   "source": []
  },
  {
   "cell_type": "code",
   "execution_count": null,
   "metadata": {},
   "outputs": [],
   "source": []
  },
  {
   "cell_type": "code",
   "execution_count": null,
   "metadata": {},
   "outputs": [],
   "source": []
  }
 ],
 "metadata": {
  "kernelspec": {
   "display_name": "base",
   "language": "python",
   "name": "python3"
  },
  "language_info": {
   "codemirror_mode": {
    "name": "ipython",
    "version": 3
   },
   "file_extension": ".py",
   "mimetype": "text/x-python",
   "name": "python",
   "nbconvert_exporter": "python",
   "pygments_lexer": "ipython3",
   "version": "3.11.5"
  }
 },
 "nbformat": 4,
 "nbformat_minor": 2
}
