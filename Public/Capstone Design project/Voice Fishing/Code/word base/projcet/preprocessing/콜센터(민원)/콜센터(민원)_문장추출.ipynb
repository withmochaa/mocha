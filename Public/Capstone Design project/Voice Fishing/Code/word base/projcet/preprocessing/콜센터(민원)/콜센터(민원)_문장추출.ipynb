{
 "cells": [
  {
   "cell_type": "code",
   "execution_count": 2,
   "metadata": {},
   "outputs": [
    {
     "data": {
      "text/html": [
       "<div>\n",
       "<style scoped>\n",
       "    .dataframe tbody tr th:only-of-type {\n",
       "        vertical-align: middle;\n",
       "    }\n",
       "\n",
       "    .dataframe tbody tr th {\n",
       "        vertical-align: top;\n",
       "    }\n",
       "\n",
       "    .dataframe thead th {\n",
       "        text-align: right;\n",
       "    }\n",
       "</style>\n",
       "<table border=\"1\" class=\"dataframe\">\n",
       "  <thead>\n",
       "    <tr style=\"text-align: right;\">\n",
       "      <th></th>\n",
       "      <th>Unnamed: 0</th>\n",
       "      <th>상담사질문(요청)</th>\n",
       "      <th>상담사답변</th>\n",
       "    </tr>\n",
       "  </thead>\n",
       "  <tbody>\n",
       "    <tr>\n",
       "      <th>0</th>\n",
       "      <td>0</td>\n",
       "      <td>NaN</td>\n",
       "      <td>NaN</td>\n",
       "    </tr>\n",
       "    <tr>\n",
       "      <th>1</th>\n",
       "      <td>1</td>\n",
       "      <td>NaN</td>\n",
       "      <td>이용하시는 은행의 사이트에서 지방세 납부가 가능합니다.</td>\n",
       "    </tr>\n",
       "    <tr>\n",
       "      <th>2</th>\n",
       "      <td>2</td>\n",
       "      <td>NaN</td>\n",
       "      <td>NaN</td>\n",
       "    </tr>\n",
       "    <tr>\n",
       "      <th>3</th>\n",
       "      <td>3</td>\n",
       "      <td>어떤 은행을 이용하고 계십니까?</td>\n",
       "      <td>NaN</td>\n",
       "    </tr>\n",
       "    <tr>\n",
       "      <th>4</th>\n",
       "      <td>4</td>\n",
       "      <td>NaN</td>\n",
       "      <td>NaN</td>\n",
       "    </tr>\n",
       "    <tr>\n",
       "      <th>...</th>\n",
       "      <td>...</td>\n",
       "      <td>...</td>\n",
       "      <td>...</td>\n",
       "    </tr>\n",
       "    <tr>\n",
       "      <th>50331</th>\n",
       "      <td>50331</td>\n",
       "      <td>NaN</td>\n",
       "      <td>입주신청서와 추천서, 급여내역서 외 기타 서류를 갖고 홈페이지에서 신청하면 됩니다.</td>\n",
       "    </tr>\n",
       "    <tr>\n",
       "      <th>50332</th>\n",
       "      <td>50332</td>\n",
       "      <td>NaN</td>\n",
       "      <td>NaN</td>\n",
       "    </tr>\n",
       "    <tr>\n",
       "      <th>50333</th>\n",
       "      <td>50333</td>\n",
       "      <td>NaN</td>\n",
       "      <td>1~3순위가 있습니다.</td>\n",
       "    </tr>\n",
       "    <tr>\n",
       "      <th>50334</th>\n",
       "      <td>50334</td>\n",
       "      <td>NaN</td>\n",
       "      <td>NaN</td>\n",
       "    </tr>\n",
       "    <tr>\n",
       "      <th>50335</th>\n",
       "      <td>50335</td>\n",
       "      <td>NaN</td>\n",
       "      <td>국가유공자 자녀 및 국민기초생활수급권자를 1순위로 두고있습니다.</td>\n",
       "    </tr>\n",
       "  </tbody>\n",
       "</table>\n",
       "<p>50336 rows × 3 columns</p>\n",
       "</div>"
      ],
      "text/plain": [
       "       Unnamed: 0          상담사질문(요청)  \\\n",
       "0               0                NaN   \n",
       "1               1                NaN   \n",
       "2               2                NaN   \n",
       "3               3  어떤 은행을 이용하고 계십니까?   \n",
       "4               4                NaN   \n",
       "...           ...                ...   \n",
       "50331       50331                NaN   \n",
       "50332       50332                NaN   \n",
       "50333       50333                NaN   \n",
       "50334       50334                NaN   \n",
       "50335       50335                NaN   \n",
       "\n",
       "                                                상담사답변  \n",
       "0                                                 NaN  \n",
       "1                      이용하시는 은행의 사이트에서 지방세 납부가 가능합니다.  \n",
       "2                                                 NaN  \n",
       "3                                                 NaN  \n",
       "4                                                 NaN  \n",
       "...                                               ...  \n",
       "50331  입주신청서와 추천서, 급여내역서 외 기타 서류를 갖고 홈페이지에서 신청하면 됩니다.  \n",
       "50332                                             NaN  \n",
       "50333                                    1~3순위가 있습니다.  \n",
       "50334                                             NaN  \n",
       "50335             국가유공자 자녀 및 국민기초생활수급권자를 1순위로 두고있습니다.  \n",
       "\n",
       "[50336 rows x 3 columns]"
      ]
     },
     "execution_count": 2,
     "metadata": {},
     "output_type": "execute_result"
    }
   ],
   "source": [
    "import numpy as np\n",
    "import pandas as pd \n",
    "data=pd.read_csv('/Users/withmocha/Desktop/콜센터 민원_일반 행정 문의.csv')\n",
    "\n",
    "data"
   ]
  },
  {
   "cell_type": "code",
   "execution_count": 3,
   "metadata": {},
   "outputs": [],
   "source": [
    "data.drop(columns=['Unnamed: 0'],inplace=True)"
   ]
  },
  {
   "cell_type": "code",
   "execution_count": 4,
   "metadata": {},
   "outputs": [
    {
     "data": {
      "text/plain": [
       "상담사질문(요청)    object\n",
       "상담사답변        object\n",
       "dtype: object"
      ]
     },
     "execution_count": 4,
     "metadata": {},
     "output_type": "execute_result"
    }
   ],
   "source": [
    "data.dtypes"
   ]
  },
  {
   "cell_type": "code",
   "execution_count": 5,
   "metadata": {},
   "outputs": [
    {
     "data": {
      "text/plain": [
       "(50336, 2)"
      ]
     },
     "execution_count": 5,
     "metadata": {},
     "output_type": "execute_result"
    }
   ],
   "source": [
    "data.shape"
   ]
  },
  {
   "cell_type": "code",
   "execution_count": 6,
   "metadata": {},
   "outputs": [
    {
     "data": {
      "text/plain": [
       "0         True\n",
       "1         True\n",
       "2         True\n",
       "3        False\n",
       "4         True\n",
       "         ...  \n",
       "50331     True\n",
       "50332     True\n",
       "50333     True\n",
       "50334     True\n",
       "50335     True\n",
       "Name: 상담사질문(요청), Length: 50336, dtype: bool"
      ]
     },
     "execution_count": 6,
     "metadata": {},
     "output_type": "execute_result"
    }
   ],
   "source": [
    "data['상담사질문(요청)'].isnull()"
   ]
  },
  {
   "cell_type": "code",
   "execution_count": 7,
   "metadata": {},
   "outputs": [
    {
     "name": "stderr",
     "output_type": "stream",
     "text": [
      "/var/folders/gb/hslcbzfs0bvcnj3zxtfrxt_r0000gn/T/ipykernel_4595/3933870051.py:1: FutureWarning: Series.__getitem__ treating keys as positions is deprecated. In a future version, integer keys will always be treated as labels (consistent with DataFrame behavior). To access a value by position, use `ser.iloc[pos]`\n",
      "  data1=pd.DataFrame(index=range(0,data.shape[0]-data.isnull().sum()[0]),columns=['상담사질문(요청)'])\n",
      "/var/folders/gb/hslcbzfs0bvcnj3zxtfrxt_r0000gn/T/ipykernel_4595/3933870051.py:2: FutureWarning: Series.__getitem__ treating keys as positions is deprecated. In a future version, integer keys will always be treated as labels (consistent with DataFrame behavior). To access a value by position, use `ser.iloc[pos]`\n",
      "  data2=pd.DataFrame(index=range(0,data.shape[0]-data.isnull().sum()[1]),columns=['상담사답변'])\n"
     ]
    }
   ],
   "source": [
    "data1=pd.DataFrame(index=range(0,data.shape[0]-data.isnull().sum()[0]),columns=['상담사질문(요청)'])\n",
    "data2=pd.DataFrame(index=range(0,data.shape[0]-data.isnull().sum()[1]),columns=['상담사답변'])"
   ]
  },
  {
   "cell_type": "code",
   "execution_count": 8,
   "metadata": {},
   "outputs": [
    {
     "name": "stdout",
     "output_type": "stream",
     "text": [
      "(4497, 1)\n",
      "(20070, 1)\n",
      "(50336, 2)\n"
     ]
    }
   ],
   "source": [
    "print(data1.shape)\n",
    "print(data2.shape)\n",
    "print(data.shape)"
   ]
  },
  {
   "cell_type": "code",
   "execution_count": 9,
   "metadata": {},
   "outputs": [
    {
     "name": "stdout",
     "output_type": "stream",
     "text": [
      "<class 'float'>\n",
      "<class 'str'>\n"
     ]
    }
   ],
   "source": [
    "print(type(data1.iloc[0,0]))\n",
    "print(type(data.iloc[1,1]))"
   ]
  },
  {
   "cell_type": "code",
   "execution_count": 10,
   "metadata": {},
   "outputs": [],
   "source": [
    "index=[]\n",
    "for i in range(data.shape[0]):\n",
    "    if type(data.iloc[i,0])==str:\n",
    "        index.append(i)\n",
    "    else:\n",
    "        continue\n",
    "        \n",
    "data1_index=np.array(index)"
   ]
  },
  {
   "cell_type": "code",
   "execution_count": 11,
   "metadata": {},
   "outputs": [],
   "source": [
    "index=[]\n",
    "for i in range(data.shape[0]):\n",
    "    if type(data.iloc[i,1])==str:\n",
    "        index.append(i)\n",
    "    else:\n",
    "        continue\n",
    "        \n",
    "data2_index=np.array(index)"
   ]
  },
  {
   "cell_type": "code",
   "execution_count": 12,
   "metadata": {},
   "outputs": [
    {
     "name": "stdout",
     "output_type": "stream",
     "text": [
      "[    1     5     7 ... 50331 50333 50335]\n"
     ]
    }
   ],
   "source": [
    "print(data2_index)"
   ]
  },
  {
   "cell_type": "code",
   "execution_count": 13,
   "metadata": {},
   "outputs": [],
   "source": [
    "for i in range(len(data1_index)):\n",
    "    data1.iloc[i,0]=data.iloc[data1_index[i],0]\n",
    "        "
   ]
  },
  {
   "cell_type": "code",
   "execution_count": 14,
   "metadata": {},
   "outputs": [],
   "source": [
    "for i in range(len(data2_index)):\n",
    "    data2.iloc[i,0]=data.iloc[data2_index[i],1]\n",
    "    "
   ]
  },
  {
   "cell_type": "code",
   "execution_count": 15,
   "metadata": {},
   "outputs": [
    {
     "data": {
      "text/html": [
       "<div>\n",
       "<style scoped>\n",
       "    .dataframe tbody tr th:only-of-type {\n",
       "        vertical-align: middle;\n",
       "    }\n",
       "\n",
       "    .dataframe tbody tr th {\n",
       "        vertical-align: top;\n",
       "    }\n",
       "\n",
       "    .dataframe thead th {\n",
       "        text-align: right;\n",
       "    }\n",
       "</style>\n",
       "<table border=\"1\" class=\"dataframe\">\n",
       "  <thead>\n",
       "    <tr style=\"text-align: right;\">\n",
       "      <th></th>\n",
       "      <th>상담사질문(요청)</th>\n",
       "    </tr>\n",
       "  </thead>\n",
       "  <tbody>\n",
       "    <tr>\n",
       "      <th>0</th>\n",
       "      <td>어떤 은행을 이용하고 계십니까?</td>\n",
       "    </tr>\n",
       "    <tr>\n",
       "      <th>1</th>\n",
       "      <td>어느지점으로 안내해드릴까요?</td>\n",
       "    </tr>\n",
       "    <tr>\n",
       "      <th>2</th>\n",
       "      <td>지금 전화거신 핸드폰이 본인명의 맞습니까?</td>\n",
       "    </tr>\n",
       "    <tr>\n",
       "      <th>3</th>\n",
       "      <td>생년월일을 말씀해주시겠습니까?</td>\n",
       "    </tr>\n",
       "    <tr>\n",
       "      <th>4</th>\n",
       "      <td>살고계신 주소는 어디입니까?</td>\n",
       "    </tr>\n",
       "    <tr>\n",
       "      <th>...</th>\n",
       "      <td>...</td>\n",
       "    </tr>\n",
       "    <tr>\n",
       "      <th>4492</th>\n",
       "      <td>서울시에서 진행하는 건가요?</td>\n",
       "    </tr>\n",
       "    <tr>\n",
       "      <th>4493</th>\n",
       "      <td>어떠점이 궁금하십니까?</td>\n",
       "    </tr>\n",
       "    <tr>\n",
       "      <th>4494</th>\n",
       "      <td>공연, 체험, 전시, 기타 등이 있는데 어느걸로 안내해드릴까요?</td>\n",
       "    </tr>\n",
       "    <tr>\n",
       "      <th>4495</th>\n",
       "      <td>네. 혼인신고의 어떤 내용을 알고싶으신가요?</td>\n",
       "    </tr>\n",
       "    <tr>\n",
       "      <th>4496</th>\n",
       "      <td>서울에 위치한거 말씀하시는 건가요?</td>\n",
       "    </tr>\n",
       "  </tbody>\n",
       "</table>\n",
       "<p>4497 rows × 1 columns</p>\n",
       "</div>"
      ],
      "text/plain": [
       "                                상담사질문(요청)\n",
       "0                       어떤 은행을 이용하고 계십니까?\n",
       "1                         어느지점으로 안내해드릴까요?\n",
       "2                 지금 전화거신 핸드폰이 본인명의 맞습니까?\n",
       "3                        생년월일을 말씀해주시겠습니까?\n",
       "4                         살고계신 주소는 어디입니까?\n",
       "...                                   ...\n",
       "4492                      서울시에서 진행하는 건가요?\n",
       "4493                         어떠점이 궁금하십니까?\n",
       "4494  공연, 체험, 전시, 기타 등이 있는데 어느걸로 안내해드릴까요?\n",
       "4495             네. 혼인신고의 어떤 내용을 알고싶으신가요?\n",
       "4496                  서울에 위치한거 말씀하시는 건가요?\n",
       "\n",
       "[4497 rows x 1 columns]"
      ]
     },
     "execution_count": 15,
     "metadata": {},
     "output_type": "execute_result"
    }
   ],
   "source": [
    "data1"
   ]
  },
  {
   "cell_type": "code",
   "execution_count": 16,
   "metadata": {},
   "outputs": [
    {
     "data": {
      "text/html": [
       "<div>\n",
       "<style scoped>\n",
       "    .dataframe tbody tr th:only-of-type {\n",
       "        vertical-align: middle;\n",
       "    }\n",
       "\n",
       "    .dataframe tbody tr th {\n",
       "        vertical-align: top;\n",
       "    }\n",
       "\n",
       "    .dataframe thead th {\n",
       "        text-align: right;\n",
       "    }\n",
       "</style>\n",
       "<table border=\"1\" class=\"dataframe\">\n",
       "  <thead>\n",
       "    <tr style=\"text-align: right;\">\n",
       "      <th></th>\n",
       "      <th>상담사답변</th>\n",
       "    </tr>\n",
       "  </thead>\n",
       "  <tbody>\n",
       "    <tr>\n",
       "      <th>0</th>\n",
       "      <td>이용하시는 은행의 사이트에서 지방세 납부가 가능합니다.</td>\n",
       "    </tr>\n",
       "    <tr>\n",
       "      <th>1</th>\n",
       "      <td>그럼 스마트폰에서 기업은행 어플을 설치하시면 납부가 가능합니다.</td>\n",
       "    </tr>\n",
       "    <tr>\n",
       "      <th>2</th>\n",
       "      <td>방문납부도 가능합니다.</td>\n",
       "    </tr>\n",
       "    <tr>\n",
       "      <th>3</th>\n",
       "      <td>도보로 10분위치에 서울역지점이 있습니다.</td>\n",
       "    </tr>\n",
       "    <tr>\n",
       "      <th>4</th>\n",
       "      <td>도보로 가시는게 빠를 것 같습니다.</td>\n",
       "    </tr>\n",
       "    <tr>\n",
       "      <th>...</th>\n",
       "      <td>...</td>\n",
       "    </tr>\n",
       "    <tr>\n",
       "      <th>20065</th>\n",
       "      <td>62400원 입니다.</td>\n",
       "    </tr>\n",
       "    <tr>\n",
       "      <th>20066</th>\n",
       "      <td>1423200원 입니다.</td>\n",
       "    </tr>\n",
       "    <tr>\n",
       "      <th>20067</th>\n",
       "      <td>입주신청서와 추천서, 급여내역서 외 기타 서류를 갖고 홈페이지에서 신청하면 됩니다.</td>\n",
       "    </tr>\n",
       "    <tr>\n",
       "      <th>20068</th>\n",
       "      <td>1~3순위가 있습니다.</td>\n",
       "    </tr>\n",
       "    <tr>\n",
       "      <th>20069</th>\n",
       "      <td>국가유공자 자녀 및 국민기초생활수급권자를 1순위로 두고있습니다.</td>\n",
       "    </tr>\n",
       "  </tbody>\n",
       "</table>\n",
       "<p>20070 rows × 1 columns</p>\n",
       "</div>"
      ],
      "text/plain": [
       "                                                상담사답변\n",
       "0                      이용하시는 은행의 사이트에서 지방세 납부가 가능합니다.\n",
       "1                 그럼 스마트폰에서 기업은행 어플을 설치하시면 납부가 가능합니다.\n",
       "2                                        방문납부도 가능합니다.\n",
       "3                             도보로 10분위치에 서울역지점이 있습니다.\n",
       "4                                 도보로 가시는게 빠를 것 같습니다.\n",
       "...                                               ...\n",
       "20065                                     62400원 입니다.\n",
       "20066                                   1423200원 입니다.\n",
       "20067  입주신청서와 추천서, 급여내역서 외 기타 서류를 갖고 홈페이지에서 신청하면 됩니다.\n",
       "20068                                    1~3순위가 있습니다.\n",
       "20069             국가유공자 자녀 및 국민기초생활수급권자를 1순위로 두고있습니다.\n",
       "\n",
       "[20070 rows x 1 columns]"
      ]
     },
     "execution_count": 16,
     "metadata": {},
     "output_type": "execute_result"
    }
   ],
   "source": [
    "data2"
   ]
  },
  {
   "cell_type": "code",
   "execution_count": 18,
   "metadata": {},
   "outputs": [],
   "source": [
    "data1.to_csv(\"콜센터민원_일반 행정 문의_상담사질문.csv\")"
   ]
  },
  {
   "cell_type": "code",
   "execution_count": 19,
   "metadata": {},
   "outputs": [],
   "source": [
    "data2.to_csv(\"콜센터민원_일반 행정 문의_상담사답변.csv\")"
   ]
  },
  {
   "cell_type": "code",
   "execution_count": null,
   "metadata": {},
   "outputs": [],
   "source": []
  },
  {
   "cell_type": "code",
   "execution_count": null,
   "metadata": {},
   "outputs": [],
   "source": []
  },
  {
   "cell_type": "code",
   "execution_count": null,
   "metadata": {},
   "outputs": [],
   "source": []
  }
 ],
 "metadata": {
  "kernelspec": {
   "display_name": "base",
   "language": "python",
   "name": "python3"
  },
  "language_info": {
   "codemirror_mode": {
    "name": "ipython",
    "version": 3
   },
   "file_extension": ".py",
   "mimetype": "text/x-python",
   "name": "python",
   "nbconvert_exporter": "python",
   "pygments_lexer": "ipython3",
   "version": "3.11.5"
  }
 },
 "nbformat": 4,
 "nbformat_minor": 2
}
