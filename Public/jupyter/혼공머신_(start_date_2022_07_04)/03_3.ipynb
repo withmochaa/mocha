{
 "cells": [
  {
   "cell_type": "code",
   "execution_count": 28,
   "metadata": {},
   "outputs": [
    {
     "name": "stdout",
     "output_type": "stream",
     "text": [
      "[[ 8.4   2.11  1.41]\n",
      " [13.7   3.53  2.  ]\n",
      " [15.    3.82  2.43]\n",
      " [16.2   4.59  2.63]\n",
      " [17.4   4.59  2.94]\n",
      " [18.    5.22  3.32]\n",
      " [18.7   5.2   3.12]\n",
      " [19.    5.64  3.05]\n",
      " [19.6   5.14  3.04]\n",
      " [20.    5.08  2.77]\n",
      " [21.    5.69  3.56]\n",
      " [21.    5.92  3.31]\n",
      " [21.    5.69  3.67]\n",
      " [21.3   6.38  3.53]\n",
      " [22.    6.11  3.41]\n",
      " [22.    5.64  3.52]\n",
      " [22.    6.11  3.52]\n",
      " [22.    5.88  3.52]\n",
      " [22.    5.52  4.  ]\n",
      " [22.5   5.86  3.62]\n",
      " [22.5   6.79  3.62]\n",
      " [22.7   5.95  3.63]\n",
      " [23.    5.22  3.63]\n",
      " [23.5   6.28  3.72]\n",
      " [24.    7.29  3.72]\n",
      " [24.    6.38  3.82]\n",
      " [24.6   6.73  4.17]\n",
      " [25.    6.44  3.68]\n",
      " [25.6   6.56  4.24]\n",
      " [26.5   7.17  4.14]\n",
      " [27.3   8.32  5.14]\n",
      " [27.5   7.17  4.34]\n",
      " [27.5   7.05  4.34]\n",
      " [27.5   7.28  4.57]\n",
      " [28.    7.82  4.2 ]\n",
      " [28.7   7.59  4.64]\n",
      " [30.    7.62  4.77]\n",
      " [32.8  10.03  6.02]\n",
      " [34.5  10.26  6.39]\n",
      " [35.   11.49  7.8 ]\n",
      " [36.5  10.88  6.86]\n",
      " [36.   10.61  6.74]\n",
      " [37.   10.84  6.26]\n",
      " [37.   10.57  6.37]\n",
      " [39.   11.14  7.49]\n",
      " [39.   11.14  6.  ]\n",
      " [39.   12.43  7.35]\n",
      " [40.   11.93  7.11]\n",
      " [40.   11.73  7.22]\n",
      " [40.   12.38  7.46]\n",
      " [40.   11.14  6.63]\n",
      " [42.   12.8   6.87]\n",
      " [43.   11.93  7.28]\n",
      " [43.   12.51  7.42]\n",
      " [43.5  12.6   8.14]\n",
      " [44.   12.49  7.6 ]]\n"
     ]
    }
   ],
   "source": [
    "import pandas as pd # ** pandas class를 import함 \n",
    "df=pd.read_csv('https://bit.ly/perch_csv_data') # ** read_csv로 csv file을 읽고 데이터프레임을 만듦\n",
    "perch_full=df.to_numpy() # ** 데이터프레임을 to_numpy()로 numpy array로 바꿔줌\n",
    "print(perch_full)"
   ]
  },
  {
   "cell_type": "code",
   "execution_count": 29,
   "metadata": {},
   "outputs": [],
   "source": [
    "import numpy as np\n",
    "\n",
    "perch_weight = np.array([5.9, 32.0, 40.0, 51.5, 70.0, 100.0, 78.0, 80.0, 85.0, 85.0, 110.0,\n",
    "       115.0, 125.0, 130.0, 120.0, 120.0, 130.0, 135.0, 110.0, 130.0,\n",
    "       150.0, 145.0, 150.0, 170.0, 225.0, 145.0, 188.0, 180.0, 197.0,\n",
    "       218.0, 300.0, 260.0, 265.0, 250.0, 250.0, 300.0, 320.0, 514.0,\n",
    "       556.0, 840.0, 685.0, 700.0, 700.0, 690.0, 900.0, 650.0, 820.0,\n",
    "       850.0, 900.0, 1015.0, 820.0, 1100.0, 1000.0, 1100.0, 1000.0,\n",
    "       1000.0])"
   ]
  },
  {
   "cell_type": "code",
   "execution_count": 30,
   "metadata": {},
   "outputs": [],
   "source": [
    "from sklearn.model_selection import train_test_split \n",
    "\n",
    "train_input,test_input,train_target,test_target=train_test_split(perch_full,perch_weight,random_state=42)"
   ]
  },
  {
   "cell_type": "code",
   "execution_count": 31,
   "metadata": {},
   "outputs": [],
   "source": [
    "from sklearn.preprocessing import PolynomialFeatures # ** 사이킷런의 전처리를 위한 class  -> 변환기라고 부름"
   ]
  },
  {
   "cell_type": "code",
   "execution_count": 32,
   "metadata": {},
   "outputs": [
    {
     "name": "stdout",
     "output_type": "stream",
     "text": [
      "[[1. 2. 3. 4. 6. 9.]]\n"
     ]
    }
   ],
   "source": [
    "poly=PolynomialFeatures() # ** 객체 생성 위 class의 객체를 생성한 후는 fit->transform 두 과정을 해야함\n",
    "poly.fit([[2,3]])  # ** 변환기에서 fit은 target 데이터가 필요 없다\n",
    "print(poly.transform([[2,3]]))  # ** fit으로 훈련을 해야 transform 가능"
   ]
  },
  {
   "cell_type": "code",
   "execution_count": 33,
   "metadata": {},
   "outputs": [
    {
     "name": "stdout",
     "output_type": "stream",
     "text": [
      "[[2. 3. 4. 6. 9.]]\n"
     ]
    }
   ],
   "source": [
    "poly=PolynomialFeatures(include_bias=False) #** include_bias=False 이건 절편을 위한 항을 제거하기 위함   / 사이킷런 모델은 자동으로 특성에 추가된 절편 항을 무시함으로 include_bias=False를 꼭 지정하지 않아도 되긴함\n",
    "poly.fit([[2,3]])\n",
    "print(poly.transform([[2,3]]))"
   ]
  },
  {
   "cell_type": "code",
   "execution_count": 34,
   "metadata": {},
   "outputs": [
    {
     "name": "stdout",
     "output_type": "stream",
     "text": [
      "(42, 9)\n",
      "[[  19.6       5.14      3.04    384.16    100.744    59.584    26.4196\n",
      "    15.6256    9.2416]\n",
      " [  22.        5.88      3.52    484.      129.36     77.44     34.5744\n",
      "    20.6976   12.3904]\n",
      " [  18.7       5.2       3.12    349.69     97.24     58.344    27.04\n",
      "    16.224     9.7344]\n",
      " [  17.4       4.59      2.94    302.76     79.866    51.156    21.0681\n",
      "    13.4946    8.6436]\n",
      " [  36.       10.61      6.74   1296.      381.96    242.64    112.5721\n",
      "    71.5114   45.4276]]\n"
     ]
    }
   ],
   "source": [
    "poly=PolynomialFeatures(include_bias=False)  # ** 객체를 만들어 준다\n",
    "poly.fit(train_input)  # ** 위 class에서 fit은 특성 조합을 찾는 목적 -> 그래서 아래에 test_input에서는 다시 특성 조합을 찾을 필요는 없음 \n",
    "train_poly=poly.transform(train_input)\n",
    "print(train_poly.shape)\n",
    "\n",
    "print(train_poly[0:5])\n"
   ]
  },
  {
   "cell_type": "code",
   "execution_count": 35,
   "metadata": {},
   "outputs": [
    {
     "data": {
      "text/plain": [
       "array(['x0', 'x1', 'x2', 'x0^2', 'x0 x1', 'x0 x2', 'x1^2', 'x1 x2',\n",
       "       'x2^2'], dtype=object)"
      ]
     },
     "execution_count": 35,
     "metadata": {},
     "output_type": "execute_result"
    }
   ],
   "source": [
    "poly.get_feature_names_out() # ** 각 특성이 어떠한 조합으로 만들어졌는지 보여준다"
   ]
  },
  {
   "cell_type": "code",
   "execution_count": 36,
   "metadata": {},
   "outputs": [
    {
     "name": "stdout",
     "output_type": "stream",
     "text": [
      "[[  8.4      2.11     1.41    70.56    17.724   11.844    4.4521   2.9751\n",
      "    1.9881]\n",
      " [ 18.       5.22     3.32   324.      93.96    59.76    27.2484  17.3304\n",
      "   11.0224]\n",
      " [ 27.5      7.28     4.57   756.25   200.2    125.675   52.9984  33.2696\n",
      "   20.8849]\n",
      " [ 21.3      6.38     3.53   453.69   135.894   75.189   40.7044  22.5214\n",
      "   12.4609]\n",
      " [ 22.5      5.86     3.62   506.25   131.85    81.45    34.3396  21.2132\n",
      "   13.1044]]\n"
     ]
    }
   ],
   "source": [
    "test_poly=poly.transform(test_input) # ** transform test set\n",
    "print(test_poly[0:5])"
   ]
  },
  {
   "cell_type": "code",
   "execution_count": 37,
   "metadata": {},
   "outputs": [
    {
     "name": "stdout",
     "output_type": "stream",
     "text": [
      "0.9903183436982125\n"
     ]
    }
   ],
   "source": [
    "from sklearn.linear_model import LinearRegression # ** 선형 회귀를 위한 import\n",
    "lr=LinearRegression()\n",
    "lr.fit(train_poly,train_target)\n",
    "print(lr.score(train_poly,train_target)) # ** 모델 평가"
   ]
  },
  {
   "cell_type": "code",
   "execution_count": 38,
   "metadata": {},
   "outputs": [
    {
     "name": "stdout",
     "output_type": "stream",
     "text": [
      "0.9714559911594155\n"
     ]
    }
   ],
   "source": [
    "print(lr.score(test_poly,test_target))\n",
    "# ** 결과를 보면 이전의 모델에서의 과소적합이 해결됐음을 확인할 수 있음 -> 다중 회귀 모델은 특성이 복잡함으로 과소적합문제를 해결"
   ]
  },
  {
   "cell_type": "code",
   "execution_count": 39,
   "metadata": {},
   "outputs": [
    {
     "name": "stdout",
     "output_type": "stream",
     "text": [
      "(42, 55)\n",
      "[[1.96000000e+01 5.14000000e+00 3.04000000e+00 3.84160000e+02\n",
      "  1.00744000e+02 5.95840000e+01 2.64196000e+01 1.56256000e+01\n",
      "  9.24160000e+00 7.52953600e+03 1.97458240e+03 1.16784640e+03\n",
      "  5.17824160e+02 3.06261760e+02 1.81135360e+02 1.35796744e+02\n",
      "  8.03155840e+01 4.75018240e+01 2.80944640e+01 1.47578906e+05\n",
      "  3.87018150e+04 2.28897894e+04 1.01493535e+04 6.00273050e+03\n",
      "  3.55025306e+03 2.66161618e+03 1.57418545e+03 9.31035750e+02\n",
      "  5.50651494e+02 6.97995264e+02 4.12822102e+02 2.44159375e+02\n",
      "  1.44405545e+02 8.54071706e+01 2.89254655e+06 7.58555575e+05\n",
      "  4.48639873e+05 1.98927329e+05 1.17653518e+05 6.95849599e+04\n",
      "  5.21676772e+04 3.08540347e+04 1.82483007e+04 1.07927693e+04\n",
      "  1.36807072e+04 8.09131319e+03 4.78552376e+03 2.83034868e+03\n",
      "  1.67398054e+03 3.58769566e+03 2.12190560e+03 1.25497919e+03\n",
      "  7.42244501e+02 4.38992857e+02 2.59637799e+02]]\n",
      "[[8.40000000e+00 2.11000000e+00 1.41000000e+00 7.05600000e+01\n",
      "  1.77240000e+01 1.18440000e+01 4.45210000e+00 2.97510000e+00\n",
      "  1.98810000e+00 5.92704000e+02 1.48881600e+02 9.94896000e+01\n",
      "  3.73976400e+01 2.49908400e+01 1.67000400e+01 9.39393100e+00\n",
      "  6.27746100e+00 4.19489100e+00 2.80322100e+00 4.97871360e+03\n",
      "  1.25060544e+03 8.35712640e+02 3.14140176e+02 2.09923056e+02\n",
      "  1.40280336e+02 7.89090204e+01 5.27306724e+01 3.52370844e+01\n",
      "  2.35470564e+01 1.98211944e+01 1.32454427e+01 8.85122001e+00\n",
      "  5.91479631e+00 3.95254161e+00 4.18211942e+04 1.05050857e+04\n",
      "  7.01998618e+03 2.63877748e+03 1.76335367e+03 1.17835482e+03\n",
      "  6.62835771e+02 4.42937648e+02 2.95991509e+02 1.97795274e+02\n",
      "  1.66498033e+02 1.11261719e+02 7.43502481e+01 4.96842890e+01\n",
      "  3.32013495e+01 4.18227202e+01 2.79478841e+01 1.86760742e+01\n",
      "  1.24802202e+01 8.33986280e+00 5.57308367e+00]]\n"
     ]
    }
   ],
   "source": [
    "poly=PolynomialFeatures(degree=5, include_bias=False)  # ** PolynomialFeatures class는 degree 매개변수를 사용해서 고차항의 최대 차수 지정 가능 -> 여기선 5차\n",
    "poly.fit(train_input)\n",
    "train_poly=poly.transform(train_input)\n",
    "test_poly=poly.transform(test_input)\n",
    "print(train_poly.shape) # ** 최고차항을 5(degree=5) 일 때  특성의 갯수는 55개\n",
    "\n",
    "print(train_poly[0:1])\n",
    "print(test_poly[0:1])"
   ]
  },
  {
   "cell_type": "code",
   "execution_count": 40,
   "metadata": {},
   "outputs": [
    {
     "name": "stdout",
     "output_type": "stream",
     "text": [
      "0.9999999999938143\n"
     ]
    }
   ],
   "source": [
    "lr.fit(train_poly,train_target)  # ** model training\n",
    "print(lr.score(train_poly,train_target))  # ** 성능 평가"
   ]
  },
  {
   "cell_type": "code",
   "execution_count": 41,
   "metadata": {},
   "outputs": [
    {
     "name": "stdout",
     "output_type": "stream",
     "text": [
      "-144.40744532797535\n"
     ]
    }
   ],
   "source": [
    "print(lr.score(test_poly,test_target))  # ** 특성 수가 너무 많음 -> 모델이 너무 복잡함 -> 이러한 경우 훈련 세트에 모델이 너무 과대적합 됨-> test_case에서 좋지 않은 성능을 보임"
   ]
  },
  {
   "cell_type": "code",
   "execution_count": 42,
   "metadata": {},
   "outputs": [],
   "source": [
    "from sklearn.preprocessing import StandardScaler # ** 사이킷런의 정규화를 위한 변환기를 import\n",
    "ss=StandardScaler() # ** 객체 생성\n",
    "ss.fit(train_poly) # ** 변환할 특성을 정하기 위한 fit\n",
    "train_scaled=ss.transform(train_poly) # ** 변환\n",
    "test_scaled=ss.transform(test_poly) # ** 핵심은 train set로 학습한 변환기를 사용해 test set도 변환해야 한다는거"
   ]
  },
  {
   "cell_type": "code",
   "execution_count": 43,
   "metadata": {},
   "outputs": [
    {
     "name": "stdout",
     "output_type": "stream",
     "text": [
      "0.9896101671037343\n"
     ]
    }
   ],
   "source": [
    "from sklearn.linear_model import Ridge # ** 릿지(ridge)와 라쏘(lasso)가 포함된 패키지를 import 한다\n",
    "ridge=Ridge()\n",
    "ridge.fit(train_scaled,train_target)\n",
    "print(ridge.score(train_scaled,train_target))"
   ]
  },
  {
   "cell_type": "code",
   "execution_count": 44,
   "metadata": {},
   "outputs": [
    {
     "name": "stdout",
     "output_type": "stream",
     "text": [
      "0.979069397761539\n"
     ]
    }
   ],
   "source": [
    "print(ridge.score(test_scaled,test_target))"
   ]
  },
  {
   "cell_type": "code",
   "execution_count": 45,
   "metadata": {},
   "outputs": [],
   "source": [
    "import matplotlib.pyplot as plt\n",
    "train_score=[]\n",
    "test_score=[]"
   ]
  },
  {
   "cell_type": "code",
   "execution_count": 46,
   "metadata": {},
   "outputs": [],
   "source": [
    "alpha_list=[0.001,0.01,0.1,1,10,100]\n",
    "for alpha in alpha_list:\n",
    "    ridge=Ridge(alpha=alpha) # ** 릿지 모델을 만듦, alpha 값은 위에 리스트에 저장되어 둠\n",
    "    ridge.fit(train_scaled,train_target) # ** 훈련\n",
    "    train_score.append(ridge.score(train_scaled,train_target)) # ** 훈련 데이터의 점수와 테스트 데이터의 점수를 위의 리스트에 저장한다\n",
    "    test_score.append(ridge.score(test_scaled,test_target))"
   ]
  },
  {
   "cell_type": "code",
   "execution_count": 47,
   "metadata": {},
   "outputs": [
    {
     "data": {
      "image/png": "[encoded data removed]",
      "text/plain": [
       "<Figure size 432x288 with 1 Axes>"
      ]
     },
     "metadata": {
      "needs_background": "light"
     },
     "output_type": "display_data"
    }
   ],
   "source": [
    "plt.plot(np.log10(alpha_list),train_score,'r') #** 넘파이 로그 함수 -> 위 함수를 사용하는 이유는 0.001, 0.01, 0.1 1 이렇게 해버리면 x좌표가 너무 촘촘하게 나오니까 np.log()-> 자연상수 e가 밑, np.log10()-> 10이 밑\n",
    "plt.plot(np.log10(alpha_list),test_score,'b')\n",
    "plt.xlabel('alpha')\n",
    "plt.ylabel('R^2')\n",
    "plt.show() #** 그래프를 보면 R^2값의 차이가 가장 작은 부분인 alpha가 적절한 alpha 이므로 alpha=0.1로 설정"
   ]
  },
  {
   "cell_type": "code",
   "execution_count": 48,
   "metadata": {},
   "outputs": [
    {
     "name": "stdout",
     "output_type": "stream",
     "text": [
      "0.9903815817570368\n",
      "0.9827976465386954\n"
     ]
    }
   ],
   "source": [
    "ridge=Ridge(alpha=0.1)\n",
    "ridge.fit(train_scaled,train_target)\n",
    "print(ridge.score(train_scaled,train_target))\n",
    "print(ridge.score(test_scaled,test_target)) #** 평가 값을 비교해 보면 해당 모델은 과대적합과 과소적합 사이에서 균형을 이루고 있음을 볼 수 있음"
   ]
  },
  {
   "cell_type": "code",
   "execution_count": 49,
   "metadata": {},
   "outputs": [
    {
     "name": "stdout",
     "output_type": "stream",
     "text": [
      "0.989789897208096\n"
     ]
    }
   ],
   "source": [
    "from sklearn.linear_model import Lasso #** Lasso class를 import\n",
    "lasso=Lasso()\n",
    "lasso.fit(train_scaled,train_target)\n",
    "print(lasso.score(train_scaled,train_target))"
   ]
  },
  {
   "cell_type": "code",
   "execution_count": 50,
   "metadata": {},
   "outputs": [
    {
     "name": "stdout",
     "output_type": "stream",
     "text": [
      "0.9800593698421884\n"
     ]
    }
   ],
   "source": [
    "print(lasso.score(test_scaled,test_target))\n",
    "#** 점수를 보면 lasso도 과대적합을 해결했음을 확인 가능"
   ]
  },
  {
   "cell_type": "code",
   "execution_count": 51,
   "metadata": {},
   "outputs": [
    {
     "name": "stderr",
     "output_type": "stream",
     "text": [
      "c:\\Users\\Sejong\\anaconda3\\envs\\conda\\lib\\site-packages\\sklearn\\linear_model\\_coordinate_descent.py:648: ConvergenceWarning: Objective did not converge. You might want to increase the number of iterations, check the scale of the features or consider increasing regularisation. Duality gap: 1.878e+04, tolerance: 5.183e+02\n",
      "  model = cd_fast.enet_coordinate_descent(\n",
      "c:\\Users\\Sejong\\anaconda3\\envs\\conda\\lib\\site-packages\\sklearn\\linear_model\\_coordinate_descent.py:648: ConvergenceWarning: Objective did not converge. You might want to increase the number of iterations, check the scale of the features or consider increasing regularisation. Duality gap: 1.297e+04, tolerance: 5.183e+02\n",
      "  model = cd_fast.enet_coordinate_descent(\n"
     ]
    }
   ],
   "source": [
    "train_score=[]\n",
    "test_score=[]\n",
    "alpha_list=[0.001,0.01,0.1,1,10,100]\n",
    "\n",
    "for alpha in alpha_list:\n",
    "    lasso=Lasso(alpha=alpha,max_iter=10000) #** alpha 값을 지정하면 규제 강도 조정 가능, 매개변수 max_iter를 지정하는 이유는 lasso model은 최적의 계수를 찾기 위해 반복적인 계산을 진행하는데 지정한 반복 횟수가 부족하면 에러가 생길 수 있어서\n",
    "    lasso.fit(train_scaled,train_target)\n",
    "    train_score.append(lasso.score(train_scaled,train_target))\n",
    "    test_score.append(lasso.score(test_scaled,test_target))\n",
    "    "
   ]
  },
  {
   "cell_type": "code",
   "execution_count": 52,
   "metadata": {},
   "outputs": [
    {
     "data": {
      "image/png": "[encoded data removed]",
      "text/plain": [
       "<Figure size 432x288 with 1 Axes>"
      ]
     },
     "metadata": {
      "needs_background": "light"
     },
     "output_type": "display_data"
    }
   ],
   "source": [
    "plt.plot(np.log10(alpha_list),train_score,'r')\n",
    "plt.plot(np.log10(alpha_list),test_score,'b')\n",
    "plt.xlabel('alpha')\n",
    "plt.ylabel('R^2')\n",
    "plt.show()"
   ]
  },
  {
   "cell_type": "code",
   "execution_count": 53,
   "metadata": {},
   "outputs": [
    {
     "name": "stdout",
     "output_type": "stream",
     "text": [
      "0.9888067471131867\n",
      "0.9824470598706695\n"
     ]
    }
   ],
   "source": [
    "lasso=Lasso(alpha=10)\n",
    "lasso.fit(train_scaled,train_target)\n",
    "print(lasso.score(train_scaled,train_target))\n",
    "print(lasso.score(test_scaled,test_target))\n",
    "#** 결과값을 보면 lasso model이 과대적합을 잘 억제함을 확인 가능"
   ]
  },
  {
   "cell_type": "code",
   "execution_count": 54,
   "metadata": {},
   "outputs": [
    {
     "name": "stdout",
     "output_type": "stream",
     "text": [
      "40\n"
     ]
    }
   ],
   "source": [
    "print(np.sum(lasso.coef_==0)) #** lasso model은 계수 값을 0으로도 놓을 수 있음  /  np.sum은 비교연산자에 맞는 값(True=1,False=0)을 모두 더헤 반환함"
   ]
  }
 ],
 "metadata": {
  "kernelspec": {
   "display_name": "Python 3.9.12 ('conda')",
   "language": "python",
   "name": "python3"
  },
  "language_info": {
   "codemirror_mode": {
    "name": "ipython",
    "version": 3
   },
   "file_extension": ".py",
   "mimetype": "text/x-python",
   "name": "python",
   "nbconvert_exporter": "python",
   "pygments_lexer": "ipython3",
   "version": "3.9.12"
  },
  "orig_nbformat": 4,
  "vscode": {
   "interpreter": {
    "hash": "b55c0ac6f23ae9c0d1ca805a6f11acf46e099447d8ba98ec2dbdd3dac2a4761b"
   }
  }
 },
 "nbformat": 4,
 "nbformat_minor": 2
}
