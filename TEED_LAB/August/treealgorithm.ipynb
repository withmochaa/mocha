{
  "nbformat": 4,
  "nbformat_minor": 0,
  "metadata": {
    "colab": {
      "provenance": []
    },
    "kernelspec": {
      "name": "python3",
      "display_name": "Python 3"
    },
    "language_info": {
      "name": "python"
    }
  },
  "cells": [
    {
      "cell_type": "code",
      "execution_count": null,
      "metadata": {
        "id": "nbFMLRO3z-6c",
        "colab": {
          "base_uri": "https://localhost:8080/"
        },
        "outputId": "55aaf894-0a72-45cd-8197-b89b5d0936da"
      },
      "outputs": [
        {
          "output_type": "stream",
          "name": "stdout",
          "text": [
            "Drive already mounted at /content/drive; to attempt to forcibly remount, call drive.mount(\"/content/drive\", force_remount=True).\n"
          ]
        }
      ],
      "source": [
        "from google.colab import files\n",
        "from google.colab import drive\n",
        "drive.mount('/content/drive')"
      ]
    },
    {
      "cell_type": "code",
      "source": [
        "import pandas as pd\n",
        "\n",
        "\n",
        "train=pd.read_csv('/content/drive/MyDrive/파이썬기반기계학습/finddisease/train_set.csv')\n",
        "test=pd.read_csv('/content/drive/MyDrive/파이썬기반기계학습/finddisease/test_set.csv')\n",
        "submission=pd.read_csv('/content/drive/MyDrive/파이썬기반기계학습/finddisease/sample_submission.csv')"
      ],
      "metadata": {
        "id": "LXnUIjtH0scw"
      },
      "execution_count": null,
      "outputs": []
    },
    {
      "cell_type": "code",
      "source": [
        "test.isnull().sum()"
      ],
      "metadata": {
        "colab": {
          "base_uri": "https://localhost:8080/"
        },
        "id": "8FYH-PuUdyhh",
        "outputId": "ca35b615-e0d4-4911-9d9d-9773ed37153d"
      },
      "execution_count": null,
      "outputs": [
        {
          "output_type": "execute_result",
          "data": {
            "text/plain": [
              "x                         0\n",
              "y                         0\n",
              "region                 1500\n",
              "country                1500\n",
              "reportingDate          1500\n",
              "cld                       0\n",
              "dtr                       0\n",
              "frs                       0\n",
              "pet                       0\n",
              "pre                       0\n",
              "tmn                       0\n",
              "tmp                       0\n",
              "tmx                       0\n",
              "vap                       0\n",
              "wet                       0\n",
              "elevation                 0\n",
              "dominant_land_cover       0\n",
              "X5_Ct_2010_Da             0\n",
              "X5_Bf_2010_Da             0\n",
              "dtype: int64"
            ]
          },
          "metadata": {},
          "execution_count": 83
        }
      ]
    },
    {
      "cell_type": "code",
      "source": [
        "display(train)"
      ],
      "metadata": {
        "colab": {
          "base_uri": "https://localhost:8080/",
          "height": 424
        },
        "id": "_gmNnEEO1zGt",
        "outputId": "0241d708-0fa5-4379-f866-f03f478c0eeb"
      },
      "execution_count": null,
      "outputs": [
        {
          "output_type": "display_data",
          "data": {
            "text/plain": [
              "            x      y region country reportingDate   cld  dtr   frs  pet   pre  \\\n",
              "0     -179.75  65.25    NaN     NaN           NaN  67.2  7.7  31.0  0.0  45.4   \n",
              "1     -179.75  65.75    NaN     NaN           NaN  69.1  7.8  31.0  0.0  44.7   \n",
              "2     -179.75  66.25    NaN     NaN           NaN  71.9  8.3  31.0  0.0  42.8   \n",
              "3     -179.75  66.75    NaN     NaN           NaN  74.4  8.4  31.0  0.0  41.7   \n",
              "4     -179.75  67.25    NaN     NaN           NaN  78.7  8.6  31.0  0.0  38.9   \n",
              "...       ...    ...    ...     ...           ...   ...  ...   ...  ...   ...   \n",
              "21759  179.75  67.25    NaN     NaN           NaN  54.4  8.5  31.0  0.0  38.1   \n",
              "21760  179.75  67.75    NaN     NaN           NaN  57.5  8.6  31.0  0.0  36.0   \n",
              "21761  179.75  68.25    NaN     NaN           NaN  59.7  8.6  31.0  0.0  34.2   \n",
              "21762  179.75  68.75    NaN     NaN           NaN  61.3  8.3  31.0  0.0  31.6   \n",
              "21763  179.75  71.25    NaN     NaN           NaN  66.8  8.1  31.0  0.0  20.4   \n",
              "\n",
              "        tmn   tmp   tmx  vap    wet  elevation  dominant_land_cover  \\\n",
              "0     -20.6 -16.7 -12.9  2.0  11.66        150                    3   \n",
              "1     -21.4 -17.5 -13.6  1.8  12.32        150                    3   \n",
              "2     -23.0 -18.8 -14.7  1.6  15.19        161                    3   \n",
              "3     -23.8 -19.6 -15.4  1.6  14.89        166                    3   \n",
              "4     -25.0 -20.7 -16.4  1.5  15.32        163                    9   \n",
              "...     ...   ...   ...  ...    ...        ...                  ...   \n",
              "21759 -27.2 -22.9 -18.7  1.1  15.95        154                    3   \n",
              "21760 -28.7 -24.4 -20.1  0.8  16.28        158                    9   \n",
              "21761 -29.2 -24.9 -20.6  0.8  15.69        171                    9   \n",
              "21762 -28.0 -23.8 -19.7  1.2  16.80        166                    9   \n",
              "21763 -28.3 -24.2 -20.2  0.9  11.87        157                    3   \n",
              "\n",
              "       X5_Ct_2010_Da  X5_Bf_2010_Da  lumpy  \n",
              "0                0.0       0.002472      0  \n",
              "1                0.0       0.001988      0  \n",
              "2                0.0       0.002790      0  \n",
              "3                0.0       0.001431      0  \n",
              "4                0.0       0.001988      0  \n",
              "...              ...            ...    ...  \n",
              "21759            0.0       0.002409      0  \n",
              "21760            0.0       0.001419      0  \n",
              "21761            0.0       0.001127      0  \n",
              "21762            0.0       0.001445      0  \n",
              "21763            0.0       0.000000      0  \n",
              "\n",
              "[21764 rows x 20 columns]"
            ],
            "text/html": [
              "\n",
              "  <div id=\"df-fd78eb34-7e75-444b-a49a-48de147079e1\">\n",
              "    <div class=\"colab-df-container\">\n",
              "      <div>\n",
              "<style scoped>\n",
              "    .dataframe tbody tr th:only-of-type {\n",
              "        vertical-align: middle;\n",
              "    }\n",
              "\n",
              "    .dataframe tbody tr th {\n",
              "        vertical-align: top;\n",
              "    }\n",
              "\n",
              "    .dataframe thead th {\n",
              "        text-align: right;\n",
              "    }\n",
              "</style>\n",
              "<table border=\"1\" class=\"dataframe\">\n",
              "  <thead>\n",
              "    <tr style=\"text-align: right;\">\n",
              "      <th></th>\n",
              "      <th>x</th>\n",
              "      <th>y</th>\n",
              "      <th>region</th>\n",
              "      <th>country</th>\n",
              "      <th>reportingDate</th>\n",
              "      <th>cld</th>\n",
              "      <th>dtr</th>\n",
              "      <th>frs</th>\n",
              "      <th>pet</th>\n",
              "      <th>pre</th>\n",
              "      <th>tmn</th>\n",
              "      <th>tmp</th>\n",
              "      <th>tmx</th>\n",
              "      <th>vap</th>\n",
              "      <th>wet</th>\n",
              "      <th>elevation</th>\n",
              "      <th>dominant_land_cover</th>\n",
              "      <th>X5_Ct_2010_Da</th>\n",
              "      <th>X5_Bf_2010_Da</th>\n",
              "      <th>lumpy</th>\n",
              "    </tr>\n",
              "  </thead>\n",
              "  <tbody>\n",
              "    <tr>\n",
              "      <th>0</th>\n",
              "      <td>-179.75</td>\n",
              "      <td>65.25</td>\n",
              "      <td>NaN</td>\n",
              "      <td>NaN</td>\n",
              "      <td>NaN</td>\n",
              "      <td>67.2</td>\n",
              "      <td>7.7</td>\n",
              "      <td>31.0</td>\n",
              "      <td>0.0</td>\n",
              "      <td>45.4</td>\n",
              "      <td>-20.6</td>\n",
              "      <td>-16.7</td>\n",
              "      <td>-12.9</td>\n",
              "      <td>2.0</td>\n",
              "      <td>11.66</td>\n",
              "      <td>150</td>\n",
              "      <td>3</td>\n",
              "      <td>0.0</td>\n",
              "      <td>0.002472</td>\n",
              "      <td>0</td>\n",
              "    </tr>\n",
              "    <tr>\n",
              "      <th>1</th>\n",
              "      <td>-179.75</td>\n",
              "      <td>65.75</td>\n",
              "      <td>NaN</td>\n",
              "      <td>NaN</td>\n",
              "      <td>NaN</td>\n",
              "      <td>69.1</td>\n",
              "      <td>7.8</td>\n",
              "      <td>31.0</td>\n",
              "      <td>0.0</td>\n",
              "      <td>44.7</td>\n",
              "      <td>-21.4</td>\n",
              "      <td>-17.5</td>\n",
              "      <td>-13.6</td>\n",
              "      <td>1.8</td>\n",
              "      <td>12.32</td>\n",
              "      <td>150</td>\n",
              "      <td>3</td>\n",
              "      <td>0.0</td>\n",
              "      <td>0.001988</td>\n",
              "      <td>0</td>\n",
              "    </tr>\n",
              "    <tr>\n",
              "      <th>2</th>\n",
              "      <td>-179.75</td>\n",
              "      <td>66.25</td>\n",
              "      <td>NaN</td>\n",
              "      <td>NaN</td>\n",
              "      <td>NaN</td>\n",
              "      <td>71.9</td>\n",
              "      <td>8.3</td>\n",
              "      <td>31.0</td>\n",
              "      <td>0.0</td>\n",
              "      <td>42.8</td>\n",
              "      <td>-23.0</td>\n",
              "      <td>-18.8</td>\n",
              "      <td>-14.7</td>\n",
              "      <td>1.6</td>\n",
              "      <td>15.19</td>\n",
              "      <td>161</td>\n",
              "      <td>3</td>\n",
              "      <td>0.0</td>\n",
              "      <td>0.002790</td>\n",
              "      <td>0</td>\n",
              "    </tr>\n",
              "    <tr>\n",
              "      <th>3</th>\n",
              "      <td>-179.75</td>\n",
              "      <td>66.75</td>\n",
              "      <td>NaN</td>\n",
              "      <td>NaN</td>\n",
              "      <td>NaN</td>\n",
              "      <td>74.4</td>\n",
              "      <td>8.4</td>\n",
              "      <td>31.0</td>\n",
              "      <td>0.0</td>\n",
              "      <td>41.7</td>\n",
              "      <td>-23.8</td>\n",
              "      <td>-19.6</td>\n",
              "      <td>-15.4</td>\n",
              "      <td>1.6</td>\n",
              "      <td>14.89</td>\n",
              "      <td>166</td>\n",
              "      <td>3</td>\n",
              "      <td>0.0</td>\n",
              "      <td>0.001431</td>\n",
              "      <td>0</td>\n",
              "    </tr>\n",
              "    <tr>\n",
              "      <th>4</th>\n",
              "      <td>-179.75</td>\n",
              "      <td>67.25</td>\n",
              "      <td>NaN</td>\n",
              "      <td>NaN</td>\n",
              "      <td>NaN</td>\n",
              "      <td>78.7</td>\n",
              "      <td>8.6</td>\n",
              "      <td>31.0</td>\n",
              "      <td>0.0</td>\n",
              "      <td>38.9</td>\n",
              "      <td>-25.0</td>\n",
              "      <td>-20.7</td>\n",
              "      <td>-16.4</td>\n",
              "      <td>1.5</td>\n",
              "      <td>15.32</td>\n",
              "      <td>163</td>\n",
              "      <td>9</td>\n",
              "      <td>0.0</td>\n",
              "      <td>0.001988</td>\n",
              "      <td>0</td>\n",
              "    </tr>\n",
              "    <tr>\n",
              "      <th>...</th>\n",
              "      <td>...</td>\n",
              "      <td>...</td>\n",
              "      <td>...</td>\n",
              "      <td>...</td>\n",
              "      <td>...</td>\n",
              "      <td>...</td>\n",
              "      <td>...</td>\n",
              "      <td>...</td>\n",
              "      <td>...</td>\n",
              "      <td>...</td>\n",
              "      <td>...</td>\n",
              "      <td>...</td>\n",
              "      <td>...</td>\n",
              "      <td>...</td>\n",
              "      <td>...</td>\n",
              "      <td>...</td>\n",
              "      <td>...</td>\n",
              "      <td>...</td>\n",
              "      <td>...</td>\n",
              "      <td>...</td>\n",
              "    </tr>\n",
              "    <tr>\n",
              "      <th>21759</th>\n",
              "      <td>179.75</td>\n",
              "      <td>67.25</td>\n",
              "      <td>NaN</td>\n",
              "      <td>NaN</td>\n",
              "      <td>NaN</td>\n",
              "      <td>54.4</td>\n",
              "      <td>8.5</td>\n",
              "      <td>31.0</td>\n",
              "      <td>0.0</td>\n",
              "      <td>38.1</td>\n",
              "      <td>-27.2</td>\n",
              "      <td>-22.9</td>\n",
              "      <td>-18.7</td>\n",
              "      <td>1.1</td>\n",
              "      <td>15.95</td>\n",
              "      <td>154</td>\n",
              "      <td>3</td>\n",
              "      <td>0.0</td>\n",
              "      <td>0.002409</td>\n",
              "      <td>0</td>\n",
              "    </tr>\n",
              "    <tr>\n",
              "      <th>21760</th>\n",
              "      <td>179.75</td>\n",
              "      <td>67.75</td>\n",
              "      <td>NaN</td>\n",
              "      <td>NaN</td>\n",
              "      <td>NaN</td>\n",
              "      <td>57.5</td>\n",
              "      <td>8.6</td>\n",
              "      <td>31.0</td>\n",
              "      <td>0.0</td>\n",
              "      <td>36.0</td>\n",
              "      <td>-28.7</td>\n",
              "      <td>-24.4</td>\n",
              "      <td>-20.1</td>\n",
              "      <td>0.8</td>\n",
              "      <td>16.28</td>\n",
              "      <td>158</td>\n",
              "      <td>9</td>\n",
              "      <td>0.0</td>\n",
              "      <td>0.001419</td>\n",
              "      <td>0</td>\n",
              "    </tr>\n",
              "    <tr>\n",
              "      <th>21761</th>\n",
              "      <td>179.75</td>\n",
              "      <td>68.25</td>\n",
              "      <td>NaN</td>\n",
              "      <td>NaN</td>\n",
              "      <td>NaN</td>\n",
              "      <td>59.7</td>\n",
              "      <td>8.6</td>\n",
              "      <td>31.0</td>\n",
              "      <td>0.0</td>\n",
              "      <td>34.2</td>\n",
              "      <td>-29.2</td>\n",
              "      <td>-24.9</td>\n",
              "      <td>-20.6</td>\n",
              "      <td>0.8</td>\n",
              "      <td>15.69</td>\n",
              "      <td>171</td>\n",
              "      <td>9</td>\n",
              "      <td>0.0</td>\n",
              "      <td>0.001127</td>\n",
              "      <td>0</td>\n",
              "    </tr>\n",
              "    <tr>\n",
              "      <th>21762</th>\n",
              "      <td>179.75</td>\n",
              "      <td>68.75</td>\n",
              "      <td>NaN</td>\n",
              "      <td>NaN</td>\n",
              "      <td>NaN</td>\n",
              "      <td>61.3</td>\n",
              "      <td>8.3</td>\n",
              "      <td>31.0</td>\n",
              "      <td>0.0</td>\n",
              "      <td>31.6</td>\n",
              "      <td>-28.0</td>\n",
              "      <td>-23.8</td>\n",
              "      <td>-19.7</td>\n",
              "      <td>1.2</td>\n",
              "      <td>16.80</td>\n",
              "      <td>166</td>\n",
              "      <td>9</td>\n",
              "      <td>0.0</td>\n",
              "      <td>0.001445</td>\n",
              "      <td>0</td>\n",
              "    </tr>\n",
              "    <tr>\n",
              "      <th>21763</th>\n",
              "      <td>179.75</td>\n",
              "      <td>71.25</td>\n",
              "      <td>NaN</td>\n",
              "      <td>NaN</td>\n",
              "      <td>NaN</td>\n",
              "      <td>66.8</td>\n",
              "      <td>8.1</td>\n",
              "      <td>31.0</td>\n",
              "      <td>0.0</td>\n",
              "      <td>20.4</td>\n",
              "      <td>-28.3</td>\n",
              "      <td>-24.2</td>\n",
              "      <td>-20.2</td>\n",
              "      <td>0.9</td>\n",
              "      <td>11.87</td>\n",
              "      <td>157</td>\n",
              "      <td>3</td>\n",
              "      <td>0.0</td>\n",
              "      <td>0.000000</td>\n",
              "      <td>0</td>\n",
              "    </tr>\n",
              "  </tbody>\n",
              "</table>\n",
              "<p>21764 rows × 20 columns</p>\n",
              "</div>\n",
              "      <button class=\"colab-df-convert\" onclick=\"convertToInteractive('df-fd78eb34-7e75-444b-a49a-48de147079e1')\"\n",
              "              title=\"Convert this dataframe to an interactive table.\"\n",
              "              style=\"display:none;\">\n",
              "        \n",
              "  <svg xmlns=\"http://www.w3.org/2000/svg\" height=\"24px\"viewBox=\"0 0 24 24\"\n",
              "       width=\"24px\">\n",
              "    <path d=\"M0 0h24v24H0V0z\" fill=\"none\"/>\n",
              "    <path d=\"M18.56 5.44l.94 2.06.94-2.06 2.06-.94-2.06-.94-.94-2.06-.94 2.06-2.06.94zm-11 1L8.5 8.5l.94-2.06 2.06-.94-2.06-.94L8.5 2.5l-.94 2.06-2.06.94zm10 10l.94 2.06.94-2.06 2.06-.94-2.06-.94-.94-2.06-.94 2.06-2.06.94z\"/><path d=\"M17.41 7.96l-1.37-1.37c-.4-.4-.92-.59-1.43-.59-.52 0-1.04.2-1.43.59L10.3 9.45l-7.72 7.72c-.78.78-.78 2.05 0 2.83L4 21.41c.39.39.9.59 1.41.59.51 0 1.02-.2 1.41-.59l7.78-7.78 2.81-2.81c.8-.78.8-2.07 0-2.86zM5.41 20L4 18.59l7.72-7.72 1.47 1.35L5.41 20z\"/>\n",
              "  </svg>\n",
              "      </button>\n",
              "      \n",
              "  <style>\n",
              "    .colab-df-container {\n",
              "      display:flex;\n",
              "      flex-wrap:wrap;\n",
              "      gap: 12px;\n",
              "    }\n",
              "\n",
              "    .colab-df-convert {\n",
              "      background-color: #E8F0FE;\n",
              "      border: none;\n",
              "      border-radius: 50%;\n",
              "      cursor: pointer;\n",
              "      display: none;\n",
              "      fill: #1967D2;\n",
              "      height: 32px;\n",
              "      padding: 0 0 0 0;\n",
              "      width: 32px;\n",
              "    }\n",
              "\n",
              "    .colab-df-convert:hover {\n",
              "      background-color: #E2EBFA;\n",
              "      box-shadow: 0px 1px 2px rgba(60, 64, 67, 0.3), 0px 1px 3px 1px rgba(60, 64, 67, 0.15);\n",
              "      fill: #174EA6;\n",
              "    }\n",
              "\n",
              "    [theme=dark] .colab-df-convert {\n",
              "      background-color: #3B4455;\n",
              "      fill: #D2E3FC;\n",
              "    }\n",
              "\n",
              "    [theme=dark] .colab-df-convert:hover {\n",
              "      background-color: #434B5C;\n",
              "      box-shadow: 0px 1px 3px 1px rgba(0, 0, 0, 0.15);\n",
              "      filter: drop-shadow(0px 1px 2px rgba(0, 0, 0, 0.3));\n",
              "      fill: #FFFFFF;\n",
              "    }\n",
              "  </style>\n",
              "\n",
              "      <script>\n",
              "        const buttonEl =\n",
              "          document.querySelector('#df-fd78eb34-7e75-444b-a49a-48de147079e1 button.colab-df-convert');\n",
              "        buttonEl.style.display =\n",
              "          google.colab.kernel.accessAllowed ? 'block' : 'none';\n",
              "\n",
              "        async function convertToInteractive(key) {\n",
              "          const element = document.querySelector('#df-fd78eb34-7e75-444b-a49a-48de147079e1');\n",
              "          const dataTable =\n",
              "            await google.colab.kernel.invokeFunction('convertToInteractive',\n",
              "                                                     [key], {});\n",
              "          if (!dataTable) return;\n",
              "\n",
              "          const docLinkHtml = 'Like what you see? Visit the ' +\n",
              "            '<a target=\"_blank\" href=https://colab.research.google.com/notebooks/data_table.ipynb>data table notebook</a>'\n",
              "            + ' to learn more about interactive tables.';\n",
              "          element.innerHTML = '';\n",
              "          dataTable['output_type'] = 'display_data';\n",
              "          await google.colab.output.renderOutput(dataTable, element);\n",
              "          const docLink = document.createElement('div');\n",
              "          docLink.innerHTML = docLinkHtml;\n",
              "          element.appendChild(docLink);\n",
              "        }\n",
              "      </script>\n",
              "    </div>\n",
              "  </div>\n",
              "  "
            ]
          },
          "metadata": {}
        }
      ]
    },
    {
      "cell_type": "code",
      "source": [
        "train.info()"
      ],
      "metadata": {
        "colab": {
          "base_uri": "https://localhost:8080/"
        },
        "id": "UkB_HuFqWJPN",
        "outputId": "04227fda-c65e-4912-bf6e-ec28ed807745"
      },
      "execution_count": null,
      "outputs": [
        {
          "output_type": "stream",
          "name": "stdout",
          "text": [
            "<class 'pandas.core.frame.DataFrame'>\n",
            "RangeIndex: 21764 entries, 0 to 21763\n",
            "Data columns (total 20 columns):\n",
            " #   Column               Non-Null Count  Dtype  \n",
            "---  ------               --------------  -----  \n",
            " 0   x                    21764 non-null  float64\n",
            " 1   y                    21764 non-null  float64\n",
            " 2   region               1500 non-null   object \n",
            " 3   country              1500 non-null   object \n",
            " 4   reportingDate        1500 non-null   object \n",
            " 5   cld                  21764 non-null  float64\n",
            " 6   dtr                  21764 non-null  float64\n",
            " 7   frs                  21764 non-null  float64\n",
            " 8   pet                  21764 non-null  float64\n",
            " 9   pre                  21764 non-null  float64\n",
            " 10  tmn                  21764 non-null  float64\n",
            " 11  tmp                  21764 non-null  float64\n",
            " 12  tmx                  21764 non-null  float64\n",
            " 13  vap                  21764 non-null  float64\n",
            " 14  wet                  21764 non-null  float64\n",
            " 15  elevation            21764 non-null  int64  \n",
            " 16  dominant_land_cover  21764 non-null  int64  \n",
            " 17  X5_Ct_2010_Da        21764 non-null  float64\n",
            " 18  X5_Bf_2010_Da        21764 non-null  float64\n",
            " 19  lumpy                21764 non-null  int64  \n",
            "dtypes: float64(14), int64(3), object(3)\n",
            "memory usage: 3.3+ MB\n"
          ]
        }
      ]
    },
    {
      "cell_type": "code",
      "source": [
        "test.info()"
      ],
      "metadata": {
        "colab": {
          "base_uri": "https://localhost:8080/"
        },
        "id": "fRc-zpjGWOLm",
        "outputId": "7bbe6db7-4511-4d9f-d6f3-80fd22b463d6"
      },
      "execution_count": null,
      "outputs": [
        {
          "output_type": "stream",
          "name": "stdout",
          "text": [
            "<class 'pandas.core.frame.DataFrame'>\n",
            "RangeIndex: 3039 entries, 0 to 3038\n",
            "Data columns (total 19 columns):\n",
            " #   Column               Non-Null Count  Dtype  \n",
            "---  ------               --------------  -----  \n",
            " 0   x                    3039 non-null   float64\n",
            " 1   y                    3039 non-null   float64\n",
            " 2   region               1539 non-null   object \n",
            " 3   country              1539 non-null   object \n",
            " 4   reportingDate        1539 non-null   object \n",
            " 5   cld                  3039 non-null   float64\n",
            " 6   dtr                  3039 non-null   float64\n",
            " 7   frs                  3039 non-null   float64\n",
            " 8   pet                  3039 non-null   float64\n",
            " 9   pre                  3039 non-null   float64\n",
            " 10  tmn                  3039 non-null   float64\n",
            " 11  tmp                  3039 non-null   float64\n",
            " 12  tmx                  3039 non-null   float64\n",
            " 13  vap                  3039 non-null   float64\n",
            " 14  wet                  3039 non-null   float64\n",
            " 15  elevation            3039 non-null   int64  \n",
            " 16  dominant_land_cover  3039 non-null   int64  \n",
            " 17  X5_Ct_2010_Da        3039 non-null   float64\n",
            " 18  X5_Bf_2010_Da        3039 non-null   float64\n",
            "dtypes: float64(14), int64(2), object(3)\n",
            "memory usage: 451.2+ KB\n"
          ]
        }
      ]
    },
    {
      "cell_type": "code",
      "source": [
        "train['region'].unique()"
      ],
      "metadata": {
        "colab": {
          "base_uri": "https://localhost:8080/"
        },
        "id": "sg4tuxrVWbL6",
        "outputId": "3e16bf1e-070d-40d3-d7c2-6928976827cf"
      },
      "execution_count": null,
      "outputs": [
        {
          "output_type": "execute_result",
          "data": {
            "text/plain": [
              "array([nan, 'Africa', 'Europe', 'Asia'], dtype=object)"
            ]
          },
          "metadata": {},
          "execution_count": 28
        }
      ]
    },
    {
      "cell_type": "code",
      "source": [
        "train['country'].unique()"
      ],
      "metadata": {
        "colab": {
          "base_uri": "https://localhost:8080/"
        },
        "id": "XPcL2qW_Y-Zv",
        "outputId": "c45304d1-3c80-47b8-cad4-823125de05fd"
      },
      "execution_count": null,
      "outputs": [
        {
          "output_type": "execute_result",
          "data": {
            "text/plain": [
              "array([nan, 'Namibia', 'Montenegro', 'Angola', 'Albania', 'Serbia',\n",
              "       'Greece', 'North Macedonia', 'Bulgaria', 'Burundi', 'Israel',\n",
              "       'West Bank', 'Syrian Arab Republic', 'Russian Federation',\n",
              "       'Georgia', 'Kazakhstan', 'China', 'India', 'Bangladesh'],\n",
              "      dtype=object)"
            ]
          },
          "metadata": {},
          "execution_count": 29
        }
      ]
    },
    {
      "cell_type": "code",
      "source": [
        "train['reportingDate'].unique()"
      ],
      "metadata": {
        "colab": {
          "base_uri": "https://localhost:8080/"
        },
        "id": "EaHqle0xZFoL",
        "outputId": "5a9fd418-2f8c-46ab-eece-c5f11afe1e62"
      },
      "execution_count": null,
      "outputs": [
        {
          "output_type": "execute_result",
          "data": {
            "text/plain": [
              "array([nan, '22/07/2017', '4/9/2017', '25/07/2018', '14/08/2017',\n",
              "       '3/3/2017', '5/2/2017', '6/2/2017', '23/09/2016', '29/01/2018',\n",
              "       '5/8/2016', '10/9/2016', '12/10/2016', '8/8/2016', '10/7/2016',\n",
              "       '10/8/2016', '20/08/2016', '18/08/2016', '28/12/2016', '9/10/2016',\n",
              "       '31/10/2016', '2/11/2016', '28/07/2016', '6/10/2016', '15/12/2016',\n",
              "       '6/11/2017', '22/08/2016', '17/07/2016', '3/9/2016', '31/07/2016',\n",
              "       '7/8/2016', '14/09/2016', '5/9/2016', '15/08/2016', '21/08/2016',\n",
              "       '24/08/2016', '8/7/2016', '15/11/2016', '27/07/2016', '6/7/2016',\n",
              "       '1/8/2016', '9/5/2017', '15/01/2017', '16/01/2017', '17/02/2017',\n",
              "       '22/02/2017', '24/01/2017', '26/12/2016', '20/12/2016',\n",
              "       '18/11/2016', '18/07/2016', '29/08/2016', '30/08/2016',\n",
              "       '25/08/2016', '16/08/2016', '2/9/2016', '25/07/2016', '23/08/2016',\n",
              "       '27/09/2016', '17/08/2016', '8/10/2016', '25/09/2016', '7/9/2016',\n",
              "       '4/9/2016', '1/9/2016', '24/10/2016', '22/10/2016', '8/2/2017',\n",
              "       '6/1/2017', '2/10/2016', '9/1/2017', '4/1/2017', '7/1/2017',\n",
              "       '10/1/2017', '3/8/2016', '9/8/2016', '2/8/2016', '26/08/2016',\n",
              "       '8/6/2017', '26/05/2017', '15/06/2017', '17/06/2017', '16/06/2017',\n",
              "       '11/6/2017', '14/06/2017', '12/6/2017', '21/06/2017', '20/06/2017',\n",
              "       '26/07/2016', '26/11/2016', '9/9/2016', '6/8/2016', '14/11/2016',\n",
              "       '13/12/2016', '23/11/2016', '31/08/2016', '15/09/2016',\n",
              "       '25/10/2016', '10/10/2016', '18/12/2016', '26/01/2017',\n",
              "       '17/10/2016', '25/11/2016', '31/01/2017', '2/2/2017', '28/08/2016',\n",
              "       '16/12/2016', '20/07/2016', '5/1/2017', '17/01/2017', '1/2/2017',\n",
              "       '13/01/2017', '12/1/2017', '20/01/2017', '19/11/2016',\n",
              "       '18/01/2017', '4/8/2016', '19/08/2016', '3/12/2016', '11/2/2017',\n",
              "       '15/10/2016', '11/8/2016', '30/09/2016', '21/11/2016',\n",
              "       '24/03/2017', '11/7/2016', '6/12/2016', '12/12/2016', '10/12/2016',\n",
              "       '23/12/2016', '13/02/2017', '23/02/2017', '29/05/2017', '3/6/2017',\n",
              "       '9/6/2017', '5/6/2017', '7/6/2017', '15/05/2017', '1/6/2017',\n",
              "       '13/05/2017', '14/05/2017', '12/5/2017', '20/05/2017',\n",
              "       '23/06/2017', '21/07/2016', '11/11/2016', '4/12/2016',\n",
              "       '24/11/2016', '13/08/2016', '25/12/2016', '27/12/2016', '8/1/2017',\n",
              "       '19/06/2017', '3/5/2017', '26/04/2017', '16/05/2017', '24/04/2017',\n",
              "       '23/05/2017', '29/12/2016', '9/12/2016', '30/11/2016', '5/11/2016',\n",
              "       '16/10/2016', '11/12/2016', '1/12/2016', '1/11/2016', '20/09/2016',\n",
              "       '19/12/2016', '12/11/2016', '2/12/2016', '30/07/2016', '8/12/2016',\n",
              "       '20/10/2016', '8/9/2016', '7/10/2016', '20/11/2016', '19/09/2016',\n",
              "       '27/01/2017', '11/1/2017', '21/01/2017', '12/7/2016', '6/6/2017',\n",
              "       '13/09/2016', '24/07/2016', '5/12/2016', '21/09/2016',\n",
              "       '26/09/2016', '17/05/2017', '13/06/2017', '24/06/2017',\n",
              "       '25/05/2017', '18/05/2017', '21/10/2016', '28/11/2016',\n",
              "       '12/8/2016', '19/10/2016', '27/08/2016', '16/07/2016',\n",
              "       '14/08/2016', '28/09/2016', '29/11/2016', '27/11/2016',\n",
              "       '22/07/2016', '21/12/2016', '22/06/2017', '18/06/2017',\n",
              "       '1/10/2016', '13/10/2016', '29/09/2016', '11/10/2016',\n",
              "       '26/10/2016', '7/12/2016', '16/11/2016', '14/12/2016',\n",
              "       '10/11/2016', '3/11/2016', '18/10/2016', '14/02/2017',\n",
              "       '29/07/2016', '3/10/2016', '27/10/2016', '4/11/2016', '16/09/2016',\n",
              "       '15/07/2016', '6/9/2016', '22/12/2016', '3/2/2017', '25/01/2017',\n",
              "       '27/06/2017', '22/05/2017', '2/6/2017', '25/08/2017', '10/7/2017',\n",
              "       '14/10/2016', '18/09/2016', '17/09/2019', '13/07/2019', '9/9/2019',\n",
              "       '31/10/2019', '18/06/2019', '3/6/2019', '30/07/2019', '9/3/2020',\n",
              "       '22/09/2016', '3/8/2018', '11/9/2018', '22/08/2018', '17/10/2018',\n",
              "       '8/11/2016', '24/08/2017', '13/07/2017', '9/11/2016', '29/07/2019',\n",
              "       '12/9/2019', '1/8/2017', '6/7/2017', '24/07/2017', '25/09/2019',\n",
              "       '10/9/2018', '26/10/2018', '29/06/2017', '28/08/2018',\n",
              "       '14/09/2018', '12/10/2018', '20/07/2018', '23/07/2018',\n",
              "       '17/07/2018', '1/8/2018', '9/8/2018', '23/10/2017', '26/07/2018',\n",
              "       '18/08/2017', '30/07/2018', '15/08/2018', '19/10/2018',\n",
              "       '28/09/2018', '18/03/2019', '5/10/2018', '28/12/2018',\n",
              "       '31/08/2017', '15/12/2017', '31/01/2018', '19/09/2019',\n",
              "       '27/08/2019', '9/10/2019', '13/11/2018', '4/9/2019', '14/08/2019',\n",
              "       '7/8/2019', '21/08/2019', '29/10/2019', '6/11/2019', '25/10/2019',\n",
              "       '26/08/2019', '20/12/2019', '25/08/2019', '18/11/2019',\n",
              "       '4/12/2019', '22/03/2020', '5/3/2020', '10/9/2020', '10/10/2019',\n",
              "       '15/09/2019'], dtype=object)"
            ]
          },
          "metadata": {},
          "execution_count": 30
        }
      ]
    },
    {
      "cell_type": "code",
      "source": [
        "train=train.drop(labels='reportingDate',axis=1)\n",
        "test=test.drop(labels='reportingDate',axis=1)"
      ],
      "metadata": {
        "id": "D6oBgWBSZJ7N"
      },
      "execution_count": null,
      "outputs": []
    },
    {
      "cell_type": "code",
      "source": [
        "test.info()"
      ],
      "metadata": {
        "colab": {
          "base_uri": "https://localhost:8080/"
        },
        "id": "58JRRgBVuQ3r",
        "outputId": "ed9e9f72-78b3-4f54-d807-f28fb5c68672"
      },
      "execution_count": null,
      "outputs": [
        {
          "output_type": "stream",
          "name": "stdout",
          "text": [
            "<class 'pandas.core.frame.DataFrame'>\n",
            "RangeIndex: 3039 entries, 0 to 3038\n",
            "Data columns (total 18 columns):\n",
            " #   Column               Non-Null Count  Dtype  \n",
            "---  ------               --------------  -----  \n",
            " 0   x                    3039 non-null   float64\n",
            " 1   y                    3039 non-null   float64\n",
            " 2   region               1539 non-null   object \n",
            " 3   country              1539 non-null   object \n",
            " 4   cld                  3039 non-null   float64\n",
            " 5   dtr                  3039 non-null   float64\n",
            " 6   frs                  3039 non-null   float64\n",
            " 7   pet                  3039 non-null   float64\n",
            " 8   pre                  3039 non-null   float64\n",
            " 9   tmn                  3039 non-null   float64\n",
            " 10  tmp                  3039 non-null   float64\n",
            " 11  tmx                  3039 non-null   float64\n",
            " 12  vap                  3039 non-null   float64\n",
            " 13  wet                  3039 non-null   float64\n",
            " 14  elevation            3039 non-null   int64  \n",
            " 15  dominant_land_cover  3039 non-null   int64  \n",
            " 16  X5_Ct_2010_Da        3039 non-null   float64\n",
            " 17  X5_Bf_2010_Da        3039 non-null   float64\n",
            "dtypes: float64(14), int64(2), object(2)\n",
            "memory usage: 427.5+ KB\n"
          ]
        }
      ]
    },
    {
      "cell_type": "code",
      "source": [
        "obj=[]\n",
        "\n",
        "for col in train.columns:\n",
        "  if train[col].dtype==\"object\":\n",
        "    train[col]=train[col].astype('category')\n",
        "    test[col]=test[col].astype('category')"
      ],
      "metadata": {
        "id": "hZJA2_-7ZmWt"
      },
      "execution_count": null,
      "outputs": []
    },
    {
      "cell_type": "code",
      "source": [
        "train.info()"
      ],
      "metadata": {
        "colab": {
          "base_uri": "https://localhost:8080/"
        },
        "id": "jBhMjEWZuI3u",
        "outputId": "8d966e5d-5fba-44d4-fa77-0f9f67b32c46"
      },
      "execution_count": null,
      "outputs": [
        {
          "output_type": "stream",
          "name": "stdout",
          "text": [
            "<class 'pandas.core.frame.DataFrame'>\n",
            "RangeIndex: 21764 entries, 0 to 21763\n",
            "Data columns (total 19 columns):\n",
            " #   Column               Non-Null Count  Dtype   \n",
            "---  ------               --------------  -----   \n",
            " 0   x                    21764 non-null  float64 \n",
            " 1   y                    21764 non-null  float64 \n",
            " 2   region               1500 non-null   category\n",
            " 3   country              1500 non-null   category\n",
            " 4   cld                  21764 non-null  float64 \n",
            " 5   dtr                  21764 non-null  float64 \n",
            " 6   frs                  21764 non-null  float64 \n",
            " 7   pet                  21764 non-null  float64 \n",
            " 8   pre                  21764 non-null  float64 \n",
            " 9   tmn                  21764 non-null  float64 \n",
            " 10  tmp                  21764 non-null  float64 \n",
            " 11  tmx                  21764 non-null  float64 \n",
            " 12  vap                  21764 non-null  float64 \n",
            " 13  wet                  21764 non-null  float64 \n",
            " 14  elevation            21764 non-null  int64   \n",
            " 15  dominant_land_cover  21764 non-null  int64   \n",
            " 16  X5_Ct_2010_Da        21764 non-null  float64 \n",
            " 17  X5_Bf_2010_Da        21764 non-null  float64 \n",
            " 18  lumpy                21764 non-null  int64   \n",
            "dtypes: category(2), float64(14), int64(3)\n",
            "memory usage: 2.9 MB\n"
          ]
        }
      ]
    },
    {
      "cell_type": "code",
      "source": [
        "train.isnull().sum()"
      ],
      "metadata": {
        "colab": {
          "base_uri": "https://localhost:8080/"
        },
        "id": "Xk1xoqHUZyo5",
        "outputId": "2cdb25ce-f7bd-438e-b5ae-cff1275dc225"
      },
      "execution_count": null,
      "outputs": [
        {
          "output_type": "execute_result",
          "data": {
            "text/plain": [
              "x                      0\n",
              "y                      0\n",
              "region                 0\n",
              "country                0\n",
              "cld                    0\n",
              "dtr                    0\n",
              "frs                    0\n",
              "pet                    0\n",
              "pre                    0\n",
              "tmn                    0\n",
              "tmp                    0\n",
              "tmx                    0\n",
              "vap                    0\n",
              "wet                    0\n",
              "elevation              0\n",
              "dominant_land_cover    0\n",
              "X5_Ct_2010_Da          0\n",
              "X5_Bf_2010_Da          0\n",
              "lumpy                  0\n",
              "dtype: int64"
            ]
          },
          "metadata": {},
          "execution_count": 63
        }
      ]
    },
    {
      "cell_type": "code",
      "source": [
        "test.isnull().sum()"
      ],
      "metadata": {
        "colab": {
          "base_uri": "https://localhost:8080/"
        },
        "id": "jtm9wOSia9PA",
        "outputId": "339d1549-9ead-4e82-9c0a-3200d66dfd7e"
      },
      "execution_count": null,
      "outputs": [
        {
          "output_type": "execute_result",
          "data": {
            "text/plain": [
              "x                      0\n",
              "y                      0\n",
              "region                 0\n",
              "country                0\n",
              "cld                    0\n",
              "dtr                    0\n",
              "frs                    0\n",
              "pet                    0\n",
              "pre                    0\n",
              "tmn                    0\n",
              "tmp                    0\n",
              "tmx                    0\n",
              "vap                    0\n",
              "wet                    0\n",
              "elevation              0\n",
              "dominant_land_cover    0\n",
              "X5_Ct_2010_Da          0\n",
              "X5_Bf_2010_Da          0\n",
              "dtype: int64"
            ]
          },
          "metadata": {},
          "execution_count": 56
        }
      ]
    },
    {
      "cell_type": "code",
      "source": [],
      "metadata": {
        "id": "qkG8Y2kne2q-"
      },
      "execution_count": null,
      "outputs": []
    },
    {
      "cell_type": "code",
      "source": [
        "from sklearn.preprocessing import LabelEncoder\n",
        "encoder=LabelEncoder()\n",
        "for col in train.columns:\n",
        "  if train[col].dtype==\"object\":\n",
        "    train[col]=encoder.fit_transform(train[col])\n",
        "    test[col]=encoder.fit_transform(test[col])\n",
        ""
      ],
      "metadata": {
        "id": "JSFgzJkdaFFm"
      },
      "execution_count": null,
      "outputs": []
    },
    {
      "cell_type": "code",
      "source": [
        "train=train.fillna(method='bfill')\n",
        "train=train.fillna(method='ffill')\n"
      ],
      "metadata": {
        "id": "8-jsuT53bfo1"
      },
      "execution_count": null,
      "outputs": []
    },
    {
      "cell_type": "code",
      "source": [
        "test.isnull().sum()"
      ],
      "metadata": {
        "colab": {
          "base_uri": "https://localhost:8080/"
        },
        "id": "aRpEqPI8eKdB",
        "outputId": "7e88ab57-f70b-4451-8cfa-9f5b54b3f181"
      },
      "execution_count": null,
      "outputs": [
        {
          "output_type": "execute_result",
          "data": {
            "text/plain": [
              "x                      0\n",
              "y                      0\n",
              "region                 0\n",
              "country                0\n",
              "cld                    0\n",
              "dtr                    0\n",
              "frs                    0\n",
              "pet                    0\n",
              "pre                    0\n",
              "tmn                    0\n",
              "tmp                    0\n",
              "tmx                    0\n",
              "vap                    0\n",
              "wet                    0\n",
              "elevation              0\n",
              "dominant_land_cover    0\n",
              "X5_Ct_2010_Da          0\n",
              "X5_Bf_2010_Da          0\n",
              "dtype: int64"
            ]
          },
          "metadata": {},
          "execution_count": 64
        }
      ]
    },
    {
      "cell_type": "code",
      "source": [
        "X=train.drop(labels='lumpy',axis=1)\n",
        "y=train['lumpy']\n",
        "Y=pd.DataFrame(data=y)"
      ],
      "metadata": {
        "id": "4imrQSShbm7L"
      },
      "execution_count": null,
      "outputs": []
    },
    {
      "cell_type": "code",
      "source": [],
      "metadata": {
        "id": "smvcyYPOd3Sc"
      },
      "execution_count": null,
      "outputs": []
    },
    {
      "cell_type": "code",
      "source": [
        "from sklearn.ensemble import RandomForestClassifier\n",
        "model=RandomForestClassifier()\n",
        "\n",
        "model.fit(X,Y)"
      ],
      "metadata": {
        "colab": {
          "base_uri": "https://localhost:8080/"
        },
        "id": "euNd2Dq3bwgs",
        "outputId": "971268cb-bfae-4f02-e239-abf3ffd73f7b"
      },
      "execution_count": null,
      "outputs": [
        {
          "output_type": "stream",
          "name": "stderr",
          "text": [
            "<ipython-input-66-9b10c29d704f>:4: DataConversionWarning: A column-vector y was passed when a 1d array was expected. Please change the shape of y to (n_samples,), for example using ravel().\n",
            "  model.fit(X,Y)\n"
          ]
        },
        {
          "output_type": "execute_result",
          "data": {
            "text/plain": [
              "RandomForestClassifier()"
            ]
          },
          "metadata": {},
          "execution_count": 66
        }
      ]
    },
    {
      "cell_type": "code",
      "source": [
        "from sklearn.tree import DecisionTreeClassifier\n",
        "model=DecisionTreeClassifier()\n",
        "\n",
        "model.fit(X,Y)"
      ],
      "metadata": {
        "id": "XbI28og4qbLP",
        "outputId": "1f3840c5-b9d8-454b-ce58-6177f52dd2fe",
        "colab": {
          "base_uri": "https://localhost:8080/"
        }
      },
      "execution_count": null,
      "outputs": [
        {
          "output_type": "execute_result",
          "data": {
            "text/plain": [
              "DecisionTreeClassifier()"
            ]
          },
          "metadata": {},
          "execution_count": 87
        }
      ]
    },
    {
      "cell_type": "code",
      "source": [
        "pred=model.predict(test)"
      ],
      "metadata": {
        "id": "8L7g0AYKb3Rg"
      },
      "execution_count": null,
      "outputs": []
    },
    {
      "cell_type": "code",
      "source": [
        "Y"
      ],
      "metadata": {
        "colab": {
          "base_uri": "https://localhost:8080/",
          "height": 424
        },
        "id": "AP0LTp1qcDc6",
        "outputId": "4af0dcaa-e450-48d9-f223-f98adcd4aa23"
      },
      "execution_count": null,
      "outputs": [
        {
          "output_type": "execute_result",
          "data": {
            "text/plain": [
              "       lumpy\n",
              "0          0\n",
              "1          0\n",
              "2          0\n",
              "3          0\n",
              "4          0\n",
              "...      ...\n",
              "21759      0\n",
              "21760      0\n",
              "21761      0\n",
              "21762      0\n",
              "21763      0\n",
              "\n",
              "[21764 rows x 1 columns]"
            ],
            "text/html": [
              "\n",
              "  <div id=\"df-f6286330-24fe-4798-a0cd-ec75d472609a\">\n",
              "    <div class=\"colab-df-container\">\n",
              "      <div>\n",
              "<style scoped>\n",
              "    .dataframe tbody tr th:only-of-type {\n",
              "        vertical-align: middle;\n",
              "    }\n",
              "\n",
              "    .dataframe tbody tr th {\n",
              "        vertical-align: top;\n",
              "    }\n",
              "\n",
              "    .dataframe thead th {\n",
              "        text-align: right;\n",
              "    }\n",
              "</style>\n",
              "<table border=\"1\" class=\"dataframe\">\n",
              "  <thead>\n",
              "    <tr style=\"text-align: right;\">\n",
              "      <th></th>\n",
              "      <th>lumpy</th>\n",
              "    </tr>\n",
              "  </thead>\n",
              "  <tbody>\n",
              "    <tr>\n",
              "      <th>0</th>\n",
              "      <td>0</td>\n",
              "    </tr>\n",
              "    <tr>\n",
              "      <th>1</th>\n",
              "      <td>0</td>\n",
              "    </tr>\n",
              "    <tr>\n",
              "      <th>2</th>\n",
              "      <td>0</td>\n",
              "    </tr>\n",
              "    <tr>\n",
              "      <th>3</th>\n",
              "      <td>0</td>\n",
              "    </tr>\n",
              "    <tr>\n",
              "      <th>4</th>\n",
              "      <td>0</td>\n",
              "    </tr>\n",
              "    <tr>\n",
              "      <th>...</th>\n",
              "      <td>...</td>\n",
              "    </tr>\n",
              "    <tr>\n",
              "      <th>21759</th>\n",
              "      <td>0</td>\n",
              "    </tr>\n",
              "    <tr>\n",
              "      <th>21760</th>\n",
              "      <td>0</td>\n",
              "    </tr>\n",
              "    <tr>\n",
              "      <th>21761</th>\n",
              "      <td>0</td>\n",
              "    </tr>\n",
              "    <tr>\n",
              "      <th>21762</th>\n",
              "      <td>0</td>\n",
              "    </tr>\n",
              "    <tr>\n",
              "      <th>21763</th>\n",
              "      <td>0</td>\n",
              "    </tr>\n",
              "  </tbody>\n",
              "</table>\n",
              "<p>21764 rows × 1 columns</p>\n",
              "</div>\n",
              "      <button class=\"colab-df-convert\" onclick=\"convertToInteractive('df-f6286330-24fe-4798-a0cd-ec75d472609a')\"\n",
              "              title=\"Convert this dataframe to an interactive table.\"\n",
              "              style=\"display:none;\">\n",
              "        \n",
              "  <svg xmlns=\"http://www.w3.org/2000/svg\" height=\"24px\"viewBox=\"0 0 24 24\"\n",
              "       width=\"24px\">\n",
              "    <path d=\"M0 0h24v24H0V0z\" fill=\"none\"/>\n",
              "    <path d=\"M18.56 5.44l.94 2.06.94-2.06 2.06-.94-2.06-.94-.94-2.06-.94 2.06-2.06.94zm-11 1L8.5 8.5l.94-2.06 2.06-.94-2.06-.94L8.5 2.5l-.94 2.06-2.06.94zm10 10l.94 2.06.94-2.06 2.06-.94-2.06-.94-.94-2.06-.94 2.06-2.06.94z\"/><path d=\"M17.41 7.96l-1.37-1.37c-.4-.4-.92-.59-1.43-.59-.52 0-1.04.2-1.43.59L10.3 9.45l-7.72 7.72c-.78.78-.78 2.05 0 2.83L4 21.41c.39.39.9.59 1.41.59.51 0 1.02-.2 1.41-.59l7.78-7.78 2.81-2.81c.8-.78.8-2.07 0-2.86zM5.41 20L4 18.59l7.72-7.72 1.47 1.35L5.41 20z\"/>\n",
              "  </svg>\n",
              "      </button>\n",
              "      \n",
              "  <style>\n",
              "    .colab-df-container {\n",
              "      display:flex;\n",
              "      flex-wrap:wrap;\n",
              "      gap: 12px;\n",
              "    }\n",
              "\n",
              "    .colab-df-convert {\n",
              "      background-color: #E8F0FE;\n",
              "      border: none;\n",
              "      border-radius: 50%;\n",
              "      cursor: pointer;\n",
              "      display: none;\n",
              "      fill: #1967D2;\n",
              "      height: 32px;\n",
              "      padding: 0 0 0 0;\n",
              "      width: 32px;\n",
              "    }\n",
              "\n",
              "    .colab-df-convert:hover {\n",
              "      background-color: #E2EBFA;\n",
              "      box-shadow: 0px 1px 2px rgba(60, 64, 67, 0.3), 0px 1px 3px 1px rgba(60, 64, 67, 0.15);\n",
              "      fill: #174EA6;\n",
              "    }\n",
              "\n",
              "    [theme=dark] .colab-df-convert {\n",
              "      background-color: #3B4455;\n",
              "      fill: #D2E3FC;\n",
              "    }\n",
              "\n",
              "    [theme=dark] .colab-df-convert:hover {\n",
              "      background-color: #434B5C;\n",
              "      box-shadow: 0px 1px 3px 1px rgba(0, 0, 0, 0.15);\n",
              "      filter: drop-shadow(0px 1px 2px rgba(0, 0, 0, 0.3));\n",
              "      fill: #FFFFFF;\n",
              "    }\n",
              "  </style>\n",
              "\n",
              "      <script>\n",
              "        const buttonEl =\n",
              "          document.querySelector('#df-f6286330-24fe-4798-a0cd-ec75d472609a button.colab-df-convert');\n",
              "        buttonEl.style.display =\n",
              "          google.colab.kernel.accessAllowed ? 'block' : 'none';\n",
              "\n",
              "        async function convertToInteractive(key) {\n",
              "          const element = document.querySelector('#df-f6286330-24fe-4798-a0cd-ec75d472609a');\n",
              "          const dataTable =\n",
              "            await google.colab.kernel.invokeFunction('convertToInteractive',\n",
              "                                                     [key], {});\n",
              "          if (!dataTable) return;\n",
              "\n",
              "          const docLinkHtml = 'Like what you see? Visit the ' +\n",
              "            '<a target=\"_blank\" href=https://colab.research.google.com/notebooks/data_table.ipynb>data table notebook</a>'\n",
              "            + ' to learn more about interactive tables.';\n",
              "          element.innerHTML = '';\n",
              "          dataTable['output_type'] = 'display_data';\n",
              "          await google.colab.output.renderOutput(dataTable, element);\n",
              "          const docLink = document.createElement('div');\n",
              "          docLink.innerHTML = docLinkHtml;\n",
              "          element.appendChild(docLink);\n",
              "        }\n",
              "      </script>\n",
              "    </div>\n",
              "  </div>\n",
              "  "
            ]
          },
          "metadata": {},
          "execution_count": 73
        }
      ]
    },
    {
      "cell_type": "code",
      "source": [
        "submission['lumpy']=pred"
      ],
      "metadata": {
        "id": "A_sb2j-ycFvQ"
      },
      "execution_count": null,
      "outputs": []
    },
    {
      "cell_type": "code",
      "source": [
        "submission"
      ],
      "metadata": {
        "colab": {
          "base_uri": "https://localhost:8080/",
          "height": 424
        },
        "id": "tNB0Lrax1fiQ",
        "outputId": "de7bf515-471e-45ae-8965-ef56d20b865a"
      },
      "execution_count": null,
      "outputs": [
        {
          "output_type": "execute_result",
          "data": {
            "text/plain": [
              "      index  lumpy\n",
              "0         0      1\n",
              "1         1      1\n",
              "2         2      1\n",
              "3         3      1\n",
              "4         4      1\n",
              "...     ...    ...\n",
              "3034   3034      1\n",
              "3035   3035      1\n",
              "3036   3036      1\n",
              "3037   3037      1\n",
              "3038   3038      1\n",
              "\n",
              "[3039 rows x 2 columns]"
            ],
            "text/html": [
              "\n",
              "  <div id=\"df-7c29da98-3d4a-4c64-a569-7fbf55cf4bd1\">\n",
              "    <div class=\"colab-df-container\">\n",
              "      <div>\n",
              "<style scoped>\n",
              "    .dataframe tbody tr th:only-of-type {\n",
              "        vertical-align: middle;\n",
              "    }\n",
              "\n",
              "    .dataframe tbody tr th {\n",
              "        vertical-align: top;\n",
              "    }\n",
              "\n",
              "    .dataframe thead th {\n",
              "        text-align: right;\n",
              "    }\n",
              "</style>\n",
              "<table border=\"1\" class=\"dataframe\">\n",
              "  <thead>\n",
              "    <tr style=\"text-align: right;\">\n",
              "      <th></th>\n",
              "      <th>index</th>\n",
              "      <th>lumpy</th>\n",
              "    </tr>\n",
              "  </thead>\n",
              "  <tbody>\n",
              "    <tr>\n",
              "      <th>0</th>\n",
              "      <td>0</td>\n",
              "      <td>1</td>\n",
              "    </tr>\n",
              "    <tr>\n",
              "      <th>1</th>\n",
              "      <td>1</td>\n",
              "      <td>1</td>\n",
              "    </tr>\n",
              "    <tr>\n",
              "      <th>2</th>\n",
              "      <td>2</td>\n",
              "      <td>1</td>\n",
              "    </tr>\n",
              "    <tr>\n",
              "      <th>3</th>\n",
              "      <td>3</td>\n",
              "      <td>1</td>\n",
              "    </tr>\n",
              "    <tr>\n",
              "      <th>4</th>\n",
              "      <td>4</td>\n",
              "      <td>1</td>\n",
              "    </tr>\n",
              "    <tr>\n",
              "      <th>...</th>\n",
              "      <td>...</td>\n",
              "      <td>...</td>\n",
              "    </tr>\n",
              "    <tr>\n",
              "      <th>3034</th>\n",
              "      <td>3034</td>\n",
              "      <td>1</td>\n",
              "    </tr>\n",
              "    <tr>\n",
              "      <th>3035</th>\n",
              "      <td>3035</td>\n",
              "      <td>1</td>\n",
              "    </tr>\n",
              "    <tr>\n",
              "      <th>3036</th>\n",
              "      <td>3036</td>\n",
              "      <td>1</td>\n",
              "    </tr>\n",
              "    <tr>\n",
              "      <th>3037</th>\n",
              "      <td>3037</td>\n",
              "      <td>1</td>\n",
              "    </tr>\n",
              "    <tr>\n",
              "      <th>3038</th>\n",
              "      <td>3038</td>\n",
              "      <td>1</td>\n",
              "    </tr>\n",
              "  </tbody>\n",
              "</table>\n",
              "<p>3039 rows × 2 columns</p>\n",
              "</div>\n",
              "      <button class=\"colab-df-convert\" onclick=\"convertToInteractive('df-7c29da98-3d4a-4c64-a569-7fbf55cf4bd1')\"\n",
              "              title=\"Convert this dataframe to an interactive table.\"\n",
              "              style=\"display:none;\">\n",
              "        \n",
              "  <svg xmlns=\"http://www.w3.org/2000/svg\" height=\"24px\"viewBox=\"0 0 24 24\"\n",
              "       width=\"24px\">\n",
              "    <path d=\"M0 0h24v24H0V0z\" fill=\"none\"/>\n",
              "    <path d=\"M18.56 5.44l.94 2.06.94-2.06 2.06-.94-2.06-.94-.94-2.06-.94 2.06-2.06.94zm-11 1L8.5 8.5l.94-2.06 2.06-.94-2.06-.94L8.5 2.5l-.94 2.06-2.06.94zm10 10l.94 2.06.94-2.06 2.06-.94-2.06-.94-.94-2.06-.94 2.06-2.06.94z\"/><path d=\"M17.41 7.96l-1.37-1.37c-.4-.4-.92-.59-1.43-.59-.52 0-1.04.2-1.43.59L10.3 9.45l-7.72 7.72c-.78.78-.78 2.05 0 2.83L4 21.41c.39.39.9.59 1.41.59.51 0 1.02-.2 1.41-.59l7.78-7.78 2.81-2.81c.8-.78.8-2.07 0-2.86zM5.41 20L4 18.59l7.72-7.72 1.47 1.35L5.41 20z\"/>\n",
              "  </svg>\n",
              "      </button>\n",
              "      \n",
              "  <style>\n",
              "    .colab-df-container {\n",
              "      display:flex;\n",
              "      flex-wrap:wrap;\n",
              "      gap: 12px;\n",
              "    }\n",
              "\n",
              "    .colab-df-convert {\n",
              "      background-color: #E8F0FE;\n",
              "      border: none;\n",
              "      border-radius: 50%;\n",
              "      cursor: pointer;\n",
              "      display: none;\n",
              "      fill: #1967D2;\n",
              "      height: 32px;\n",
              "      padding: 0 0 0 0;\n",
              "      width: 32px;\n",
              "    }\n",
              "\n",
              "    .colab-df-convert:hover {\n",
              "      background-color: #E2EBFA;\n",
              "      box-shadow: 0px 1px 2px rgba(60, 64, 67, 0.3), 0px 1px 3px 1px rgba(60, 64, 67, 0.15);\n",
              "      fill: #174EA6;\n",
              "    }\n",
              "\n",
              "    [theme=dark] .colab-df-convert {\n",
              "      background-color: #3B4455;\n",
              "      fill: #D2E3FC;\n",
              "    }\n",
              "\n",
              "    [theme=dark] .colab-df-convert:hover {\n",
              "      background-color: #434B5C;\n",
              "      box-shadow: 0px 1px 3px 1px rgba(0, 0, 0, 0.15);\n",
              "      filter: drop-shadow(0px 1px 2px rgba(0, 0, 0, 0.3));\n",
              "      fill: #FFFFFF;\n",
              "    }\n",
              "  </style>\n",
              "\n",
              "      <script>\n",
              "        const buttonEl =\n",
              "          document.querySelector('#df-7c29da98-3d4a-4c64-a569-7fbf55cf4bd1 button.colab-df-convert');\n",
              "        buttonEl.style.display =\n",
              "          google.colab.kernel.accessAllowed ? 'block' : 'none';\n",
              "\n",
              "        async function convertToInteractive(key) {\n",
              "          const element = document.querySelector('#df-7c29da98-3d4a-4c64-a569-7fbf55cf4bd1');\n",
              "          const dataTable =\n",
              "            await google.colab.kernel.invokeFunction('convertToInteractive',\n",
              "                                                     [key], {});\n",
              "          if (!dataTable) return;\n",
              "\n",
              "          const docLinkHtml = 'Like what you see? Visit the ' +\n",
              "            '<a target=\"_blank\" href=https://colab.research.google.com/notebooks/data_table.ipynb>data table notebook</a>'\n",
              "            + ' to learn more about interactive tables.';\n",
              "          element.innerHTML = '';\n",
              "          dataTable['output_type'] = 'display_data';\n",
              "          await google.colab.output.renderOutput(dataTable, element);\n",
              "          const docLink = document.createElement('div');\n",
              "          docLink.innerHTML = docLinkHtml;\n",
              "          element.appendChild(docLink);\n",
              "        }\n",
              "      </script>\n",
              "    </div>\n",
              "  </div>\n",
              "  "
            ]
          },
          "metadata": {},
          "execution_count": 90
        }
      ]
    },
    {
      "cell_type": "code",
      "source": [
        "submission.to_csv('my submission.csv',index=False)\n",
        "files.download('my submission.csv')"
      ],
      "metadata": {
        "colab": {
          "base_uri": "https://localhost:8080/",
          "height": 17
        },
        "id": "uCqRRDqEcPgh",
        "outputId": "599c2e92-c8a4-477d-e9ac-afb94ace4a02"
      },
      "execution_count": null,
      "outputs": [
        {
          "output_type": "display_data",
          "data": {
            "text/plain": [
              "<IPython.core.display.Javascript object>"
            ],
            "application/javascript": [
              "\n",
              "    async function download(id, filename, size) {\n",
              "      if (!google.colab.kernel.accessAllowed) {\n",
              "        return;\n",
              "      }\n",
              "      const div = document.createElement('div');\n",
              "      const label = document.createElement('label');\n",
              "      label.textContent = `Downloading \"${filename}\": `;\n",
              "      div.appendChild(label);\n",
              "      const progress = document.createElement('progress');\n",
              "      progress.max = size;\n",
              "      div.appendChild(progress);\n",
              "      document.body.appendChild(div);\n",
              "\n",
              "      const buffers = [];\n",
              "      let downloaded = 0;\n",
              "\n",
              "      const channel = await google.colab.kernel.comms.open(id);\n",
              "      // Send a message to notify the kernel that we're ready.\n",
              "      channel.send({})\n",
              "\n",
              "      for await (const message of channel.messages) {\n",
              "        // Send a message to notify the kernel that we're ready.\n",
              "        channel.send({})\n",
              "        if (message.buffers) {\n",
              "          for (const buffer of message.buffers) {\n",
              "            buffers.push(buffer);\n",
              "            downloaded += buffer.byteLength;\n",
              "            progress.value = downloaded;\n",
              "          }\n",
              "        }\n",
              "      }\n",
              "      const blob = new Blob(buffers, {type: 'application/binary'});\n",
              "      const a = document.createElement('a');\n",
              "      a.href = window.URL.createObjectURL(blob);\n",
              "      a.download = filename;\n",
              "      div.appendChild(a);\n",
              "      a.click();\n",
              "      div.remove();\n",
              "    }\n",
              "  "
            ]
          },
          "metadata": {}
        },
        {
          "output_type": "display_data",
          "data": {
            "text/plain": [
              "<IPython.core.display.Javascript object>"
            ],
            "application/javascript": [
              "download(\"download_db927303-50f3-4feb-9fb8-bc6fc095514e\", \"my submission.csv\", 20175)"
            ]
          },
          "metadata": {}
        }
      ]
    },
    {
      "cell_type": "code",
      "source": [],
      "metadata": {
        "id": "FvFCjwDhmgJp"
      },
      "execution_count": null,
      "outputs": []
    }
  ]
}