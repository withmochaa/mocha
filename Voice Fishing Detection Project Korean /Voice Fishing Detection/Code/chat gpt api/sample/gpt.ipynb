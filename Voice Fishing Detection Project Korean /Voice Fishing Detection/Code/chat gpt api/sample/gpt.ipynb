{
 "cells": [
  {
   "cell_type": "code",
   "execution_count": 2,
   "metadata": {},
   "outputs": [
    {
     "name": "stdout",
     "output_type": "stream",
     "text": [
      "아니오.\n"
     ]
    }
   ],
   "source": [
    "import os\n",
    "from openai import OpenAI\n",
    "\n",
    "client = OpenAI(\n",
    "    api_key = \"\"\n",
    ")\n",
    "\n",
    "question=input(\"What is your question?\")\n",
    "\n",
    "completion = client.chat.completions.create(\n",
    "  model = \"gpt-3.5-turbo-0125\",\n",
    "  messages = [\n",
    "    {\"role\": \"system\", \"content\": question}\n",
    "    \n",
    "  ]\n",
    ")\n",
    "\n",
    "print(completion.choices[0].message.content.strip())"
   ]
  },
  {
   "cell_type": "code",
   "execution_count": null,
   "metadata": {},
   "outputs": [],
   "source": []
  }
 ],
 "metadata": {
  "kernelspec": {
   "display_name": "base",
   "language": "python",
   "name": "python3"
  },
  "language_info": {
   "codemirror_mode": {
    "name": "ipython",
    "version": 3
   },
   "file_extension": ".py",
   "mimetype": "text/x-python",
   "name": "python",
   "nbconvert_exporter": "python",
   "pygments_lexer": "ipython3",
   "version": "3.11.9"
  }
 },
 "nbformat": 4,
 "nbformat_minor": 2
}
