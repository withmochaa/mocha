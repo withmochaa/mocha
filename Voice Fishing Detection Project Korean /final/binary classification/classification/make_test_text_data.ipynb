{
 "cells": [
  {
   "cell_type": "code",
   "execution_count": 1,
   "metadata": {},
   "outputs": [],
   "source": [
    "text=\" 네 네 가려고요 농협으로 아 이제 이동을 할려고 하는 거죠. 그러면 그 이동을 하기 전에 제가 말씀드린 부분이 있는데 일단은 그 이동을 하더라도 바로 이 은행으로 가지 마시고 같이 할 수 있고어 제가 잠시 이제 금융 감독원의 지시사항에 따라서 진행을 하는 사건이기 때문에 어 혹시라도 이제 아 돌발 상황이 발생할 수도 있어요.\"\n",
    "file=open(\"test file.txt\",\"w\")\n",
    "file.write(text)\n",
    "file.close()"
   ]
  },
  {
   "cell_type": "code",
   "execution_count": null,
   "metadata": {},
   "outputs": [],
   "source": []
  }
 ],
 "metadata": {
  "kernelspec": {
   "display_name": "conda_cpu",
   "language": "python",
   "name": "python3"
  },
  "language_info": {
   "codemirror_mode": {
    "name": "ipython",
    "version": 3
   },
   "file_extension": ".py",
   "mimetype": "text/x-python",
   "name": "python",
   "nbconvert_exporter": "python",
   "pygments_lexer": "ipython3",
   "version": "3.12.2"
  }
 },
 "nbformat": 4,
 "nbformat_minor": 2
}
