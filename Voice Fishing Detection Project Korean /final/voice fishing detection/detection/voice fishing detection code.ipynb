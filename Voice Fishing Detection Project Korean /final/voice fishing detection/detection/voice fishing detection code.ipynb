{
 "cells": [
  {
   "cell_type": "code",
   "execution_count": 2,
   "metadata": {},
   "outputs": [],
   "source": [
    "import pandas as pd   \n",
    "import math\n",
    "import time\n",
    "import librosa\n",
    "import whisper\n",
    "from pydub import AudioSegment\n",
    "import numpy as np \n",
    "import torch\n",
    "import torch.nn as nn"
   ]
  },
  {
   "cell_type": "code",
   "execution_count": 4,
   "metadata": {},
   "outputs": [
    {
     "name": "stderr",
     "output_type": "stream",
     "text": [
      "/opt/anaconda3/envs/conda_cpu/lib/python3.12/site-packages/whisper/transcribe.py:115: UserWarning: FP16 is not supported on CPU; using FP32 instead\n",
      "  warnings.warn(\"FP16 is not supported on CPU; using FP32 instead\")\n"
     ]
    },
    {
     "name": "stdout",
     "output_type": "stream",
     "text": [
      " 심사과에서 말씀하시는 조건이라는 게 지금 고객님께서 보여주신 채무 1포를 고객님께서 직접 상한체되어 하셔서 채무 공감만 조금 만들어 주시며 금액권은 동일하게 조건 부승인권으로 당일 종으로도 수령 가능하다고 말씀하시거든요. 호견아 오해하실까봐 말씀드리는 건데 저희 쪽으로 나빠지는 거 절대로 아니세요. 좀 연락하셔가지고 고객님 채무 상한체로 하시는 거고요. 지금 심사과에서 말씀하시는 금액 최소변제 금액 300만 원이세요. 물론 300만 원은 조금 금액이 아니잖아요. 고객님 2400만 원 나가시잖아요. 대환하실 게 2300이시고 생계제금 100만 원이신데 300만 원 상한하시면 대환하실 금액이 줄어드시는 거잖아요. 단어로. 그러면 생계제금이 400만 원 된다고 생각하시면 되시는 거거든요. 나문자금은 고객님 다른 종수로 사용하셔도 뭐가 하신 거기 때문에 당일종으로 고객님한테 들어가신다고 생각하시면 되시는 거거든요. 좀 힘드시겠지만 고객님께서 채무 엿들부, 엿들부, 엿들부, 어느 쪽으로든 300만 원 정도 채무 직접 상한 처리가 가능하실까요.\n"
     ]
    }
   ],
   "source": [
    "\n",
    "model = whisper.load_model(\"small\")\n",
    "\n",
    "\n",
    "audio_path = \"/Users/withmocha/Downloads/대출빙자 5단계(금전 편취 시도)_.mp3\"\n",
    "\n",
    "\n",
    "result = model.transcribe(audio_path)\n",
    "\n",
    "\n",
    "print(result[\"text\"])"
   ]
  },
  {
   "cell_type": "code",
   "execution_count": 224,
   "metadata": {},
   "outputs": [
    {
     "data": {
      "text/plain": [
       "' 심사과에서 말씀하시는 조건이라는 게 지금 고객님께서 보여주신 채무 1포를 고객님께서 직접 상한체되어 하셔서 채무 공감만 조금 만들어 주시며 금액권은 동일하게 조건 부승인권으로 당일 종으로도 수령 가능하다고 말씀하시거든요. 호견아 오해하실까봐 말씀드리는 건데 저희 쪽으로 나빠지는 거 절대로 아니세요. 좀 연락하셔가지고 고객님 채무 상한체로 하시는 거고요. 지금 심사과에서 말씀하시는 금액 최소변제 금액 300만 원이세요. 물론 300만 원은 조금 금액이 아니잖아요. 고객님 2400만 원 나가시잖아요. 대환하실 게 2300이시고 생계제금 100만 원이신데 300만 원 상한하시면 대환하실 금액이 줄어드시는 거잖아요. 단어로. 그러면 생계제금이 400만 원 된다고 생각하시면 되시는 거거든요. 나문자금은 고객님 다른 종수로 사용하셔도 뭐가 하신 거기 때문에 당일종으로 고객님한테 들어가신다고 생각하시면 되시는 거거든요. 좀 힘드시겠지만 고객님께서 채무 엿들부, 엿들부, 엿들부, 어느 쪽으로든 300만 원 정도 채무 직접 상한 처리가 가능하실까요.'"
      ]
     },
     "execution_count": 224,
     "metadata": {},
     "output_type": "execute_result"
    }
   ],
   "source": [
    "start = time.time()\n",
    "\n",
    "result[\"text\"]"
   ]
  },
  {
   "cell_type": "code",
   "execution_count": 225,
   "metadata": {},
   "outputs": [],
   "source": [
    "A=len(result[\"text\"])"
   ]
  },
  {
   "cell_type": "code",
   "execution_count": 226,
   "metadata": {},
   "outputs": [
    {
     "data": {
      "text/plain": [
       "530"
      ]
     },
     "execution_count": 226,
     "metadata": {},
     "output_type": "execute_result"
    }
   ],
   "source": [
    "A"
   ]
  },
  {
   "cell_type": "code",
   "execution_count": 227,
   "metadata": {},
   "outputs": [],
   "source": [
    "B=len(\"1단계로 알겠고요. 저희는 KB 금융괴로서 KB 저축은행인데요. 지금 5월에 저희는 대한대출 플러스 생활료지사금적으로 나온 대출 상품이 있어요. 그리고 연휴율이 7.8%대로 진행하는 부분이고 상원 기간이 온앤까지고요\")"
   ]
  },
  {
   "cell_type": "code",
   "execution_count": 228,
   "metadata": {},
   "outputs": [
    {
     "name": "stdout",
     "output_type": "stream",
     "text": [
      "Channels: 2\n",
      "Sample Width: 2\n",
      "Frame Rate (Sample Rate): 44100\n",
      "Frame Width: 4\n",
      "Length (ms): 56216\n"
     ]
    },
    {
     "name": "stderr",
     "output_type": "stream",
     "text": [
      "huggingface/tokenizers: The current process just got forked, after parallelism has already been used. Disabling parallelism to avoid deadlocks...\n",
      "To disable this warning, you can either:\n",
      "\t- Avoid using `tokenizers` before the fork if possible\n",
      "\t- Explicitly set the environment variable TOKENIZERS_PARALLELISM=(true | false)\n",
      "huggingface/tokenizers: The current process just got forked, after parallelism has already been used. Disabling parallelism to avoid deadlocks...\n",
      "To disable this warning, you can either:\n",
      "\t- Avoid using `tokenizers` before the fork if possible\n",
      "\t- Explicitly set the environment variable TOKENIZERS_PARALLELISM=(true | false)\n"
     ]
    }
   ],
   "source": [
    "\n",
    "audio = AudioSegment.from_mp3(audio_path)\n",
    "\n",
    "print(f\"Channels: {audio.channels}\")\n",
    "print(f\"Sample Width: {audio.sample_width}\")\n",
    "print(f\"Frame Rate (Sample Rate): {audio.frame_rate}\")\n",
    "print(f\"Frame Width: {audio.frame_width}\")\n",
    "print(f\"Length (ms): {len(audio)}\")"
   ]
  },
  {
   "cell_type": "code",
   "execution_count": 229,
   "metadata": {},
   "outputs": [],
   "source": [
    "seconds=(len(audio)/1000.0)%60"
   ]
  },
  {
   "cell_type": "code",
   "execution_count": 230,
   "metadata": {},
   "outputs": [
    {
     "data": {
      "text/plain": [
       "56.216"
      ]
     },
     "execution_count": 230,
     "metadata": {},
     "output_type": "execute_result"
    }
   ],
   "source": [
    "seconds"
   ]
  },
  {
   "cell_type": "code",
   "execution_count": 231,
   "metadata": {},
   "outputs": [],
   "source": [
    "target_time=seconds/A"
   ]
  },
  {
   "cell_type": "code",
   "execution_count": 232,
   "metadata": {},
   "outputs": [
    {
     "data": {
      "text/plain": [
       "0.10606792452830188"
      ]
     },
     "execution_count": 232,
     "metadata": {},
     "output_type": "execute_result"
    }
   ],
   "source": [
    "target_time#1문자 시간"
   ]
  },
  {
   "cell_type": "code",
   "execution_count": 233,
   "metadata": {},
   "outputs": [],
   "source": [
    "cost_time=target_time*220# 숫자는 문자의 갯수"
   ]
  },
  {
   "cell_type": "code",
   "execution_count": 234,
   "metadata": {},
   "outputs": [
    {
     "data": {
      "text/plain": [
       "23.334943396226414"
      ]
     },
     "execution_count": 234,
     "metadata": {},
     "output_type": "execute_result"
    }
   ],
   "source": [
    "cost_time"
   ]
  },
  {
   "cell_type": "code",
   "execution_count": 235,
   "metadata": {},
   "outputs": [
    {
     "name": "stdout",
     "output_type": "stream",
     "text": [
      "0.00010606792452830188\n"
     ]
    }
   ],
   "source": [
    "seconds=(target_time/1000)%60\n",
    "print(seconds)"
   ]
  },
  {
   "cell_type": "code",
   "execution_count": 236,
   "metadata": {},
   "outputs": [],
   "source": [
    "target_data=pd.DataFrame(index=range(1),columns=['sentence'])"
   ]
  },
  {
   "cell_type": "code",
   "execution_count": 237,
   "metadata": {},
   "outputs": [],
   "source": [
    "target_data.iloc[0,0]=result['text'][:220]"
   ]
  },
  {
   "cell_type": "code",
   "execution_count": 238,
   "metadata": {},
   "outputs": [
    {
     "data": {
      "text/html": [
       "<div>\n",
       "<style scoped>\n",
       "    .dataframe tbody tr th:only-of-type {\n",
       "        vertical-align: middle;\n",
       "    }\n",
       "\n",
       "    .dataframe tbody tr th {\n",
       "        vertical-align: top;\n",
       "    }\n",
       "\n",
       "    .dataframe thead th {\n",
       "        text-align: right;\n",
       "    }\n",
       "</style>\n",
       "<table border=\"1\" class=\"dataframe\">\n",
       "  <thead>\n",
       "    <tr style=\"text-align: right;\">\n",
       "      <th></th>\n",
       "      <th>sentence</th>\n",
       "    </tr>\n",
       "  </thead>\n",
       "  <tbody>\n",
       "    <tr>\n",
       "      <th>0</th>\n",
       "      <td>심사과에서 말씀하시는 조건이라는 게 지금 고객님께서 보여주신 채무 1포를 고객님께...</td>\n",
       "    </tr>\n",
       "  </tbody>\n",
       "</table>\n",
       "</div>"
      ],
      "text/plain": [
       "                                            sentence\n",
       "0   심사과에서 말씀하시는 조건이라는 게 지금 고객님께서 보여주신 채무 1포를 고객님께..."
      ]
     },
     "execution_count": 238,
     "metadata": {},
     "output_type": "execute_result"
    }
   ],
   "source": [
    "target_data"
   ]
  },
  {
   "cell_type": "code",
   "execution_count": 239,
   "metadata": {},
   "outputs": [],
   "source": [
    "target_data.to_csv(\"data.csv\")"
   ]
  },
  {
   "cell_type": "code",
   "execution_count": 240,
   "metadata": {},
   "outputs": [],
   "source": [
    "count_s = 0\n",
    "B = []\n",
    "original_str = target_data.iloc[0,0]\n",
    "A = len(original_str)\n",
    "\n",
    "for j in range(A):\n",
    "    char = original_str[j]\n",
    "    if char not in [',', '\\'', '[', ']']:\n",
    "        B.append(char)\n",
    "    if char == '.':\n",
    "        count_s += 1\n",
    "    if count_s == 4:\n",
    "        break \n",
    "    if len(B)>200:\n",
    "        break    \n",
    "\n",
    "new_str = ''.join(B)\n",
    "target_data.iloc[0,0] = new_str"
   ]
  },
  {
   "cell_type": "code",
   "execution_count": 241,
   "metadata": {},
   "outputs": [
    {
     "data": {
      "text/plain": [
       "' 심사과에서 말씀하시는 조건이라는 게 지금 고객님께서 보여주신 채무 1포를 고객님께서 직접 상한체되어 하셔서 채무 공감만 조금 만들어 주시며 금액권은 동일하게 조건 부승인권으로 당일 종으로도 수령 가능하다고 말씀하시거든요. 호견아 오해하실까봐 말씀드리는 건데 저희 쪽으로 나빠지는 거 절대로 아니세요. 좀 연락하셔가지고 고객님 채무 상한체로 하시는 거고요. 지'"
      ]
     },
     "execution_count": 241,
     "metadata": {},
     "output_type": "execute_result"
    }
   ],
   "source": [
    "target_data.iloc[0,0]"
   ]
  },
  {
   "cell_type": "code",
   "execution_count": 242,
   "metadata": {},
   "outputs": [],
   "source": [
    "from sentence_transformers import SentenceTransformer\n",
    "\n",
    "model = SentenceTransformer('sentence-transformers/all-mpnet-base-v2')"
   ]
  },
  {
   "cell_type": "code",
   "execution_count": 243,
   "metadata": {},
   "outputs": [],
   "source": [
    "A=model.encode(target_data.iloc[0,0])"
   ]
  },
  {
   "cell_type": "code",
   "execution_count": 244,
   "metadata": {},
   "outputs": [],
   "source": [
    "list=[]\n",
    "\n",
    "for i in range(A.shape[0]):\n",
    "    list.append(i)"
   ]
  },
  {
   "cell_type": "code",
   "execution_count": 245,
   "metadata": {},
   "outputs": [],
   "source": [
    "x_train=pd.DataFrame(index=range(1),columns=list)"
   ]
  },
  {
   "cell_type": "code",
   "execution_count": 246,
   "metadata": {},
   "outputs": [
    {
     "data": {
      "text/html": [
       "<div>\n",
       "<style scoped>\n",
       "    .dataframe tbody tr th:only-of-type {\n",
       "        vertical-align: middle;\n",
       "    }\n",
       "\n",
       "    .dataframe tbody tr th {\n",
       "        vertical-align: top;\n",
       "    }\n",
       "\n",
       "    .dataframe thead th {\n",
       "        text-align: right;\n",
       "    }\n",
       "</style>\n",
       "<table border=\"1\" class=\"dataframe\">\n",
       "  <thead>\n",
       "    <tr style=\"text-align: right;\">\n",
       "      <th></th>\n",
       "      <th>0</th>\n",
       "      <th>1</th>\n",
       "      <th>2</th>\n",
       "      <th>3</th>\n",
       "      <th>4</th>\n",
       "      <th>5</th>\n",
       "      <th>6</th>\n",
       "      <th>7</th>\n",
       "      <th>8</th>\n",
       "      <th>9</th>\n",
       "      <th>...</th>\n",
       "      <th>758</th>\n",
       "      <th>759</th>\n",
       "      <th>760</th>\n",
       "      <th>761</th>\n",
       "      <th>762</th>\n",
       "      <th>763</th>\n",
       "      <th>764</th>\n",
       "      <th>765</th>\n",
       "      <th>766</th>\n",
       "      <th>767</th>\n",
       "    </tr>\n",
       "  </thead>\n",
       "  <tbody>\n",
       "    <tr>\n",
       "      <th>0</th>\n",
       "      <td>NaN</td>\n",
       "      <td>NaN</td>\n",
       "      <td>NaN</td>\n",
       "      <td>NaN</td>\n",
       "      <td>NaN</td>\n",
       "      <td>NaN</td>\n",
       "      <td>NaN</td>\n",
       "      <td>NaN</td>\n",
       "      <td>NaN</td>\n",
       "      <td>NaN</td>\n",
       "      <td>...</td>\n",
       "      <td>NaN</td>\n",
       "      <td>NaN</td>\n",
       "      <td>NaN</td>\n",
       "      <td>NaN</td>\n",
       "      <td>NaN</td>\n",
       "      <td>NaN</td>\n",
       "      <td>NaN</td>\n",
       "      <td>NaN</td>\n",
       "      <td>NaN</td>\n",
       "      <td>NaN</td>\n",
       "    </tr>\n",
       "  </tbody>\n",
       "</table>\n",
       "<p>1 rows × 768 columns</p>\n",
       "</div>"
      ],
      "text/plain": [
       "   0    1    2    3    4    5    6    7    8    9    ...  758  759  760  761  \\\n",
       "0  NaN  NaN  NaN  NaN  NaN  NaN  NaN  NaN  NaN  NaN  ...  NaN  NaN  NaN  NaN   \n",
       "\n",
       "   762  763  764  765  766  767  \n",
       "0  NaN  NaN  NaN  NaN  NaN  NaN  \n",
       "\n",
       "[1 rows x 768 columns]"
      ]
     },
     "execution_count": 246,
     "metadata": {},
     "output_type": "execute_result"
    }
   ],
   "source": [
    "x_train"
   ]
  },
  {
   "cell_type": "code",
   "execution_count": 247,
   "metadata": {},
   "outputs": [],
   "source": [
    "vector=[]\n",
    "vector=model.encode(target_data.iloc[0,0])  \n",
    "for j in range(x_train.shape[1]):\n",
    "        x_train.iloc[0,j]=vector[j]  \n",
    "    "
   ]
  },
  {
   "cell_type": "code",
   "execution_count": 248,
   "metadata": {},
   "outputs": [
    {
     "data": {
      "text/html": [
       "<div>\n",
       "<style scoped>\n",
       "    .dataframe tbody tr th:only-of-type {\n",
       "        vertical-align: middle;\n",
       "    }\n",
       "\n",
       "    .dataframe tbody tr th {\n",
       "        vertical-align: top;\n",
       "    }\n",
       "\n",
       "    .dataframe thead th {\n",
       "        text-align: right;\n",
       "    }\n",
       "</style>\n",
       "<table border=\"1\" class=\"dataframe\">\n",
       "  <thead>\n",
       "    <tr style=\"text-align: right;\">\n",
       "      <th></th>\n",
       "      <th>0</th>\n",
       "      <th>1</th>\n",
       "      <th>2</th>\n",
       "      <th>3</th>\n",
       "      <th>4</th>\n",
       "      <th>5</th>\n",
       "      <th>6</th>\n",
       "      <th>7</th>\n",
       "      <th>8</th>\n",
       "      <th>9</th>\n",
       "      <th>...</th>\n",
       "      <th>758</th>\n",
       "      <th>759</th>\n",
       "      <th>760</th>\n",
       "      <th>761</th>\n",
       "      <th>762</th>\n",
       "      <th>763</th>\n",
       "      <th>764</th>\n",
       "      <th>765</th>\n",
       "      <th>766</th>\n",
       "      <th>767</th>\n",
       "    </tr>\n",
       "  </thead>\n",
       "  <tbody>\n",
       "    <tr>\n",
       "      <th>0</th>\n",
       "      <td>0.062527</td>\n",
       "      <td>-0.03124</td>\n",
       "      <td>-0.029226</td>\n",
       "      <td>-0.031507</td>\n",
       "      <td>-0.005363</td>\n",
       "      <td>0.004466</td>\n",
       "      <td>0.021148</td>\n",
       "      <td>-0.009256</td>\n",
       "      <td>0.048196</td>\n",
       "      <td>-0.007161</td>\n",
       "      <td>...</td>\n",
       "      <td>-0.018421</td>\n",
       "      <td>-0.03065</td>\n",
       "      <td>-0.050301</td>\n",
       "      <td>0.018183</td>\n",
       "      <td>-0.032043</td>\n",
       "      <td>-0.064806</td>\n",
       "      <td>0.039445</td>\n",
       "      <td>0.033233</td>\n",
       "      <td>0.012094</td>\n",
       "      <td>-0.044937</td>\n",
       "    </tr>\n",
       "  </tbody>\n",
       "</table>\n",
       "<p>1 rows × 768 columns</p>\n",
       "</div>"
      ],
      "text/plain": [
       "        0        1         2         3         4         5         6    \\\n",
       "0  0.062527 -0.03124 -0.029226 -0.031507 -0.005363  0.004466  0.021148   \n",
       "\n",
       "        7         8         9    ...       758      759       760       761  \\\n",
       "0 -0.009256  0.048196 -0.007161  ... -0.018421 -0.03065 -0.050301  0.018183   \n",
       "\n",
       "        762       763       764       765       766       767  \n",
       "0 -0.032043 -0.064806  0.039445  0.033233  0.012094 -0.044937  \n",
       "\n",
       "[1 rows x 768 columns]"
      ]
     },
     "execution_count": 248,
     "metadata": {},
     "output_type": "execute_result"
    }
   ],
   "source": [
    "x_train"
   ]
  },
  {
   "cell_type": "code",
   "execution_count": 249,
   "metadata": {},
   "outputs": [],
   "source": [
    "X_train = torch.tensor(x_train.iloc[0], dtype=torch.float).unsqueeze(1)"
   ]
  },
  {
   "cell_type": "code",
   "execution_count": 250,
   "metadata": {},
   "outputs": [],
   "source": [
    "X_train = X_train.reshape(1, 1, 768)"
   ]
  },
  {
   "cell_type": "code",
   "execution_count": 251,
   "metadata": {},
   "outputs": [
    {
     "data": {
      "text/plain": [
       "tensor([[[ 6.2527e-02, -3.1240e-02, -2.9226e-02, -3.1507e-02, -5.3628e-03,\n",
       "           4.4662e-03,  2.1148e-02, -9.2561e-03,  4.8196e-02, -7.1606e-03,\n",
       "          -4.9927e-03,  2.2249e-02,  1.9247e-02, -5.6684e-02, -2.1846e-02,\n",
       "          -2.4885e-02,  2.8046e-02,  5.2424e-02,  5.1724e-02,  6.0366e-03,\n",
       "          -3.1956e-02,  2.1701e-02,  1.2596e-02,  2.5772e-02,  2.5133e-02,\n",
       "          -1.2902e-02,  7.0017e-03,  1.3715e-02,  1.2958e-02, -9.6622e-02,\n",
       "          -1.1647e-02,  3.1405e-02, -2.1287e-02, -2.6298e-02,  3.0599e-06,\n",
       "          -4.0088e-02,  2.8714e-02,  1.1348e-02,  6.1243e-03, -1.0215e-03,\n",
       "           3.6927e-02, -2.9489e-03, -1.3880e-02, -8.0824e-03,  2.8366e-02,\n",
       "          -4.1638e-02,  1.8718e-02,  6.3849e-05,  4.3699e-02,  9.3564e-03,\n",
       "          -2.5409e-02, -5.7358e-03, -9.9859e-02, -7.5454e-04,  6.8451e-03,\n",
       "           2.2811e-02,  1.1191e-02, -2.5959e-02, -4.3818e-02, -7.9176e-03,\n",
       "          -2.6306e-02,  1.7987e-02, -1.2164e-02,  1.8984e-02, -1.1842e-02,\n",
       "           1.7760e-02,  2.5611e-02, -4.0918e-02,  3.7632e-02,  1.1417e-02,\n",
       "           8.5637e-02, -1.1992e-02, -1.4160e-02,  2.5614e-02,  5.9439e-03,\n",
       "          -5.3251e-02, -2.2542e-02, -2.8047e-02,  1.3030e-02,  3.8538e-03,\n",
       "           2.8951e-02,  8.5530e-02, -2.3660e-02, -1.1925e-02, -3.1470e-03,\n",
       "           7.9866e-02, -3.0377e-02, -3.5999e-02, -6.1067e-02, -1.4361e-02,\n",
       "           3.7334e-03, -8.7550e-02,  1.8729e-02,  4.5693e-03,  2.3589e-02,\n",
       "           4.9849e-03,  2.4487e-02, -9.2356e-02,  5.3871e-02, -4.3934e-02,\n",
       "           4.8598e-03,  4.9142e-02,  2.6748e-02, -2.0015e-02, -3.6579e-03,\n",
       "           4.6416e-03,  1.5420e-02,  1.6624e-02, -6.4226e-02,  1.4520e-02,\n",
       "           5.1056e-05,  7.0832e-03, -2.4715e-02, -1.5412e-02, -4.7351e-02,\n",
       "           3.8596e-02, -6.2661e-02, -2.1679e-02,  1.4223e-02,  3.2918e-02,\n",
       "          -2.3637e-02, -2.8657e-02, -4.1947e-02,  2.3814e-02, -5.5525e-05,\n",
       "           3.4699e-02, -5.7504e-02,  6.4203e-03,  3.2505e-02,  1.2111e-02,\n",
       "           3.8477e-02,  2.0848e-02, -1.0777e-02,  6.8319e-03, -3.3109e-02,\n",
       "          -2.0791e-02,  2.2023e-03,  2.9960e-02,  2.6749e-02, -1.3951e-02,\n",
       "          -4.3700e-02, -4.7213e-02, -8.3705e-03, -8.7235e-03, -6.4265e-03,\n",
       "           2.5358e-02, -2.8506e-02,  5.0262e-02, -7.7247e-04,  2.0296e-02,\n",
       "           2.0174e-02, -1.8003e-02,  3.4832e-02,  3.8143e-02, -9.1365e-03,\n",
       "           2.8429e-02,  3.9985e-02,  1.1739e-02,  1.3730e-02, -3.2227e-03,\n",
       "           4.1004e-03, -2.2227e-02, -8.0049e-02, -1.3981e-02, -7.7521e-04,\n",
       "           3.3078e-02, -7.0626e-03,  2.4932e-02, -2.2560e-02, -3.3593e-02,\n",
       "          -3.1336e-02,  2.6363e-02, -1.7347e-02,  8.9584e-02,  9.2719e-03,\n",
       "           1.3766e-02, -1.3551e-03,  6.7252e-03, -6.2363e-02,  5.2725e-02,\n",
       "           1.2191e-03,  6.1441e-02,  6.7370e-02, -2.0267e-02,  1.2232e-02,\n",
       "           4.4199e-02,  1.4310e-02,  1.9082e-02, -3.1040e-03, -2.4868e-02,\n",
       "          -4.9066e-03, -8.3885e-05,  5.7474e-02,  5.3863e-02,  2.8345e-02,\n",
       "           5.6578e-02,  2.1783e-02,  4.7897e-02,  1.7187e-02, -3.6889e-02,\n",
       "          -4.4958e-02,  2.1717e-02,  6.6076e-03, -2.3660e-02, -6.0171e-02,\n",
       "           5.7075e-02,  2.7152e-02, -3.8392e-02,  1.1970e-02, -6.0381e-03,\n",
       "           1.1672e-02,  5.3857e-02, -2.4257e-02,  1.0017e-02,  1.0548e-02,\n",
       "          -1.4622e-02,  4.0144e-02,  9.4668e-03, -3.9193e-02,  6.7090e-02,\n",
       "           4.3066e-02,  8.1950e-02,  4.4883e-02, -1.6095e-02,  4.1501e-02,\n",
       "           4.1175e-03, -3.3927e-02, -6.1917e-03,  2.7594e-02,  7.3697e-02,\n",
       "           3.5477e-02,  7.1898e-03,  1.8784e-02, -1.5628e-02,  6.5331e-03,\n",
       "           1.2440e-01, -8.6345e-03, -3.4560e-02, -1.1998e-02, -4.3850e-02,\n",
       "           1.1723e-03, -1.3619e-02,  1.5529e-02, -2.8375e-02, -2.3617e-02,\n",
       "           2.7392e-03,  3.6721e-02,  2.3462e-02,  2.2473e-02, -6.4884e-02,\n",
       "           1.0650e-02, -6.3604e-03, -4.1745e-02, -3.7158e-02,  7.4837e-03,\n",
       "           3.4149e-02, -2.8276e-02,  4.5488e-02, -3.4199e-02, -3.1988e-02,\n",
       "           3.5939e-02, -3.4070e-02, -4.6834e-02, -2.3906e-02,  2.3781e-02,\n",
       "          -8.9043e-02,  1.1657e-02, -6.0510e-02,  1.7070e-03,  2.3564e-02,\n",
       "           1.3221e-03,  5.6554e-02,  3.0603e-03, -2.1389e-02, -3.0858e-02,\n",
       "           3.2956e-02,  1.0187e-02,  4.9611e-02,  4.3659e-02,  7.3999e-03,\n",
       "           2.2096e-02, -4.8723e-02,  1.6959e-02, -1.1556e-02, -1.9241e-02,\n",
       "          -3.0101e-02,  6.1948e-02, -3.0825e-03, -3.0125e-02,  3.4186e-02,\n",
       "          -2.2607e-02, -5.4539e-02, -8.5781e-03, -5.7038e-02,  1.1000e-02,\n",
       "           1.9009e-02,  1.2528e-02,  5.9190e-03,  2.5791e-02,  5.1752e-02,\n",
       "           1.4111e-02, -4.1654e-02,  3.4459e-02, -2.2364e-02, -1.9496e-02,\n",
       "           2.7651e-02, -1.2386e-02, -7.2740e-02, -7.2641e-03, -1.5458e-02,\n",
       "           2.3303e-02,  1.1044e-03,  7.4307e-03, -3.3392e-02, -7.9384e-02,\n",
       "          -2.4750e-02,  3.3079e-02, -3.6390e-02, -3.7394e-02,  7.1916e-02,\n",
       "           4.0816e-02,  4.2442e-02, -2.7363e-02,  2.3727e-02, -2.2586e-02,\n",
       "          -3.1072e-02,  1.5684e-02, -3.4768e-02,  3.6019e-02, -6.6859e-02,\n",
       "           2.2747e-02,  1.6700e-02, -3.8935e-02,  1.7331e-02, -1.1997e-02,\n",
       "          -4.3412e-02, -3.9320e-02, -2.9962e-02,  3.8958e-02, -4.8623e-02,\n",
       "          -6.9489e-02, -5.6033e-02, -4.6918e-03, -4.8610e-03, -6.8082e-03,\n",
       "          -2.4063e-02, -3.0035e-02,  3.2654e-02,  1.8396e-02,  1.0318e-03,\n",
       "          -2.3828e-02, -5.4833e-02, -5.1186e-03,  1.1550e-02, -5.0430e-02,\n",
       "          -5.3564e-02,  2.7439e-02,  1.0033e-04, -3.3469e-02,  7.5471e-03,\n",
       "           2.5410e-02,  7.0048e-03, -2.1700e-02,  2.0038e-02, -3.0747e-03,\n",
       "           1.9550e-02,  8.9697e-03,  4.5608e-02, -2.2722e-02, -7.9734e-03,\n",
       "           9.8208e-02, -4.6385e-02,  2.4773e-02,  4.9242e-02, -6.0598e-02,\n",
       "           4.9986e-02, -1.4938e-03,  1.4897e-02, -1.6514e-02,  1.0675e-02,\n",
       "           4.4809e-03,  2.1729e-02,  3.8973e-02,  2.7523e-02, -2.1683e-02,\n",
       "          -3.0808e-02,  3.6937e-02, -4.4798e-03,  6.2400e-03,  2.9699e-02,\n",
       "           9.1201e-03, -4.4814e-02, -1.0721e-02, -4.4025e-02, -1.7844e-02,\n",
       "           4.2730e-02,  3.2674e-04, -3.6356e-02,  4.9931e-02,  2.7309e-03,\n",
       "           1.4230e-03, -1.7056e-02,  1.8960e-02,  4.1354e-04, -2.1637e-02,\n",
       "           1.1651e-02, -3.7854e-03,  7.2846e-02,  3.9589e-03, -5.5548e-02,\n",
       "           2.6371e-02,  2.2428e-02,  2.2044e-02, -5.2277e-03, -1.2564e-02,\n",
       "           1.2196e-02, -2.0941e-02, -7.0148e-02, -3.6228e-02, -4.2338e-02,\n",
       "           1.9219e-02,  4.0063e-02,  2.2818e-02,  3.1482e-02, -2.1954e-02,\n",
       "           1.5104e-03,  6.6498e-02, -9.4012e-03, -1.1932e-02,  8.0207e-03,\n",
       "          -2.5816e-02,  9.2801e-03, -5.2916e-02,  4.2326e-03, -3.6942e-02,\n",
       "           3.3628e-02,  1.4773e-02, -4.7929e-03, -2.8265e-02,  1.0250e-02,\n",
       "          -2.1891e-02, -9.9558e-02,  6.5382e-02,  2.7317e-02,  3.9973e-02,\n",
       "          -6.2820e-02,  2.3689e-02,  1.7681e-02, -2.6587e-02,  3.5411e-02,\n",
       "           4.0606e-02,  1.1343e-02,  1.0834e-02, -4.3469e-02,  2.7938e-02,\n",
       "          -1.8556e-02, -1.0480e-01, -1.7427e-02,  1.9755e-02,  5.2656e-02,\n",
       "           5.2020e-03,  2.2345e-02,  5.2035e-03, -9.5761e-03,  3.9097e-02,\n",
       "          -8.1665e-02, -2.5181e-02, -6.5266e-02, -3.3569e-03,  8.0294e-03,\n",
       "          -1.9353e-02,  3.6344e-02, -2.7896e-02,  3.4754e-02,  1.5060e-02,\n",
       "           3.7365e-03, -3.0345e-02,  2.1191e-02, -1.1316e-01,  1.8081e-02,\n",
       "           1.2400e-01,  1.9384e-02,  4.0051e-03, -4.7124e-02, -5.5888e-03,\n",
       "          -3.6894e-02,  7.1668e-03, -4.1626e-02,  1.2718e-02, -5.4614e-02,\n",
       "           9.1903e-04, -1.7914e-02, -2.8202e-03,  4.0703e-02, -3.2398e-02,\n",
       "          -2.5611e-02,  1.4018e-02,  8.3040e-02,  2.2952e-03,  5.6620e-02,\n",
       "           4.7209e-03,  4.3402e-02, -3.0244e-02, -5.2085e-03,  5.2098e-02,\n",
       "          -2.4687e-02,  5.2430e-03,  4.4872e-04, -1.0879e-02, -5.4476e-02,\n",
       "           5.7914e-03,  1.2940e-02,  4.6499e-02, -3.6287e-02, -2.5854e-02,\n",
       "          -6.6638e-02,  1.9199e-02, -5.3216e-02,  7.0782e-02, -3.0325e-02,\n",
       "           2.6245e-02, -4.5759e-02,  6.1294e-02, -2.3328e-02, -7.6283e-02,\n",
       "          -1.0931e-02, -4.1926e-02,  4.2077e-05, -1.4896e-02, -1.1598e-02,\n",
       "          -2.0889e-02, -3.2904e-02, -6.9255e-02, -5.6741e-03, -4.0749e-03,\n",
       "           3.6175e-02,  4.7633e-02,  4.0957e-02, -3.6899e-02, -4.9486e-02,\n",
       "          -6.1435e-02, -7.8694e-02, -9.4921e-04, -2.1633e-02,  7.0226e-02,\n",
       "           2.2615e-02, -7.1830e-03, -3.2784e-02,  1.4067e-02, -6.3728e-02,\n",
       "          -1.4959e-02,  4.2916e-02,  2.7433e-02,  3.4571e-02,  2.9476e-02,\n",
       "          -7.5607e-33,  1.1938e-02, -1.3621e-02, -6.4313e-03,  3.7409e-02,\n",
       "          -1.0512e-01, -5.6218e-02, -8.1030e-02,  5.2238e-02, -2.9805e-02,\n",
       "          -2.1939e-02, -1.5743e-02, -2.5752e-02,  1.9824e-02,  1.8455e-02,\n",
       "           5.3563e-02, -4.8110e-02,  1.4006e-02,  1.9698e-02, -1.3708e-02,\n",
       "          -5.7845e-02,  7.9712e-02, -1.0840e-02,  3.6330e-02, -6.1541e-02,\n",
       "           6.4785e-02, -4.2935e-02, -3.7172e-02, -4.7629e-02,  1.7647e-02,\n",
       "          -5.7012e-03,  3.3860e-02, -1.3953e-02,  4.9729e-02, -3.1517e-02,\n",
       "          -2.3364e-02,  2.2628e-02, -1.8796e-02, -2.0500e-02, -6.3400e-02,\n",
       "           6.3026e-02, -6.8871e-02, -2.5519e-04, -1.4849e-02,  3.7815e-03,\n",
       "          -9.9172e-03, -2.8620e-02, -1.1233e-02, -2.9112e-02,  1.9269e-02,\n",
       "           5.6493e-02, -7.2502e-02,  3.1708e-03, -1.4439e-02,  6.2054e-02,\n",
       "           2.5547e-02,  3.8294e-02, -1.7271e-02,  2.1817e-02, -3.8276e-03,\n",
       "           2.0271e-02, -1.6745e-02, -2.8745e-02,  2.4355e-02, -2.8146e-02,\n",
       "           4.5826e-02, -4.6108e-02, -7.8793e-03,  2.6347e-02, -2.7836e-03,\n",
       "          -3.8147e-02,  7.7474e-02,  7.3851e-03, -4.7692e-02,  7.7279e-03,\n",
       "           3.1763e-02, -1.1485e-01, -6.9416e-02,  1.7469e-02,  1.5187e-02,\n",
       "           4.5186e-03,  1.0377e-02,  4.6303e-02, -7.9701e-04, -2.9824e-02,\n",
       "          -2.0242e-02,  2.8728e-02, -2.2969e-02, -1.7940e-02, -5.5795e-03,\n",
       "           4.6734e-03, -4.0357e-03, -2.2944e-02,  1.5621e-02, -2.9493e-02,\n",
       "          -2.0124e-02, -6.1696e-02,  2.8749e-02,  6.1942e-03, -5.9129e-03,\n",
       "           2.2255e-02, -2.7277e-02, -2.3914e-02, -2.2225e-02, -1.7365e-03,\n",
       "           1.7578e-02,  4.2957e-02,  1.2084e-02, -2.3587e-02,  1.2573e-02,\n",
       "          -2.8682e-02,  1.6979e-02, -7.9735e-02,  5.8453e-02, -8.8226e-02,\n",
       "          -3.6016e-02,  3.8789e-02, -4.7597e-03,  3.5792e-02,  4.3397e-02,\n",
       "           5.2186e-02, -3.4224e-02,  1.5990e-02,  3.9561e-03,  4.3425e-03,\n",
       "           2.5169e-02,  4.0005e-03, -4.4541e-03,  6.2730e-03, -4.2012e-03,\n",
       "           5.9668e-03,  1.1339e-02, -3.6761e-02,  3.6141e-07,  5.1140e-03,\n",
       "          -2.3693e-02, -2.7015e-02,  1.0240e-02,  2.8087e-02,  3.8256e-02,\n",
       "          -6.6893e-02, -1.1072e-02,  4.0267e-02,  1.9109e-02,  4.1497e-02,\n",
       "          -4.2091e-02,  1.2117e-02,  2.9358e-02, -3.5316e-02,  8.4972e-02,\n",
       "           1.8173e-02, -2.9573e-02, -1.5373e-02,  1.0357e-01, -5.0225e-03,\n",
       "          -1.4504e-02,  1.7641e-02, -7.6797e-03, -4.1120e-03,  6.1768e-02,\n",
       "          -4.3919e-03, -4.1573e-02,  6.0490e-02,  1.6014e-04,  4.8305e-02,\n",
       "          -7.3633e-02,  3.3881e-02, -1.4504e-02, -2.0617e-02, -7.2930e-03,\n",
       "           5.7205e-02,  1.7020e-02,  3.7941e-02,  6.1049e-02,  3.3550e-02,\n",
       "          -1.2027e-02,  4.3499e-05, -8.3790e-02,  4.8288e-02, -2.8795e-02,\n",
       "          -2.1028e-02, -4.7963e-02,  1.7146e-02,  1.9660e-02,  2.4231e-02,\n",
       "           2.0670e-02, -1.9195e-02, -2.1305e-03,  2.7105e-03,  3.1736e-02,\n",
       "           1.7353e-02,  4.1830e-02, -1.2721e-03, -3.2774e-02, -3.4327e-02,\n",
       "           8.5744e-03, -3.3857e-03,  8.8690e-02,  7.9237e-03, -2.8797e-02,\n",
       "          -1.8387e-02,  3.4389e-34, -2.9947e-02, -1.8421e-02, -3.0650e-02,\n",
       "          -5.0301e-02,  1.8183e-02, -3.2043e-02, -6.4806e-02,  3.9445e-02,\n",
       "           3.3233e-02,  1.2094e-02, -4.4937e-02]]])"
      ]
     },
     "execution_count": 251,
     "metadata": {},
     "output_type": "execute_result"
    }
   ],
   "source": [
    "X_train"
   ]
  },
  {
   "cell_type": "code",
   "execution_count": 252,
   "metadata": {},
   "outputs": [],
   "source": [
    "class MyModel(nn.Module):\n",
    "    def __init__(self):\n",
    "        super(MyModel, self).__init__()\n",
    "        self.conv1 = nn.Conv1d(in_channels=X_train.shape[2], out_channels=128, kernel_size=1)\n",
    "        self.bn1 = nn.BatchNorm1d(128)  \n",
    "        self.conv2 = nn.Conv1d(in_channels=128, out_channels=64, kernel_size=1)\n",
    "        self.bn2 = nn.BatchNorm1d(64)  \n",
    "        self.conv3 = nn.Conv1d(in_channels=64, out_channels=32, kernel_size=1)\n",
    "        self.bn3 = nn.BatchNorm1d(32)  \n",
    "        self.pool = nn.MaxPool1d(kernel_size=1)\n",
    "        self.dropout = nn.Dropout(0.5)\n",
    "        self.lstm = nn.LSTM(input_size=32, hidden_size=128, num_layers=2, batch_first=True, bidirectional=True)\n",
    "        self.fc1 = nn.Linear(128*2, 32)\n",
    "        self.fc2 = nn.Linear(32, 3)\n",
    "        self.activation = nn.ELU()\n",
    "\n",
    "    def forward(self, x):\n",
    "        x = x.permute(0, 2, 1)\n",
    "        x = self.activation(self.bn1(self.conv1(x)))\n",
    "        x = self.activation(self.bn2(self.conv2(x)))\n",
    "        x = self.activation(self.bn3(self.conv3(x)))\n",
    "        x = self.pool(x)\n",
    "        x = self.dropout(x)\n",
    "        x = x.permute(0, 2, 1)\n",
    "        x, _ = self.lstm(x)\n",
    "        x = self.dropout(x[:, -1, :])\n",
    "        x = self.activation(self.fc1(x))\n",
    "        x = self.dropout(x)\n",
    "        x = self.fc2(x)\n",
    "        return x"
   ]
  },
  {
   "cell_type": "code",
   "execution_count": 253,
   "metadata": {},
   "outputs": [],
   "source": [
    "model = MyModel()"
   ]
  },
  {
   "cell_type": "code",
   "execution_count": 254,
   "metadata": {},
   "outputs": [
    {
     "data": {
      "text/plain": [
       "<All keys matched successfully>"
      ]
     },
     "execution_count": 254,
     "metadata": {},
     "output_type": "execute_result"
    }
   ],
   "source": [
    "state_dict = torch.load(\"/Users/withmocha/Desktop/DATA/Capston Design(2024)/data(sentence)/0518(final)/model/Voice fishing Detection Model.pt\")\n",
    "model.load_state_dict(state_dict)"
   ]
  },
  {
   "cell_type": "code",
   "execution_count": 255,
   "metadata": {},
   "outputs": [
    {
     "data": {
      "text/plain": [
       "MyModel(\n",
       "  (conv1): Conv1d(768, 128, kernel_size=(1,), stride=(1,))\n",
       "  (bn1): BatchNorm1d(128, eps=1e-05, momentum=0.1, affine=True, track_running_stats=True)\n",
       "  (conv2): Conv1d(128, 64, kernel_size=(1,), stride=(1,))\n",
       "  (bn2): BatchNorm1d(64, eps=1e-05, momentum=0.1, affine=True, track_running_stats=True)\n",
       "  (conv3): Conv1d(64, 32, kernel_size=(1,), stride=(1,))\n",
       "  (bn3): BatchNorm1d(32, eps=1e-05, momentum=0.1, affine=True, track_running_stats=True)\n",
       "  (pool): MaxPool1d(kernel_size=1, stride=1, padding=0, dilation=1, ceil_mode=False)\n",
       "  (dropout): Dropout(p=0.5, inplace=False)\n",
       "  (lstm): LSTM(32, 128, num_layers=2, batch_first=True, bidirectional=True)\n",
       "  (fc1): Linear(in_features=256, out_features=32, bias=True)\n",
       "  (fc2): Linear(in_features=32, out_features=3, bias=True)\n",
       "  (activation): ELU(alpha=1.0)\n",
       ")"
      ]
     },
     "execution_count": 255,
     "metadata": {},
     "output_type": "execute_result"
    }
   ],
   "source": [
    "model.eval()"
   ]
  },
  {
   "cell_type": "code",
   "execution_count": 256,
   "metadata": {},
   "outputs": [],
   "source": [
    "y_score = model(X_train).detach().numpy()"
   ]
  },
  {
   "cell_type": "code",
   "execution_count": 257,
   "metadata": {},
   "outputs": [
    {
     "data": {
      "text/plain": [
       "array([[-9.600656 ,  1.9379278,  1.9807259]], dtype=float32)"
      ]
     },
     "execution_count": 257,
     "metadata": {},
     "output_type": "execute_result"
    }
   ],
   "source": [
    "y_score"
   ]
  },
  {
   "cell_type": "code",
   "execution_count": 258,
   "metadata": {},
   "outputs": [],
   "source": [
    "y_pred = np.argmax(y_score, axis=1)"
   ]
  },
  {
   "cell_type": "code",
   "execution_count": 259,
   "metadata": {},
   "outputs": [
    {
     "data": {
      "text/plain": [
       "array([2])"
      ]
     },
     "execution_count": 259,
     "metadata": {},
     "output_type": "execute_result"
    }
   ],
   "source": [
    "y_pred"
   ]
  },
  {
   "cell_type": "code",
   "execution_count": 260,
   "metadata": {},
   "outputs": [
    {
     "name": "stdout",
     "output_type": "stream",
     "text": [
      "3.0727 sec\n"
     ]
    }
   ],
   "source": [
    "print(f\"{time.time()-start:.4f} sec\")"
   ]
  }
 ],
 "metadata": {
  "kernelspec": {
   "display_name": "conda_cpu",
   "language": "python",
   "name": "python3"
  },
  "language_info": {
   "codemirror_mode": {
    "name": "ipython",
    "version": 3
   },
   "file_extension": ".py",
   "mimetype": "text/x-python",
   "name": "python",
   "nbconvert_exporter": "python",
   "pygments_lexer": "ipython3",
   "version": "3.12.2"
  }
 },
 "nbformat": 4,
 "nbformat_minor": 2
}
