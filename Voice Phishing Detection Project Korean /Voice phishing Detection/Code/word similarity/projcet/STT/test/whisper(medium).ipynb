{
 "cells": [
  {
   "cell_type": "code",
   "execution_count": 1,
   "metadata": {},
   "outputs": [],
   "source": [
    "import whisper\n",
    "\n"
   ]
  },
  {
   "cell_type": "code",
   "execution_count": 2,
   "metadata": {},
   "outputs": [],
   "source": [
    "m4a_file = '/Users/withmocha/Downloads/23.11.17 파이썸기반딥러닝2.m4a' #"
   ]
  },
  {
   "cell_type": "code",
   "execution_count": 3,
   "metadata": {},
   "outputs": [],
   "source": [
    "model = whisper.load_model(\"medium\")\n"
   ]
  },
  {
   "cell_type": "code",
   "execution_count": 4,
   "metadata": {},
   "outputs": [
    {
     "name": "stderr",
     "output_type": "stream",
     "text": [
      "/Users/withmocha/anaconda3/lib/python3.11/site-packages/whisper/transcribe.py:126: UserWarning: FP16 is not supported on CPU; using FP32 instead\n",
      "  warnings.warn(\"FP16 is not supported on CPU; using FP32 instead\")\n"
     ]
    },
    {
     "name": "stdout",
     "output_type": "stream",
     "text": [
      " 양광이랑 RL은 RL 뿐만 아니라 ISDG, GRI도 똑같이 쓸 수 있는데 사실 사용법이 굉장히 간단합니다. 사용 방법을 한번 보도록 할게요. 포르를 다 동일한데, 여기 LFM 포르, GRI도 똑같고 RL도 똑같이 된다. 사용하실 땐, 여기 옵션 안에다가 바이드리액션 안에다가 수로로 넣어주면 양방향으로 박협되는 겁니다. 아까 보셨던 것처럼 히든 스티프 말고 위에다가 또 하나의 층이 더 올라오잖아요. 그렇기 때문에 이제 히든 사이즈를 곱하기 2를 해준 겁니다. 이 두 부분만 위에 있으면 RLNL과 GRI가 바뀔 수 있어요. 그래서 여러분들이 아까 보셨던 GRI나 RLNL 모델에다가도 이 옵션을 들어가서 한번 돌려보세요. 결과가 어떻게 바뀌는지. 이렇게 보시면 되게 좋을 것 같고요. 그래서 결론적으로 두 개 넣었던 이유는 전방향으로 바꿀까 옆방향으로 바꿀까 다 가능하기 때문에 그렇다는 겁니다. 그래서 결과를 보면, LOS는 아까보다 GRI 모델보다 조금 는 것 같아요. 숫자 사운드가 조금 는 것 같아요. 그래서 이걸 찬트를 그렸을 때는, 제가 이 찬트만 보고 나온 것 같으면, 지금까지 봤던 세 가지 방식 중에는 가장 결과가 그럴듯하게 나온 것 같아요. 추위가 숫자로 잘 맞은 것 보다는 이 추세를 잘 수정한 것 같습니다. 그래서 엄밀하게 따지지 않으면 이걸 양방향으로 바꿀 수 있기 때문에 오프 유털에 남은 게 조금 있다라고 보이고요. 그래서 사실은 이 구간은 잘 나온 것 같은데, 여기 테스트가 있잖아요. 여기는 양방향으로 확실이 안 되기 때문에, 확실이 안 된 걸 테스트했기 때문에, 여기는 정 반대로 움직입니다. 그래서 여러분들이 판단하셔야 할 때, 여기 한 방향으로 양방향으로 RLN이 성이 부서지지만, 사실 이 구간으로 따졌을 때는 진짜 엉망진창이거든요. 그래서 본 저장은 이 양방향 RLN 성능이 제일 좋다고 보이고 있지만, 이런 식으로 평가를 하면 위험한다는 것 같아요. 시계 데이터는 보시는 것처럼 코드가 굉장히 심플해요. 기본 코드 몇 개 가지고 있으시면, 여러분들 경험이 비슷합니다. 근데 이걸 봤다가 앞에서 데이터를 천천히 어떻게 하고, 데이터를 가동하고 어떤 식으로 뭘 끌고 옵냐, 왜 그루밍을 하고 어떻게 지붕을 하냐, 그다음에 노이즈 박도 여러 가지 시그널 처리해서 어떻게 뽑아내냐, 등 중에서 성능이 차이가 나는 거지, 사실 이 모델만 보시면 성능을 어떻게 걸리기가 어려운 거라고 보시면 되겠습니다. 시계 데이터에 관심이 많으신 분들은 잘 아실 때, 여러분들은 유의하셔가지고, 여기 있는 코드들을 한번 공유할 수 있도록 바깥으로 좀 다루고 싶으면, 여러분께 반드시 도움이 되시고요. 그리고 시계 데이터는 여기서 이제 끝나는데, 시계는 MSKM 이런 것들을 해주시면 좋을 것 같아요. 여러분들이 자동차를 타고 하시는 적들이 보이는데, 대부분의 그 도통 정체나, 보통성, 내비게이션의, 치매비나 현대차에 들어가는 내비게이션이 있고, 거기에서 목적지를 인적을 하면, 대략 예상시간이 나오는, 예상시간 나오는 모델들은 대부분 다 CLS팀으로 되어야겠다고 보시면 될 것 같아요. 그래서 요즘에는 취업을 또 그쪽을 되게 다 웬만큼 챙겨 챙겨와서 많이 안 보긴 한데, 저희 한 패드 같은 경우도 CLS팀 한 패드들이 다 현대차로 취업이 됐었기 때문에, 그런 조품들도 어떻게 보면, 비주얼 쪽이 화려하니까, 콘서트 쪽이 더 많이 끊겠다는 생각으로 제가 생각한 것보다 많이 자신가지는데, 어쨌든 많은 회사들이 관심 갖고 꾸준히 뽑는 분야라고 보시면 좋을 것 같아서, CLS팀하고 TFT 모델 정도는, 여러분이 관심 가지고 해보셔야 시계 활약 때문에 모음으로 봤을 때 반드시 나오는 부분이니까, 보시면 좋을 것 같고, 본 프로그램에 관심이 바뀌긴 영향이 바뀌긴 한데, 아까 말씀드린 텐션 모델, 요즘 하중 트랜스포모델 둘 다이잖아요. 시계 랜치 베스트, 트랜스포모델, 텐션 이랬기 때문에 그런 부분을 조금 더 많이 봐주시기를 부탁드립니다. 제가 오늘 몸이 안 좋아서 오늘 다음 영상 여기까지.\n"
     ]
    }
   ],
   "source": [
    "result = model.transcribe(m4a_file)\n",
    "print(result[\"text\"])"
   ]
  },
  {
   "cell_type": "code",
   "execution_count": null,
   "metadata": {},
   "outputs": [],
   "source": []
  },
  {
   "cell_type": "code",
   "execution_count": null,
   "metadata": {},
   "outputs": [],
   "source": []
  }
 ],
 "metadata": {
  "kernelspec": {
   "display_name": "base",
   "language": "python",
   "name": "python3"
  },
  "language_info": {
   "codemirror_mode": {
    "name": "ipython",
    "version": 3
   },
   "file_extension": ".py",
   "mimetype": "text/x-python",
   "name": "python",
   "nbconvert_exporter": "python",
   "pygments_lexer": "ipython3",
   "version": "3.11.5"
  }
 },
 "nbformat": 4,
 "nbformat_minor": 2
}
