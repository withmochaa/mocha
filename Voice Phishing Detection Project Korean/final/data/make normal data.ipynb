{
 "cells": [
  {
   "cell_type": "code",
   "execution_count": 35,
   "metadata": {},
   "outputs": [],
   "source": [
    "import pandas as pd   \n",
    "\n",
    "normal1=pd.read_csv(\"/Users/withmocha/Desktop/DATA/Capston Design(2024)/data(word)/normal/콜센터 문장 csv/콜센터민원_일반 행정 문의_상담사질문.csv\",index_col=0)\n",
    "normal2=pd.read_csv(\"/Users/withmocha/Desktop/DATA/Capston Design(2024)/data(word)/normal/콜센터 문장 csv/콜센터민원_일반 행정 문의_상담사답변.csv\",index_col=0)"
   ]
  },
  {
   "cell_type": "code",
   "execution_count": 36,
   "metadata": {},
   "outputs": [
    {
     "data": {
      "text/html": [
       "<div>\n",
       "<style scoped>\n",
       "    .dataframe tbody tr th:only-of-type {\n",
       "        vertical-align: middle;\n",
       "    }\n",
       "\n",
       "    .dataframe tbody tr th {\n",
       "        vertical-align: top;\n",
       "    }\n",
       "\n",
       "    .dataframe thead th {\n",
       "        text-align: right;\n",
       "    }\n",
       "</style>\n",
       "<table border=\"1\" class=\"dataframe\">\n",
       "  <thead>\n",
       "    <tr style=\"text-align: right;\">\n",
       "      <th></th>\n",
       "      <th>상담사질문(요청)</th>\n",
       "    </tr>\n",
       "  </thead>\n",
       "  <tbody>\n",
       "    <tr>\n",
       "      <th>0</th>\n",
       "      <td>어떤 은행을 이용하고 계십니까?</td>\n",
       "    </tr>\n",
       "    <tr>\n",
       "      <th>1</th>\n",
       "      <td>어느지점으로 안내해드릴까요?</td>\n",
       "    </tr>\n",
       "    <tr>\n",
       "      <th>2</th>\n",
       "      <td>지금 전화거신 핸드폰이 본인명의 맞습니까?</td>\n",
       "    </tr>\n",
       "    <tr>\n",
       "      <th>3</th>\n",
       "      <td>생년월일을 말씀해주시겠습니까?</td>\n",
       "    </tr>\n",
       "    <tr>\n",
       "      <th>4</th>\n",
       "      <td>살고계신 주소는 어디입니까?</td>\n",
       "    </tr>\n",
       "    <tr>\n",
       "      <th>...</th>\n",
       "      <td>...</td>\n",
       "    </tr>\n",
       "    <tr>\n",
       "      <th>4492</th>\n",
       "      <td>서울시에서 진행하는 건가요?</td>\n",
       "    </tr>\n",
       "    <tr>\n",
       "      <th>4493</th>\n",
       "      <td>어떠점이 궁금하십니까?</td>\n",
       "    </tr>\n",
       "    <tr>\n",
       "      <th>4494</th>\n",
       "      <td>공연, 체험, 전시, 기타 등이 있는데 어느걸로 안내해드릴까요?</td>\n",
       "    </tr>\n",
       "    <tr>\n",
       "      <th>4495</th>\n",
       "      <td>네. 혼인신고의 어떤 내용을 알고싶으신가요?</td>\n",
       "    </tr>\n",
       "    <tr>\n",
       "      <th>4496</th>\n",
       "      <td>서울에 위치한거 말씀하시는 건가요?</td>\n",
       "    </tr>\n",
       "  </tbody>\n",
       "</table>\n",
       "<p>4497 rows × 1 columns</p>\n",
       "</div>"
      ],
      "text/plain": [
       "                                상담사질문(요청)\n",
       "0                       어떤 은행을 이용하고 계십니까?\n",
       "1                         어느지점으로 안내해드릴까요?\n",
       "2                 지금 전화거신 핸드폰이 본인명의 맞습니까?\n",
       "3                        생년월일을 말씀해주시겠습니까?\n",
       "4                         살고계신 주소는 어디입니까?\n",
       "...                                   ...\n",
       "4492                      서울시에서 진행하는 건가요?\n",
       "4493                         어떠점이 궁금하십니까?\n",
       "4494  공연, 체험, 전시, 기타 등이 있는데 어느걸로 안내해드릴까요?\n",
       "4495             네. 혼인신고의 어떤 내용을 알고싶으신가요?\n",
       "4496                  서울에 위치한거 말씀하시는 건가요?\n",
       "\n",
       "[4497 rows x 1 columns]"
      ]
     },
     "execution_count": 36,
     "metadata": {},
     "output_type": "execute_result"
    }
   ],
   "source": [
    "normal1"
   ]
  },
  {
   "cell_type": "code",
   "execution_count": 37,
   "metadata": {},
   "outputs": [
    {
     "data": {
      "text/html": [
       "<div>\n",
       "<style scoped>\n",
       "    .dataframe tbody tr th:only-of-type {\n",
       "        vertical-align: middle;\n",
       "    }\n",
       "\n",
       "    .dataframe tbody tr th {\n",
       "        vertical-align: top;\n",
       "    }\n",
       "\n",
       "    .dataframe thead th {\n",
       "        text-align: right;\n",
       "    }\n",
       "</style>\n",
       "<table border=\"1\" class=\"dataframe\">\n",
       "  <thead>\n",
       "    <tr style=\"text-align: right;\">\n",
       "      <th></th>\n",
       "      <th>상담사답변</th>\n",
       "    </tr>\n",
       "  </thead>\n",
       "  <tbody>\n",
       "    <tr>\n",
       "      <th>0</th>\n",
       "      <td>이용하시는 은행의 사이트에서 지방세 납부가 가능합니다.</td>\n",
       "    </tr>\n",
       "    <tr>\n",
       "      <th>1</th>\n",
       "      <td>그럼 스마트폰에서 기업은행 어플을 설치하시면 납부가 가능합니다.</td>\n",
       "    </tr>\n",
       "    <tr>\n",
       "      <th>2</th>\n",
       "      <td>방문납부도 가능합니다.</td>\n",
       "    </tr>\n",
       "    <tr>\n",
       "      <th>3</th>\n",
       "      <td>도보로 10분위치에 서울역지점이 있습니다.</td>\n",
       "    </tr>\n",
       "    <tr>\n",
       "      <th>4</th>\n",
       "      <td>도보로 가시는게 빠를 것 같습니다.</td>\n",
       "    </tr>\n",
       "    <tr>\n",
       "      <th>...</th>\n",
       "      <td>...</td>\n",
       "    </tr>\n",
       "    <tr>\n",
       "      <th>20065</th>\n",
       "      <td>62400원 입니다.</td>\n",
       "    </tr>\n",
       "    <tr>\n",
       "      <th>20066</th>\n",
       "      <td>1423200원 입니다.</td>\n",
       "    </tr>\n",
       "    <tr>\n",
       "      <th>20067</th>\n",
       "      <td>입주신청서와 추천서, 급여내역서 외 기타 서류를 갖고 홈페이지에서 신청하면 됩니다.</td>\n",
       "    </tr>\n",
       "    <tr>\n",
       "      <th>20068</th>\n",
       "      <td>1~3순위가 있습니다.</td>\n",
       "    </tr>\n",
       "    <tr>\n",
       "      <th>20069</th>\n",
       "      <td>국가유공자 자녀 및 국민기초생활수급권자를 1순위로 두고있습니다.</td>\n",
       "    </tr>\n",
       "  </tbody>\n",
       "</table>\n",
       "<p>20070 rows × 1 columns</p>\n",
       "</div>"
      ],
      "text/plain": [
       "                                                상담사답변\n",
       "0                      이용하시는 은행의 사이트에서 지방세 납부가 가능합니다.\n",
       "1                 그럼 스마트폰에서 기업은행 어플을 설치하시면 납부가 가능합니다.\n",
       "2                                        방문납부도 가능합니다.\n",
       "3                             도보로 10분위치에 서울역지점이 있습니다.\n",
       "4                                 도보로 가시는게 빠를 것 같습니다.\n",
       "...                                               ...\n",
       "20065                                     62400원 입니다.\n",
       "20066                                   1423200원 입니다.\n",
       "20067  입주신청서와 추천서, 급여내역서 외 기타 서류를 갖고 홈페이지에서 신청하면 됩니다.\n",
       "20068                                    1~3순위가 있습니다.\n",
       "20069             국가유공자 자녀 및 국민기초생활수급권자를 1순위로 두고있습니다.\n",
       "\n",
       "[20070 rows x 1 columns]"
      ]
     },
     "execution_count": 37,
     "metadata": {},
     "output_type": "execute_result"
    }
   ],
   "source": [
    "normal2"
   ]
  },
  {
   "cell_type": "code",
   "execution_count": 38,
   "metadata": {},
   "outputs": [],
   "source": [
    "normal2=normal2[:normal1.shape[0]]"
   ]
  },
  {
   "cell_type": "code",
   "execution_count": 39,
   "metadata": {},
   "outputs": [],
   "source": [
    "data_row=pd.DataFrame(index=range(normal1.shape[0]),columns=['sentence','predict'])"
   ]
  },
  {
   "cell_type": "code",
   "execution_count": 40,
   "metadata": {},
   "outputs": [],
   "source": [
    "for i in range(int(data_row.shape[0]/2)):\n",
    "    list=[]\n",
    "    list.append(normal1.iloc[i,0])\n",
    "    list.append(normal2.iloc[i,0])\n",
    "    list.append(normal1.iloc[i+1,0])\n",
    "    list.append(normal2.iloc[i+1,0])\n",
    "    list.append(normal1.iloc[i+2,0])\n",
    "    list.append(normal2.iloc[i+2,0])\n",
    "    data_row.iloc[i,0]=list\n",
    "    i=i+2"
   ]
  },
  {
   "cell_type": "code",
   "execution_count": 41,
   "metadata": {},
   "outputs": [
    {
     "data": {
      "text/html": [
       "<div>\n",
       "<style scoped>\n",
       "    .dataframe tbody tr th:only-of-type {\n",
       "        vertical-align: middle;\n",
       "    }\n",
       "\n",
       "    .dataframe tbody tr th {\n",
       "        vertical-align: top;\n",
       "    }\n",
       "\n",
       "    .dataframe thead th {\n",
       "        text-align: right;\n",
       "    }\n",
       "</style>\n",
       "<table border=\"1\" class=\"dataframe\">\n",
       "  <thead>\n",
       "    <tr style=\"text-align: right;\">\n",
       "      <th></th>\n",
       "      <th>sentence</th>\n",
       "      <th>predict</th>\n",
       "    </tr>\n",
       "  </thead>\n",
       "  <tbody>\n",
       "    <tr>\n",
       "      <th>0</th>\n",
       "      <td>[어떤 은행을 이용하고 계십니까?, 이용하시는 은행의 사이트에서 지방세 납부가 가능...</td>\n",
       "      <td>NaN</td>\n",
       "    </tr>\n",
       "    <tr>\n",
       "      <th>1</th>\n",
       "      <td>[어느지점으로 안내해드릴까요?, 그럼 스마트폰에서 기업은행 어플을 설치하시면 납부가...</td>\n",
       "      <td>NaN</td>\n",
       "    </tr>\n",
       "    <tr>\n",
       "      <th>2</th>\n",
       "      <td>[지금 전화거신 핸드폰이 본인명의 맞습니까?, 방문납부도 가능합니다., 생년월일을 ...</td>\n",
       "      <td>NaN</td>\n",
       "    </tr>\n",
       "    <tr>\n",
       "      <th>3</th>\n",
       "      <td>[생년월일을 말씀해주시겠습니까?, 도보로 10분위치에 서울역지점이 있습니다., 살고...</td>\n",
       "      <td>NaN</td>\n",
       "    </tr>\n",
       "    <tr>\n",
       "      <th>4</th>\n",
       "      <td>[살고계신 주소는 어디입니까?, 도보로 가시는게 빠를 것 같습니다., 상세주소도 말...</td>\n",
       "      <td>NaN</td>\n",
       "    </tr>\n",
       "    <tr>\n",
       "      <th>...</th>\n",
       "      <td>...</td>\n",
       "      <td>...</td>\n",
       "    </tr>\n",
       "    <tr>\n",
       "      <th>4492</th>\n",
       "      <td>NaN</td>\n",
       "      <td>NaN</td>\n",
       "    </tr>\n",
       "    <tr>\n",
       "      <th>4493</th>\n",
       "      <td>NaN</td>\n",
       "      <td>NaN</td>\n",
       "    </tr>\n",
       "    <tr>\n",
       "      <th>4494</th>\n",
       "      <td>NaN</td>\n",
       "      <td>NaN</td>\n",
       "    </tr>\n",
       "    <tr>\n",
       "      <th>4495</th>\n",
       "      <td>NaN</td>\n",
       "      <td>NaN</td>\n",
       "    </tr>\n",
       "    <tr>\n",
       "      <th>4496</th>\n",
       "      <td>NaN</td>\n",
       "      <td>NaN</td>\n",
       "    </tr>\n",
       "  </tbody>\n",
       "</table>\n",
       "<p>4497 rows × 2 columns</p>\n",
       "</div>"
      ],
      "text/plain": [
       "                                               sentence predict\n",
       "0     [어떤 은행을 이용하고 계십니까?, 이용하시는 은행의 사이트에서 지방세 납부가 가능...     NaN\n",
       "1     [어느지점으로 안내해드릴까요?, 그럼 스마트폰에서 기업은행 어플을 설치하시면 납부가...     NaN\n",
       "2     [지금 전화거신 핸드폰이 본인명의 맞습니까?, 방문납부도 가능합니다., 생년월일을 ...     NaN\n",
       "3     [생년월일을 말씀해주시겠습니까?, 도보로 10분위치에 서울역지점이 있습니다., 살고...     NaN\n",
       "4     [살고계신 주소는 어디입니까?, 도보로 가시는게 빠를 것 같습니다., 상세주소도 말...     NaN\n",
       "...                                                 ...     ...\n",
       "4492                                                NaN     NaN\n",
       "4493                                                NaN     NaN\n",
       "4494                                                NaN     NaN\n",
       "4495                                                NaN     NaN\n",
       "4496                                                NaN     NaN\n",
       "\n",
       "[4497 rows x 2 columns]"
      ]
     },
     "execution_count": 41,
     "metadata": {},
     "output_type": "execute_result"
    }
   ],
   "source": [
    "data_row"
   ]
  },
  {
   "cell_type": "code",
   "execution_count": 42,
   "metadata": {},
   "outputs": [
    {
     "data": {
      "text/plain": [
       "['어떤 은행을 이용하고 계십니까?',\n",
       " '이용하시는 은행의 사이트에서 지방세 납부가 가능합니다.',\n",
       " '어느지점으로 안내해드릴까요?',\n",
       " '그럼 스마트폰에서 기업은행 어플을 설치하시면 납부가 가능합니다.',\n",
       " '지금 전화거신 핸드폰이 본인명의 맞습니까?',\n",
       " '방문납부도 가능합니다.']"
      ]
     },
     "execution_count": 42,
     "metadata": {},
     "output_type": "execute_result"
    }
   ],
   "source": [
    "data_row.iloc[0,0]"
   ]
  },
  {
   "cell_type": "code",
   "execution_count": 43,
   "metadata": {},
   "outputs": [
    {
     "data": {
      "text/plain": [
       "['어느지점으로 안내해드릴까요?',\n",
       " '그럼 스마트폰에서 기업은행 어플을 설치하시면 납부가 가능합니다.',\n",
       " '지금 전화거신 핸드폰이 본인명의 맞습니까?',\n",
       " '방문납부도 가능합니다.',\n",
       " '생년월일을 말씀해주시겠습니까?',\n",
       " '도보로 10분위치에 서울역지점이 있습니다.']"
      ]
     },
     "execution_count": 43,
     "metadata": {},
     "output_type": "execute_result"
    }
   ],
   "source": [
    "data_row.iloc[1,0]"
   ]
  },
  {
   "cell_type": "code",
   "execution_count": 44,
   "metadata": {},
   "outputs": [
    {
     "data": {
      "text/plain": [
       "sentence    2249\n",
       "predict     4497\n",
       "dtype: int64"
      ]
     },
     "execution_count": 44,
     "metadata": {},
     "output_type": "execute_result"
    }
   ],
   "source": [
    "data_row.isnull().sum()"
   ]
  },
  {
   "cell_type": "code",
   "execution_count": 45,
   "metadata": {},
   "outputs": [
    {
     "name": "stdout",
     "output_type": "stream",
     "text": [
      "어떤 은행을 이용하고 계십니까?이용하시는 은행의 사이트에서 지방세 납부가 가능합니다.\n"
     ]
    }
   ],
   "source": [
    "print(data_row.iloc[0,0][0]+data_row.iloc[0,0][1])"
   ]
  },
  {
   "cell_type": "code",
   "execution_count": 46,
   "metadata": {},
   "outputs": [],
   "source": [
    "data_row=pd.DataFrame(data_row['sentence'].dropna(axis=0))"
   ]
  },
  {
   "cell_type": "code",
   "execution_count": 47,
   "metadata": {},
   "outputs": [
    {
     "data": {
      "text/html": [
       "<div>\n",
       "<style scoped>\n",
       "    .dataframe tbody tr th:only-of-type {\n",
       "        vertical-align: middle;\n",
       "    }\n",
       "\n",
       "    .dataframe tbody tr th {\n",
       "        vertical-align: top;\n",
       "    }\n",
       "\n",
       "    .dataframe thead th {\n",
       "        text-align: right;\n",
       "    }\n",
       "</style>\n",
       "<table border=\"1\" class=\"dataframe\">\n",
       "  <thead>\n",
       "    <tr style=\"text-align: right;\">\n",
       "      <th></th>\n",
       "      <th>sentence</th>\n",
       "    </tr>\n",
       "  </thead>\n",
       "  <tbody>\n",
       "    <tr>\n",
       "      <th>0</th>\n",
       "      <td>[어떤 은행을 이용하고 계십니까?, 이용하시는 은행의 사이트에서 지방세 납부가 가능...</td>\n",
       "    </tr>\n",
       "    <tr>\n",
       "      <th>1</th>\n",
       "      <td>[어느지점으로 안내해드릴까요?, 그럼 스마트폰에서 기업은행 어플을 설치하시면 납부가...</td>\n",
       "    </tr>\n",
       "    <tr>\n",
       "      <th>2</th>\n",
       "      <td>[지금 전화거신 핸드폰이 본인명의 맞습니까?, 방문납부도 가능합니다., 생년월일을 ...</td>\n",
       "    </tr>\n",
       "    <tr>\n",
       "      <th>3</th>\n",
       "      <td>[생년월일을 말씀해주시겠습니까?, 도보로 10분위치에 서울역지점이 있습니다., 살고...</td>\n",
       "    </tr>\n",
       "    <tr>\n",
       "      <th>4</th>\n",
       "      <td>[살고계신 주소는 어디입니까?, 도보로 가시는게 빠를 것 같습니다., 상세주소도 말...</td>\n",
       "    </tr>\n",
       "    <tr>\n",
       "      <th>...</th>\n",
       "      <td>...</td>\n",
       "    </tr>\n",
       "    <tr>\n",
       "      <th>2243</th>\n",
       "      <td>[성함이 어떻게 되시나요?, 신청하시면 4년간 유예 되십니다., 기부액이 어떻게 되...</td>\n",
       "    </tr>\n",
       "    <tr>\n",
       "      <th>2244</th>\n",
       "      <td>[기부액이 어떻게 되시나요?, 대출자에게 납부고지서가 발송되면 납부고지서에 기재된 ...</td>\n",
       "    </tr>\n",
       "    <tr>\n",
       "      <th>2245</th>\n",
       "      <td>[어떤 방식으로 도와드릴까요?, 졸업 후 3년 동안 상환내역이 없는 경우이거나 3년...</td>\n",
       "    </tr>\n",
       "    <tr>\n",
       "      <th>2246</th>\n",
       "      <td>[이메일 주소가 어떻게 되시나요?, 불이익이 있습니다. , 출생연도가 어떻게 되시나...</td>\n",
       "    </tr>\n",
       "    <tr>\n",
       "      <th>2247</th>\n",
       "      <td>[출생연도가 어떻게 되시나요?, 먼자 연체금을 가산하게 되시고, 미납 금액과 별도로...</td>\n",
       "    </tr>\n",
       "  </tbody>\n",
       "</table>\n",
       "<p>2248 rows × 1 columns</p>\n",
       "</div>"
      ],
      "text/plain": [
       "                                               sentence\n",
       "0     [어떤 은행을 이용하고 계십니까?, 이용하시는 은행의 사이트에서 지방세 납부가 가능...\n",
       "1     [어느지점으로 안내해드릴까요?, 그럼 스마트폰에서 기업은행 어플을 설치하시면 납부가...\n",
       "2     [지금 전화거신 핸드폰이 본인명의 맞습니까?, 방문납부도 가능합니다., 생년월일을 ...\n",
       "3     [생년월일을 말씀해주시겠습니까?, 도보로 10분위치에 서울역지점이 있습니다., 살고...\n",
       "4     [살고계신 주소는 어디입니까?, 도보로 가시는게 빠를 것 같습니다., 상세주소도 말...\n",
       "...                                                 ...\n",
       "2243  [성함이 어떻게 되시나요?, 신청하시면 4년간 유예 되십니다., 기부액이 어떻게 되...\n",
       "2244  [기부액이 어떻게 되시나요?, 대출자에게 납부고지서가 발송되면 납부고지서에 기재된 ...\n",
       "2245  [어떤 방식으로 도와드릴까요?, 졸업 후 3년 동안 상환내역이 없는 경우이거나 3년...\n",
       "2246  [이메일 주소가 어떻게 되시나요?, 불이익이 있습니다. , 출생연도가 어떻게 되시나...\n",
       "2247  [출생연도가 어떻게 되시나요?, 먼자 연체금을 가산하게 되시고, 미납 금액과 별도로...\n",
       "\n",
       "[2248 rows x 1 columns]"
      ]
     },
     "execution_count": 47,
     "metadata": {},
     "output_type": "execute_result"
    }
   ],
   "source": [
    "data_row"
   ]
  },
  {
   "cell_type": "code",
   "execution_count": 48,
   "metadata": {},
   "outputs": [],
   "source": [
    "data=pd.DataFrame(index=range(data_row.shape[0]),columns=['sentence','predict'])"
   ]
  },
  {
   "cell_type": "code",
   "execution_count": 49,
   "metadata": {},
   "outputs": [],
   "source": [
    "for i in range(data.shape[0]):\n",
    "    data.iloc[i,0]=data_row.iloc[i,0][0]+data_row.iloc[i,0][1]+data_row.iloc[i,0][2]+data_row.iloc[i,0][3]+data_row.iloc[i,0][4]+data_row.iloc[i,0][5]\n"
   ]
  },
  {
   "cell_type": "code",
   "execution_count": 50,
   "metadata": {},
   "outputs": [
    {
     "data": {
      "text/html": [
       "<div>\n",
       "<style scoped>\n",
       "    .dataframe tbody tr th:only-of-type {\n",
       "        vertical-align: middle;\n",
       "    }\n",
       "\n",
       "    .dataframe tbody tr th {\n",
       "        vertical-align: top;\n",
       "    }\n",
       "\n",
       "    .dataframe thead th {\n",
       "        text-align: right;\n",
       "    }\n",
       "</style>\n",
       "<table border=\"1\" class=\"dataframe\">\n",
       "  <thead>\n",
       "    <tr style=\"text-align: right;\">\n",
       "      <th></th>\n",
       "      <th>sentence</th>\n",
       "      <th>predict</th>\n",
       "    </tr>\n",
       "  </thead>\n",
       "  <tbody>\n",
       "    <tr>\n",
       "      <th>0</th>\n",
       "      <td>어떤 은행을 이용하고 계십니까?이용하시는 은행의 사이트에서 지방세 납부가 가능합니다...</td>\n",
       "      <td>NaN</td>\n",
       "    </tr>\n",
       "    <tr>\n",
       "      <th>1</th>\n",
       "      <td>어느지점으로 안내해드릴까요?그럼 스마트폰에서 기업은행 어플을 설치하시면 납부가 가능...</td>\n",
       "      <td>NaN</td>\n",
       "    </tr>\n",
       "    <tr>\n",
       "      <th>2</th>\n",
       "      <td>지금 전화거신 핸드폰이 본인명의 맞습니까?방문납부도 가능합니다.생년월일을 말씀해주시...</td>\n",
       "      <td>NaN</td>\n",
       "    </tr>\n",
       "    <tr>\n",
       "      <th>3</th>\n",
       "      <td>생년월일을 말씀해주시겠습니까?도보로 10분위치에 서울역지점이 있습니다.살고계신 주소...</td>\n",
       "      <td>NaN</td>\n",
       "    </tr>\n",
       "    <tr>\n",
       "      <th>4</th>\n",
       "      <td>살고계신 주소는 어디입니까?도보로 가시는게 빠를 것 같습니다.상세주소도 말해주시겠습...</td>\n",
       "      <td>NaN</td>\n",
       "    </tr>\n",
       "    <tr>\n",
       "      <th>...</th>\n",
       "      <td>...</td>\n",
       "      <td>...</td>\n",
       "    </tr>\n",
       "    <tr>\n",
       "      <th>2243</th>\n",
       "      <td>성함이 어떻게 되시나요?신청하시면 4년간 유예 되십니다.기부액이 어떻게 되시나요?대...</td>\n",
       "      <td>NaN</td>\n",
       "    </tr>\n",
       "    <tr>\n",
       "      <th>2244</th>\n",
       "      <td>기부액이 어떻게 되시나요?대출자에게 납부고지서가 발송되면 납부고지서에 기재된 가상 ...</td>\n",
       "      <td>NaN</td>\n",
       "    </tr>\n",
       "    <tr>\n",
       "      <th>2245</th>\n",
       "      <td>어떤 방식으로 도와드릴까요?졸업 후 3년 동안 상환내역이 없는 경우이거나 3년 동안...</td>\n",
       "      <td>NaN</td>\n",
       "    </tr>\n",
       "    <tr>\n",
       "      <th>2246</th>\n",
       "      <td>이메일 주소가 어떻게 되시나요?불이익이 있습니다. 출생연도가 어떻게 되시나요?먼자 ...</td>\n",
       "      <td>NaN</td>\n",
       "    </tr>\n",
       "    <tr>\n",
       "      <th>2247</th>\n",
       "      <td>출생연도가 어떻게 되시나요?먼자 연체금을 가산하게 되시고, 미납 금액과 별도로 미상...</td>\n",
       "      <td>NaN</td>\n",
       "    </tr>\n",
       "  </tbody>\n",
       "</table>\n",
       "<p>2248 rows × 2 columns</p>\n",
       "</div>"
      ],
      "text/plain": [
       "                                               sentence predict\n",
       "0     어떤 은행을 이용하고 계십니까?이용하시는 은행의 사이트에서 지방세 납부가 가능합니다...     NaN\n",
       "1     어느지점으로 안내해드릴까요?그럼 스마트폰에서 기업은행 어플을 설치하시면 납부가 가능...     NaN\n",
       "2     지금 전화거신 핸드폰이 본인명의 맞습니까?방문납부도 가능합니다.생년월일을 말씀해주시...     NaN\n",
       "3     생년월일을 말씀해주시겠습니까?도보로 10분위치에 서울역지점이 있습니다.살고계신 주소...     NaN\n",
       "4     살고계신 주소는 어디입니까?도보로 가시는게 빠를 것 같습니다.상세주소도 말해주시겠습...     NaN\n",
       "...                                                 ...     ...\n",
       "2243  성함이 어떻게 되시나요?신청하시면 4년간 유예 되십니다.기부액이 어떻게 되시나요?대...     NaN\n",
       "2244  기부액이 어떻게 되시나요?대출자에게 납부고지서가 발송되면 납부고지서에 기재된 가상 ...     NaN\n",
       "2245  어떤 방식으로 도와드릴까요?졸업 후 3년 동안 상환내역이 없는 경우이거나 3년 동안...     NaN\n",
       "2246  이메일 주소가 어떻게 되시나요?불이익이 있습니다. 출생연도가 어떻게 되시나요?먼자 ...     NaN\n",
       "2247  출생연도가 어떻게 되시나요?먼자 연체금을 가산하게 되시고, 미납 금액과 별도로 미상...     NaN\n",
       "\n",
       "[2248 rows x 2 columns]"
      ]
     },
     "execution_count": 50,
     "metadata": {},
     "output_type": "execute_result"
    }
   ],
   "source": [
    "data"
   ]
  },
  {
   "cell_type": "code",
   "execution_count": 51,
   "metadata": {},
   "outputs": [
    {
     "data": {
      "text/plain": [
       "sentence       0\n",
       "predict     2248\n",
       "dtype: int64"
      ]
     },
     "execution_count": 51,
     "metadata": {},
     "output_type": "execute_result"
    }
   ],
   "source": [
    "data.isnull().sum()"
   ]
  },
  {
   "cell_type": "code",
   "execution_count": 52,
   "metadata": {},
   "outputs": [
    {
     "name": "stderr",
     "output_type": "stream",
     "text": [
      "/var/folders/wl/f37pc6xx0fb2flph2br8t6sw0000gn/T/ipykernel_10671/4094572162.py:1: FutureWarning: Downcasting object dtype arrays on .fillna, .ffill, .bfill is deprecated and will change in a future version. Call result.infer_objects(copy=False) instead. To opt-in to the future behavior, set `pd.set_option('future.no_silent_downcasting', True)`\n",
      "  data['predict']=data['predict'].fillna(0)\n"
     ]
    }
   ],
   "source": [
    "data['predict']=data['predict'].fillna(0)"
   ]
  },
  {
   "cell_type": "code",
   "execution_count": 53,
   "metadata": {},
   "outputs": [
    {
     "data": {
      "text/html": [
       "<div>\n",
       "<style scoped>\n",
       "    .dataframe tbody tr th:only-of-type {\n",
       "        vertical-align: middle;\n",
       "    }\n",
       "\n",
       "    .dataframe tbody tr th {\n",
       "        vertical-align: top;\n",
       "    }\n",
       "\n",
       "    .dataframe thead th {\n",
       "        text-align: right;\n",
       "    }\n",
       "</style>\n",
       "<table border=\"1\" class=\"dataframe\">\n",
       "  <thead>\n",
       "    <tr style=\"text-align: right;\">\n",
       "      <th></th>\n",
       "      <th>sentence</th>\n",
       "      <th>predict</th>\n",
       "    </tr>\n",
       "  </thead>\n",
       "  <tbody>\n",
       "    <tr>\n",
       "      <th>0</th>\n",
       "      <td>어떤 은행을 이용하고 계십니까?이용하시는 은행의 사이트에서 지방세 납부가 가능합니다...</td>\n",
       "      <td>0</td>\n",
       "    </tr>\n",
       "    <tr>\n",
       "      <th>1</th>\n",
       "      <td>어느지점으로 안내해드릴까요?그럼 스마트폰에서 기업은행 어플을 설치하시면 납부가 가능...</td>\n",
       "      <td>0</td>\n",
       "    </tr>\n",
       "    <tr>\n",
       "      <th>2</th>\n",
       "      <td>지금 전화거신 핸드폰이 본인명의 맞습니까?방문납부도 가능합니다.생년월일을 말씀해주시...</td>\n",
       "      <td>0</td>\n",
       "    </tr>\n",
       "    <tr>\n",
       "      <th>3</th>\n",
       "      <td>생년월일을 말씀해주시겠습니까?도보로 10분위치에 서울역지점이 있습니다.살고계신 주소...</td>\n",
       "      <td>0</td>\n",
       "    </tr>\n",
       "    <tr>\n",
       "      <th>4</th>\n",
       "      <td>살고계신 주소는 어디입니까?도보로 가시는게 빠를 것 같습니다.상세주소도 말해주시겠습...</td>\n",
       "      <td>0</td>\n",
       "    </tr>\n",
       "    <tr>\n",
       "      <th>...</th>\n",
       "      <td>...</td>\n",
       "      <td>...</td>\n",
       "    </tr>\n",
       "    <tr>\n",
       "      <th>2243</th>\n",
       "      <td>성함이 어떻게 되시나요?신청하시면 4년간 유예 되십니다.기부액이 어떻게 되시나요?대...</td>\n",
       "      <td>0</td>\n",
       "    </tr>\n",
       "    <tr>\n",
       "      <th>2244</th>\n",
       "      <td>기부액이 어떻게 되시나요?대출자에게 납부고지서가 발송되면 납부고지서에 기재된 가상 ...</td>\n",
       "      <td>0</td>\n",
       "    </tr>\n",
       "    <tr>\n",
       "      <th>2245</th>\n",
       "      <td>어떤 방식으로 도와드릴까요?졸업 후 3년 동안 상환내역이 없는 경우이거나 3년 동안...</td>\n",
       "      <td>0</td>\n",
       "    </tr>\n",
       "    <tr>\n",
       "      <th>2246</th>\n",
       "      <td>이메일 주소가 어떻게 되시나요?불이익이 있습니다. 출생연도가 어떻게 되시나요?먼자 ...</td>\n",
       "      <td>0</td>\n",
       "    </tr>\n",
       "    <tr>\n",
       "      <th>2247</th>\n",
       "      <td>출생연도가 어떻게 되시나요?먼자 연체금을 가산하게 되시고, 미납 금액과 별도로 미상...</td>\n",
       "      <td>0</td>\n",
       "    </tr>\n",
       "  </tbody>\n",
       "</table>\n",
       "<p>2248 rows × 2 columns</p>\n",
       "</div>"
      ],
      "text/plain": [
       "                                               sentence  predict\n",
       "0     어떤 은행을 이용하고 계십니까?이용하시는 은행의 사이트에서 지방세 납부가 가능합니다...        0\n",
       "1     어느지점으로 안내해드릴까요?그럼 스마트폰에서 기업은행 어플을 설치하시면 납부가 가능...        0\n",
       "2     지금 전화거신 핸드폰이 본인명의 맞습니까?방문납부도 가능합니다.생년월일을 말씀해주시...        0\n",
       "3     생년월일을 말씀해주시겠습니까?도보로 10분위치에 서울역지점이 있습니다.살고계신 주소...        0\n",
       "4     살고계신 주소는 어디입니까?도보로 가시는게 빠를 것 같습니다.상세주소도 말해주시겠습...        0\n",
       "...                                                 ...      ...\n",
       "2243  성함이 어떻게 되시나요?신청하시면 4년간 유예 되십니다.기부액이 어떻게 되시나요?대...        0\n",
       "2244  기부액이 어떻게 되시나요?대출자에게 납부고지서가 발송되면 납부고지서에 기재된 가상 ...        0\n",
       "2245  어떤 방식으로 도와드릴까요?졸업 후 3년 동안 상환내역이 없는 경우이거나 3년 동안...        0\n",
       "2246  이메일 주소가 어떻게 되시나요?불이익이 있습니다. 출생연도가 어떻게 되시나요?먼자 ...        0\n",
       "2247  출생연도가 어떻게 되시나요?먼자 연체금을 가산하게 되시고, 미납 금액과 별도로 미상...        0\n",
       "\n",
       "[2248 rows x 2 columns]"
      ]
     },
     "execution_count": 53,
     "metadata": {},
     "output_type": "execute_result"
    }
   ],
   "source": [
    "data"
   ]
  },
  {
   "cell_type": "code",
   "execution_count": 54,
   "metadata": {},
   "outputs": [],
   "source": [
    "data.to_csv(\"normal data(0528).csv\")"
   ]
  },
  {
   "cell_type": "code",
   "execution_count": 27,
   "metadata": {},
   "outputs": [
    {
     "data": {
      "text/plain": [
       "'어느지점으로 안내해드릴까요?그럼 스마트폰에서 기업은행 어플을 설치하시면 납부가 가능합니다.지금 전화거신 핸드폰이 본인명의 맞습니까?방문납부도 가능합니다.'"
      ]
     },
     "execution_count": 27,
     "metadata": {},
     "output_type": "execute_result"
    }
   ],
   "source": [
    "data.iloc[1,0]"
   ]
  },
  {
   "cell_type": "code",
   "execution_count": null,
   "metadata": {},
   "outputs": [],
   "source": []
  }
 ],
 "metadata": {
  "kernelspec": {
   "display_name": "conda_cpu",
   "language": "python",
   "name": "python3"
  },
  "language_info": {
   "codemirror_mode": {
    "name": "ipython",
    "version": 3
   },
   "file_extension": ".py",
   "mimetype": "text/x-python",
   "name": "python",
   "nbconvert_exporter": "python",
   "pygments_lexer": "ipython3",
   "version": "3.12.3"
  }
 },
 "nbformat": 4,
 "nbformat_minor": 2
}
