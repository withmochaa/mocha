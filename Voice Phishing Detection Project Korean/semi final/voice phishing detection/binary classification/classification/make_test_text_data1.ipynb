{
 "cells": [
  {
   "cell_type": "code",
   "execution_count": 17,
   "metadata": {},
   "outputs": [],
   "source": [
    "text=\"네, 알겠습니다.또한, 저희가 제공하는 보안 링크를 통해 추가적인 정보를 입력해 주셔야 합니다. 잠시 후에 문자를 보내드리겠습니다. 링크를 통해 접속해 주시기 바랍니다. 네, 알겠습니다. 감사합니다. 빠른 처리 후 다시 연락드리겠습니다. 귀하의 협조에 감사드립니다. 안심하시고 기다려 주세요. \"\n",
    "file=open(\"8.txt\",\"w\")\n",
    "file.write(text)\n",
    "file.close()"
   ]
  },
  {
   "cell_type": "code",
   "execution_count": null,
   "metadata": {},
   "outputs": [],
   "source": []
  }
 ],
 "metadata": {
  "kernelspec": {
   "display_name": "conda_cpu",
   "language": "python",
   "name": "python3"
  },
  "language_info": {
   "codemirror_mode": {
    "name": "ipython",
    "version": 3
   },
   "file_extension": ".py",
   "mimetype": "text/x-python",
   "name": "python",
   "nbconvert_exporter": "python",
   "pygments_lexer": "ipython3",
   "version": "3.12.3"
  }
 },
 "nbformat": 4,
 "nbformat_minor": 2
}
