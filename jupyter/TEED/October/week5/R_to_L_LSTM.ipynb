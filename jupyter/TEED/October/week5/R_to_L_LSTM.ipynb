{
 "cells": [
  {
   "cell_type": "code",
   "execution_count": 2,
   "metadata": {},
   "outputs": [
    {
     "data": {
      "text/html": [
       "<div>\n",
       "<style scoped>\n",
       "    .dataframe tbody tr th:only-of-type {\n",
       "        vertical-align: middle;\n",
       "    }\n",
       "\n",
       "    .dataframe tbody tr th {\n",
       "        vertical-align: top;\n",
       "    }\n",
       "\n",
       "    .dataframe thead th {\n",
       "        text-align: right;\n",
       "    }\n",
       "</style>\n",
       "<table border=\"1\" class=\"dataframe\">\n",
       "  <thead>\n",
       "    <tr style=\"text-align: right;\">\n",
       "      <th></th>\n",
       "      <th>FORCE_C(Left)</th>\n",
       "      <th>X COORDINATE_C(Left)</th>\n",
       "      <th>Y COORDINATE_C(Left)</th>\n",
       "      <th>FSR DATA_C(Left)</th>\n",
       "      <th>FORCE_B(Right)</th>\n",
       "      <th>FSR DATA_B(Right)</th>\n",
       "    </tr>\n",
       "  </thead>\n",
       "  <tbody>\n",
       "    <tr>\n",
       "      <th>0</th>\n",
       "      <td>1.245014</td>\n",
       "      <td>1.529382</td>\n",
       "      <td>-0.886157</td>\n",
       "      <td>1.361804</td>\n",
       "      <td>2.277552</td>\n",
       "      <td>1.757358</td>\n",
       "    </tr>\n",
       "    <tr>\n",
       "      <th>1</th>\n",
       "      <td>1.274000</td>\n",
       "      <td>1.749337</td>\n",
       "      <td>-1.368345</td>\n",
       "      <td>1.264316</td>\n",
       "      <td>2.319914</td>\n",
       "      <td>1.524890</td>\n",
       "    </tr>\n",
       "    <tr>\n",
       "      <th>2</th>\n",
       "      <td>1.389941</td>\n",
       "      <td>1.748738</td>\n",
       "      <td>-1.086286</td>\n",
       "      <td>1.166829</td>\n",
       "      <td>2.447001</td>\n",
       "      <td>1.524890</td>\n",
       "    </tr>\n",
       "    <tr>\n",
       "      <th>3</th>\n",
       "      <td>1.254676</td>\n",
       "      <td>1.777098</td>\n",
       "      <td>-1.389048</td>\n",
       "      <td>0.874366</td>\n",
       "      <td>2.531726</td>\n",
       "      <td>1.292421</td>\n",
       "    </tr>\n",
       "    <tr>\n",
       "      <th>4</th>\n",
       "      <td>NaN</td>\n",
       "      <td>NaN</td>\n",
       "      <td>NaN</td>\n",
       "      <td>NaN</td>\n",
       "      <td>NaN</td>\n",
       "      <td>NaN</td>\n",
       "    </tr>\n",
       "    <tr>\n",
       "      <th>...</th>\n",
       "      <td>...</td>\n",
       "      <td>...</td>\n",
       "      <td>...</td>\n",
       "      <td>...</td>\n",
       "      <td>...</td>\n",
       "      <td>...</td>\n",
       "    </tr>\n",
       "    <tr>\n",
       "      <th>608</th>\n",
       "      <td>2.037281</td>\n",
       "      <td>0.870283</td>\n",
       "      <td>0.317515</td>\n",
       "      <td>1.069341</td>\n",
       "      <td>1.472665</td>\n",
       "      <td>-0.334861</td>\n",
       "    </tr>\n",
       "    <tr>\n",
       "      <th>609</th>\n",
       "      <td>1.969648</td>\n",
       "      <td>0.872209</td>\n",
       "      <td>0.349021</td>\n",
       "      <td>1.166829</td>\n",
       "      <td>0.413604</td>\n",
       "      <td>-0.102392</td>\n",
       "    </tr>\n",
       "    <tr>\n",
       "      <th>610</th>\n",
       "      <td>1.998633</td>\n",
       "      <td>1.085799</td>\n",
       "      <td>0.020937</td>\n",
       "      <td>1.069341</td>\n",
       "      <td>1.345578</td>\n",
       "      <td>0.362545</td>\n",
       "    </tr>\n",
       "    <tr>\n",
       "      <th>611</th>\n",
       "      <td>1.902016</td>\n",
       "      <td>0.930805</td>\n",
       "      <td>0.082657</td>\n",
       "      <td>0.776878</td>\n",
       "      <td>1.049041</td>\n",
       "      <td>1.059952</td>\n",
       "    </tr>\n",
       "    <tr>\n",
       "      <th>612</th>\n",
       "      <td>1.776412</td>\n",
       "      <td>0.869766</td>\n",
       "      <td>0.193053</td>\n",
       "      <td>0.484416</td>\n",
       "      <td>0.837228</td>\n",
       "      <td>1.757358</td>\n",
       "    </tr>\n",
       "  </tbody>\n",
       "</table>\n",
       "<p>613 rows × 6 columns</p>\n",
       "</div>"
      ],
      "text/plain": [
       "     FORCE_C(Left)  X COORDINATE_C(Left)  Y COORDINATE_C(Left)  \\\n",
       "0         1.245014              1.529382             -0.886157   \n",
       "1         1.274000              1.749337             -1.368345   \n",
       "2         1.389941              1.748738             -1.086286   \n",
       "3         1.254676              1.777098             -1.389048   \n",
       "4              NaN                   NaN                   NaN   \n",
       "..             ...                   ...                   ...   \n",
       "608       2.037281              0.870283              0.317515   \n",
       "609       1.969648              0.872209              0.349021   \n",
       "610       1.998633              1.085799              0.020937   \n",
       "611       1.902016              0.930805              0.082657   \n",
       "612       1.776412              0.869766              0.193053   \n",
       "\n",
       "     FSR DATA_C(Left)  FORCE_B(Right)  FSR DATA_B(Right)  \n",
       "0            1.361804        2.277552           1.757358  \n",
       "1            1.264316        2.319914           1.524890  \n",
       "2            1.166829        2.447001           1.524890  \n",
       "3            0.874366        2.531726           1.292421  \n",
       "4                 NaN             NaN                NaN  \n",
       "..                ...             ...                ...  \n",
       "608          1.069341        1.472665          -0.334861  \n",
       "609          1.166829        0.413604          -0.102392  \n",
       "610          1.069341        1.345578           0.362545  \n",
       "611          0.776878        1.049041           1.059952  \n",
       "612          0.484416        0.837228           1.757358  \n",
       "\n",
       "[613 rows x 6 columns]"
      ]
     },
     "execution_count": 2,
     "metadata": {},
     "output_type": "execute_result"
    }
   ],
   "source": [
    "import pandas as pd \n",
    "\n",
    "data=pd.read_excel(\"/Users/withmocha/Desktop/TEED/data/mocha/23.10.29/data_sum.xlsx\")\n",
    "\n",
    "data"
   ]
  },
  {
   "cell_type": "code",
   "execution_count": 3,
   "metadata": {},
   "outputs": [
    {
     "data": {
      "text/plain": [
       "FORCE_C(Left)           265\n",
       "X COORDINATE_C(Left)    265\n",
       "Y COORDINATE_C(Left)    265\n",
       "FSR DATA_C(Left)        265\n",
       "FORCE_B(Right)          265\n",
       "FSR DATA_B(Right)       265\n",
       "dtype: int64"
      ]
     },
     "execution_count": 3,
     "metadata": {},
     "output_type": "execute_result"
    }
   ],
   "source": [
    "data.isnull().sum()"
   ]
  },
  {
   "cell_type": "code",
   "execution_count": 4,
   "metadata": {},
   "outputs": [
    {
     "name": "stdout",
     "output_type": "stream",
     "text": [
      "0.43230016313213704\n"
     ]
    }
   ],
   "source": [
    "print(265/613)"
   ]
  },
  {
   "cell_type": "code",
   "execution_count": 9,
   "metadata": {},
   "outputs": [
    {
     "ename": "KeyError",
     "evalue": "'index'",
     "output_type": "error",
     "traceback": [
      "\u001b[0;31m---------------------------------------------------------------------------\u001b[0m",
      "\u001b[0;31mKeyError\u001b[0m                                  Traceback (most recent call last)",
      "File \u001b[0;32m~/anaconda3/envs/conda/lib/python3.11/site-packages/pandas/core/indexes/base.py:3790\u001b[0m, in \u001b[0;36mIndex.get_loc\u001b[0;34m(self, key)\u001b[0m\n\u001b[1;32m   3789\u001b[0m \u001b[39mtry\u001b[39;00m:\n\u001b[0;32m-> 3790\u001b[0m     \u001b[39mreturn\u001b[39;00m \u001b[39mself\u001b[39m\u001b[39m.\u001b[39m_engine\u001b[39m.\u001b[39mget_loc(casted_key)\n\u001b[1;32m   3791\u001b[0m \u001b[39mexcept\u001b[39;00m \u001b[39mKeyError\u001b[39;00m \u001b[39mas\u001b[39;00m err:\n",
      "File \u001b[0;32mindex.pyx:152\u001b[0m, in \u001b[0;36mpandas._libs.index.IndexEngine.get_loc\u001b[0;34m()\u001b[0m\n",
      "File \u001b[0;32mindex.pyx:181\u001b[0m, in \u001b[0;36mpandas._libs.index.IndexEngine.get_loc\u001b[0;34m()\u001b[0m\n",
      "File \u001b[0;32mpandas/_libs/hashtable_class_helper.pxi:7080\u001b[0m, in \u001b[0;36mpandas._libs.hashtable.PyObjectHashTable.get_item\u001b[0;34m()\u001b[0m\n",
      "File \u001b[0;32mpandas/_libs/hashtable_class_helper.pxi:7088\u001b[0m, in \u001b[0;36mpandas._libs.hashtable.PyObjectHashTable.get_item\u001b[0;34m()\u001b[0m\n",
      "\u001b[0;31mKeyError\u001b[0m: 'index'",
      "\nThe above exception was the direct cause of the following exception:\n",
      "\u001b[0;31mKeyError\u001b[0m                                  Traceback (most recent call last)",
      "\u001b[1;32m/Users/withmocha/Desktop/VisualStudioCode/jupyter/TEED/October/week5/CNNLSTM.ipynb 셀 4\u001b[0m line \u001b[0;36m4\n\u001b[1;32m      <a href='vscode-notebook-cell:/Users/withmocha/Desktop/VisualStudioCode/jupyter/TEED/October/week5/CNNLSTM.ipynb#W3sZmlsZQ%3D%3D?line=0'>1</a>\u001b[0m columns\u001b[39m=\u001b[39mdata\u001b[39m.\u001b[39mcolumns\n\u001b[1;32m      <a href='vscode-notebook-cell:/Users/withmocha/Desktop/VisualStudioCode/jupyter/TEED/October/week5/CNNLSTM.ipynb#W3sZmlsZQ%3D%3D?line=2'>3</a>\u001b[0m \u001b[39mfor\u001b[39;00m index \u001b[39min\u001b[39;00m columns:\n\u001b[0;32m----> <a href='vscode-notebook-cell:/Users/withmocha/Desktop/VisualStudioCode/jupyter/TEED/October/week5/CNNLSTM.ipynb#W3sZmlsZQ%3D%3D?line=3'>4</a>\u001b[0m     data[\u001b[39m\"\u001b[39m\u001b[39mindex\u001b[39m\u001b[39m\"\u001b[39m]\u001b[39m.\u001b[39mplot()\n",
      "File \u001b[0;32m~/anaconda3/envs/conda/lib/python3.11/site-packages/pandas/core/frame.py:3896\u001b[0m, in \u001b[0;36mDataFrame.__getitem__\u001b[0;34m(self, key)\u001b[0m\n\u001b[1;32m   3894\u001b[0m \u001b[39mif\u001b[39;00m \u001b[39mself\u001b[39m\u001b[39m.\u001b[39mcolumns\u001b[39m.\u001b[39mnlevels \u001b[39m>\u001b[39m \u001b[39m1\u001b[39m:\n\u001b[1;32m   3895\u001b[0m     \u001b[39mreturn\u001b[39;00m \u001b[39mself\u001b[39m\u001b[39m.\u001b[39m_getitem_multilevel(key)\n\u001b[0;32m-> 3896\u001b[0m indexer \u001b[39m=\u001b[39m \u001b[39mself\u001b[39m\u001b[39m.\u001b[39mcolumns\u001b[39m.\u001b[39mget_loc(key)\n\u001b[1;32m   3897\u001b[0m \u001b[39mif\u001b[39;00m is_integer(indexer):\n\u001b[1;32m   3898\u001b[0m     indexer \u001b[39m=\u001b[39m [indexer]\n",
      "File \u001b[0;32m~/anaconda3/envs/conda/lib/python3.11/site-packages/pandas/core/indexes/base.py:3797\u001b[0m, in \u001b[0;36mIndex.get_loc\u001b[0;34m(self, key)\u001b[0m\n\u001b[1;32m   3792\u001b[0m     \u001b[39mif\u001b[39;00m \u001b[39misinstance\u001b[39m(casted_key, \u001b[39mslice\u001b[39m) \u001b[39mor\u001b[39;00m (\n\u001b[1;32m   3793\u001b[0m         \u001b[39misinstance\u001b[39m(casted_key, abc\u001b[39m.\u001b[39mIterable)\n\u001b[1;32m   3794\u001b[0m         \u001b[39mand\u001b[39;00m \u001b[39many\u001b[39m(\u001b[39misinstance\u001b[39m(x, \u001b[39mslice\u001b[39m) \u001b[39mfor\u001b[39;00m x \u001b[39min\u001b[39;00m casted_key)\n\u001b[1;32m   3795\u001b[0m     ):\n\u001b[1;32m   3796\u001b[0m         \u001b[39mraise\u001b[39;00m InvalidIndexError(key)\n\u001b[0;32m-> 3797\u001b[0m     \u001b[39mraise\u001b[39;00m \u001b[39mKeyError\u001b[39;00m(key) \u001b[39mfrom\u001b[39;00m \u001b[39merr\u001b[39;00m\n\u001b[1;32m   3798\u001b[0m \u001b[39mexcept\u001b[39;00m \u001b[39mTypeError\u001b[39;00m:\n\u001b[1;32m   3799\u001b[0m     \u001b[39m# If we have a listlike key, _check_indexing_error will raise\u001b[39;00m\n\u001b[1;32m   3800\u001b[0m     \u001b[39m#  InvalidIndexError. Otherwise we fall through and re-raise\u001b[39;00m\n\u001b[1;32m   3801\u001b[0m     \u001b[39m#  the TypeError.\u001b[39;00m\n\u001b[1;32m   3802\u001b[0m     \u001b[39mself\u001b[39m\u001b[39m.\u001b[39m_check_indexing_error(key)\n",
      "\u001b[0;31mKeyError\u001b[0m: 'index'"
     ]
    }
   ],
   "source": [
    "columns=data.columns\n",
    "asdf\n",
    "for index in columns:\n",
    "    data[\"index\"].plot()"
   ]
  }
 ],
 "metadata": {
  "kernelspec": {
   "display_name": "conda",
   "language": "python",
   "name": "python3"
  },
  "language_info": {
   "codemirror_mode": {
    "name": "ipython",
    "version": 3
   },
   "file_extension": ".py",
   "mimetype": "text/x-python",
   "name": "python",
   "nbconvert_exporter": "python",
   "pygments_lexer": "ipython3",
   "version": "3.11.5"
  }
 },
 "nbformat": 4,
 "nbformat_minor": 2
}
