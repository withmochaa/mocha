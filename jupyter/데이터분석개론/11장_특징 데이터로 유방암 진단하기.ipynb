{
 "cells": [
  {
   "cell_type": "code",
   "execution_count": null,
   "metadata": {},
   "outputs": [],
   "source": []
  }
 ],
 "metadata": {
  "kernelspec": {
   "display_name": "Python 3.10.5 64-bit (windows store)",
   "language": "python",
   "name": "python3"
  },
  "language_info": {
   "name": "python",
   "version": "3.10.5"
  },
  "orig_nbformat": 4,
  "vscode": {
   "interpreter": {
    "hash": "dbe1eb265affab93b9691971ee40b051f037a3edcda3cd09bc37050ac9ce6981"
   }
  }
 },
 "nbformat": 4,
 "nbformat_minor": 2
}
