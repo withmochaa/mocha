{
 "cells": [
  {
   "cell_type": "code",
   "execution_count": 1,
   "metadata": {},
   "outputs": [
    {
     "data": {
      "text/html": [
       "<div>\n",
       "<style scoped>\n",
       "    .dataframe tbody tr th:only-of-type {\n",
       "        vertical-align: middle;\n",
       "    }\n",
       "\n",
       "    .dataframe tbody tr th {\n",
       "        vertical-align: top;\n",
       "    }\n",
       "\n",
       "    .dataframe thead th {\n",
       "        text-align: right;\n",
       "    }\n",
       "</style>\n",
       "<table border=\"1\" class=\"dataframe\">\n",
       "  <thead>\n",
       "    <tr style=\"text-align: right;\">\n",
       "      <th></th>\n",
       "      <th>Unnamed: 0</th>\n",
       "      <th>상담사질문(요청)</th>\n",
       "      <th>상담사답변</th>\n",
       "    </tr>\n",
       "  </thead>\n",
       "  <tbody>\n",
       "    <tr>\n",
       "      <th>0</th>\n",
       "      <td>0</td>\n",
       "      <td>NaN</td>\n",
       "      <td>NaN</td>\n",
       "    </tr>\n",
       "    <tr>\n",
       "      <th>1</th>\n",
       "      <td>1</td>\n",
       "      <td>가산동 어디에서 출발하십니까?</td>\n",
       "      <td>NaN</td>\n",
       "    </tr>\n",
       "    <tr>\n",
       "      <th>2</th>\n",
       "      <td>2</td>\n",
       "      <td>NaN</td>\n",
       "      <td>NaN</td>\n",
       "    </tr>\n",
       "    <tr>\n",
       "      <th>3</th>\n",
       "      <td>3</td>\n",
       "      <td>NaN</td>\n",
       "      <td>가산동 주민센터에서 남대문시장으로 가는 버스노선은 505번 버스입니다.</td>\n",
       "    </tr>\n",
       "    <tr>\n",
       "      <th>4</th>\n",
       "      <td>4</td>\n",
       "      <td>NaN</td>\n",
       "      <td>NaN</td>\n",
       "    </tr>\n",
       "    <tr>\n",
       "      <th>...</th>\n",
       "      <td>...</td>\n",
       "      <td>...</td>\n",
       "      <td>...</td>\n",
       "    </tr>\n",
       "    <tr>\n",
       "      <th>38961</th>\n",
       "      <td>38961</td>\n",
       "      <td>NaN</td>\n",
       "      <td>네 질문 해 주세요.</td>\n",
       "    </tr>\n",
       "    <tr>\n",
       "      <th>38962</th>\n",
       "      <td>38962</td>\n",
       "      <td>NaN</td>\n",
       "      <td>NaN</td>\n",
       "    </tr>\n",
       "    <tr>\n",
       "      <th>38963</th>\n",
       "      <td>38963</td>\n",
       "      <td>NaN</td>\n",
       "      <td>노선마다 다르지만 순천 시내버스는 가장 늦는게 23시55분 입니다.</td>\n",
       "    </tr>\n",
       "    <tr>\n",
       "      <th>38964</th>\n",
       "      <td>38964</td>\n",
       "      <td>NaN</td>\n",
       "      <td>NaN</td>\n",
       "    </tr>\n",
       "    <tr>\n",
       "      <th>38965</th>\n",
       "      <td>38965</td>\n",
       "      <td>NaN</td>\n",
       "      <td>그렇군요. 저도 감사드립니다.</td>\n",
       "    </tr>\n",
       "  </tbody>\n",
       "</table>\n",
       "<p>38966 rows × 3 columns</p>\n",
       "</div>"
      ],
      "text/plain": [
       "       Unnamed: 0         상담사질문(요청)                                    상담사답변\n",
       "0               0               NaN                                      NaN\n",
       "1               1  가산동 어디에서 출발하십니까?                                      NaN\n",
       "2               2               NaN                                      NaN\n",
       "3               3               NaN  가산동 주민센터에서 남대문시장으로 가는 버스노선은 505번 버스입니다.\n",
       "4               4               NaN                                      NaN\n",
       "...           ...               ...                                      ...\n",
       "38961       38961               NaN                              네 질문 해 주세요.\n",
       "38962       38962               NaN                                      NaN\n",
       "38963       38963               NaN    노선마다 다르지만 순천 시내버스는 가장 늦는게 23시55분 입니다.\n",
       "38964       38964               NaN                                      NaN\n",
       "38965       38965               NaN                         그렇군요. 저도 감사드립니다.\n",
       "\n",
       "[38966 rows x 3 columns]"
      ]
     },
     "execution_count": 1,
     "metadata": {},
     "output_type": "execute_result"
    }
   ],
   "source": [
    "import numpy as np\n",
    "import pandas as pd \n",
    "data=pd.read_csv('/Users/withmocha/Desktop/DATA/Capston Design(2024)/Data(24.03.12)/csv_file_data(24.03.21)/normal/콜센터(민원)/콜센터 민원_대중교통.csv')\n",
    "\n",
    "data"
   ]
  },
  {
   "cell_type": "code",
   "execution_count": 2,
   "metadata": {},
   "outputs": [],
   "source": [
    "data.drop(columns=['Unnamed: 0'],inplace=True)"
   ]
  },
  {
   "cell_type": "code",
   "execution_count": 3,
   "metadata": {},
   "outputs": [
    {
     "data": {
      "text/plain": [
       "상담사질문(요청)    object\n",
       "상담사답변        object\n",
       "dtype: object"
      ]
     },
     "execution_count": 3,
     "metadata": {},
     "output_type": "execute_result"
    }
   ],
   "source": [
    "data.dtypes"
   ]
  },
  {
   "cell_type": "code",
   "execution_count": 4,
   "metadata": {},
   "outputs": [
    {
     "data": {
      "text/plain": [
       "(38966, 2)"
      ]
     },
     "execution_count": 4,
     "metadata": {},
     "output_type": "execute_result"
    }
   ],
   "source": [
    "data.shape"
   ]
  },
  {
   "cell_type": "code",
   "execution_count": 5,
   "metadata": {},
   "outputs": [
    {
     "data": {
      "text/plain": [
       "33499"
      ]
     },
     "execution_count": 5,
     "metadata": {},
     "output_type": "execute_result"
    }
   ],
   "source": [
    "data['상담사질문(요청)'].isnull().sum()"
   ]
  },
  {
   "cell_type": "code",
   "execution_count": 6,
   "metadata": {},
   "outputs": [
    {
     "name": "stderr",
     "output_type": "stream",
     "text": [
      "/var/folders/gb/hslcbzfs0bvcnj3zxtfrxt_r0000gn/T/ipykernel_25496/3933870051.py:1: FutureWarning: Series.__getitem__ treating keys as positions is deprecated. In a future version, integer keys will always be treated as labels (consistent with DataFrame behavior). To access a value by position, use `ser.iloc[pos]`\n",
      "  data1=pd.DataFrame(index=range(0,data.shape[0]-data.isnull().sum()[0]),columns=['상담사질문(요청)'])\n",
      "/var/folders/gb/hslcbzfs0bvcnj3zxtfrxt_r0000gn/T/ipykernel_25496/3933870051.py:2: FutureWarning: Series.__getitem__ treating keys as positions is deprecated. In a future version, integer keys will always be treated as labels (consistent with DataFrame behavior). To access a value by position, use `ser.iloc[pos]`\n",
      "  data2=pd.DataFrame(index=range(0,data.shape[0]-data.isnull().sum()[1]),columns=['상담사답변'])\n"
     ]
    }
   ],
   "source": [
    "data1=pd.DataFrame(index=range(0,data.shape[0]-data.isnull().sum()[0]),columns=['상담사질문(요청)'])\n",
    "data2=pd.DataFrame(index=range(0,data.shape[0]-data.isnull().sum()[1]),columns=['상담사답변'])"
   ]
  },
  {
   "cell_type": "code",
   "execution_count": 7,
   "metadata": {},
   "outputs": [
    {
     "name": "stdout",
     "output_type": "stream",
     "text": [
      "(5467, 1)\n",
      "(13749, 1)\n",
      "(38966, 2)\n"
     ]
    }
   ],
   "source": [
    "print(data1.shape)\n",
    "print(data2.shape)\n",
    "print(data.shape)"
   ]
  },
  {
   "cell_type": "code",
   "execution_count": 8,
   "metadata": {},
   "outputs": [
    {
     "name": "stdout",
     "output_type": "stream",
     "text": [
      "<class 'float'>\n",
      "<class 'float'>\n"
     ]
    }
   ],
   "source": [
    "print(type(data1.iloc[0,0]))\n",
    "print(type(data.iloc[1,1]))"
   ]
  },
  {
   "cell_type": "code",
   "execution_count": 9,
   "metadata": {},
   "outputs": [],
   "source": [
    "index=[]\n",
    "for i in range(data.shape[0]):\n",
    "    if type(data.iloc[i,0])==str:\n",
    "        index.append(i)\n",
    "    else:\n",
    "        continue\n",
    "        \n",
    "data1_index=np.array(index)"
   ]
  },
  {
   "cell_type": "code",
   "execution_count": 10,
   "metadata": {},
   "outputs": [],
   "source": [
    "index=[]\n",
    "for i in range(data.shape[0]):\n",
    "    if type(data.iloc[i,1])==str:\n",
    "        index.append(i)\n",
    "    else:\n",
    "        continue\n",
    "        \n",
    "data2_index=np.array(index)"
   ]
  },
  {
   "cell_type": "code",
   "execution_count": 11,
   "metadata": {},
   "outputs": [
    {
     "name": "stdout",
     "output_type": "stream",
     "text": [
      "[    3     5     7 ... 38961 38963 38965]\n"
     ]
    }
   ],
   "source": [
    "print(data2_index)"
   ]
  },
  {
   "cell_type": "code",
   "execution_count": 12,
   "metadata": {},
   "outputs": [],
   "source": [
    "for i in range(len(data1_index)):\n",
    "    data1.iloc[i,0]=data.iloc[data1_index[i],0]\n",
    "        "
   ]
  },
  {
   "cell_type": "code",
   "execution_count": 13,
   "metadata": {},
   "outputs": [],
   "source": [
    "for i in range(len(data2_index)):\n",
    "    data2.iloc[i,0]=data.iloc[data2_index[i],1]\n",
    "    "
   ]
  },
  {
   "cell_type": "code",
   "execution_count": 14,
   "metadata": {},
   "outputs": [
    {
     "data": {
      "text/html": [
       "<div>\n",
       "<style scoped>\n",
       "    .dataframe tbody tr th:only-of-type {\n",
       "        vertical-align: middle;\n",
       "    }\n",
       "\n",
       "    .dataframe tbody tr th {\n",
       "        vertical-align: top;\n",
       "    }\n",
       "\n",
       "    .dataframe thead th {\n",
       "        text-align: right;\n",
       "    }\n",
       "</style>\n",
       "<table border=\"1\" class=\"dataframe\">\n",
       "  <thead>\n",
       "    <tr style=\"text-align: right;\">\n",
       "      <th></th>\n",
       "      <th>상담사질문(요청)</th>\n",
       "    </tr>\n",
       "  </thead>\n",
       "  <tbody>\n",
       "    <tr>\n",
       "      <th>0</th>\n",
       "      <td>가산동 어디에서 출발하십니까?</td>\n",
       "    </tr>\n",
       "    <tr>\n",
       "      <th>1</th>\n",
       "      <td>수원 어디에서 출발하십니까?</td>\n",
       "    </tr>\n",
       "    <tr>\n",
       "      <th>2</th>\n",
       "      <td>서울 어디로 가십니까?</td>\n",
       "    </tr>\n",
       "    <tr>\n",
       "      <th>3</th>\n",
       "      <td>인천 어디에서 출발하십니까?</td>\n",
       "    </tr>\n",
       "    <tr>\n",
       "      <th>4</th>\n",
       "      <td>의정부 어디로 가십니까?</td>\n",
       "    </tr>\n",
       "    <tr>\n",
       "      <th>...</th>\n",
       "      <td>...</td>\n",
       "    </tr>\n",
       "    <tr>\n",
       "      <th>5462</th>\n",
       "      <td>네 맞습니다. 어떤 일로 문의 주셨나요?</td>\n",
       "    </tr>\n",
       "    <tr>\n",
       "      <th>5463</th>\n",
       "      <td>어떤 것 때문이죠?</td>\n",
       "    </tr>\n",
       "    <tr>\n",
       "      <th>5464</th>\n",
       "      <td>혹시 질문 해주시는 이유를 알 수 있을까요?</td>\n",
       "    </tr>\n",
       "    <tr>\n",
       "      <th>5465</th>\n",
       "      <td>궁금증이 좀 풀리셨나요?</td>\n",
       "    </tr>\n",
       "    <tr>\n",
       "      <th>5466</th>\n",
       "      <td>도움이 되신다니 다행이네요. 또 궁금한 점 있으세요?</td>\n",
       "    </tr>\n",
       "  </tbody>\n",
       "</table>\n",
       "<p>5467 rows × 1 columns</p>\n",
       "</div>"
      ],
      "text/plain": [
       "                          상담사질문(요청)\n",
       "0                  가산동 어디에서 출발하십니까?\n",
       "1                   수원 어디에서 출발하십니까?\n",
       "2                      서울 어디로 가십니까?\n",
       "3                   인천 어디에서 출발하십니까?\n",
       "4                     의정부 어디로 가십니까?\n",
       "...                             ...\n",
       "5462         네 맞습니다. 어떤 일로 문의 주셨나요?\n",
       "5463                     어떤 것 때문이죠?\n",
       "5464       혹시 질문 해주시는 이유를 알 수 있을까요?\n",
       "5465                  궁금증이 좀 풀리셨나요?\n",
       "5466  도움이 되신다니 다행이네요. 또 궁금한 점 있으세요?\n",
       "\n",
       "[5467 rows x 1 columns]"
      ]
     },
     "execution_count": 14,
     "metadata": {},
     "output_type": "execute_result"
    }
   ],
   "source": [
    "data1"
   ]
  },
  {
   "cell_type": "code",
   "execution_count": 15,
   "metadata": {},
   "outputs": [
    {
     "data": {
      "text/html": [
       "<div>\n",
       "<style scoped>\n",
       "    .dataframe tbody tr th:only-of-type {\n",
       "        vertical-align: middle;\n",
       "    }\n",
       "\n",
       "    .dataframe tbody tr th {\n",
       "        vertical-align: top;\n",
       "    }\n",
       "\n",
       "    .dataframe thead th {\n",
       "        text-align: right;\n",
       "    }\n",
       "</style>\n",
       "<table border=\"1\" class=\"dataframe\">\n",
       "  <thead>\n",
       "    <tr style=\"text-align: right;\">\n",
       "      <th></th>\n",
       "      <th>상담사답변</th>\n",
       "    </tr>\n",
       "  </thead>\n",
       "  <tbody>\n",
       "    <tr>\n",
       "      <th>0</th>\n",
       "      <td>가산동 주민센터에서 남대문시장으로 가는 버스노선은 505번 버스입니다.</td>\n",
       "    </tr>\n",
       "    <tr>\n",
       "      <th>1</th>\n",
       "      <td>문성초등학교 정류장에서 탑승하시면 됩니다.</td>\n",
       "    </tr>\n",
       "    <tr>\n",
       "      <th>2</th>\n",
       "      <td>1200원 입니다.</td>\n",
       "    </tr>\n",
       "    <tr>\n",
       "      <th>3</th>\n",
       "      <td>서울역에서 서울대학교로 가는 버스노선은 750A, 750B 버스입니다.</td>\n",
       "    </tr>\n",
       "    <tr>\n",
       "      <th>4</th>\n",
       "      <td>약 1시간 10분정도 걸립니다.</td>\n",
       "    </tr>\n",
       "    <tr>\n",
       "      <th>...</th>\n",
       "      <td>...</td>\n",
       "    </tr>\n",
       "    <tr>\n",
       "      <th>13744</th>\n",
       "      <td>아하 알겠습니다. 잠시 찾아보겠습니다.</td>\n",
       "    </tr>\n",
       "    <tr>\n",
       "      <th>13745</th>\n",
       "      <td>노선마다 다르지만 순천 시내버스는 가장 빠른게 05시50분 입니다.</td>\n",
       "    </tr>\n",
       "    <tr>\n",
       "      <th>13746</th>\n",
       "      <td>네 질문 해 주세요.</td>\n",
       "    </tr>\n",
       "    <tr>\n",
       "      <th>13747</th>\n",
       "      <td>노선마다 다르지만 순천 시내버스는 가장 늦는게 23시55분 입니다.</td>\n",
       "    </tr>\n",
       "    <tr>\n",
       "      <th>13748</th>\n",
       "      <td>그렇군요. 저도 감사드립니다.</td>\n",
       "    </tr>\n",
       "  </tbody>\n",
       "</table>\n",
       "<p>13749 rows × 1 columns</p>\n",
       "</div>"
      ],
      "text/plain": [
       "                                         상담사답변\n",
       "0      가산동 주민센터에서 남대문시장으로 가는 버스노선은 505번 버스입니다.\n",
       "1                      문성초등학교 정류장에서 탑승하시면 됩니다.\n",
       "2                                   1200원 입니다.\n",
       "3      서울역에서 서울대학교로 가는 버스노선은 750A, 750B 버스입니다.\n",
       "4                            약 1시간 10분정도 걸립니다.\n",
       "...                                        ...\n",
       "13744                    아하 알겠습니다. 잠시 찾아보겠습니다.\n",
       "13745    노선마다 다르지만 순천 시내버스는 가장 빠른게 05시50분 입니다.\n",
       "13746                              네 질문 해 주세요.\n",
       "13747    노선마다 다르지만 순천 시내버스는 가장 늦는게 23시55분 입니다.\n",
       "13748                         그렇군요. 저도 감사드립니다.\n",
       "\n",
       "[13749 rows x 1 columns]"
      ]
     },
     "execution_count": 15,
     "metadata": {},
     "output_type": "execute_result"
    }
   ],
   "source": [
    "data2"
   ]
  },
  {
   "cell_type": "code",
   "execution_count": 16,
   "metadata": {},
   "outputs": [],
   "source": [
    "data1.to_csv(\"콜센터민원_대중교통_상담사질문.csv\")\n"
   ]
  },
  {
   "cell_type": "code",
   "execution_count": 17,
   "metadata": {},
   "outputs": [],
   "source": [
    "data2.to_csv(\"콜센터민원_대중교통_상담사답변.csv\")"
   ]
  },
  {
   "cell_type": "code",
   "execution_count": null,
   "metadata": {},
   "outputs": [],
   "source": []
  },
  {
   "cell_type": "code",
   "execution_count": null,
   "metadata": {},
   "outputs": [],
   "source": []
  },
  {
   "cell_type": "code",
   "execution_count": null,
   "metadata": {},
   "outputs": [],
   "source": []
  }
 ],
 "metadata": {
  "kernelspec": {
   "display_name": "base",
   "language": "python",
   "name": "python3"
  },
  "language_info": {
   "codemirror_mode": {
    "name": "ipython",
    "version": 3
   },
   "file_extension": ".py",
   "mimetype": "text/x-python",
   "name": "python",
   "nbconvert_exporter": "python",
   "pygments_lexer": "ipython3",
   "version": "3.11.5"
  }
 },
 "nbformat": 4,
 "nbformat_minor": 2
}
