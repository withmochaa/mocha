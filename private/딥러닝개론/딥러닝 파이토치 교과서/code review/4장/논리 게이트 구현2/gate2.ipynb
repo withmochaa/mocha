{
 "cells": [
  {
   "cell_type": "code",
   "execution_count": 9,
   "metadata": {},
   "outputs": [],
   "source": [
    "# 도구 임포트\n",
    "import torch\n",
    "import torch.nn as nn"
   ]
  },
  {
   "cell_type": "code",
   "execution_count": 10,
   "metadata": {},
   "outputs": [],
   "source": [
    "# GPU 연산이 가능할 경우 GPU 연산 수행\n",
    "device ='cuda' if torch.cuda.is_available() else 'cpu'\n",
    "torch.manual_seed(777)\n",
    "if device =='cuda':\n",
    "    torch.cuda.manual_seed_all(777)"
   ]
  },
  {
   "cell_type": "code",
   "execution_count": 11,
   "metadata": {},
   "outputs": [],
   "source": [
    "# 각 gate 문제에 해당하는 입력과 출력 정의\n",
    "X = torch.FloatTensor([[0, 0], [0, 1], [1, 0], [1, 1]]).to(device)\n",
    "Y = torch.FloatTensor([[0], [0], [0], [1]]).to(device) # AND\n",
    "#Y = torch.FloatTensor([[1], [1], [1], [0]]).to(device) # NAND\n",
    "#Y = torch.FloatTensor([[0], [1], [1], [1]]).to(device) # OR\n",
    "#Y = torch.FloatTensor([[0], [1], [1], [0]]).to(device) # XOR"
   ]
  },
  {
   "cell_type": "code",
   "execution_count": 12,
   "metadata": {},
   "outputs": [],
   "source": [
    "# 다층 퍼셉트론 설계\n",
    "linear1 = nn.Linear(2, 2, bias=True)\n",
    "sigmoid1 = nn.Sigmoid()\n",
    "linear2 = nn.Linear(2, 1, bias=True)\n",
    "sigmoid2 = nn.Sigmoid()\n",
    "model = nn.Sequential(linear1, sigmoid1, linear2, sigmoid2).to(\n",
    "device)\n",
    "# 이진 분류 문제이므로 비용 함수로 크로스엔트로피 함수 사용\n",
    "# nn.BCELoss() - 이진 분류에서 사용하는 크로스엔트로피 함수"
   ]
  },
  {
   "cell_type": "code",
   "execution_count": 13,
   "metadata": {},
   "outputs": [],
   "source": [
    "# 비용 함수와 옵티마이저 정의\n",
    "criterion = torch.nn.BCELoss().to(device)\n",
    "optimizer = torch.optim.SGD(model.parameters(), lr=1)"
   ]
  },
  {
   "cell_type": "code",
   "execution_count": 14,
   "metadata": {},
   "outputs": [
    {
     "name": "stdout",
     "output_type": "stream",
     "text": [
      "0 0.9090930819511414\n",
      "100 0.2132481038570404\n",
      "200 0.06191299483180046\n",
      "300 0.02962685376405716\n",
      "400 0.018459977582097054\n",
      "500 0.013130065985023975\n",
      "600 0.010083194822072983\n",
      "700 0.00813518837094307\n",
      "800 0.006792139261960983\n",
      "900 0.005814610980451107\n",
      "1000 0.005073647480458021\n"
     ]
    }
   ],
   "source": [
    "for step in range(1001):\n",
    "    optimizer.zero_grad()\n",
    "    hypothesis = model(X)\n",
    "    \n",
    "     # 비용 함수\n",
    "    cost = criterion(hypothesis, Y)\n",
    "    cost.backward()\n",
    "    optimizer.step()\n",
    "    \n",
    "    if step % 100 == 0: # 100번째 에포크마다 비용 출력\n",
    "        print(step, cost.item())"
   ]
  },
  {
   "cell_type": "code",
   "execution_count": 15,
   "metadata": {},
   "outputs": [
    {
     "name": "stdout",
     "output_type": "stream",
     "text": [
      "\n",
      "\n",
      "\n",
      "hypothesis 값 : \n",
      "tensor([[1.3277e-04],\n",
      "        [3.7380e-03],\n",
      "        [3.7642e-03],\n",
      "        [9.8743e-01]], grad_fn=<SigmoidBackward0>)\n",
      "\n",
      "\n",
      "예측 값 : \n",
      "tensor([[0.],\n",
      "        [0.],\n",
      "        [0.],\n",
      "        [1.]])\n",
      "\n",
      "\n",
      "실제 값 : \n",
      "tensor([[0.],\n",
      "        [0.],\n",
      "        [0.],\n",
      "        [1.]])\n"
     ]
    }
   ],
   "source": [
    "print('\\n\\n')\n",
    "print('hypothesis 값 : ')\n",
    "print(hypothesis)\n",
    "print('\\n')\n",
    "predicted = (hypothesis > 0.5).float()\n",
    "print('예측 값 : ')\n",
    "print(predicted)\n",
    "print('\\n')\n",
    "print('실제 값 : ')\n",
    "print(Y)"
   ]
  },
  {
   "cell_type": "code",
   "execution_count": null,
   "metadata": {},
   "outputs": [],
   "source": []
  },
  {
   "cell_type": "code",
   "execution_count": null,
   "metadata": {},
   "outputs": [],
   "source": []
  }
 ],
 "metadata": {
  "kernelspec": {
   "display_name": "base",
   "language": "python",
   "name": "python3"
  },
  "language_info": {
   "codemirror_mode": {
    "name": "ipython",
    "version": 3
   },
   "file_extension": ".py",
   "mimetype": "text/x-python",
   "name": "python",
   "nbconvert_exporter": "python",
   "pygments_lexer": "ipython3",
   "version": "3.11.5"
  }
 },
 "nbformat": 4,
 "nbformat_minor": 2
}
