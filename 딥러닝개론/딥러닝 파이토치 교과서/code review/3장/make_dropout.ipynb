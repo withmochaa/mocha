{
 "cells": [
  {
   "cell_type": "code",
   "execution_count": 1,
   "metadata": {},
   "outputs": [],
   "source": [
    "import torch"
   ]
  },
  {
   "cell_type": "code",
   "execution_count": null,
   "metadata": {},
   "outputs": [],
   "source": [
    "class DropoutModel(torch.nn.Module):\n",
    "    def __init__(self):\n",
    "        super(DropoutModel,self).__init__()\n",
    "        self.layer1=torch.nn.linear(784,1200)\n",
    "        self.dropout1=torch.nn.Dropout(0.5)\n",
    "        self.layer2=torch.nn.Linear(1200,1200)\n",
    "        self.dropout2=torch.nn.Dropout(0.5)\n",
    "        self.layer3=torch.nn.Linear(1200,10)\n",
    "        \n",
    "        \n",
    "        \n",
    "    def forward(self,x):\n",
    "        x=F.relu(self.layer1(x))\n",
    "        x=self.dropout1(x)\n",
    "        x=F.relu(self.layer2(2))\n",
    "        x=self.dropout2(2)\n",
    "        return self.layer3(x)"
   ]
  }
 ],
 "metadata": {
  "kernelspec": {
   "display_name": "base",
   "language": "python",
   "name": "python3"
  },
  "language_info": {
   "codemirror_mode": {
    "name": "ipython",
    "version": 3
   },
   "file_extension": ".py",
   "mimetype": "text/x-python",
   "name": "python",
   "nbconvert_exporter": "python",
   "pygments_lexer": "ipython3",
   "version": "3.11.5"
  }
 },
 "nbformat": 4,
 "nbformat_minor": 2
}
