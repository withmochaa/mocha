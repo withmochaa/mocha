{
 "cells": [
  {
   "cell_type": "code",
   "execution_count": 6,
   "metadata": {},
   "outputs": [],
   "source": [
    "#AND 게이트 \n",
    "\n",
    "def AND_gate(x1,x2):\n",
    "    w1=1\n",
    "    w2=1\n",
    "    b=-1\n",
    "    result=x1*w1+x2*w2+b\n",
    "    if result<=0:\n",
    "        return 0\n",
    "    else:\n",
    "        return 1"
   ]
  },
  {
   "cell_type": "code",
   "execution_count": 2,
   "metadata": {},
   "outputs": [],
   "source": [
    "#OR 게이트\n",
    "\n",
    "def OR_gate(x1,x2):\n",
    "    w1=1\n",
    "    w2=1\n",
    "    b=-0.5\n",
    "    result=x1*w1+x2*w2+b\n",
    "    if result <=0:\n",
    "        return 0\n",
    "    else:\n",
    "        return 1"
   ]
  },
  {
   "cell_type": "code",
   "execution_count": 3,
   "metadata": {},
   "outputs": [],
   "source": [
    "#NAND 게이트\n",
    "\n",
    "def NAND_gate(x1,x2):\n",
    "    w1=-0.5\n",
    "    w2=-0.5\n",
    "    b=1\n",
    "    result=x1*w1+x2*w2+b\n",
    "    if result <=0:\n",
    "        return 0\n",
    "    else:\n",
    "        return 1"
   ]
  },
  {
   "cell_type": "code",
   "execution_count": 4,
   "metadata": {},
   "outputs": [],
   "source": [
    "#XOR 게이트\n",
    "\n",
    "def XOR_gate(x1,x2):\n",
    "    z1=NAND_gate(x1,x2)\n",
    "    z2=OR_gate(x1,x2)\n",
    "    y=AND_gate(z1,z2)\n",
    "    \n",
    "    return y"
   ]
  },
  {
   "cell_type": "code",
   "execution_count": 7,
   "metadata": {},
   "outputs": [
    {
     "name": "stdout",
     "output_type": "stream",
     "text": [
      "AND gete\n",
      "(0, 0)->0\n",
      "(0, 1)->0\n",
      "(1, 0)->0\n",
      "(1, 1)->1\n"
     ]
    }
   ],
   "source": [
    "print(\"AND gete\")\n",
    "for xs in [(0,0),(0,1),(1,0),(1,1)]:\n",
    "    y=AND_gate(xs[0],xs[1])\n",
    "    print(str(xs)+\"->\"+str(y))"
   ]
  },
  {
   "cell_type": "code",
   "execution_count": 8,
   "metadata": {},
   "outputs": [
    {
     "name": "stdout",
     "output_type": "stream",
     "text": [
      "NAND gate\n",
      "(0, 0)->1\n",
      "(0, 1)->1\n",
      "(1, 0)->1\n",
      "(1, 1)->0\n"
     ]
    }
   ],
   "source": [
    "print(\"NAND gate\")\n",
    "for xs in [(0,0),(0,1),(1,0),(1,1)]:\n",
    "    y=NAND_gate(xs[0],xs[1])\n",
    "    print(str(xs)+\"->\"+str(y))"
   ]
  },
  {
   "cell_type": "code",
   "execution_count": 9,
   "metadata": {},
   "outputs": [
    {
     "name": "stdout",
     "output_type": "stream",
     "text": [
      "OR gate\n",
      "(0, 0)->0\n",
      "(0, 1)->1\n",
      "(1, 0)->1\n",
      "(1, 1)->1\n"
     ]
    }
   ],
   "source": [
    "print(\"OR gate\")\n",
    "for xs in [(0,0),(0,1),(1,0),(1,1)]:\n",
    "    y=OR_gate(xs[0],xs[1])\n",
    "    print(str(xs)+\"->\"+str(y))"
   ]
  },
  {
   "cell_type": "code",
   "execution_count": 10,
   "metadata": {},
   "outputs": [
    {
     "name": "stdout",
     "output_type": "stream",
     "text": [
      "XOR gate\n",
      "(0, 0)->0\n",
      "(0, 1)->1\n",
      "(1, 0)->1\n",
      "(1, 1)->0\n"
     ]
    }
   ],
   "source": [
    "print(\"XOR gate\")\n",
    "for xs in [(0,0),(0,1),(1,0),(1,1)]:\n",
    "    y=XOR_gate(xs[0],xs[1])\n",
    "    print(str(xs)+\"->\"+str(y))"
   ]
  },
  {
   "cell_type": "code",
   "execution_count": null,
   "metadata": {},
   "outputs": [],
   "source": []
  }
 ],
 "metadata": {
  "kernelspec": {
   "display_name": "base",
   "language": "python",
   "name": "python3"
  },
  "language_info": {
   "codemirror_mode": {
    "name": "ipython",
    "version": 3
   },
   "file_extension": ".py",
   "mimetype": "text/x-python",
   "name": "python",
   "nbconvert_exporter": "python",
   "pygments_lexer": "ipython3",
   "version": "3.11.5"
  }
 },
 "nbformat": 4,
 "nbformat_minor": 2
}
