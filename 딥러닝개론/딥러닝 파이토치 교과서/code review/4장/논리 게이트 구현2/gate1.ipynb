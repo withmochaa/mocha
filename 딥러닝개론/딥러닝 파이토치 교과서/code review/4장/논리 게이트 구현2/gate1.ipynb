{
 "cells": [
  {
   "cell_type": "code",
   "execution_count": 1,
   "metadata": {},
   "outputs": [],
   "source": [
    "import torch\n",
    "import torch.nn as nn\n"
   ]
  },
  {
   "cell_type": "code",
   "execution_count": 2,
   "metadata": {},
   "outputs": [],
   "source": [
    "# GPU 연산이 가능할 경우 GPU 연산 수행\n",
    "device ='cuda' if torch.cuda.is_available() else 'cpu'\n",
    "torch.manual_seed(777)\n",
    "if device =='cuda':\n",
    "    torch.cuda.manual_seed_all(777)"
   ]
  },
  {
   "cell_type": "code",
   "execution_count": 3,
   "metadata": {},
   "outputs": [],
   "source": [
    "# 각 gate 문제에 해당하는 입력과 출력 정의\n",
    "X = torch.FloatTensor([[0, 0], [0, 1], [1, 0], [1, 1]]).to(device)\n",
    "Y = torch.FloatTensor([[0], [0], [0], [1]]).to(device) # AND\n",
    "#Y = torch.FloatTensor([[1], [1], [1], [0]]).to(device) # NAND\n",
    "#Y = torch.FloatTensor([[0], [1], [1], [1]]).to(device) # OR\n",
    "#Y = torch.FloatTensor([[0], [1], [1], [0]]).to(device) # XOR"
   ]
  },
  {
   "cell_type": "code",
   "execution_count": 4,
   "metadata": {},
   "outputs": [],
   "source": [
    "# 단층 퍼셉트론 설계\n",
    "linear = nn.Linear(2, 1, bias=True)\n",
    "sigmoid = nn.Sigmoid()\n",
    "model = nn.Sequential(linear, sigmoid).to(device)\n",
    "# 이진 분류 문제이므로 비용 함수로 크로스엔트로피 함수 사용\n",
    "# nn.BCELoss() - 이진 분류에서 사용하는 크로스엔트로피 함수"
   ]
  },
  {
   "cell_type": "code",
   "execution_count": 5,
   "metadata": {},
   "outputs": [],
   "source": [
    "# 비용 함수와 옵티마이저 정의\n",
    "criterion = torch.nn.BCELoss().to(device)\n",
    "optimizer = torch.optim.SGD(model.parameters(), lr=1)"
   ]
  },
  {
   "cell_type": "code",
   "execution_count": 6,
   "metadata": {},
   "outputs": [
    {
     "name": "stdout",
     "output_type": "stream",
     "text": [
      "0 0.6932064294815063\n",
      "100 0.14414836466312408\n",
      "200 0.0817771703004837\n",
      "300 0.05658476799726486\n",
      "400 0.04307378828525543\n",
      "500 0.03469350188970566\n",
      "600 0.029005466029047966\n",
      "700 0.024899723008275032\n",
      "800 0.021800503134727478\n",
      "900 0.01938023790717125\n",
      "1000 0.01743890717625618\n"
     ]
    }
   ],
   "source": [
    "for step in range(1001):\n",
    "    optimizer.zero_grad()\n",
    "    hypothesis = model(X)\n",
    "    # 비용 함수\n",
    "    cost = criterion(hypothesis, Y)\n",
    "    cost.backward()\n",
    "    optimizer.step()\n",
    "    if step % 100 == 0: # 100번째 에포크마다 비용 출력\n",
    "        print(step, cost.item())"
   ]
  },
  {
   "cell_type": "code",
   "execution_count": 7,
   "metadata": {},
   "outputs": [
    {
     "name": "stdout",
     "output_type": "stream",
     "text": [
      "\n",
      "\n",
      "\n",
      "hypothesis 값 : \n",
      "tensor([[1.2500e-05],\n",
      "        [2.0266e-02],\n",
      "        [2.0266e-02],\n",
      "        [9.7162e-01]], grad_fn=<SigmoidBackward0>)\n",
      "\n",
      "\n",
      "예측 값 : \n",
      "tensor([[0.],\n",
      "        [0.],\n",
      "        [0.],\n",
      "        [1.]])\n",
      "\n",
      "\n",
      "실제 값 : \n",
      "tensor([[0.],\n",
      "        [0.],\n",
      "        [0.],\n",
      "        [1.]])\n"
     ]
    }
   ],
   "source": [
    "print('\\n\\n')\n",
    "print('hypothesis 값 : ')\n",
    "print(hypothesis)\n",
    "print('\\n')\n",
    "predicted = (hypothesis > 0.5).float()\n",
    "print('예측 값 : ')\n",
    "print(predicted)\n",
    "print('\\n')\n",
    "print('실제 값 : ')\n",
    "print(Y)"
   ]
  },
  {
   "cell_type": "code",
   "execution_count": null,
   "metadata": {},
   "outputs": [],
   "source": []
  }
 ],
 "metadata": {
  "kernelspec": {
   "display_name": "base",
   "language": "python",
   "name": "python3"
  },
  "language_info": {
   "codemirror_mode": {
    "name": "ipython",
    "version": 3
   },
   "file_extension": ".py",
   "mimetype": "text/x-python",
   "name": "python",
   "nbconvert_exporter": "python",
   "pygments_lexer": "ipython3",
   "version": "3.11.5"
  }
 },
 "nbformat": 4,
 "nbformat_minor": 2
}
