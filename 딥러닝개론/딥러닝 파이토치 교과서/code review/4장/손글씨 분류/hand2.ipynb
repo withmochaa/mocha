{
 "cells": [
  {
   "cell_type": "code",
   "execution_count": 35,
   "metadata": {},
   "outputs": [],
   "source": [
    "import torch.nn as nn\n",
    "import torch\n",
    "import torchvision\n",
    "import matplotlib.pyplot as plt\n",
    "import numpy as np\n",
    "from torchvision import datasets\n",
    "from torchvision import transforms\n",
    "from torch.utils.data import DataLoader\n",
    "import torch.optim as optim\n",
    "import os\n",
    "os.environ['KMP_DUPLICATE_LIB_OK'] = 'True'"
   ]
  },
  {
   "cell_type": "markdown",
   "metadata": {},
   "source": []
  },
  {
   "cell_type": "code",
   "execution_count": 36,
   "metadata": {},
   "outputs": [],
   "source": [
    "class Net(nn.Module):\n",
    "    def __init__(self):\n",
    "        super(Net, self).__init__()\n",
    "        self.fc1 = nn.Linear(784,100)\n",
    "        self.relu = nn.ReLU()\n",
    "        self.fc2 = nn.Linear(100,100)\n",
    "        self.fc3 = nn.Linear(100,10)\n",
    "        \n",
    "    def forward(self, x):\n",
    "        x1 = self.fc1(x)\n",
    "        x2 = self.relu(x1)\n",
    "        x3 = self.fc2(x2)\n",
    "        x4 = self.relu(x3)\n",
    "        x5 = self.fc3(x4)\n",
    "            \n",
    "        return x5\n",
    "        \n",
    "    \n",
    "        \n",
    "        "
   ]
  },
  {
   "cell_type": "code",
   "execution_count": 37,
   "metadata": {},
   "outputs": [],
   "source": [
    "download_root = './MNIST_data'\n",
    "dataset1 = datasets.MNIST(root = download_root,\n",
    "                    train=True,\n",
    "                    transform = transforms.ToTensor(),\n",
    "                    download=True)"
   ]
  },
  {
   "cell_type": "code",
   "execution_count": 38,
   "metadata": {},
   "outputs": [],
   "source": [
    "dataset2 = datasets.MNIST(root=download_root,\n",
    "                    train=False,\n",
    "                    transform = transforms.ToTensor(),\n",
    "                    download=True)"
   ]
  },
  {
   "cell_type": "code",
   "execution_count": 39,
   "metadata": {},
   "outputs": [],
   "source": [
    "batch_s = 100\n",
    "# training dataset : dataset1_loader의 len은 600\n",
    "# test dataset : dataset2_loader의 len은 100\n",
    "dataset1_loader = DataLoader(dataset1, batch_size = batch_s)\n",
    "dataset2_loader = DataLoader(dataset2, batch_size = batch_s)"
   ]
  },
  {
   "cell_type": "code",
   "execution_count": 40,
   "metadata": {},
   "outputs": [],
   "source": [
    "model_dict = {}\n",
    "loss_dict = {}\n",
    "accuracy_dict = {}\n",
    "# optimizer에 따른 학습 정도를 살펴볼 4가지 테스트 케이스\n",
    "optimizer_case = ['SGD','Adam','AdaGrad','RMSprop']\n",
    "for key in optimizer_case:\n",
    "    model_dict[key] = Net()\n",
    "    loss_dict[key] = []\n",
    "    accuracy_dict[key] = []"
   ]
  },
  {
   "cell_type": "code",
   "execution_count": 41,
   "metadata": {},
   "outputs": [],
   "source": [
    "# 4가지 테스트케이스에 대한 optimizer 정의\n",
    "optimizer_dict = {}\n",
    "optimizer_dict['SGD'] = optim.SGD(model_dict['SGD'].parameters(),lr = 0.001 )\n",
    "optimizer_dict['Adam'] = optim.Adam(model_dict['Adam'].parameters(),lr= 0.001)\n",
    "optimizer_dict['AdaGrad'] = optim.Adagrad(model_dict['AdaGrad'].parameters(), lr=0.001)\n",
    "optimizer_dict['RMSprop'] = optim.RMSprop(model_dict['RMSprop'].parameters(),lr=0.001)"
   ]
  },
  {
   "cell_type": "code",
   "execution_count": 42,
   "metadata": {},
   "outputs": [],
   "source": [
    "# loss_function, total batch size, epoch 정의\n",
    "loss_function = nn.CrossEntropyLoss()\n",
    "total_batch = len(dataset1_loader) # 600 (60000 / 100) => (train dataset / batch_size)\n",
    "epochs = np.arange(1,16)"
   ]
  },
  {
   "cell_type": "code",
   "execution_count": 43,
   "metadata": {},
   "outputs": [
    {
     "name": "stdout",
     "output_type": "stream",
     "text": [
      "SGD\n",
      "epoch : 1 | loss : 2.297810\n",
      "Accuracy : 19.22\n",
      "epoch : 2 | loss : 2.279862\n",
      "Accuracy : 28.33\n",
      "epoch : 3 | loss : 2.257144\n",
      "Accuracy : 36.60\n",
      "epoch : 4 | loss : 2.226083\n",
      "Accuracy : 40.91\n",
      "epoch : 5 | loss : 2.182654\n",
      "Accuracy : 44.42\n",
      "epoch : 6 | loss : 2.121469\n",
      "Accuracy : 49.25\n",
      "epoch : 7 | loss : 2.036196\n",
      "Accuracy : 54.38\n",
      "epoch : 8 | loss : 1.920911\n",
      "Accuracy : 59.15\n",
      "epoch : 9 | loss : 1.774261\n",
      "Accuracy : 62.52\n",
      "epoch : 10 | loss : 1.604885\n",
      "Accuracy : 66.74\n",
      "epoch : 11 | loss : 1.430508\n",
      "Accuracy : 70.23\n",
      "epoch : 12 | loss : 1.267766\n",
      "Accuracy : 73.51\n",
      "epoch : 13 | loss : 1.125531\n",
      "Accuracy : 76.51\n",
      "epoch : 14 | loss : 1.006372\n",
      "Accuracy : 78.46\n",
      "epoch : 15 | loss : 0.909029\n",
      "Accuracy : 79.99\n",
      "Adam\n",
      "epoch : 1 | loss : 0.409748\n",
      "Accuracy : 93.68\n",
      "epoch : 2 | loss : 0.181325\n",
      "Accuracy : 95.00\n",
      "epoch : 3 | loss : 0.129169\n",
      "Accuracy : 95.52\n",
      "epoch : 4 | loss : 0.097800\n",
      "Accuracy : 95.67\n",
      "epoch : 5 | loss : 0.076934\n",
      "Accuracy : 96.17\n",
      "epoch : 6 | loss : 0.061208\n",
      "Accuracy : 96.59\n",
      "epoch : 7 | loss : 0.049281\n",
      "Accuracy : 96.55\n",
      "epoch : 8 | loss : 0.039880\n",
      "Accuracy : 96.92\n",
      "epoch : 9 | loss : 0.032655\n",
      "Accuracy : 96.93\n",
      "epoch : 10 | loss : 0.026356\n",
      "Accuracy : 96.68\n",
      "epoch : 11 | loss : 0.022491\n",
      "Accuracy : 97.18\n",
      "epoch : 12 | loss : 0.020434\n",
      "Accuracy : 97.17\n",
      "epoch : 13 | loss : 0.018301\n",
      "Accuracy : 96.88\n",
      "epoch : 14 | loss : 0.018705\n",
      "Accuracy : 97.43\n",
      "epoch : 15 | loss : 0.017426\n",
      "Accuracy : 97.48\n",
      "AdaGrad\n",
      "epoch : 1 | loss : 0.936289\n",
      "Accuracy : 86.20\n",
      "epoch : 2 | loss : 0.508444\n",
      "Accuracy : 88.56\n",
      "epoch : 3 | loss : 0.431782\n",
      "Accuracy : 89.74\n",
      "epoch : 4 | loss : 0.394814\n",
      "Accuracy : 90.24\n",
      "epoch : 5 | loss : 0.372323\n",
      "Accuracy : 90.53\n",
      "epoch : 6 | loss : 0.356759\n",
      "Accuracy : 90.69\n",
      "epoch : 7 | loss : 0.345122\n",
      "Accuracy : 90.85\n",
      "epoch : 8 | loss : 0.335947\n",
      "Accuracy : 90.98\n",
      "epoch : 9 | loss : 0.328427\n",
      "Accuracy : 91.20\n",
      "epoch : 10 | loss : 0.322082\n",
      "Accuracy : 91.23\n",
      "epoch : 11 | loss : 0.316607\n",
      "Accuracy : 91.29\n",
      "epoch : 12 | loss : 0.311804\n",
      "Accuracy : 91.40\n",
      "epoch : 13 | loss : 0.307529\n",
      "Accuracy : 91.49\n",
      "epoch : 14 | loss : 0.303679\n",
      "Accuracy : 91.52\n",
      "epoch : 15 | loss : 0.300178\n",
      "Accuracy : 91.58\n",
      "RMSprop\n",
      "epoch : 1 | loss : 0.303707\n",
      "Accuracy : 94.36\n",
      "epoch : 2 | loss : 0.143778\n",
      "Accuracy : 96.10\n",
      "epoch : 3 | loss : 0.101674\n",
      "Accuracy : 96.88\n",
      "epoch : 4 | loss : 0.078298\n",
      "Accuracy : 97.08\n",
      "epoch : 5 | loss : 0.062307\n",
      "Accuracy : 97.15\n",
      "epoch : 6 | loss : 0.050562\n",
      "Accuracy : 97.28\n",
      "epoch : 7 | loss : 0.041227\n",
      "Accuracy : 97.19\n",
      "epoch : 8 | loss : 0.033931\n",
      "Accuracy : 96.95\n",
      "epoch : 9 | loss : 0.027606\n",
      "Accuracy : 97.10\n",
      "epoch : 10 | loss : 0.022452\n",
      "Accuracy : 97.46\n",
      "epoch : 11 | loss : 0.019368\n",
      "Accuracy : 97.37\n",
      "epoch : 12 | loss : 0.016551\n",
      "Accuracy : 97.38\n",
      "epoch : 13 | loss : 0.013903\n",
      "Accuracy : 97.37\n",
      "epoch : 14 | loss : 0.013859\n",
      "Accuracy : 97.39\n",
      "epoch : 15 | loss : 0.011636\n",
      "Accuracy : 97.42\n"
     ]
    }
   ],
   "source": [
    "# 총 4가지 optimizer를 사용하여 학습\n",
    "for optimizer_name, optimizer in optimizer_dict.items():\n",
    "    print(optimizer_name)\n",
    "    for epoch in epochs:\n",
    "        cost=0\n",
    "        for images, labels in dataset1_loader: #dataloader는 image와 label로 구성\n",
    "            # 하나의 Tensor에 데이터 784(28x28)개가 담긴 리스트가 100개 들어있음\n",
    "            # 그리고 그것이 총 dataset1_loader의 len인 600개 존재\n",
    "            images = images.reshape(100,784)\n",
    "            \n",
    "            model_dict[optimizer_name].zero_grad()\n",
    "            \n",
    "            # feed forward\n",
    "            predict = model_dict[optimizer_name].forward(images)\n",
    "            # loss 값 구하기\n",
    "            loss = loss_function(predict,labels) # 예측된 것과 label이 얼마나 차이가 나는지\n",
    "            # back propagation\n",
    "            loss.backward()\n",
    "            # optimizer update\n",
    "            optimizer.step()\n",
    "            cost += loss # 총 600번의 loss를 더한다.\n",
    "            \n",
    "        with torch.no_grad(): # 추론 시 미분하지 않겠다\n",
    "            total = 0\n",
    "            correct = 0\n",
    "            for images, labels in dataset2_loader:\n",
    "                images = images.reshape(100,784)\n",
    "                outputs = model_dict[optimizer_name].forward(images)\n",
    "                \n",
    "                # torch.max에서 두 번째 인자는 dim을 의미\n",
    "                # 1로 지정했다는 것은 하나의 행에서 가장 큰 값을 찾겠다는 것\n",
    "                # dim을 지정하면 인덱스에 있는 값과 인덱스를 반환\n",
    "                _,predict = torch.max(outputs, 1)\n",
    "                total += labels.size(0)\n",
    "                correct += (predict == labels).sum() # 예측한 것과 labels이 얼마나 일치하는지\n",
    "            avg_cost = cost / total_batch # loss 값 600개의 평균\n",
    "            accuracy = 100 * (correct/total)\n",
    "            loss_dict[optimizer_name].append(avg_cost.detach().numpy())\n",
    "            accuracy_dict[optimizer_name].append(accuracy)\n",
    "            print(\"epoch : {} | loss : {:.6f}\" .format(epoch, avg_cost))\n",
    "            print(\"Accuracy : {:.2f}\".format(100*correct/total))\n",
    "    \n",
    "    "
   ]
  },
  {
   "cell_type": "code",
   "execution_count": 46,
   "metadata": {},
   "outputs": [
    {
     "data": {
      "text/plain": [
       "<matplotlib.legend.Legend at 0x15559f8d0>"
      ]
     },
     "execution_count": 46,
     "metadata": {},
     "output_type": "execute_result"
    },
    {
     "data": {
      "image/png": "[encoded data removed]",
      "text/plain": [
       "<Figure size 1000x500 with 1 Axes>"
      ]
     },
     "metadata": {},
     "output_type": "display_data"
    }
   ],
   "source": [
    "markers = {'SGD' : 'o', 'Adam' : 'x','AdaGrad' : 's','RMSprop' : 'D' }\n",
    "plt.figure(figsize = (10,5))\n",
    "plt.subplot(1,2,1)\n",
    "    \n",
    "\n",
    "for key in optimizer_case:\n",
    "    plt.plot(epochs,loss_dict[key], marker = markers[key], markevery=100, label = key)\n",
    "plt.xlabel(\"Epoch\")\n",
    "plt.ylabel(\"Loss\")\n",
    "\n",
    "plt.legend() \n",
    "    \n"
   ]
  },
  {
   "cell_type": "code",
   "execution_count": 47,
   "metadata": {},
   "outputs": [
    {
     "data": {
      "image/png": "[encoded data removed]",
      "text/plain": [
       "<Figure size 640x480 with 1 Axes>"
      ]
     },
     "metadata": {},
     "output_type": "display_data"
    }
   ],
   "source": [
    "plt.subplot(1,2,2)\n",
    "for key in optimizer_case:\n",
    "    plt.plot(epochs, accuracy_dict[key],marker = markers[key], markevery=100, label=key)\n",
    "plt.xlabel('Epoch')\n",
    "plt.ylabel('Accuracy')\n",
    "plt.legend()\n",
    "plt.show()"
   ]
  },
  {
   "cell_type": "code",
   "execution_count": null,
   "metadata": {},
   "outputs": [],
   "source": []
  },
  {
   "cell_type": "code",
   "execution_count": null,
   "metadata": {},
   "outputs": [],
   "source": []
  },
  {
   "cell_type": "code",
   "execution_count": null,
   "metadata": {},
   "outputs": [],
   "source": []
  }
 ],
 "metadata": {
  "kernelspec": {
   "display_name": "base",
   "language": "python",
   "name": "python3"
  },
  "language_info": {
   "codemirror_mode": {
    "name": "ipython",
    "version": 3
   },
   "file_extension": ".py",
   "mimetype": "text/x-python",
   "name": "python",
   "nbconvert_exporter": "python",
   "pygments_lexer": "ipython3",
   "version": "3.11.5"
  }
 },
 "nbformat": 4,
 "nbformat_minor": 2
}
