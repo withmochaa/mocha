{
 "cells": [
  {
   "cell_type": "code",
   "execution_count": 3,
   "metadata": {},
   "outputs": [],
   "source": [
    "# 도구 임포트\n",
    "import torch\n",
    "import torch.nn as nn\n",
    "import numpy as np"
   ]
  },
  {
   "cell_type": "code",
   "execution_count": 4,
   "metadata": {},
   "outputs": [],
   "source": [
    "# GPU 연산이 가능할 경우 GPU 연산 수행\n",
    "device ='cuda' if torch.cuda.is_available() else 'cpu'\n",
    "torch.manual_seed(777)\n",
    "if device =='cuda':\n",
    "    torch.cuda.manual_seed_all(777)"
   ]
  },
  {
   "cell_type": "code",
   "execution_count": 5,
   "metadata": {},
   "outputs": [],
   "source": [
    "# 데이터 생성성\n",
    "xy = np.array(\n",
    "[\n",
    "[828.659973, 833.450012, 908100, 828.349976, 831.659973],\n",
    "[823.02002, 828.070007, 1828100, 821.655029, 828.070007],\n",
    "[819.929993, 824.400024, 1438100, 818.97998, 824.159973],\n",
    "[816, 820.958984, 1008100, 815.48999, 819.23999],\n",
    "[819.359985, 823, 1188100, 818.469971, 818.97998],\n",
    "[819, 823, 1198100, 816, 820.450012],\n",
    "[811.700012, 815.25, 1098100, 809.780029, 813.669983],\n",
    "[809.51001, 816.659973, 1398100, 804.539978, 809.559998],\n",
    "]\n",
    ")"
   ]
  },
  {
   "cell_type": "code",
   "execution_count": 6,
   "metadata": {},
   "outputs": [],
   "source": [
    "# 정규화화\n",
    "def min_max_scaler(data):\n",
    "    numerator = data - np.min(data, 0)\n",
    "    denominator = np.max(data, 0) - np.min(data, 0)\n",
    "    # noise term prevents the zero division\n",
    "    return numerator / (denominator + 1e-7)"
   ]
  },
  {
   "cell_type": "code",
   "execution_count": 8,
   "metadata": {},
   "outputs": [],
   "source": [
    "xy = min_max_scaler(xy) # on, off 비교\n",
    "x = xy[:, 0:-1]\n",
    "y = xy[:, [-1]]\n",
    "x_train = torch.FloatTensor(x).to(device)\n",
    "y_train = torch.FloatTensor(y).to(device)"
   ]
  },
  {
   "cell_type": "code",
   "execution_count": 9,
   "metadata": {},
   "outputs": [],
   "source": [
    "# 모델 정의\n",
    "class LinearRegressionModel(torch.nn.Module):\n",
    "    def __init__(self):\n",
    "        super(LinearRegressionModel, self).__init__()\n",
    "        self.linear = torch.nn.Linear(4, 1) # 입력 크기, 출력 크기\n",
    "    def forward(self, x):\n",
    "        y_pred = self.linear(x)\n",
    "        return y_pred"
   ]
  },
  {
   "cell_type": "code",
   "execution_count": 10,
   "metadata": {},
   "outputs": [],
   "source": [
    "model = LinearRegressionModel().to(device)\n",
    "# 손실 함수 정의\n",
    "loss_fn = torch.nn.MSELoss().to(device)\n",
    "# 옵티마이저 정의\n",
    "optimizer = torch.optim.Adam(model.parameters(), lr=0.01)"
   ]
  },
  {
   "cell_type": "code",
   "execution_count": 11,
   "metadata": {},
   "outputs": [
    {
     "name": "stdout",
     "output_type": "stream",
     "text": [
      "Epoch [50/1000], Loss: 0.0556\n",
      "Epoch [100/1000], Loss: 0.0183\n",
      "Epoch [150/1000], Loss: 0.0076\n",
      "Epoch [200/1000], Loss: 0.0047\n",
      "Epoch [250/1000], Loss: 0.0040\n",
      "Epoch [300/1000], Loss: 0.0038\n",
      "Epoch [350/1000], Loss: 0.0037\n",
      "Epoch [400/1000], Loss: 0.0037\n",
      "Epoch [450/1000], Loss: 0.0036\n",
      "Epoch [500/1000], Loss: 0.0035\n",
      "Epoch [550/1000], Loss: 0.0035\n",
      "Epoch [600/1000], Loss: 0.0034\n",
      "Epoch [650/1000], Loss: 0.0033\n",
      "Epoch [700/1000], Loss: 0.0033\n",
      "Epoch [750/1000], Loss: 0.0032\n",
      "Epoch [800/1000], Loss: 0.0032\n",
      "Epoch [850/1000], Loss: 0.0032\n",
      "Epoch [900/1000], Loss: 0.0031\n",
      "Epoch [950/1000], Loss: 0.0031\n",
      "Epoch [1000/1000], Loss: 0.0030\n"
     ]
    }
   ],
   "source": [
    "num_epochs = 1000\n",
    "for epoch in range(num_epochs):\n",
    "# Forward 단계\n",
    "    y_pred = model(x_train)\n",
    "    loss = loss_fn(y_pred, y_train)\n",
    "    \n",
    "    # Backward 단계\n",
    "    optimizer.zero_grad()\n",
    "    loss.backward()\n",
    "    optimizer.step()\n",
    "    \n",
    "    # 로그\n",
    "    if (epoch+1) % 50 == 0:\n",
    "        print('Epoch [{}/{}], Loss: {:.4f}'.format(epoch+1, num_epochs, loss.item()))"
   ]
  },
  {
   "cell_type": "code",
   "execution_count": null,
   "metadata": {},
   "outputs": [],
   "source": []
  }
 ],
 "metadata": {
  "kernelspec": {
   "display_name": "base",
   "language": "python",
   "name": "python3"
  },
  "language_info": {
   "codemirror_mode": {
    "name": "ipython",
    "version": 3
   },
   "file_extension": ".py",
   "mimetype": "text/x-python",
   "name": "python",
   "nbconvert_exporter": "python",
   "pygments_lexer": "ipython3",
   "version": "3.11.5"
  }
 },
 "nbformat": 4,
 "nbformat_minor": 2
}
